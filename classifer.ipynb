{
 "cells": [
  {
   "cell_type": "markdown",
   "metadata": {},
   "source": [
    "# Lyrics classifier"
   ]
  },
  {
   "cell_type": "code",
   "execution_count": 58,
   "metadata": {},
   "outputs": [],
   "source": [
    "import pandas as pd\n",
    "import numpy as np\n",
    "import matplotlib.pyplot as plt\n",
    "import seaborn as sns\n",
    "%matplotlib inline\n",
    "import time\n",
    "from scipy import sparse\n",
    "import string \n",
    "punctuation_set = set(string.punctuation)\n",
    "\n",
    "from nltk.corpus import stopwords\n",
    "from nltk import pos_tag\n",
    "from nltk.stem import WordNetLemmatizer\n",
    "from nltk.tokenize import word_tokenize, RegexpTokenizer \n",
    "import langid\n",
    "\n",
    "import gensim\n",
    "from gensim.models.ldamodel import LdaModel\n",
    "from gensim.corpora import Dictionary\n",
    "\n",
    "import warnings\n",
    "warnings.filterwarnings(\"ignore\", category=DeprecationWarning)\n",
    "\n",
    "\n",
    "from sklearn.feature_extraction.text import TfidfVectorizer, CountVectorizer\n",
    "from scipy.sparse import hstack\n",
    "from sklearn.model_selection import train_test_split, cross_val_score\n",
    "from sklearn.svm import SVC\n",
    "from sklearn.naive_bayes import MultinomialNB, GaussianNB\n",
    "from sklearn.metrics import classification_report, confusion_matrix, accuracy_score\n",
    "from sklearn.linear_model import LogisticRegression\n",
    "from sklearn.preprocessing import LabelBinarizer\n",
    "from xgboost import XGBClassifier"
   ]
  },
  {
   "cell_type": "code",
   "execution_count": 11,
   "metadata": {},
   "outputs": [],
   "source": [
    "data = pd.read_csv('lyrics.csv')"
   ]
  },
  {
   "cell_type": "code",
   "execution_count": 12,
   "metadata": {},
   "outputs": [
    {
     "data": {
      "text/html": [
       "<div>\n",
       "<style scoped>\n",
       "    .dataframe tbody tr th:only-of-type {\n",
       "        vertical-align: middle;\n",
       "    }\n",
       "\n",
       "    .dataframe tbody tr th {\n",
       "        vertical-align: top;\n",
       "    }\n",
       "\n",
       "    .dataframe thead th {\n",
       "        text-align: right;\n",
       "    }\n",
       "</style>\n",
       "<table border=\"1\" class=\"dataframe\">\n",
       "  <thead>\n",
       "    <tr style=\"text-align: right;\">\n",
       "      <th></th>\n",
       "      <th>index</th>\n",
       "      <th>song</th>\n",
       "      <th>year</th>\n",
       "      <th>artist</th>\n",
       "      <th>genre</th>\n",
       "      <th>lyrics</th>\n",
       "    </tr>\n",
       "  </thead>\n",
       "  <tbody>\n",
       "    <tr>\n",
       "      <td>0</td>\n",
       "      <td>0</td>\n",
       "      <td>ego-remix</td>\n",
       "      <td>2009</td>\n",
       "      <td>beyonce-knowles</td>\n",
       "      <td>Pop</td>\n",
       "      <td>Oh baby, how you doing?\\nYou know I'm gonna cu...</td>\n",
       "    </tr>\n",
       "    <tr>\n",
       "      <td>1</td>\n",
       "      <td>1</td>\n",
       "      <td>then-tell-me</td>\n",
       "      <td>2009</td>\n",
       "      <td>beyonce-knowles</td>\n",
       "      <td>Pop</td>\n",
       "      <td>playin' everything so easy,\\nit's like you see...</td>\n",
       "    </tr>\n",
       "    <tr>\n",
       "      <td>2</td>\n",
       "      <td>2</td>\n",
       "      <td>honesty</td>\n",
       "      <td>2009</td>\n",
       "      <td>beyonce-knowles</td>\n",
       "      <td>Pop</td>\n",
       "      <td>If you search\\nFor tenderness\\nIt isn't hard t...</td>\n",
       "    </tr>\n",
       "    <tr>\n",
       "      <td>3</td>\n",
       "      <td>3</td>\n",
       "      <td>you-are-my-rock</td>\n",
       "      <td>2009</td>\n",
       "      <td>beyonce-knowles</td>\n",
       "      <td>Pop</td>\n",
       "      <td>Oh oh oh I, oh oh oh I\\n[Verse 1:]\\nIf I wrote...</td>\n",
       "    </tr>\n",
       "    <tr>\n",
       "      <td>4</td>\n",
       "      <td>4</td>\n",
       "      <td>black-culture</td>\n",
       "      <td>2009</td>\n",
       "      <td>beyonce-knowles</td>\n",
       "      <td>Pop</td>\n",
       "      <td>Party the people, the people the party it's po...</td>\n",
       "    </tr>\n",
       "  </tbody>\n",
       "</table>\n",
       "</div>"
      ],
      "text/plain": [
       "   index             song  year           artist genre  \\\n",
       "0      0        ego-remix  2009  beyonce-knowles   Pop   \n",
       "1      1     then-tell-me  2009  beyonce-knowles   Pop   \n",
       "2      2          honesty  2009  beyonce-knowles   Pop   \n",
       "3      3  you-are-my-rock  2009  beyonce-knowles   Pop   \n",
       "4      4    black-culture  2009  beyonce-knowles   Pop   \n",
       "\n",
       "                                              lyrics  \n",
       "0  Oh baby, how you doing?\\nYou know I'm gonna cu...  \n",
       "1  playin' everything so easy,\\nit's like you see...  \n",
       "2  If you search\\nFor tenderness\\nIt isn't hard t...  \n",
       "3  Oh oh oh I, oh oh oh I\\n[Verse 1:]\\nIf I wrote...  \n",
       "4  Party the people, the people the party it's po...  "
      ]
     },
     "execution_count": 12,
     "metadata": {},
     "output_type": "execute_result"
    }
   ],
   "source": [
    "data.head()"
   ]
  },
  {
   "cell_type": "code",
   "execution_count": 13,
   "metadata": {},
   "outputs": [
    {
     "name": "stdout",
     "output_type": "stream",
     "text": [
      "Shape of the dataframe: (362237, 6)\n"
     ]
    }
   ],
   "source": [
    "print('Shape of the dataframe: {}'.format(data.shape))"
   ]
  },
  {
   "cell_type": "code",
   "execution_count": 14,
   "metadata": {},
   "outputs": [
    {
     "name": "stdout",
     "output_type": "stream",
     "text": [
      "<class 'pandas.core.frame.DataFrame'>\n",
      "RangeIndex: 362237 entries, 0 to 362236\n",
      "Data columns (total 6 columns):\n",
      "index     362237 non-null int64\n",
      "song      362235 non-null object\n",
      "year      362237 non-null int64\n",
      "artist    362237 non-null object\n",
      "genre     362237 non-null object\n",
      "lyrics    266557 non-null object\n",
      "dtypes: int64(2), object(4)\n",
      "memory usage: 16.6+ MB\n"
     ]
    }
   ],
   "source": [
    "data.info()"
   ]
  },
  {
   "cell_type": "markdown",
   "metadata": {},
   "source": [
    "**Quite a few missing values are present, especially in the lyrics column. This is understable since not all songs have lyrics available on Metrolyrics.**"
   ]
  },
  {
   "cell_type": "code",
   "execution_count": 15,
   "metadata": {},
   "outputs": [],
   "source": [
    "data = data.drop('index',axis=1) # the index column is redundant"
   ]
  },
  {
   "cell_type": "code",
   "execution_count": 16,
   "metadata": {},
   "outputs": [
    {
     "name": "stdout",
     "output_type": "stream",
     "text": [
      "2006    76590\n",
      "2007    63677\n",
      "2016    37409\n",
      "2015    28766\n",
      "2014    28250\n",
      "Name: year, dtype: int64\n",
      "Oldest song belongs to the year: 67\n",
      "Latest song belongs to the year: 2038\n"
     ]
    }
   ],
   "source": [
    "year_dist = data.year.value_counts()\n",
    "print(year_dist.head())\n",
    "print('Oldest song belongs to the year: {}'.format(year_dist.index.min()))\n",
    "print('Latest song belongs to the year: {}'.format(year_dist.index.max()))"
   ]
  },
  {
   "cell_type": "markdown",
   "metadata": {},
   "source": [
    "- Clearly there is something __*very*__ odd there! We need to do thorough a data cleaning exercise here it seems."
   ]
  },
  {
   "cell_type": "code",
   "execution_count": 17,
   "metadata": {},
   "outputs": [
    {
     "data": {
      "image/png": "[encoded data removed]",
      "text/plain": [
       "<Figure size 1080x576 with 1 Axes>"
      ]
     },
     "metadata": {
      "needs_background": "light"
     },
     "output_type": "display_data"
    }
   ],
   "source": [
    "year_dist = year_dist.iloc[(year_dist.index>1900) & (year_dist.index <2019)]\n",
    "plt.figure(figsize=(15,8))\n",
    "_=sns.barplot(year_dist.index, year_dist)\n",
    "_=plt.xticks(rotation='vertical')\n",
    "_ = plt.ylabel('Count')"
   ]
  },
  {
   "cell_type": "markdown",
   "metadata": {},
   "source": [
    "- Very few data points are available before 2005."
   ]
  },
  {
   "cell_type": "code",
   "execution_count": 18,
   "metadata": {},
   "outputs": [
    {
     "name": "stdout",
     "output_type": "stream",
     "text": [
      "There are 95680 rows with missing lyrics.\n"
     ]
    },
    {
     "data": {
      "text/html": [
       "<div>\n",
       "<style scoped>\n",
       "    .dataframe tbody tr th:only-of-type {\n",
       "        vertical-align: middle;\n",
       "    }\n",
       "\n",
       "    .dataframe tbody tr th {\n",
       "        vertical-align: top;\n",
       "    }\n",
       "\n",
       "    .dataframe thead th {\n",
       "        text-align: right;\n",
       "    }\n",
       "</style>\n",
       "<table border=\"1\" class=\"dataframe\">\n",
       "  <thead>\n",
       "    <tr style=\"text-align: right;\">\n",
       "      <th></th>\n",
       "      <th>song</th>\n",
       "      <th>year</th>\n",
       "      <th>artist</th>\n",
       "      <th>genre</th>\n",
       "      <th>lyrics</th>\n",
       "    </tr>\n",
       "  </thead>\n",
       "  <tbody>\n",
       "    <tr>\n",
       "      <td>158</td>\n",
       "      <td>lemonade</td>\n",
       "      <td>2016</td>\n",
       "      <td>beyonce-knowles</td>\n",
       "      <td>Pop</td>\n",
       "      <td>NaN</td>\n",
       "    </tr>\n",
       "    <tr>\n",
       "      <td>305</td>\n",
       "      <td>no-more-tears</td>\n",
       "      <td>2002</td>\n",
       "      <td>eazy-e</td>\n",
       "      <td>Hip-Hop</td>\n",
       "      <td>NaN</td>\n",
       "    </tr>\n",
       "    <tr>\n",
       "      <td>311</td>\n",
       "      <td>still-f-kem</td>\n",
       "      <td>2002</td>\n",
       "      <td>eazy-e</td>\n",
       "      <td>Hip-Hop</td>\n",
       "      <td>NaN</td>\n",
       "    </tr>\n",
       "    <tr>\n",
       "      <td>320</td>\n",
       "      <td>rev-skit</td>\n",
       "      <td>2002</td>\n",
       "      <td>eazy-e</td>\n",
       "      <td>Hip-Hop</td>\n",
       "      <td>NaN</td>\n",
       "    </tr>\n",
       "    <tr>\n",
       "      <td>338</td>\n",
       "      <td>hush-hush</td>\n",
       "      <td>2013</td>\n",
       "      <td>asher-monroe</td>\n",
       "      <td>Pop</td>\n",
       "      <td>NaN</td>\n",
       "    </tr>\n",
       "  </tbody>\n",
       "</table>\n",
       "</div>"
      ],
      "text/plain": [
       "              song  year           artist    genre lyrics\n",
       "158       lemonade  2016  beyonce-knowles      Pop    NaN\n",
       "305  no-more-tears  2002           eazy-e  Hip-Hop    NaN\n",
       "311    still-f-kem  2002           eazy-e  Hip-Hop    NaN\n",
       "320       rev-skit  2002           eazy-e  Hip-Hop    NaN\n",
       "338      hush-hush  2013     asher-monroe      Pop    NaN"
      ]
     },
     "execution_count": 18,
     "metadata": {},
     "output_type": "execute_result"
    }
   ],
   "source": [
    "print('There are {} rows with missing lyrics.'.format(data.lyrics.isna().sum()))\n",
    "data.loc[data.lyrics.isna()].head()"
   ]
  },
  {
   "cell_type": "markdown",
   "metadata": {},
   "source": [
    "#### There is no point keeping the rows with missing lyrics because the aim of this notebook is to analyze the lyrics of the songs and classify them. Therefore let's remove all the rows with missing lyrics."
   ]
  },
  {
   "cell_type": "code",
   "execution_count": 19,
   "metadata": {},
   "outputs": [],
   "source": [
    "data = data.dropna(axis=0, subset=['lyrics','song'])"
   ]
  },
  {
   "cell_type": "code",
   "execution_count": 20,
   "metadata": {},
   "outputs": [
    {
     "data": {
      "text/plain": [
       "(266556, 5)"
      ]
     },
     "execution_count": 20,
     "metadata": {},
     "output_type": "execute_result"
    }
   ],
   "source": [
    "data.shape"
   ]
  },
  {
   "cell_type": "code",
   "execution_count": 21,
   "metadata": {},
   "outputs": [
    {
     "name": "stdout",
     "output_type": "stream",
     "text": [
      "<class 'pandas.core.frame.DataFrame'>\n",
      "Int64Index: 266556 entries, 0 to 362236\n",
      "Data columns (total 5 columns):\n",
      "song      266556 non-null object\n",
      "year      266556 non-null int64\n",
      "artist    266556 non-null object\n",
      "genre     266556 non-null object\n",
      "lyrics    266556 non-null object\n",
      "dtypes: int64(1), object(4)\n",
      "memory usage: 12.2+ MB\n"
     ]
    }
   ],
   "source": [
    "data.info()"
   ]
  },
  {
   "cell_type": "markdown",
   "metadata": {},
   "source": [
    "- No more missing values, Good to go!"
   ]
  },
  {
   "cell_type": "markdown",
   "metadata": {},
   "source": [
    "### Distribution of the music genres\n",
    "- Since we are interested in predicting the genre from the lyrics and other metadata available, let us first explore the 'target variable', i.e. the genre."
   ]
  },
  {
   "cell_type": "code",
   "execution_count": 22,
   "metadata": {},
   "outputs": [
    {
     "data": {
      "image/png": "[encoded data removed]",
      "text/plain": [
       "<Figure size 864x432 with 1 Axes>"
      ]
     },
     "metadata": {
      "needs_background": "light"
     },
     "output_type": "display_data"
    }
   ],
   "source": [
    "genre_count = data.genre.value_counts()\n",
    "plt.figure(figsize=(12,6))\n",
    "_=sns.barplot(genre_count.index, genre_count/len(data))\n",
    "_=plt.xticks(rotation='vertical')\n",
    "_=plt.ylabel('Fraction of songs of a genre')"
   ]
  },
  {
   "cell_type": "markdown",
   "metadata": {},
   "source": [
    "- The dataset is highly imbalanced with respect to genre. \n",
    " * More than 40% of the songs are rock, while less than 1% are folk songs. Says a lot about music preferences across the world in general? Mind you that the dataset is not restricted to English songs, it contains German, French and Spanish songs also."
   ]
  },
  {
   "cell_type": "code",
   "execution_count": 23,
   "metadata": {},
   "outputs": [],
   "source": [
    "# Filter out the rows that contain lyrics with less than 200 characters and genre is not available\n",
    "\n",
    "data = data.loc[data.lyrics.map(len)> 200]\n",
    "data = data.loc[~(data.genre == 'Not Available')]"
   ]
  },
  {
   "cell_type": "code",
   "execution_count": 24,
   "metadata": {},
   "outputs": [
    {
     "data": {
      "text/plain": [
       "(234296, 5)"
      ]
     },
     "execution_count": 24,
     "metadata": {},
     "output_type": "execute_result"
    }
   ],
   "source": [
    "data.shape"
   ]
  },
  {
   "cell_type": "markdown",
   "metadata": {},
   "source": [
    "### Who are the top 10 artists?"
   ]
  },
  {
   "cell_type": "code",
   "execution_count": 25,
   "metadata": {},
   "outputs": [
    {
     "data": {
      "text/html": [
       "<div>\n",
       "<style scoped>\n",
       "    .dataframe tbody tr th:only-of-type {\n",
       "        vertical-align: middle;\n",
       "    }\n",
       "\n",
       "    .dataframe tbody tr th {\n",
       "        vertical-align: top;\n",
       "    }\n",
       "\n",
       "    .dataframe thead th {\n",
       "        text-align: right;\n",
       "    }\n",
       "</style>\n",
       "<table border=\"1\" class=\"dataframe\">\n",
       "  <thead>\n",
       "    <tr style=\"text-align: right;\">\n",
       "      <th></th>\n",
       "      <th>artist</th>\n",
       "    </tr>\n",
       "  </thead>\n",
       "  <tbody>\n",
       "    <tr>\n",
       "      <td>dolly-parton</td>\n",
       "      <td>743</td>\n",
       "    </tr>\n",
       "    <tr>\n",
       "      <td>elton-john</td>\n",
       "      <td>643</td>\n",
       "    </tr>\n",
       "    <tr>\n",
       "      <td>chris-brown</td>\n",
       "      <td>621</td>\n",
       "    </tr>\n",
       "    <tr>\n",
       "      <td>barbra-streisand</td>\n",
       "      <td>602</td>\n",
       "    </tr>\n",
       "    <tr>\n",
       "      <td>eddy-arnold</td>\n",
       "      <td>589</td>\n",
       "    </tr>\n",
       "    <tr>\n",
       "      <td>bee-gees</td>\n",
       "      <td>586</td>\n",
       "    </tr>\n",
       "    <tr>\n",
       "      <td>bob-dylan</td>\n",
       "      <td>584</td>\n",
       "    </tr>\n",
       "    <tr>\n",
       "      <td>eminem</td>\n",
       "      <td>567</td>\n",
       "    </tr>\n",
       "    <tr>\n",
       "      <td>ella-fitzgerald</td>\n",
       "      <td>565</td>\n",
       "    </tr>\n",
       "    <tr>\n",
       "      <td>american-idol</td>\n",
       "      <td>562</td>\n",
       "    </tr>\n",
       "  </tbody>\n",
       "</table>\n",
       "</div>"
      ],
      "text/plain": [
       "                  artist\n",
       "dolly-parton         743\n",
       "elton-john           643\n",
       "chris-brown          621\n",
       "barbra-streisand     602\n",
       "eddy-arnold          589\n",
       "bee-gees             586\n",
       "bob-dylan            584\n",
       "eminem               567\n",
       "ella-fitzgerald      565\n",
       "american-idol        562"
      ]
     },
     "execution_count": 25,
     "metadata": {},
     "output_type": "execute_result"
    }
   ],
   "source": [
    "pd.DataFrame(data.artist.value_counts()[:10])"
   ]
  },
  {
   "cell_type": "markdown",
   "metadata": {},
   "source": [
    "### Data pre-processing\n",
    "\n",
    "Next I would like to filter out all the non-English lyrics from the dataset to keep it simple, because:\n",
    "- The number of non-English songs in the dataset is much smaller than that of English songs.\n",
    "- It might introduce noise during song classification.\n",
    "- When I tried topic modelling with lyrics of all languages, the LDA model, understandably, separated out the different languages as different topics, which is not what I want. In this context, homegeneity of the dataset is required to uncover the latent factors."
   ]
  },
  {
   "cell_type": "code",
   "execution_count": 26,
   "metadata": {},
   "outputs": [],
   "source": [
    "def is_english_lyrics(text):\n",
    "    lang_clf = langid.classify(text)[0]\n",
    "    eng_text =  lang_clf=='en'\n",
    "    if eng_text:\n",
    "        return 1\n",
    "    else:\n",
    "        return 0"
   ]
  },
  {
   "cell_type": "code",
   "execution_count": 160,
   "metadata": {},
   "outputs": [],
   "source": [
    "data['english_lyrics'] = data['lyrics'].apply(lambda lyrics: is_english_lyrics(lyrics))"
   ]
  },
  {
   "cell_type": "code",
   "execution_count": 170,
   "metadata": {},
   "outputs": [
    {
     "name": "stdout",
     "output_type": "stream",
     "text": [
      "211401 songs have English lyrics in the dataset\n"
     ]
    }
   ],
   "source": [
    "print('{} songs have English lyrics in the dataset'.format(data['english_lyrics'].sum()))  #How many songs have English lyrics"
   ]
  },
  {
   "cell_type": "code",
   "execution_count": 162,
   "metadata": {},
   "outputs": [],
   "source": [
    "#Only keep the English songs\n",
    "data = data.loc[data['english_lyrics']==1, :].reset_index(drop=True)"
   ]
  },
  {
   "cell_type": "markdown",
   "metadata": {},
   "source": [
    "### Text cleaning\n",
    "- Remove stopwords\n",
    "- Convert to lowercase and remove numbers and punctuations\n",
    "- Keep only those words that are 3 characters or more in length\n",
    "- Lemmatize the words with their appropriate part-of-speech"
   ]
  },
  {
   "cell_type": "code",
   "execution_count": 255,
   "metadata": {},
   "outputs": [],
   "source": [
    "#from polyglot.detect import Detector"
   ]
  },
  {
   "cell_type": "code",
   "execution_count": 313,
   "metadata": {},
   "outputs": [],
   "source": [
    "stop_words = set(stopwords.words('english'))\n",
    "lemmatizer = WordNetLemmatizer()\n",
    "tokenizer = RegexpTokenizer(r'([a-zA-Z]+)') \n",
    "\n",
    "from nltk.corpus import wordnet\n",
    "\n",
    "def get_wordnet_pos(word):\n",
    "    tag = pos_tag([word])[0][1][0].upper()\n",
    "    tag_dict = {\"J\": wordnet.ADJ,\n",
    "                \"N\": wordnet.NOUN,\n",
    "                \"V\": wordnet.VERB,\n",
    "                \"R\": wordnet.ADV}\n",
    "    return tag_dict.get(tag, wordnet.NOUN)\n",
    "\n",
    "def preprocess_text(lyrics):\n",
    "    '''\n",
    "    This function preprocesses the comments and sets them up for vectorization.\n",
    "    Input: comment string\n",
    "    Returns: A string after converting the words to lowercase, removing punctuations, and lemmatizing each word\n",
    "    '''\n",
    "    words = [word for word in tokenizer.tokenize(lyrics.lower()) if not word in stop_words]  # convert to lowercase and remove stopwords\n",
    "    clean_words = [word for word in words if len(word)>2]\n",
    "    lemmatized_lyrics = ' '.join([lemmatizer.lemmatize(word,pos= get_wordnet_pos(word)) for word in clean_words]) ## lemmatization\n",
    "    return lemmatized_lyrics         "
   ]
  },
  {
   "cell_type": "markdown",
   "metadata": {},
   "source": [
    "- We will now apply the preprocessing function to transform the 'lyrics' column."
   ]
  },
  {
   "cell_type": "code",
   "execution_count": 165,
   "metadata": {},
   "outputs": [
    {
     "name": "stdout",
     "output_type": "stream",
     "text": [
      "Took 4055.602637052536 secs.\n"
     ]
    }
   ],
   "source": [
    "start = time.time()\n",
    "data['lyrics'] = data['lyrics'].apply(lambda lyrics: preprocess_text(lyrics))\n",
    "print('Took {} secs.'.format(time.time() - start))"
   ]
  },
  {
   "cell_type": "markdown",
   "metadata": {},
   "source": [
    "- Only keep those lyrics which contain at least twenty words."
   ]
  },
  {
   "cell_type": "code",
   "execution_count": 166,
   "metadata": {},
   "outputs": [],
   "source": [
    "data = data.loc[data['lyrics'].apply(lambda words: len(words.split()))>20, :].reset_index(drop=True)"
   ]
  },
  {
   "cell_type": "code",
   "execution_count": 27,
   "metadata": {},
   "outputs": [],
   "source": [
    "data.to_pickle(\"preprocessed_data.pkl\")\n",
    "#data = pd.read_pickle(\"preprocessed_data.pkl\")"
   ]
  },
  {
   "cell_type": "code",
   "execution_count": 28,
   "metadata": {},
   "outputs": [
    {
     "data": {
      "text/plain": [
       "0    baby know gonna cut right chase woman make lik...\n",
       "1    playin everything easy like seem sure still wa...\n",
       "2    search tenderness hard find love need live loo...\n",
       "3    verse write book stand title book would life s...\n",
       "4    party people people party pop sit around see l...\n",
       "5    heard church bell ring heard choir sing saw lo...\n",
       "6    another day would spend waitin right one star ...\n",
       "7    wait wait wait wait wait wait wait wait wait w...\n",
       "8    verse read magazine wait around say wait see g...\n",
       "9    honey well sit look around cause must bumped h...\n",
       "Name: lyrics, dtype: object"
      ]
     },
     "execution_count": 28,
     "metadata": {},
     "output_type": "execute_result"
    }
   ],
   "source": [
    "# Take a peek in to the cleaned lyrics column\n",
    "clean_lyrics = data['lyrics']\n",
    "clean_lyrics.head(10)"
   ]
  },
  {
   "cell_type": "markdown",
   "metadata": {},
   "source": [
    "## Topic modelling with Latent Dirichlet Allocation (LDA)\n",
    "- The purpose of this section is to see if the unsupervised algorithm can separate out the genres based on the lyrics alone. That would be super cool!\n",
    "- Note that LDA is not guaranteed to find out latent topics that are human interpretable. LDA generally works well when the underlying topics are disjoint. In lyrics topic modelling, I won't expect the LDA topics to coincide with all the specific genre lyrics very well.\n",
    "- The other point to note is that it is difficult to gauge the effectiveness of techniques like LDA or LSA because they are unsupervised, that means there is no loss function which one can optimize."
   ]
  },
  {
   "cell_type": "code",
   "execution_count": 69,
   "metadata": {},
   "outputs": [
    {
     "name": "stderr",
     "output_type": "stream",
     "text": [
      "/Users/debashis/anaconda3/lib/python3.6/site-packages/smart_open/smart_open_lib.py:398: UserWarning: This function is deprecated, use smart_open.open instead. See the migration notes for details: https://github.com/RaRe-Technologies/smart_open/blob/master/README.rst#migrating-to-the-new-open-function\n",
      "  'See the migration notes for details: %s' % _MIGRATION_NOTES_URL\n"
     ]
    }
   ],
   "source": [
    "#Create a dictionary of all the unique words in the corpus\n",
    "tokenized_clean_lyrics = [word_tokenize(doc) for doc in clean_lyrics]\n",
    "gensim_dict = Dictionary(tokenized_clean_lyrics)\n",
    "gensim_dict.save('dictionary.dict')"
   ]
  },
  {
   "cell_type": "code",
   "execution_count": 70,
   "metadata": {},
   "outputs": [],
   "source": [
    "#Now convert each document into the bag-of-words (BoW) format = list of (token_id, token_count).\n",
    "corpus = [gensim_dict.doc2bow(doc) for doc in tokenized_clean_lyrics]\n",
    "gensim.corpora.MmCorpus.serialize('corpus.mm', corpus)"
   ]
  },
  {
   "cell_type": "markdown",
   "metadata": {},
   "source": [
    "#### LDA with count features\n",
    "- We will create a LDA model with 10 topics (ambitious attempt). Why 10? Because there are 10 different genres in the dataset."
   ]
  },
  {
   "cell_type": "code",
   "execution_count": 83,
   "metadata": {},
   "outputs": [],
   "source": [
    "num_topics=10\n",
    "start = time.time()\n",
    "lda = LdaModel(corpus, id2word=gensim_dict, num_topics=num_topics, chunksize=2000, random_state=42)\n",
    "lda.save('lda_10_topics.ldamodel')\n",
    "#print((time.time() - start)/60, 'mins')"
   ]
  },
  {
   "cell_type": "code",
   "execution_count": 72,
   "metadata": {},
   "outputs": [],
   "source": [
    "def show_topics(model,num_topics=10):\n",
    "    ''' Input: LDA model, number of topics to display (default=10).\n",
    "    Output: dataframe with LDA topics as columns\n",
    "    '''\n",
    "    topics = {}\n",
    "    for i in range(num_topics):\n",
    "        topics[i] = [tup[0] for tup in model.show_topic(i)]\n",
    "    topics_lda_df = pd.DataFrame(data=topics)\n",
    "    columns= ['Topic '+str(i+1) for i in range(num_topics)]\n",
    "    topics_lda_df.columns = columns\n",
    "    return topics_lda_df"
   ]
  },
  {
   "cell_type": "code",
   "execution_count": 73,
   "metadata": {},
   "outputs": [
    {
     "data": {
      "text/html": [
       "<div>\n",
       "<style scoped>\n",
       "    .dataframe tbody tr th:only-of-type {\n",
       "        vertical-align: middle;\n",
       "    }\n",
       "\n",
       "    .dataframe tbody tr th {\n",
       "        vertical-align: top;\n",
       "    }\n",
       "\n",
       "    .dataframe thead th {\n",
       "        text-align: right;\n",
       "    }\n",
       "</style>\n",
       "<table border=\"1\" class=\"dataframe\">\n",
       "  <thead>\n",
       "    <tr style=\"text-align: right;\">\n",
       "      <th></th>\n",
       "      <th>Topic 1</th>\n",
       "      <th>Topic 2</th>\n",
       "      <th>Topic 3</th>\n",
       "      <th>Topic 4</th>\n",
       "      <th>Topic 5</th>\n",
       "      <th>Topic 6</th>\n",
       "      <th>Topic 7</th>\n",
       "      <th>Topic 8</th>\n",
       "      <th>Topic 9</th>\n",
       "      <th>Topic 10</th>\n",
       "    </tr>\n",
       "  </thead>\n",
       "  <tbody>\n",
       "    <tr>\n",
       "      <td>0</td>\n",
       "      <td>life</td>\n",
       "      <td>light</td>\n",
       "      <td>blood</td>\n",
       "      <td>girl</td>\n",
       "      <td>love</td>\n",
       "      <td>old</td>\n",
       "      <td>say</td>\n",
       "      <td>get</td>\n",
       "      <td>na</td>\n",
       "      <td>get</td>\n",
       "    </tr>\n",
       "    <tr>\n",
       "      <td>1</td>\n",
       "      <td>one</td>\n",
       "      <td>come</td>\n",
       "      <td>kill</td>\n",
       "      <td>boy</td>\n",
       "      <td>heart</td>\n",
       "      <td>little</td>\n",
       "      <td>know</td>\n",
       "      <td>let</td>\n",
       "      <td>baby</td>\n",
       "      <td>like</td>\n",
       "    </tr>\n",
       "    <tr>\n",
       "      <td>2</td>\n",
       "      <td>god</td>\n",
       "      <td>like</td>\n",
       "      <td>dead</td>\n",
       "      <td>woman</td>\n",
       "      <td>know</td>\n",
       "      <td>new</td>\n",
       "      <td>get</td>\n",
       "      <td>know</td>\n",
       "      <td>gon</td>\n",
       "      <td>nigga</td>\n",
       "    </tr>\n",
       "    <tr>\n",
       "      <td>3</td>\n",
       "      <td>world</td>\n",
       "      <td>see</td>\n",
       "      <td>death</td>\n",
       "      <td>little</td>\n",
       "      <td>never</td>\n",
       "      <td>big</td>\n",
       "      <td>time</td>\n",
       "      <td>want</td>\n",
       "      <td>love</td>\n",
       "      <td>fuck</td>\n",
       "    </tr>\n",
       "    <tr>\n",
       "      <td>4</td>\n",
       "      <td>give</td>\n",
       "      <td>night</td>\n",
       "      <td>hell</td>\n",
       "      <td>like</td>\n",
       "      <td>feel</td>\n",
       "      <td>get</td>\n",
       "      <td>back</td>\n",
       "      <td>like</td>\n",
       "      <td>yeah</td>\n",
       "      <td>shit</td>\n",
       "    </tr>\n",
       "    <tr>\n",
       "      <td>5</td>\n",
       "      <td>live</td>\n",
       "      <td>eye</td>\n",
       "      <td>mind</td>\n",
       "      <td>lady</td>\n",
       "      <td>day</td>\n",
       "      <td>day</td>\n",
       "      <td>take</td>\n",
       "      <td>ta</td>\n",
       "      <td>wan</td>\n",
       "      <td>bitch</td>\n",
       "    </tr>\n",
       "    <tr>\n",
       "      <td>6</td>\n",
       "      <td>lord</td>\n",
       "      <td>sky</td>\n",
       "      <td>hate</td>\n",
       "      <td>mama</td>\n",
       "      <td>time</td>\n",
       "      <td>rock</td>\n",
       "      <td>come</td>\n",
       "      <td>got</td>\n",
       "      <td>get</td>\n",
       "      <td>cause</td>\n",
       "    </tr>\n",
       "    <tr>\n",
       "      <td>7</td>\n",
       "      <td>see</td>\n",
       "      <td>fall</td>\n",
       "      <td>fuck</td>\n",
       "      <td>whoa</td>\n",
       "      <td>dream</td>\n",
       "      <td>well</td>\n",
       "      <td>well</td>\n",
       "      <td>hey</td>\n",
       "      <td>make</td>\n",
       "      <td>money</td>\n",
       "    </tr>\n",
       "    <tr>\n",
       "      <td>8</td>\n",
       "      <td>soul</td>\n",
       "      <td>sun</td>\n",
       "      <td>pain</td>\n",
       "      <td>shake</td>\n",
       "      <td>one</td>\n",
       "      <td>town</td>\n",
       "      <td>think</td>\n",
       "      <td>feel</td>\n",
       "      <td>ooh</td>\n",
       "      <td>back</td>\n",
       "    </tr>\n",
       "    <tr>\n",
       "      <td>9</td>\n",
       "      <td>take</td>\n",
       "      <td>fire</td>\n",
       "      <td>black</td>\n",
       "      <td>pretty</td>\n",
       "      <td>away</td>\n",
       "      <td>two</td>\n",
       "      <td>never</td>\n",
       "      <td>right</td>\n",
       "      <td>give</td>\n",
       "      <td>know</td>\n",
       "    </tr>\n",
       "  </tbody>\n",
       "</table>\n",
       "</div>"
      ],
      "text/plain": [
       "  Topic 1 Topic 2 Topic 3 Topic 4 Topic 5 Topic 6 Topic 7 Topic 8 Topic 9  \\\n",
       "0    life   light   blood    girl    love     old     say     get      na   \n",
       "1     one    come    kill     boy   heart  little    know     let    baby   \n",
       "2     god    like    dead   woman    know     new     get    know     gon   \n",
       "3   world     see   death  little   never     big    time    want    love   \n",
       "4    give   night    hell    like    feel     get    back    like    yeah   \n",
       "5    live     eye    mind    lady     day     day    take      ta     wan   \n",
       "6    lord     sky    hate    mama    time    rock    come     got     get   \n",
       "7     see    fall    fuck    whoa   dream    well    well     hey    make   \n",
       "8    soul     sun    pain   shake     one    town   think    feel     ooh   \n",
       "9    take    fire   black  pretty    away     two   never   right    give   \n",
       "\n",
       "  Topic 10  \n",
       "0      get  \n",
       "1     like  \n",
       "2    nigga  \n",
       "3     fuck  \n",
       "4     shit  \n",
       "5    bitch  \n",
       "6    cause  \n",
       "7    money  \n",
       "8     back  \n",
       "9     know  "
      ]
     },
     "execution_count": 73,
     "metadata": {},
     "output_type": "execute_result"
    }
   ],
   "source": [
    "show_topics(lda,10)"
   ]
  },
  {
   "cell_type": "markdown",
   "metadata": {},
   "source": [
    "__Which is which?__\n",
    "- Topic3: Metal\n",
    "- Topic 9: Pop/R&B\n",
    "- Topic 10: Hip-Hop\n",
    "- Topic 5: Rock/Jazz ?\n",
    "- The other topics are not discernible to me."
   ]
  },
  {
   "cell_type": "markdown",
   "metadata": {},
   "source": [
    "### LDA with tf-idf features "
   ]
  },
  {
   "cell_type": "code",
   "execution_count": 119,
   "metadata": {},
   "outputs": [],
   "source": [
    "from gensim import models\n",
    "tfidf = models.TfidfModel(corpus)  # This is basically the tf-idf vectorizer for gensim\n",
    "corpus_tfidf = tfidf[corpus]   #(token id, tfidf score) for all the tokens in each docuemnt in the corpus"
   ]
  },
  {
   "cell_type": "code",
   "execution_count": 120,
   "metadata": {},
   "outputs": [
    {
     "name": "stdout",
     "output_type": "stream",
     "text": [
      "2.766523337364197 mins\n"
     ]
    }
   ],
   "source": [
    "num_topics=10\n",
    "start = time.time()\n",
    "warnings.filterwarnings(\"ignore\", category=DeprecationWarning)\n",
    "lda_tfidf = LdaModel(corpus_tfidf, id2word=gensim_dict, num_topics=num_topics, chunksize=2000, random_state=42)\n",
    "#lda_tfidf.save('lda_10_topics.ldamodel')\n",
    "print((time.time() - start)/60, 'mins')\n"
   ]
  },
  {
   "cell_type": "code",
   "execution_count": 121,
   "metadata": {},
   "outputs": [
    {
     "data": {
      "text/plain": [
       "array(['Pop', 'Hip-Hop', 'Rock', 'Metal', 'Other', 'Country', 'Jazz',\n",
       "       'Electronic', 'Folk', 'R&B', 'Indie'], dtype=object)"
      ]
     },
     "execution_count": 121,
     "metadata": {},
     "output_type": "execute_result"
    }
   ],
   "source": [
    "data.genre.unique()"
   ]
  },
  {
   "cell_type": "code",
   "execution_count": 122,
   "metadata": {},
   "outputs": [
    {
     "data": {
      "text/html": [
       "<div>\n",
       "<style scoped>\n",
       "    .dataframe tbody tr th:only-of-type {\n",
       "        vertical-align: middle;\n",
       "    }\n",
       "\n",
       "    .dataframe tbody tr th {\n",
       "        vertical-align: top;\n",
       "    }\n",
       "\n",
       "    .dataframe thead th {\n",
       "        text-align: right;\n",
       "    }\n",
       "</style>\n",
       "<table border=\"1\" class=\"dataframe\">\n",
       "  <thead>\n",
       "    <tr style=\"text-align: right;\">\n",
       "      <th></th>\n",
       "      <th>Topic 1</th>\n",
       "      <th>Topic 2</th>\n",
       "      <th>Topic 3</th>\n",
       "      <th>Topic 4</th>\n",
       "      <th>Topic 5</th>\n",
       "      <th>Topic 6</th>\n",
       "      <th>Topic 7</th>\n",
       "      <th>Topic 8</th>\n",
       "      <th>Topic 9</th>\n",
       "      <th>Topic 10</th>\n",
       "    </tr>\n",
       "  </thead>\n",
       "  <tbody>\n",
       "    <tr>\n",
       "      <td>0</td>\n",
       "      <td>doo</td>\n",
       "      <td>death</td>\n",
       "      <td>keyboard</td>\n",
       "      <td>worship</td>\n",
       "      <td>love</td>\n",
       "      <td>christmas</td>\n",
       "      <td>beast</td>\n",
       "      <td>get</td>\n",
       "      <td>saturday</td>\n",
       "      <td>lil</td>\n",
       "    </tr>\n",
       "    <tr>\n",
       "      <td>1</td>\n",
       "      <td>careless</td>\n",
       "      <td>blood</td>\n",
       "      <td>coffee</td>\n",
       "      <td>bobby</td>\n",
       "      <td>know</td>\n",
       "      <td>merry</td>\n",
       "      <td>undone</td>\n",
       "      <td>nigga</td>\n",
       "      <td>papa</td>\n",
       "      <td>gal</td>\n",
       "    </tr>\n",
       "    <tr>\n",
       "      <td>2</td>\n",
       "      <td>forgiveness</td>\n",
       "      <td>horizon</td>\n",
       "      <td>sweeter</td>\n",
       "      <td>sacred</td>\n",
       "      <td>want</td>\n",
       "      <td>aah</td>\n",
       "      <td>thee</td>\n",
       "      <td>like</td>\n",
       "      <td>belongs</td>\n",
       "      <td>cowboy</td>\n",
       "    </tr>\n",
       "    <tr>\n",
       "      <td>3</td>\n",
       "      <td>unkind</td>\n",
       "      <td>parade</td>\n",
       "      <td>sentimental</td>\n",
       "      <td>endlessly</td>\n",
       "      <td>never</td>\n",
       "      <td>billy</td>\n",
       "      <td>truly</td>\n",
       "      <td>fuck</td>\n",
       "      <td>marry</td>\n",
       "      <td>dude</td>\n",
       "    </tr>\n",
       "    <tr>\n",
       "      <td>4</td>\n",
       "      <td>mem</td>\n",
       "      <td>flesh</td>\n",
       "      <td>santa</td>\n",
       "      <td>raven</td>\n",
       "      <td>time</td>\n",
       "      <td>andre</td>\n",
       "      <td>wolf</td>\n",
       "      <td>shit</td>\n",
       "      <td>awaits</td>\n",
       "      <td>saxophone</td>\n",
       "    </tr>\n",
       "    <tr>\n",
       "      <td>5</td>\n",
       "      <td>wedding</td>\n",
       "      <td>johnny</td>\n",
       "      <td>scatter</td>\n",
       "      <td>hurtin</td>\n",
       "      <td>feel</td>\n",
       "      <td>sincere</td>\n",
       "      <td>savior</td>\n",
       "      <td>na</td>\n",
       "      <td>hypnotize</td>\n",
       "      <td>fish</td>\n",
       "    </tr>\n",
       "    <tr>\n",
       "      <td>6</td>\n",
       "      <td>french</td>\n",
       "      <td>bleeding</td>\n",
       "      <td>boogie</td>\n",
       "      <td>git</td>\n",
       "      <td>heart</td>\n",
       "      <td>vine</td>\n",
       "      <td>christ</td>\n",
       "      <td>yeah</td>\n",
       "      <td>youve</td>\n",
       "      <td>jeff</td>\n",
       "    </tr>\n",
       "    <tr>\n",
       "      <td>7</td>\n",
       "      <td>tenderness</td>\n",
       "      <td>pressure</td>\n",
       "      <td>mornin</td>\n",
       "      <td>umbrella</td>\n",
       "      <td>away</td>\n",
       "      <td>honky</td>\n",
       "      <td>laughter</td>\n",
       "      <td>girl</td>\n",
       "      <td>term</td>\n",
       "      <td>dat</td>\n",
       "    </tr>\n",
       "    <tr>\n",
       "      <td>8</td>\n",
       "      <td>wisdom</td>\n",
       "      <td>evil</td>\n",
       "      <td>china</td>\n",
       "      <td>skyline</td>\n",
       "      <td>baby</td>\n",
       "      <td>gay</td>\n",
       "      <td>holy</td>\n",
       "      <td>gon</td>\n",
       "      <td>complicate</td>\n",
       "      <td>limit</td>\n",
       "    </tr>\n",
       "    <tr>\n",
       "      <td>9</td>\n",
       "      <td>badly</td>\n",
       "      <td>curtain</td>\n",
       "      <td>september</td>\n",
       "      <td>spiritual</td>\n",
       "      <td>say</td>\n",
       "      <td>opportunity</td>\n",
       "      <td>constant</td>\n",
       "      <td>bitch</td>\n",
       "      <td>sideways</td>\n",
       "      <td>realise</td>\n",
       "    </tr>\n",
       "  </tbody>\n",
       "</table>\n",
       "</div>"
      ],
      "text/plain": [
       "       Topic 1   Topic 2      Topic 3    Topic 4 Topic 5      Topic 6  \\\n",
       "0          doo     death     keyboard    worship    love    christmas   \n",
       "1     careless     blood       coffee      bobby    know        merry   \n",
       "2  forgiveness   horizon      sweeter     sacred    want          aah   \n",
       "3       unkind    parade  sentimental  endlessly   never        billy   \n",
       "4          mem     flesh        santa      raven    time        andre   \n",
       "5      wedding    johnny      scatter     hurtin    feel      sincere   \n",
       "6       french  bleeding       boogie        git   heart         vine   \n",
       "7   tenderness  pressure       mornin   umbrella    away        honky   \n",
       "8       wisdom      evil        china    skyline    baby          gay   \n",
       "9        badly   curtain    september  spiritual     say  opportunity   \n",
       "\n",
       "    Topic 7 Topic 8     Topic 9   Topic 10  \n",
       "0     beast     get    saturday        lil  \n",
       "1    undone   nigga        papa        gal  \n",
       "2      thee    like     belongs     cowboy  \n",
       "3     truly    fuck       marry       dude  \n",
       "4      wolf    shit      awaits  saxophone  \n",
       "5    savior      na   hypnotize       fish  \n",
       "6    christ    yeah       youve       jeff  \n",
       "7  laughter    girl        term        dat  \n",
       "8      holy     gon  complicate      limit  \n",
       "9  constant   bitch    sideways    realise  "
      ]
     },
     "execution_count": 122,
     "metadata": {},
     "output_type": "execute_result"
    }
   ],
   "source": [
    "show_topics(lda_tfidf,num_topics=10)"
   ]
  },
  {
   "cell_type": "markdown",
   "metadata": {},
   "source": [
    "** Can you interpret the topics here?**\n",
    "- Topic 8 sure looks like words out of a Hip-hop song. \n",
    "- Topic 2 contains words I'd rather associate with metal/death metal lyrics. \n",
    "- Topic 5 resembles pop.\n",
    "- Topic 10 is Country (?).\n",
    "- Rock lyrics is not clearly identifiable, probably because it does not have strong distinguishable features in terms of vocabulary. The same argument holds for Jazz.\n",
    "- Indie is also a poorly defined genre in terms of lyrics used. \n",
    "\n",
    "It might be useful to re-run LDA with fewer topics, for e.g. 4 or 5."
   ]
  },
  {
   "cell_type": "markdown",
   "metadata": {},
   "source": [
    "#### In the visualisation below, we'll take a look at the most probable topic words within each topic"
   ]
  },
  {
   "cell_type": "code",
   "execution_count": 78,
   "metadata": {},
   "outputs": [
    {
     "data": {
      "image/png": "[encoded data removed]",
      "text/plain": [
       "<Figure size 1080x2304 with 10 Axes>"
      ]
     },
     "metadata": {
      "needs_background": "light"
     },
     "output_type": "display_data"
    }
   ],
   "source": [
    "fig=plt.figure(figsize=(15,32))\n",
    "for i in range(num_topics):\n",
    "    df=pd.DataFrame(lda_tfidf.show_topic(i), columns=['term','prob']).set_index('term')    \n",
    "    plt.subplot(5,2,i+1)\n",
    "    plt.title('topic '+str(i+1))\n",
    "    sns.barplot(x='prob', y=df.index, data=df)\n",
    "    plt.xlabel('probability')\n",
    "    plt.ylabel('Topic term')"
   ]
  },
  {
   "cell_type": "markdown",
   "metadata": {},
   "source": [
    "### LDA visualisation with `pyLDAvis`\n",
    "- LDAvis is a cool application to visualise the LDA topics and the inter-topic distances. It represents the topics as blobs on the first two principal components."
   ]
  },
  {
   "cell_type": "code",
   "execution_count": 199,
   "metadata": {},
   "outputs": [],
   "source": [
    "import pyLDAvis\n",
    "pyLDAvis.enable_notebook()\n",
    "import pyLDAvis.gensim"
   ]
  },
  {
   "cell_type": "code",
   "execution_count": null,
   "metadata": {},
   "outputs": [],
   "source": [
    "start = time.time()\n",
    "lda_display = pyLDAvis.gensim.prepare(lda_tfidf, corpus_tfidf, gensim_dict)\n",
    "end = time.time()\n",
    "print((end-start)/3600,'hrs')"
   ]
  },
  {
   "cell_type": "code",
   "execution_count": null,
   "metadata": {},
   "outputs": [],
   "source": [
    "pyLDAvis.display(lda_display)"
   ]
  },
  {
   "cell_type": "markdown",
   "metadata": {},
   "source": [
    "### Topic modelling with LSA\n",
    "\n",
    "LSA uses singular value decomposition of the term-by-document matrix to identify a linear subspace in the space of tf-idf features that captures most of the variance in the collection. In fact LSA was widely used for topic modelling until the more sophisticated LDA was introduced in 2003.\n",
    "\n",
    "With LSA or LSI, one can also perform dimensionality reduction such that most of the variance is retained. We will see this in a later section in the notebook."
   ]
  },
  {
   "cell_type": "code",
   "execution_count": 43,
   "metadata": {},
   "outputs": [
    {
     "data": {
      "text/plain": [
       "TruncatedSVD(algorithm='randomized', n_components=10, n_iter=100,\n",
       "             random_state=42, tol=0.0)"
      ]
     },
     "execution_count": 43,
     "metadata": {},
     "output_type": "execute_result"
    }
   ],
   "source": [
    "from sklearn.decomposition import TruncatedSVD \n",
    "svd_model = TruncatedSVD(n_components=10, algorithm='randomized', n_iter=100, random_state=42) \n",
    "svd_model.fit(train_lyrics_features) "
   ]
  },
  {
   "cell_type": "code",
   "execution_count": 44,
   "metadata": {},
   "outputs": [
    {
     "data": {
      "text/plain": [
       "(10, 50000)"
      ]
     },
     "execution_count": 44,
     "metadata": {},
     "output_type": "execute_result"
    }
   ],
   "source": [
    "svd_model.components_.shape"
   ]
  },
  {
   "cell_type": "code",
   "execution_count": 45,
   "metadata": {},
   "outputs": [],
   "source": [
    "terms = tfidf_vectorizer.get_feature_names() \n",
    "topics_lsa_dict = {}\n",
    "for i, comp in enumerate(svd_model.components_): \n",
    "    terms_comp = zip(terms, comp) \n",
    "    sorted_terms = [tup[0] for tup in sorted(terms_comp, key= lambda x:x[1], reverse=True)[:10]]\n",
    "    topics_lsa_dict[i] = sorted_terms"
   ]
  },
  {
   "cell_type": "code",
   "execution_count": 46,
   "metadata": {},
   "outputs": [
    {
     "data": {
      "text/html": [
       "<div>\n",
       "<style scoped>\n",
       "    .dataframe tbody tr th:only-of-type {\n",
       "        vertical-align: middle;\n",
       "    }\n",
       "\n",
       "    .dataframe tbody tr th {\n",
       "        vertical-align: top;\n",
       "    }\n",
       "\n",
       "    .dataframe thead th {\n",
       "        text-align: right;\n",
       "    }\n",
       "</style>\n",
       "<table border=\"1\" class=\"dataframe\">\n",
       "  <thead>\n",
       "    <tr style=\"text-align: right;\">\n",
       "      <th></th>\n",
       "      <th>0</th>\n",
       "      <th>1</th>\n",
       "      <th>2</th>\n",
       "      <th>3</th>\n",
       "      <th>4</th>\n",
       "      <th>5</th>\n",
       "      <th>6</th>\n",
       "      <th>7</th>\n",
       "      <th>8</th>\n",
       "      <th>9</th>\n",
       "    </tr>\n",
       "  </thead>\n",
       "  <tbody>\n",
       "    <tr>\n",
       "      <td>0</td>\n",
       "      <td>get</td>\n",
       "      <td>nigga</td>\n",
       "      <td>blood</td>\n",
       "      <td>love</td>\n",
       "      <td>love</td>\n",
       "      <td>feel</td>\n",
       "      <td>god</td>\n",
       "      <td>away</td>\n",
       "      <td>baby</td>\n",
       "      <td>yeah</td>\n",
       "    </tr>\n",
       "    <tr>\n",
       "      <td>1</td>\n",
       "      <td>know</td>\n",
       "      <td>get</td>\n",
       "      <td>death</td>\n",
       "      <td>baby</td>\n",
       "      <td>nigga</td>\n",
       "      <td>yeah</td>\n",
       "      <td>life</td>\n",
       "      <td>day</td>\n",
       "      <td>say</td>\n",
       "      <td>yeah yeah</td>\n",
       "    </tr>\n",
       "    <tr>\n",
       "      <td>2</td>\n",
       "      <td>love</td>\n",
       "      <td>shit</td>\n",
       "      <td>nigga</td>\n",
       "      <td>night</td>\n",
       "      <td>heart</td>\n",
       "      <td>gonna</td>\n",
       "      <td>lord</td>\n",
       "      <td>back</td>\n",
       "      <td>back</td>\n",
       "      <td>love</td>\n",
       "    </tr>\n",
       "    <tr>\n",
       "      <td>3</td>\n",
       "      <td>like</td>\n",
       "      <td>fuck</td>\n",
       "      <td>god</td>\n",
       "      <td>yeah</td>\n",
       "      <td>love love</td>\n",
       "      <td>baby</td>\n",
       "      <td>well</td>\n",
       "      <td>gonna</td>\n",
       "      <td>cry</td>\n",
       "      <td>well</td>\n",
       "    </tr>\n",
       "    <tr>\n",
       "      <td>4</td>\n",
       "      <td>say</td>\n",
       "      <td>bitch</td>\n",
       "      <td>fuck</td>\n",
       "      <td>light</td>\n",
       "      <td>fuck</td>\n",
       "      <td>want</td>\n",
       "      <td>one</td>\n",
       "      <td>life</td>\n",
       "      <td>home</td>\n",
       "      <td>hey</td>\n",
       "    </tr>\n",
       "    <tr>\n",
       "      <td>5</td>\n",
       "      <td>see</td>\n",
       "      <td>yeah</td>\n",
       "      <td>soul</td>\n",
       "      <td>girl</td>\n",
       "      <td>give</td>\n",
       "      <td>let</td>\n",
       "      <td>world</td>\n",
       "      <td>time</td>\n",
       "      <td>leave</td>\n",
       "      <td>baby</td>\n",
       "    </tr>\n",
       "    <tr>\n",
       "      <td>6</td>\n",
       "      <td>time</td>\n",
       "      <td>money</td>\n",
       "      <td>black</td>\n",
       "      <td>come</td>\n",
       "      <td>shit</td>\n",
       "      <td>wanna</td>\n",
       "      <td>people</td>\n",
       "      <td>come</td>\n",
       "      <td>heart</td>\n",
       "      <td>love love</td>\n",
       "    </tr>\n",
       "    <tr>\n",
       "      <td>7</td>\n",
       "      <td>come</td>\n",
       "      <td>like</td>\n",
       "      <td>light</td>\n",
       "      <td>sky</td>\n",
       "      <td>bitch</td>\n",
       "      <td>get</td>\n",
       "      <td>give</td>\n",
       "      <td>take</td>\n",
       "      <td>please</td>\n",
       "      <td>cry</td>\n",
       "    </tr>\n",
       "    <tr>\n",
       "      <td>8</td>\n",
       "      <td>make</td>\n",
       "      <td>hit</td>\n",
       "      <td>dead</td>\n",
       "      <td>love love</td>\n",
       "      <td>feel</td>\n",
       "      <td>yeah yeah</td>\n",
       "      <td>yeah</td>\n",
       "      <td>long</td>\n",
       "      <td>lie</td>\n",
       "      <td>mind</td>\n",
       "    </tr>\n",
       "    <tr>\n",
       "      <td>9</td>\n",
       "      <td>one</td>\n",
       "      <td>wanna</td>\n",
       "      <td>life</td>\n",
       "      <td>dance</td>\n",
       "      <td>need</td>\n",
       "      <td>take</td>\n",
       "      <td>gonna</td>\n",
       "      <td>home</td>\n",
       "      <td>take</td>\n",
       "      <td>ooh</td>\n",
       "    </tr>\n",
       "  </tbody>\n",
       "</table>\n",
       "</div>"
      ],
      "text/plain": [
       "      0      1      2          3          4          5       6      7       8  \\\n",
       "0   get  nigga  blood       love       love       feel     god   away    baby   \n",
       "1  know    get  death       baby      nigga       yeah    life    day     say   \n",
       "2  love   shit  nigga      night      heart      gonna    lord   back    back   \n",
       "3  like   fuck    god       yeah  love love       baby    well  gonna     cry   \n",
       "4   say  bitch   fuck      light       fuck       want     one   life    home   \n",
       "5   see   yeah   soul       girl       give        let   world   time   leave   \n",
       "6  time  money  black       come       shit      wanna  people   come   heart   \n",
       "7  come   like  light        sky      bitch        get    give   take  please   \n",
       "8  make    hit   dead  love love       feel  yeah yeah    yeah   long     lie   \n",
       "9   one  wanna   life      dance       need       take   gonna   home    take   \n",
       "\n",
       "           9  \n",
       "0       yeah  \n",
       "1  yeah yeah  \n",
       "2       love  \n",
       "3       well  \n",
       "4        hey  \n",
       "5       baby  \n",
       "6  love love  \n",
       "7        cry  \n",
       "8       mind  \n",
       "9        ooh  "
      ]
     },
     "execution_count": 46,
     "metadata": {},
     "output_type": "execute_result"
    }
   ],
   "source": [
    "pd.DataFrame(topics_lsa_dict)"
   ]
  },
  {
   "cell_type": "markdown",
   "metadata": {},
   "source": [
    "## Can we predict the genre given the lyrics?\n",
    "- Removed the *Other, R&B, Indie and Folk* genres from the dataset as part of the data cleaning process.\n",
    "- Split the dataset into train and test sets.\n",
    "- One-hot encode the artist labels and scale (MinMaxScaler) the release year."
   ]
  },
  {
   "cell_type": "code",
   "execution_count": 29,
   "metadata": {},
   "outputs": [],
   "source": [
    "cond = (data.genre == 'Other') | (data.genre == 'Indie') | (data.genre == 'R&B') | (data.genre == 'Folk')\n",
    "X = data.loc[~cond, ['year', 'artist', 'lyrics']]\n",
    "y = data.loc[~cond, 'genre']\n",
    "X_train, X_test, y_train, y_test = train_test_split(X, y, test_size=0.3, random_state=42)"
   ]
  },
  {
   "cell_type": "code",
   "execution_count": 30,
   "metadata": {},
   "outputs": [],
   "source": [
    "ntrain = X_train.shape[0] # number of training examples"
   ]
  },
  {
   "cell_type": "code",
   "execution_count": 31,
   "metadata": {},
   "outputs": [],
   "source": [
    "le = LabelBinarizer()\n",
    "artist_ohe = le.fit_transform(X.artist)\n",
    "artist_ohe_sparse = sparse.csr_matrix(artist_ohe)\n",
    "\n",
    "from sklearn.preprocessing import MinMaxScaler\n",
    "\n",
    "#scaler = MinMaxScaler()\n",
    "#scaled_year = scaler.fit_transform(X.year.values.reshape(-1,1))\n",
    "#scaled_year_sparse = sparse.csr_matrix(scaled_year)"
   ]
  },
  {
   "cell_type": "markdown",
   "metadata": {},
   "source": [
    "### Tf-idf vectorization\n",
    "- considered both unigrams and bi-grams.\n",
    "- sublinear (logarithmic) term frequency is set to True.\n",
    "- Only those words which occur in at least 20 documents.\n",
    "- Only those words which occur in < 70% of all the documents are considered.\n",
    "- Max 50000 features are considered."
   ]
  },
  {
   "cell_type": "code",
   "execution_count": 60,
   "metadata": {},
   "outputs": [],
   "source": [
    "tfidf_vectorizer = TfidfVectorizer(\n",
    "    strip_accents= 'unicode', analyzer='word', min_df = 20, max_df = 0.6, ngram_range=(1, 2), sublinear_tf=True,                                  \n",
    "     max_features=50000)"
   ]
  },
  {
   "cell_type": "code",
   "execution_count": 61,
   "metadata": {},
   "outputs": [],
   "source": [
    "train_lyrics_features = tfidf_vectorizer.fit_transform(X_train['lyrics'])\n",
    "test_lyrics_features = tfidf_vectorizer.transform(X_test['lyrics'])\n",
    "\n",
    "feature_names = tfidf_vectorizer.get_feature_names()"
   ]
  },
  {
   "cell_type": "markdown",
   "metadata": {},
   "source": [
    "__Adding the artist encodings and the release years actually decreased performance of the classifiers. Therefore I decided to stick to just the lyrics. __"
   ]
  },
  {
   "cell_type": "code",
   "execution_count": 62,
   "metadata": {},
   "outputs": [],
   "source": [
    "train_features_full = sparse.hstack([train_lyrics_features])\n",
    "test_features_full = sparse.hstack([test_lyrics_features])\n",
    "\n",
    "#train_features_full = sparse.hstack([train_lyrics_features, artist_ohe_sparse[:ntrain]])\n",
    "#test_features_full = sparse.hstack([test_lyrics_features, artist_ohe_sparse[ntrain:]])"
   ]
  },
  {
   "cell_type": "markdown",
   "metadata": {},
   "source": [
    "- Write a function to do grid search and fit the model with the best parameters found."
   ]
  },
  {
   "cell_type": "code",
   "execution_count": 67,
   "metadata": {},
   "outputs": [],
   "source": [
    "from sklearn.model_selection import GridSearchCV\n",
    "def grid_search(clf, parameters, X, y, n_jobs=-1, n_folds=5, score_func=None,verbose=0):\n",
    "    if score_func:\n",
    "        gs = GridSearchCV(clf, param_grid=parameters, cv=n_folds, n_jobs=n_jobs, scoring=score_func,verbose =verbose)\n",
    "    else:\n",
    "        gs = GridSearchCV(clf, param_grid=parameters, cv=n_folds, verbose =verbose)\n",
    "    gs.fit(X, y)\n",
    "    print (\"Best parameter values: {} and best score = {}\".format(gs.best_params_ , gs.best_score_))\n",
    "    best = gs.best_estimator_\n",
    "    return best"
   ]
  },
  {
   "cell_type": "markdown",
   "metadata": {},
   "source": [
    "#### Naive Bayes"
   ]
  },
  {
   "cell_type": "code",
   "execution_count": 52,
   "metadata": {},
   "outputs": [
    {
     "name": "stdout",
     "output_type": "stream",
     "text": [
      "Best parameter values: {'alpha': 0.0008} and best score = 0.635845132332235\n"
     ]
    }
   ],
   "source": [
    "clf_mulNB = MultinomialNB()\n",
    "parameters = {'alpha': np.arange(0.0001, 0.001,0.0001)}\n",
    "mulNB_model = grid_search(clf_mulNB, parameters, train_features_full, y_train, n_folds=10, score_func='accuracy')"
   ]
  },
  {
   "cell_type": "code",
   "execution_count": 53,
   "metadata": {},
   "outputs": [],
   "source": [
    "clf_mulNB_pred = mulNB_model.predict(test_features_full)"
   ]
  },
  {
   "cell_type": "code",
   "execution_count": 38,
   "metadata": {},
   "outputs": [],
   "source": [
    "def report(target, model_pred):\n",
    "    print(classification_report(target, model_pred))\n",
    "    genres_list = ['Pop', 'Rock', 'Metal', 'Electronic', 'Country', 'Hip-Hop', 'Jazz']\n",
    "    cm = confusion_matrix(target,model_pred, labels = genres_list)\n",
    "    display(pd.DataFrame(cm, columns = genres_list, index = genres_list))"
   ]
  },
  {
   "cell_type": "code",
   "execution_count": 54,
   "metadata": {},
   "outputs": [
    {
     "name": "stdout",
     "output_type": "stream",
     "text": [
      "              precision    recall  f1-score   support\n",
      "\n",
      "     Country       0.62      0.20      0.30      4225\n",
      "  Electronic       0.91      0.03      0.06      1858\n",
      "     Hip-Hop       0.78      0.78      0.78      6610\n",
      "        Jazz       0.52      0.24      0.33      2090\n",
      "       Metal       0.67      0.58      0.63      6139\n",
      "         Pop       0.50      0.31      0.38      9958\n",
      "        Rock       0.63      0.86      0.73     29084\n",
      "\n",
      "    accuracy                           0.64     59964\n",
      "   macro avg       0.66      0.43      0.46     59964\n",
      "weighted avg       0.64      0.64      0.60     59964\n",
      "\n"
     ]
    },
    {
     "data": {
      "text/html": [
       "<div>\n",
       "<style scoped>\n",
       "    .dataframe tbody tr th:only-of-type {\n",
       "        vertical-align: middle;\n",
       "    }\n",
       "\n",
       "    .dataframe tbody tr th {\n",
       "        vertical-align: top;\n",
       "    }\n",
       "\n",
       "    .dataframe thead th {\n",
       "        text-align: right;\n",
       "    }\n",
       "</style>\n",
       "<table border=\"1\" class=\"dataframe\">\n",
       "  <thead>\n",
       "    <tr style=\"text-align: right;\">\n",
       "      <th></th>\n",
       "      <th>Pop</th>\n",
       "      <th>Rock</th>\n",
       "      <th>Metal</th>\n",
       "      <th>Electronic</th>\n",
       "      <th>Country</th>\n",
       "      <th>Hip-Hop</th>\n",
       "      <th>Jazz</th>\n",
       "    </tr>\n",
       "  </thead>\n",
       "  <tbody>\n",
       "    <tr>\n",
       "      <td>Pop</td>\n",
       "      <td>3065</td>\n",
       "      <td>5940</td>\n",
       "      <td>171</td>\n",
       "      <td>2</td>\n",
       "      <td>98</td>\n",
       "      <td>497</td>\n",
       "      <td>185</td>\n",
       "    </tr>\n",
       "    <tr>\n",
       "      <td>Rock</td>\n",
       "      <td>1612</td>\n",
       "      <td>25075</td>\n",
       "      <td>1305</td>\n",
       "      <td>2</td>\n",
       "      <td>328</td>\n",
       "      <td>565</td>\n",
       "      <td>197</td>\n",
       "    </tr>\n",
       "    <tr>\n",
       "      <td>Metal</td>\n",
       "      <td>83</td>\n",
       "      <td>2308</td>\n",
       "      <td>3588</td>\n",
       "      <td>0</td>\n",
       "      <td>3</td>\n",
       "      <td>157</td>\n",
       "      <td>0</td>\n",
       "    </tr>\n",
       "    <tr>\n",
       "      <td>Electronic</td>\n",
       "      <td>287</td>\n",
       "      <td>1264</td>\n",
       "      <td>112</td>\n",
       "      <td>59</td>\n",
       "      <td>0</td>\n",
       "      <td>134</td>\n",
       "      <td>2</td>\n",
       "    </tr>\n",
       "    <tr>\n",
       "      <td>Country</td>\n",
       "      <td>323</td>\n",
       "      <td>2900</td>\n",
       "      <td>42</td>\n",
       "      <td>0</td>\n",
       "      <td>837</td>\n",
       "      <td>48</td>\n",
       "      <td>75</td>\n",
       "    </tr>\n",
       "    <tr>\n",
       "      <td>Hip-Hop</td>\n",
       "      <td>491</td>\n",
       "      <td>893</td>\n",
       "      <td>69</td>\n",
       "      <td>2</td>\n",
       "      <td>5</td>\n",
       "      <td>5141</td>\n",
       "      <td>9</td>\n",
       "    </tr>\n",
       "    <tr>\n",
       "      <td>Jazz</td>\n",
       "      <td>247</td>\n",
       "      <td>1183</td>\n",
       "      <td>31</td>\n",
       "      <td>0</td>\n",
       "      <td>78</td>\n",
       "      <td>53</td>\n",
       "      <td>498</td>\n",
       "    </tr>\n",
       "  </tbody>\n",
       "</table>\n",
       "</div>"
      ],
      "text/plain": [
       "             Pop   Rock  Metal  Electronic  Country  Hip-Hop  Jazz\n",
       "Pop         3065   5940    171           2       98      497   185\n",
       "Rock        1612  25075   1305           2      328      565   197\n",
       "Metal         83   2308   3588           0        3      157     0\n",
       "Electronic   287   1264    112          59        0      134     2\n",
       "Country      323   2900     42           0      837       48    75\n",
       "Hip-Hop      491    893     69           2        5     5141     9\n",
       "Jazz         247   1183     31           0       78       53   498"
      ]
     },
     "metadata": {},
     "output_type": "display_data"
    }
   ],
   "source": [
    "report(y_test,clf_mulNB_pred)"
   ]
  },
  {
   "cell_type": "markdown",
   "metadata": {},
   "source": [
    "#### Logistic Regression"
   ]
  },
  {
   "cell_type": "code",
   "execution_count": 65,
   "metadata": {},
   "outputs": [
    {
     "name": "stdout",
     "output_type": "stream",
     "text": [
      "Best parameter values: {'C': 3} and best score = 0.6552286063482307\n"
     ]
    }
   ],
   "source": [
    "clf_logreg = LogisticRegression(solver='sag', multi_class='ovr', random_state=42)\n",
    "parameters = {'C': np.arange(1,11,1)}\n",
    "logreg_model = grid_search(clf_logreg, parameters, train_features_full, y_train, n_folds=5, score_func='accuracy')"
   ]
  },
  {
   "cell_type": "code",
   "execution_count": 66,
   "metadata": {},
   "outputs": [],
   "source": [
    "logreg_model.fit(train_features_full,y_train)\n",
    "logreg_pred = logreg_model.predict(test_features_full)"
   ]
  },
  {
   "cell_type": "code",
   "execution_count": 156,
   "metadata": {},
   "outputs": [
    {
     "name": "stdout",
     "output_type": "stream",
     "text": [
      "              precision    recall  f1-score   support\n",
      "\n",
      "     Country       0.62      0.31      0.41      4225\n",
      "  Electronic       0.69      0.05      0.10      1858\n",
      "     Hip-Hop       0.88      0.81      0.84      6610\n",
      "        Jazz       0.61      0.25      0.36      2090\n",
      "       Metal       0.74      0.56      0.63      6139\n",
      "         Pop       0.51      0.37      0.42      9958\n",
      "        Rock       0.65      0.87      0.74     29084\n",
      "\n",
      "    accuracy                           0.66     59964\n",
      "   macro avg       0.67      0.46      0.50     59964\n",
      "weighted avg       0.66      0.66      0.63     59964\n",
      "\n"
     ]
    },
    {
     "data": {
      "text/html": [
       "<div>\n",
       "<style scoped>\n",
       "    .dataframe tbody tr th:only-of-type {\n",
       "        vertical-align: middle;\n",
       "    }\n",
       "\n",
       "    .dataframe tbody tr th {\n",
       "        vertical-align: top;\n",
       "    }\n",
       "\n",
       "    .dataframe thead th {\n",
       "        text-align: right;\n",
       "    }\n",
       "</style>\n",
       "<table border=\"1\" class=\"dataframe\">\n",
       "  <thead>\n",
       "    <tr style=\"text-align: right;\">\n",
       "      <th></th>\n",
       "      <th>Pop</th>\n",
       "      <th>Rock</th>\n",
       "      <th>Metal</th>\n",
       "      <th>Electronic</th>\n",
       "      <th>Country</th>\n",
       "      <th>Hip-Hop</th>\n",
       "      <th>Jazz</th>\n",
       "    </tr>\n",
       "  </thead>\n",
       "  <tbody>\n",
       "    <tr>\n",
       "      <td>Pop</td>\n",
       "      <td>3643</td>\n",
       "      <td>5587</td>\n",
       "      <td>113</td>\n",
       "      <td>15</td>\n",
       "      <td>170</td>\n",
       "      <td>323</td>\n",
       "      <td>107</td>\n",
       "    </tr>\n",
       "    <tr>\n",
       "      <td>Rock</td>\n",
       "      <td>1994</td>\n",
       "      <td>25243</td>\n",
       "      <td>950</td>\n",
       "      <td>15</td>\n",
       "      <td>510</td>\n",
       "      <td>210</td>\n",
       "      <td>162</td>\n",
       "    </tr>\n",
       "    <tr>\n",
       "      <td>Metal</td>\n",
       "      <td>159</td>\n",
       "      <td>2428</td>\n",
       "      <td>3431</td>\n",
       "      <td>5</td>\n",
       "      <td>10</td>\n",
       "      <td>106</td>\n",
       "      <td>0</td>\n",
       "    </tr>\n",
       "    <tr>\n",
       "      <td>Electronic</td>\n",
       "      <td>349</td>\n",
       "      <td>1251</td>\n",
       "      <td>81</td>\n",
       "      <td>95</td>\n",
       "      <td>8</td>\n",
       "      <td>72</td>\n",
       "      <td>2</td>\n",
       "    </tr>\n",
       "    <tr>\n",
       "      <td>Country</td>\n",
       "      <td>346</td>\n",
       "      <td>2473</td>\n",
       "      <td>20</td>\n",
       "      <td>2</td>\n",
       "      <td>1315</td>\n",
       "      <td>13</td>\n",
       "      <td>56</td>\n",
       "    </tr>\n",
       "    <tr>\n",
       "      <td>Hip-Hop</td>\n",
       "      <td>426</td>\n",
       "      <td>774</td>\n",
       "      <td>54</td>\n",
       "      <td>5</td>\n",
       "      <td>16</td>\n",
       "      <td>5330</td>\n",
       "      <td>5</td>\n",
       "    </tr>\n",
       "    <tr>\n",
       "      <td>Jazz</td>\n",
       "      <td>275</td>\n",
       "      <td>1141</td>\n",
       "      <td>19</td>\n",
       "      <td>0</td>\n",
       "      <td>103</td>\n",
       "      <td>22</td>\n",
       "      <td>530</td>\n",
       "    </tr>\n",
       "  </tbody>\n",
       "</table>\n",
       "</div>"
      ],
      "text/plain": [
       "             Pop   Rock  Metal  Electronic  Country  Hip-Hop  Jazz\n",
       "Pop         3643   5587    113          15      170      323   107\n",
       "Rock        1994  25243    950          15      510      210   162\n",
       "Metal        159   2428   3431           5       10      106     0\n",
       "Electronic   349   1251     81          95        8       72     2\n",
       "Country      346   2473     20           2     1315       13    56\n",
       "Hip-Hop      426    774     54           5       16     5330     5\n",
       "Jazz         275   1141     19           0      103       22   530"
      ]
     },
     "metadata": {},
     "output_type": "display_data"
    },
    {
     "data": {
      "text/plain": [
       "0.6601794409979321"
      ]
     },
     "execution_count": 156,
     "metadata": {},
     "output_type": "execute_result"
    }
   ],
   "source": [
    "report(y_test, logreg_pred)\n",
    "accuracy_score(y_test, logreg_pred)"
   ]
  },
  {
   "cell_type": "markdown",
   "metadata": {},
   "source": [
    "#### Interpretation\n",
    "- The overall accuracy is 0.66, which by itself is not that bad considering how nuanced the lyrics in certain genres can be. For e.g. can you tell a jazz lyrics from a rock lyrics without listeing to the music? \n",
    "\n",
    "- The Hip-Hop genre was expected from our topic modelling studies to have both a high precision and a high recall, and we find exactly that. In fact, it has the highest precision and recall value among all the genres. Why? Because of the cuss words that you mostly find in Hip-Hop.\n",
    "\n",
    "- For Metal, precision is relatively high at 74%, because of few false positives (take a look at the numbers in the Metal column). But it suffers from low recall because of the high number of false negatives. Specifically, 2428 Metal lyrics were classified as Rock, or, in other words,  90% of the false positives were mis-classified as Rock.\n",
    "\n",
    "- The recall for Electronic genre is really low, with most 'Electronic' lyrics getting classified as Rock. I guess this has to do with the fact that most of the lyrics in the dataset were from the Rock genre.\n",
    "\n",
    "*The performance of the logistic regression classifier is similar to that of the Naive Bayes, with the overall metrics being slightly better for Log-Reg.*"
   ]
  },
  {
   "cell_type": "markdown",
   "metadata": {},
   "source": [
    "### XGBoost"
   ]
  },
  {
   "cell_type": "code",
   "execution_count": 177,
   "metadata": {},
   "outputs": [],
   "source": [
    "y_train_labels = y_train.map({'Pop':1, 'Rock':2, 'Metal':3, 'Electronic':4, 'Country':5, 'Hip-Hop':6, 'Jazz':7})\n",
    "y_test_labels = y_test.map({'Pop':1, 'Rock':2, 'Metal':3, 'Electronic':4, 'Country':5, 'Hip-Hop':6, 'Jazz':7})"
   ]
  },
  {
   "cell_type": "code",
   "execution_count": 213,
   "metadata": {},
   "outputs": [],
   "source": [
    "clf_xgb = XGBClassifier(n_estimators=100, max_depth=5, colsample_bytree=0.5, n_jobs=3)"
   ]
  },
  {
   "cell_type": "code",
   "execution_count": 222,
   "metadata": {},
   "outputs": [
    {
     "data": {
      "text/plain": [
       "XGBClassifier(base_score=0.5, booster='gbtree', colsample_bylevel=1,\n",
       "              colsample_bynode=1, colsample_bytree=0.5, gamma=0,\n",
       "              learning_rate=0.1, max_delta_step=0, max_depth=5,\n",
       "              min_child_weight=1, missing=None, n_estimators=100, n_jobs=1,\n",
       "              nthread=None, objective='multi:softprob', random_state=0,\n",
       "              reg_alpha=0, reg_lambda=1, scale_pos_weight=1, seed=None,\n",
       "              silent=None, subsample=1, verbosity=1)"
      ]
     },
     "execution_count": 222,
     "metadata": {},
     "output_type": "execute_result"
    }
   ],
   "source": [
    "clf_xgb.fit(train_features_full,y_train_labels)"
   ]
  },
  {
   "cell_type": "code",
   "execution_count": 223,
   "metadata": {},
   "outputs": [],
   "source": [
    "clf_xgb_pred = clf_xgb.predict(test_features_full)"
   ]
  },
  {
   "cell_type": "code",
   "execution_count": 180,
   "metadata": {},
   "outputs": [],
   "source": [
    "print(classification_report(y_train_labels,clf_xgb.predict(train_features_full),target_names = genres_list))"
   ]
  },
  {
   "cell_type": "code",
   "execution_count": 228,
   "metadata": {},
   "outputs": [
    {
     "name": "stdout",
     "output_type": "stream",
     "text": [
      "              precision    recall  f1-score   support\n",
      "\n",
      "         Pop       0.56      0.17      0.26     10222\n",
      "        Rock       0.58      0.95      0.72     29768\n",
      "       Metal       0.77      0.35      0.48      6135\n",
      "  Electronic       0.95      0.01      0.02      1961\n",
      "     Country       0.79      0.08      0.15      4225\n",
      "     Hip-Hop       0.85      0.75      0.80      6731\n",
      "        Jazz       0.60      0.05      0.09      2163\n",
      "\n",
      "    accuracy                           0.62     61205\n",
      "   macro avg       0.73      0.34      0.36     61205\n",
      "weighted avg       0.65      0.62      0.54     61205\n",
      "\n"
     ]
    }
   ],
   "source": [
    "print(classification_report(y_test_labels,clf_xgb_pred,target_names = genres_list))\n",
    "cm_xgb = confusion_matrix(y_test_labels,clf_xgb_pred)\n",
    "pd.DataFrame(cm_xgb, columns = genres_list, index = genres_list)"
   ]
  },
  {
   "cell_type": "code",
   "execution_count": 233,
   "metadata": {},
   "outputs": [
    {
     "data": {
      "text/html": [
       "<div>\n",
       "<style scoped>\n",
       "    .dataframe tbody tr th:only-of-type {\n",
       "        vertical-align: middle;\n",
       "    }\n",
       "\n",
       "    .dataframe tbody tr th {\n",
       "        vertical-align: top;\n",
       "    }\n",
       "\n",
       "    .dataframe thead th {\n",
       "        text-align: right;\n",
       "    }\n",
       "</style>\n",
       "<table border=\"1\" class=\"dataframe\">\n",
       "  <thead>\n",
       "    <tr style=\"text-align: right;\">\n",
       "      <th></th>\n",
       "      <th>Pop</th>\n",
       "      <th>Rock</th>\n",
       "      <th>Metal</th>\n",
       "      <th>Electronic</th>\n",
       "      <th>Country</th>\n",
       "      <th>Hip-Hop</th>\n",
       "      <th>Jazz</th>\n",
       "    </tr>\n",
       "  </thead>\n",
       "  <tbody>\n",
       "    <tr>\n",
       "      <th>Pop</th>\n",
       "      <td>1719</td>\n",
       "      <td>8007</td>\n",
       "      <td>61</td>\n",
       "      <td>0</td>\n",
       "      <td>11</td>\n",
       "      <td>395</td>\n",
       "      <td>29</td>\n",
       "    </tr>\n",
       "    <tr>\n",
       "      <th>Rock</th>\n",
       "      <td>574</td>\n",
       "      <td>28323</td>\n",
       "      <td>509</td>\n",
       "      <td>0</td>\n",
       "      <td>72</td>\n",
       "      <td>262</td>\n",
       "      <td>28</td>\n",
       "    </tr>\n",
       "    <tr>\n",
       "      <th>Metal</th>\n",
       "      <td>43</td>\n",
       "      <td>3853</td>\n",
       "      <td>2133</td>\n",
       "      <td>0</td>\n",
       "      <td>1</td>\n",
       "      <td>104</td>\n",
       "      <td>1</td>\n",
       "    </tr>\n",
       "    <tr>\n",
       "      <th>Electronic</th>\n",
       "      <td>131</td>\n",
       "      <td>1694</td>\n",
       "      <td>22</td>\n",
       "      <td>21</td>\n",
       "      <td>2</td>\n",
       "      <td>91</td>\n",
       "      <td>0</td>\n",
       "    </tr>\n",
       "    <tr>\n",
       "      <th>Country</th>\n",
       "      <td>89</td>\n",
       "      <td>3743</td>\n",
       "      <td>15</td>\n",
       "      <td>0</td>\n",
       "      <td>356</td>\n",
       "      <td>9</td>\n",
       "      <td>13</td>\n",
       "    </tr>\n",
       "    <tr>\n",
       "      <th>Hip-Hop</th>\n",
       "      <td>403</td>\n",
       "      <td>1258</td>\n",
       "      <td>20</td>\n",
       "      <td>1</td>\n",
       "      <td>1</td>\n",
       "      <td>5048</td>\n",
       "      <td>0</td>\n",
       "    </tr>\n",
       "    <tr>\n",
       "      <th>Jazz</th>\n",
       "      <td>101</td>\n",
       "      <td>1908</td>\n",
       "      <td>10</td>\n",
       "      <td>0</td>\n",
       "      <td>9</td>\n",
       "      <td>27</td>\n",
       "      <td>108</td>\n",
       "    </tr>\n",
       "  </tbody>\n",
       "</table>\n",
       "</div>"
      ],
      "text/plain": [
       "             Pop   Rock  Metal  Electronic  Country  Hip-Hop  Jazz\n",
       "Pop         1719   8007     61           0       11      395    29\n",
       "Rock         574  28323    509           0       72      262    28\n",
       "Metal         43   3853   2133           0        1      104     1\n",
       "Electronic   131   1694     22          21        2       91     0\n",
       "Country       89   3743     15           0      356        9    13\n",
       "Hip-Hop      403   1258     20           1        1     5048     0\n",
       "Jazz         101   1908     10           0        9       27   108"
      ]
     },
     "execution_count": 233,
     "metadata": {},
     "output_type": "execute_result"
    }
   ],
   "source": [
    "cm_xgb = confusion_matrix(y_test_labels,clf_xgb_pred)\n",
    "pd.DataFrame(cm_xgb, columns = genres_list, index = genres_list)"
   ]
  },
  {
   "cell_type": "markdown",
   "metadata": {},
   "source": [
    "## Classification with LDA features"
   ]
  },
  {
   "cell_type": "code",
   "execution_count": 171,
   "metadata": {},
   "outputs": [],
   "source": [
    "from sklearn.decomposition import LatentDirichletAllocation\n",
    "lda = LatentDirichletAllocation(n_components = 100)\n",
    "lda_weights_train = lda.fit_transform(train_features_full)\n",
    "lda_weights_test = lda.transform(test_features_full)"
   ]
  },
  {
   "cell_type": "code",
   "execution_count": 197,
   "metadata": {},
   "outputs": [
    {
     "name": "stdout",
     "output_type": "stream",
     "text": [
      "Best parameter values: {'C': 4.6} and best score = 0.5620063896850186\n"
     ]
    }
   ],
   "source": [
    "clf_logreg_lda = LogisticRegression(solver='sag', multi_class='ovr', random_state=42)\n",
    "params = {'C': np.arange(0.1,5,0.5)}\n",
    "logreg_lda = grid_search(clf_logreg_lda, params, lda_weights_train, y_train, n_folds=5, score_func='accuracy')\n",
    "clf_logreg_lda_pred = logreg_lda.predict(lda_weights_test)"
   ]
  },
  {
   "cell_type": "code",
   "execution_count": 198,
   "metadata": {},
   "outputs": [
    {
     "name": "stdout",
     "output_type": "stream",
     "text": [
      "              precision    recall  f1-score   support\n",
      "\n",
      "     Country       0.40      0.00      0.00      4225\n",
      "  Electronic       0.00      0.00      0.00      1858\n",
      "     Hip-Hop       0.76      0.64      0.70      6610\n",
      "        Jazz       0.46      0.06      0.10      2090\n",
      "       Metal       0.62      0.35      0.45      6139\n",
      "         Pop       0.33      0.01      0.02      9958\n",
      "        Rock       0.54      0.94      0.69     29084\n",
      "\n",
      "    accuracy                           0.57     59964\n",
      "   macro avg       0.44      0.29      0.28     59964\n",
      "weighted avg       0.51      0.57      0.46     59964\n",
      "\n"
     ]
    },
    {
     "data": {
      "text/html": [
       "<div>\n",
       "<style scoped>\n",
       "    .dataframe tbody tr th:only-of-type {\n",
       "        vertical-align: middle;\n",
       "    }\n",
       "\n",
       "    .dataframe tbody tr th {\n",
       "        vertical-align: top;\n",
       "    }\n",
       "\n",
       "    .dataframe thead th {\n",
       "        text-align: right;\n",
       "    }\n",
       "</style>\n",
       "<table border=\"1\" class=\"dataframe\">\n",
       "  <thead>\n",
       "    <tr style=\"text-align: right;\">\n",
       "      <th></th>\n",
       "      <th>Pop</th>\n",
       "      <th>Rock</th>\n",
       "      <th>Metal</th>\n",
       "      <th>Electronic</th>\n",
       "      <th>Country</th>\n",
       "      <th>Hip-Hop</th>\n",
       "      <th>Jazz</th>\n",
       "    </tr>\n",
       "  </thead>\n",
       "  <tbody>\n",
       "    <tr>\n",
       "      <td>Pop</td>\n",
       "      <td>117</td>\n",
       "      <td>9241</td>\n",
       "      <td>199</td>\n",
       "      <td>1</td>\n",
       "      <td>0</td>\n",
       "      <td>356</td>\n",
       "      <td>44</td>\n",
       "    </tr>\n",
       "    <tr>\n",
       "      <td>Rock</td>\n",
       "      <td>98</td>\n",
       "      <td>27364</td>\n",
       "      <td>920</td>\n",
       "      <td>0</td>\n",
       "      <td>6</td>\n",
       "      <td>641</td>\n",
       "      <td>55</td>\n",
       "    </tr>\n",
       "    <tr>\n",
       "      <td>Metal</td>\n",
       "      <td>0</td>\n",
       "      <td>3849</td>\n",
       "      <td>2145</td>\n",
       "      <td>0</td>\n",
       "      <td>0</td>\n",
       "      <td>144</td>\n",
       "      <td>1</td>\n",
       "    </tr>\n",
       "    <tr>\n",
       "      <td>Electronic</td>\n",
       "      <td>9</td>\n",
       "      <td>1703</td>\n",
       "      <td>60</td>\n",
       "      <td>0</td>\n",
       "      <td>0</td>\n",
       "      <td>80</td>\n",
       "      <td>6</td>\n",
       "    </tr>\n",
       "    <tr>\n",
       "      <td>Country</td>\n",
       "      <td>60</td>\n",
       "      <td>3961</td>\n",
       "      <td>69</td>\n",
       "      <td>0</td>\n",
       "      <td>4</td>\n",
       "      <td>105</td>\n",
       "      <td>26</td>\n",
       "    </tr>\n",
       "    <tr>\n",
       "      <td>Hip-Hop</td>\n",
       "      <td>17</td>\n",
       "      <td>2308</td>\n",
       "      <td>20</td>\n",
       "      <td>0</td>\n",
       "      <td>0</td>\n",
       "      <td>4260</td>\n",
       "      <td>5</td>\n",
       "    </tr>\n",
       "    <tr>\n",
       "      <td>Jazz</td>\n",
       "      <td>54</td>\n",
       "      <td>1838</td>\n",
       "      <td>33</td>\n",
       "      <td>1</td>\n",
       "      <td>0</td>\n",
       "      <td>49</td>\n",
       "      <td>115</td>\n",
       "    </tr>\n",
       "  </tbody>\n",
       "</table>\n",
       "</div>"
      ],
      "text/plain": [
       "            Pop   Rock  Metal  Electronic  Country  Hip-Hop  Jazz\n",
       "Pop         117   9241    199           1        0      356    44\n",
       "Rock         98  27364    920           0        6      641    55\n",
       "Metal         0   3849   2145           0        0      144     1\n",
       "Electronic    9   1703     60           0        0       80     6\n",
       "Country      60   3961     69           0        4      105    26\n",
       "Hip-Hop      17   2308     20           0        0     4260     5\n",
       "Jazz         54   1838     33           1        0       49   115"
      ]
     },
     "metadata": {},
     "output_type": "display_data"
    },
    {
     "data": {
      "text/plain": [
       "0.5670902541524915"
      ]
     },
     "execution_count": 198,
     "metadata": {},
     "output_type": "execute_result"
    }
   ],
   "source": [
    "report(y_test, clf_logreg_lda_pred)\n",
    "accuracy_score(y_test, clf_logreg_lda_pred)"
   ]
  },
  {
   "cell_type": "markdown",
   "metadata": {},
   "source": [
    "## Classification with LSA features"
   ]
  },
  {
   "cell_type": "markdown",
   "metadata": {},
   "source": [
    "In this section, I will use LSA as purely a dimensionality reduction feature and then classify the lyrics in the reduced feature space."
   ]
  },
  {
   "cell_type": "code",
   "execution_count": 148,
   "metadata": {},
   "outputs": [],
   "source": [
    "svd_model = TruncatedSVD(n_components=500, n_iter=100, random_state=42) "
   ]
  },
  {
   "cell_type": "code",
   "execution_count": 149,
   "metadata": {},
   "outputs": [],
   "source": [
    "svd_train = svd_model.fit_transform(train_lyrics_features)\n",
    "svd_test = svd_model.transform(test_lyrics_features) "
   ]
  },
  {
   "cell_type": "code",
   "execution_count": 150,
   "metadata": {},
   "outputs": [
    {
     "name": "stdout",
     "output_type": "stream",
     "text": [
      "(139913, 50000)\n",
      "(139913, 500)\n"
     ]
    }
   ],
   "source": [
    "print(train_lyrics_features.shape)\n",
    "print(svd_train.shape)"
   ]
  },
  {
   "cell_type": "code",
   "execution_count": 154,
   "metadata": {},
   "outputs": [
    {
     "name": "stdout",
     "output_type": "stream",
     "text": [
      "Best parameter values: {'C': 28} and best score = 0.6295769513912217\n"
     ]
    }
   ],
   "source": [
    "clf_logreg_svd = LogisticRegression(solver='sag', multi_class='ovr', random_state=42)\n",
    "params = {'C': np.arange(2,31,2)}\n",
    "logreg_svd = grid_search(clf_logreg_svd, params, svd_train, y_train, n_folds=5, score_func='accuracy')"
   ]
  },
  {
   "cell_type": "code",
   "execution_count": 155,
   "metadata": {},
   "outputs": [
    {
     "name": "stdout",
     "output_type": "stream",
     "text": [
      "              precision    recall  f1-score   support\n",
      "\n",
      "     Country       0.54      0.16      0.25      4225\n",
      "  Electronic       0.44      0.00      0.01      1858\n",
      "     Hip-Hop       0.85      0.78      0.81      6610\n",
      "        Jazz       0.47      0.10      0.17      2090\n",
      "       Metal       0.73      0.51      0.60      6139\n",
      "         Pop       0.49      0.24      0.32      9958\n",
      "        Rock       0.61      0.90      0.73     29084\n",
      "\n",
      "    accuracy                           0.63     59964\n",
      "   macro avg       0.59      0.39      0.41     59964\n",
      "weighted avg       0.61      0.63      0.58     59964\n",
      "\n"
     ]
    },
    {
     "data": {
      "text/html": [
       "<div>\n",
       "<style scoped>\n",
       "    .dataframe tbody tr th:only-of-type {\n",
       "        vertical-align: middle;\n",
       "    }\n",
       "\n",
       "    .dataframe tbody tr th {\n",
       "        vertical-align: top;\n",
       "    }\n",
       "\n",
       "    .dataframe thead th {\n",
       "        text-align: right;\n",
       "    }\n",
       "</style>\n",
       "<table border=\"1\" class=\"dataframe\">\n",
       "  <thead>\n",
       "    <tr style=\"text-align: right;\">\n",
       "      <th></th>\n",
       "      <th>Pop</th>\n",
       "      <th>Rock</th>\n",
       "      <th>Metal</th>\n",
       "      <th>Electronic</th>\n",
       "      <th>Country</th>\n",
       "      <th>Hip-Hop</th>\n",
       "      <th>Jazz</th>\n",
       "    </tr>\n",
       "  </thead>\n",
       "  <tbody>\n",
       "    <tr>\n",
       "      <td>Pop</td>\n",
       "      <td>2372</td>\n",
       "      <td>6871</td>\n",
       "      <td>115</td>\n",
       "      <td>2</td>\n",
       "      <td>127</td>\n",
       "      <td>409</td>\n",
       "      <td>62</td>\n",
       "    </tr>\n",
       "    <tr>\n",
       "      <td>Rock</td>\n",
       "      <td>1237</td>\n",
       "      <td>26252</td>\n",
       "      <td>890</td>\n",
       "      <td>1</td>\n",
       "      <td>346</td>\n",
       "      <td>254</td>\n",
       "      <td>104</td>\n",
       "    </tr>\n",
       "    <tr>\n",
       "      <td>Metal</td>\n",
       "      <td>96</td>\n",
       "      <td>2784</td>\n",
       "      <td>3143</td>\n",
       "      <td>0</td>\n",
       "      <td>5</td>\n",
       "      <td>110</td>\n",
       "      <td>1</td>\n",
       "    </tr>\n",
       "    <tr>\n",
       "      <td>Electronic</td>\n",
       "      <td>230</td>\n",
       "      <td>1455</td>\n",
       "      <td>71</td>\n",
       "      <td>8</td>\n",
       "      <td>5</td>\n",
       "      <td>82</td>\n",
       "      <td>7</td>\n",
       "    </tr>\n",
       "    <tr>\n",
       "      <td>Country</td>\n",
       "      <td>278</td>\n",
       "      <td>3171</td>\n",
       "      <td>27</td>\n",
       "      <td>0</td>\n",
       "      <td>684</td>\n",
       "      <td>6</td>\n",
       "      <td>59</td>\n",
       "    </tr>\n",
       "    <tr>\n",
       "      <td>Hip-Hop</td>\n",
       "      <td>421</td>\n",
       "      <td>973</td>\n",
       "      <td>59</td>\n",
       "      <td>7</td>\n",
       "      <td>10</td>\n",
       "      <td>5137</td>\n",
       "      <td>3</td>\n",
       "    </tr>\n",
       "    <tr>\n",
       "      <td>Jazz</td>\n",
       "      <td>220</td>\n",
       "      <td>1524</td>\n",
       "      <td>17</td>\n",
       "      <td>0</td>\n",
       "      <td>92</td>\n",
       "      <td>24</td>\n",
       "      <td>213</td>\n",
       "    </tr>\n",
       "  </tbody>\n",
       "</table>\n",
       "</div>"
      ],
      "text/plain": [
       "             Pop   Rock  Metal  Electronic  Country  Hip-Hop  Jazz\n",
       "Pop         2372   6871    115           2      127      409    62\n",
       "Rock        1237  26252    890           1      346      254   104\n",
       "Metal         96   2784   3143           0        5      110     1\n",
       "Electronic   230   1455     71           8        5       82     7\n",
       "Country      278   3171     27           0      684        6    59\n",
       "Hip-Hop      421    973     59           7       10     5137     3\n",
       "Jazz         220   1524     17           0       92       24   213"
      ]
     },
     "metadata": {},
     "output_type": "display_data"
    },
    {
     "data": {
      "text/plain": [
       "0.6305283169901941"
      ]
     },
     "execution_count": 155,
     "metadata": {},
     "output_type": "execute_result"
    }
   ],
   "source": [
    "logreg_svd_pred = logreg_svd.predict(svd_test)\n",
    "report(y_test, logreg_svd_pred)\n",
    "accuracy_score(y_test, logreg_svd_pred)"
   ]
  },
  {
   "cell_type": "markdown",
   "metadata": {},
   "source": [
    "Only a `~3%` drop in accuracy. Impressive performance by SVD coupled with Logistic regression. \n",
    "- I chose logistic regression for this task because it was the best performing classifier in the previous section."
   ]
  },
  {
   "cell_type": "code",
   "execution_count": null,
   "metadata": {},
   "outputs": [],
   "source": []
  }
 ],
 "metadata": {
  "kernelspec": {
   "display_name": "Python 3",
   "language": "python",
   "name": "python3"
  },
  "language_info": {
   "codemirror_mode": {
    "name": "ipython",
    "version": 3
   },
   "file_extension": ".py",
   "mimetype": "text/x-python",
   "name": "python",
   "nbconvert_exporter": "python",
   "pygments_lexer": "ipython3",
   "version": "3.6.9"
  }
 },
 "nbformat": 4,
 "nbformat_minor": 2
}
