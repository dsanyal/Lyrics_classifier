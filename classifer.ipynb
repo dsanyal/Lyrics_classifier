{
 "cells": [
  {
   "cell_type": "markdown",
   "metadata": {},
   "source": [
    "# Lyrics classifier"
   ]
  },
  {
   "cell_type": "code",
   "execution_count": 2,
   "metadata": {},
   "outputs": [],
   "source": [
    "import pandas as pd\n",
    "import numpy as np\n",
    "import matplotlib.pyplot as plt\n",
    "import seaborn as sns\n",
    "%matplotlib inline\n",
    "import time\n",
    "from scipy import sparse\n",
    "import string \n",
    "punctuation_set = set(string.punctuation)\n",
    "\n",
    "from nltk.corpus import stopwords\n",
    "from nltk import pos_tag\n",
    "from nltk.stem import WordNetLemmatizer\n",
    "from nltk.tokenize import word_tokenize, RegexpTokenizer \n",
    "import langid\n",
    "\n",
    "import gensim\n",
    "from gensim.models.ldamodel import LdaModel\n",
    "from gensim.corpora import Dictionary\n",
    "\n",
    "import warnings\n",
    "warnings.filterwarnings(\"ignore\", category=DeprecationWarning)\n",
    "\n",
    "\n",
    "from sklearn.feature_extraction.text import TfidfVectorizer, CountVectorizer\n",
    "from scipy.sparse import hstack\n",
    "from sklearn.model_selection import train_test_split, cross_val_score\n",
    "from sklearn.svm import SVC\n",
    "from sklearn.naive_bayes import MultinomialNB, GaussianNB\n",
    "from sklearn.metrics import classification_report, confusion_matrix\n",
    "from sklearn.linear_model import LogisticRegression\n",
    "from sklearn.preprocessing import LabelBinarizer"
   ]
  },
  {
   "cell_type": "code",
   "execution_count": 3,
   "metadata": {},
   "outputs": [],
   "source": [
    "data = pd.read_csv('lyrics.csv')"
   ]
  },
  {
   "cell_type": "code",
   "execution_count": 4,
   "metadata": {},
   "outputs": [
    {
     "data": {
      "text/html": [
       "<div>\n",
       "<style scoped>\n",
       "    .dataframe tbody tr th:only-of-type {\n",
       "        vertical-align: middle;\n",
       "    }\n",
       "\n",
       "    .dataframe tbody tr th {\n",
       "        vertical-align: top;\n",
       "    }\n",
       "\n",
       "    .dataframe thead th {\n",
       "        text-align: right;\n",
       "    }\n",
       "</style>\n",
       "<table border=\"1\" class=\"dataframe\">\n",
       "  <thead>\n",
       "    <tr style=\"text-align: right;\">\n",
       "      <th></th>\n",
       "      <th>index</th>\n",
       "      <th>song</th>\n",
       "      <th>year</th>\n",
       "      <th>artist</th>\n",
       "      <th>genre</th>\n",
       "      <th>lyrics</th>\n",
       "    </tr>\n",
       "  </thead>\n",
       "  <tbody>\n",
       "    <tr>\n",
       "      <th>0</th>\n",
       "      <td>0</td>\n",
       "      <td>ego-remix</td>\n",
       "      <td>2009</td>\n",
       "      <td>beyonce-knowles</td>\n",
       "      <td>Pop</td>\n",
       "      <td>Oh baby, how you doing?\\nYou know I'm gonna cu...</td>\n",
       "    </tr>\n",
       "    <tr>\n",
       "      <th>1</th>\n",
       "      <td>1</td>\n",
       "      <td>then-tell-me</td>\n",
       "      <td>2009</td>\n",
       "      <td>beyonce-knowles</td>\n",
       "      <td>Pop</td>\n",
       "      <td>playin' everything so easy,\\nit's like you see...</td>\n",
       "    </tr>\n",
       "    <tr>\n",
       "      <th>2</th>\n",
       "      <td>2</td>\n",
       "      <td>honesty</td>\n",
       "      <td>2009</td>\n",
       "      <td>beyonce-knowles</td>\n",
       "      <td>Pop</td>\n",
       "      <td>If you search\\nFor tenderness\\nIt isn't hard t...</td>\n",
       "    </tr>\n",
       "    <tr>\n",
       "      <th>3</th>\n",
       "      <td>3</td>\n",
       "      <td>you-are-my-rock</td>\n",
       "      <td>2009</td>\n",
       "      <td>beyonce-knowles</td>\n",
       "      <td>Pop</td>\n",
       "      <td>Oh oh oh I, oh oh oh I\\n[Verse 1:]\\nIf I wrote...</td>\n",
       "    </tr>\n",
       "    <tr>\n",
       "      <th>4</th>\n",
       "      <td>4</td>\n",
       "      <td>black-culture</td>\n",
       "      <td>2009</td>\n",
       "      <td>beyonce-knowles</td>\n",
       "      <td>Pop</td>\n",
       "      <td>Party the people, the people the party it's po...</td>\n",
       "    </tr>\n",
       "  </tbody>\n",
       "</table>\n",
       "</div>"
      ],
      "text/plain": [
       "   index             song  year           artist genre  \\\n",
       "0      0        ego-remix  2009  beyonce-knowles   Pop   \n",
       "1      1     then-tell-me  2009  beyonce-knowles   Pop   \n",
       "2      2          honesty  2009  beyonce-knowles   Pop   \n",
       "3      3  you-are-my-rock  2009  beyonce-knowles   Pop   \n",
       "4      4    black-culture  2009  beyonce-knowles   Pop   \n",
       "\n",
       "                                              lyrics  \n",
       "0  Oh baby, how you doing?\\nYou know I'm gonna cu...  \n",
       "1  playin' everything so easy,\\nit's like you see...  \n",
       "2  If you search\\nFor tenderness\\nIt isn't hard t...  \n",
       "3  Oh oh oh I, oh oh oh I\\n[Verse 1:]\\nIf I wrote...  \n",
       "4  Party the people, the people the party it's po...  "
      ]
     },
     "execution_count": 4,
     "metadata": {},
     "output_type": "execute_result"
    }
   ],
   "source": [
    "data.head()"
   ]
  },
  {
   "cell_type": "code",
   "execution_count": 5,
   "metadata": {},
   "outputs": [
    {
     "name": "stdout",
     "output_type": "stream",
     "text": [
      "Shape of the dataframe: (362237, 6)\n"
     ]
    }
   ],
   "source": [
    "print('Shape of the dataframe: {}'.format(data.shape))"
   ]
  },
  {
   "cell_type": "code",
   "execution_count": 6,
   "metadata": {},
   "outputs": [
    {
     "name": "stdout",
     "output_type": "stream",
     "text": [
      "<class 'pandas.core.frame.DataFrame'>\n",
      "RangeIndex: 362237 entries, 0 to 362236\n",
      "Data columns (total 6 columns):\n",
      "index     362237 non-null int64\n",
      "song      362235 non-null object\n",
      "year      362237 non-null int64\n",
      "artist    362237 non-null object\n",
      "genre     362237 non-null object\n",
      "lyrics    266557 non-null object\n",
      "dtypes: int64(2), object(4)\n",
      "memory usage: 16.6+ MB\n"
     ]
    }
   ],
   "source": [
    "data.info()"
   ]
  },
  {
   "cell_type": "code",
   "execution_count": 7,
   "metadata": {},
   "outputs": [],
   "source": [
    "data = data.drop('index',axis=1) # the index column is redundant"
   ]
  },
  {
   "cell_type": "code",
   "execution_count": 8,
   "metadata": {},
   "outputs": [
    {
     "name": "stdout",
     "output_type": "stream",
     "text": [
      "2006    76590\n",
      "2007    63677\n",
      "2016    37409\n",
      "2015    28766\n",
      "2014    28250\n",
      "Name: year, dtype: int64\n",
      "Oldest song belongs to the year: 67\n",
      "Latest song belongs to the year: 2038\n"
     ]
    }
   ],
   "source": [
    "year_dist = data.year.value_counts()\n",
    "print(year_dist.head())\n",
    "print('Oldest song belongs to the year: {}'.format(year_dist.index.min()))\n",
    "print('Latest song belongs to the year: {}'.format(year_dist.index.max()))"
   ]
  },
  {
   "cell_type": "markdown",
   "metadata": {},
   "source": [
    "- Clearly there is something odd there!"
   ]
  },
  {
   "cell_type": "code",
   "execution_count": 9,
   "metadata": {},
   "outputs": [
    {
     "data": {
      "image/png": "[encoded data removed]",
      "text/plain": [
       "<Figure size 1080x576 with 1 Axes>"
      ]
     },
     "metadata": {
      "needs_background": "light"
     },
     "output_type": "display_data"
    }
   ],
   "source": [
    "year_dist = year_dist.iloc[(year_dist.index>1900) & (year_dist.index <2019)]\n",
    "plt.figure(figsize=(15,8))\n",
    "_=sns.barplot(year_dist.index, year_dist)\n",
    "_=plt.xticks(rotation='vertical')"
   ]
  },
  {
   "cell_type": "code",
   "execution_count": 10,
   "metadata": {},
   "outputs": [
    {
     "name": "stdout",
     "output_type": "stream",
     "text": [
      "There are 95680 rows with missing lyrics.\n"
     ]
    },
    {
     "data": {
      "text/html": [
       "<div>\n",
       "<style scoped>\n",
       "    .dataframe tbody tr th:only-of-type {\n",
       "        vertical-align: middle;\n",
       "    }\n",
       "\n",
       "    .dataframe tbody tr th {\n",
       "        vertical-align: top;\n",
       "    }\n",
       "\n",
       "    .dataframe thead th {\n",
       "        text-align: right;\n",
       "    }\n",
       "</style>\n",
       "<table border=\"1\" class=\"dataframe\">\n",
       "  <thead>\n",
       "    <tr style=\"text-align: right;\">\n",
       "      <th></th>\n",
       "      <th>song</th>\n",
       "      <th>year</th>\n",
       "      <th>artist</th>\n",
       "      <th>genre</th>\n",
       "      <th>lyrics</th>\n",
       "    </tr>\n",
       "  </thead>\n",
       "  <tbody>\n",
       "    <tr>\n",
       "      <th>158</th>\n",
       "      <td>lemonade</td>\n",
       "      <td>2016</td>\n",
       "      <td>beyonce-knowles</td>\n",
       "      <td>Pop</td>\n",
       "      <td>NaN</td>\n",
       "    </tr>\n",
       "    <tr>\n",
       "      <th>305</th>\n",
       "      <td>no-more-tears</td>\n",
       "      <td>2002</td>\n",
       "      <td>eazy-e</td>\n",
       "      <td>Hip-Hop</td>\n",
       "      <td>NaN</td>\n",
       "    </tr>\n",
       "    <tr>\n",
       "      <th>311</th>\n",
       "      <td>still-f-kem</td>\n",
       "      <td>2002</td>\n",
       "      <td>eazy-e</td>\n",
       "      <td>Hip-Hop</td>\n",
       "      <td>NaN</td>\n",
       "    </tr>\n",
       "    <tr>\n",
       "      <th>320</th>\n",
       "      <td>rev-skit</td>\n",
       "      <td>2002</td>\n",
       "      <td>eazy-e</td>\n",
       "      <td>Hip-Hop</td>\n",
       "      <td>NaN</td>\n",
       "    </tr>\n",
       "    <tr>\n",
       "      <th>338</th>\n",
       "      <td>hush-hush</td>\n",
       "      <td>2013</td>\n",
       "      <td>asher-monroe</td>\n",
       "      <td>Pop</td>\n",
       "      <td>NaN</td>\n",
       "    </tr>\n",
       "  </tbody>\n",
       "</table>\n",
       "</div>"
      ],
      "text/plain": [
       "              song  year           artist    genre lyrics\n",
       "158       lemonade  2016  beyonce-knowles      Pop    NaN\n",
       "305  no-more-tears  2002           eazy-e  Hip-Hop    NaN\n",
       "311    still-f-kem  2002           eazy-e  Hip-Hop    NaN\n",
       "320       rev-skit  2002           eazy-e  Hip-Hop    NaN\n",
       "338      hush-hush  2013     asher-monroe      Pop    NaN"
      ]
     },
     "execution_count": 10,
     "metadata": {},
     "output_type": "execute_result"
    }
   ],
   "source": [
    "print('There are {} rows with missing lyrics.'.format(data.lyrics.isna().sum()))\n",
    "data.loc[data.lyrics.isna()].head()"
   ]
  },
  {
   "cell_type": "markdown",
   "metadata": {},
   "source": [
    "#### There is no point keeping the rows with missing lyrics because the point of this notebook is to analyze the lyrics of the songs and classify them. Therefore let's remove all the rows with missing lyrics."
   ]
  },
  {
   "cell_type": "code",
   "execution_count": 11,
   "metadata": {},
   "outputs": [],
   "source": [
    "data = data.dropna(axis=0, subset=['lyrics','song'])"
   ]
  },
  {
   "cell_type": "code",
   "execution_count": 12,
   "metadata": {},
   "outputs": [
    {
     "data": {
      "text/plain": [
       "(266556, 5)"
      ]
     },
     "execution_count": 12,
     "metadata": {},
     "output_type": "execute_result"
    }
   ],
   "source": [
    "data.shape"
   ]
  },
  {
   "cell_type": "code",
   "execution_count": 13,
   "metadata": {},
   "outputs": [
    {
     "name": "stdout",
     "output_type": "stream",
     "text": [
      "<class 'pandas.core.frame.DataFrame'>\n",
      "Int64Index: 266556 entries, 0 to 362236\n",
      "Data columns (total 5 columns):\n",
      "song      266556 non-null object\n",
      "year      266556 non-null int64\n",
      "artist    266556 non-null object\n",
      "genre     266556 non-null object\n",
      "lyrics    266556 non-null object\n",
      "dtypes: int64(1), object(4)\n",
      "memory usage: 12.2+ MB\n"
     ]
    }
   ],
   "source": [
    "data.info()"
   ]
  },
  {
   "cell_type": "markdown",
   "metadata": {},
   "source": [
    "- No more missing values, Good to go!"
   ]
  },
  {
   "cell_type": "markdown",
   "metadata": {},
   "source": [
    "### Distribution of the music genres\n",
    "- Since we are interested in predicting the genre from the lyrics and other metadata available, let us first explore the 'target variable', i.e. the genre."
   ]
  },
  {
   "cell_type": "code",
   "execution_count": 14,
   "metadata": {},
   "outputs": [
    {
     "data": {
      "image/png": "[encoded data removed]",
      "text/plain": [
       "<Figure size 864x432 with 1 Axes>"
      ]
     },
     "metadata": {
      "needs_background": "light"
     },
     "output_type": "display_data"
    }
   ],
   "source": [
    "genre_count = data.genre.value_counts()\n",
    "plt.figure(figsize=(12,6))\n",
    "_=sns.barplot(genre_count.index, genre_count/len(data))\n",
    "_=plt.xticks(rotation='vertical')\n",
    "_=plt.ylabel('Fraction of the genre in the dataset')"
   ]
  },
  {
   "cell_type": "markdown",
   "metadata": {},
   "source": [
    "- The dataset is highly imbalanced with respect to genre. \n",
    " * More than 40% of the songs are rock, while less than 1% are folk songs. Says a lot about music preferences across the world in general? Mind you that the dataset is not restricted to English songs, it contains German, French and Spanish songs also."
   ]
  },
  {
   "cell_type": "code",
   "execution_count": 15,
   "metadata": {},
   "outputs": [],
   "source": [
    "# Filter out the rows that contain lyrics with less than 200 characters and genre is not available\n",
    "\n",
    "data = data.loc[data.lyrics.map(len)> 200]\n",
    "data = data.loc[~(data.genre == 'Not Available')]"
   ]
  },
  {
   "cell_type": "code",
   "execution_count": 16,
   "metadata": {},
   "outputs": [
    {
     "data": {
      "text/plain": [
       "(234296, 5)"
      ]
     },
     "execution_count": 16,
     "metadata": {},
     "output_type": "execute_result"
    }
   ],
   "source": [
    "data.shape"
   ]
  },
  {
   "cell_type": "markdown",
   "metadata": {},
   "source": [
    "### Who are the top 10 artists?"
   ]
  },
  {
   "cell_type": "code",
   "execution_count": 17,
   "metadata": {},
   "outputs": [
    {
     "data": {
      "text/html": [
       "<div>\n",
       "<style scoped>\n",
       "    .dataframe tbody tr th:only-of-type {\n",
       "        vertical-align: middle;\n",
       "    }\n",
       "\n",
       "    .dataframe tbody tr th {\n",
       "        vertical-align: top;\n",
       "    }\n",
       "\n",
       "    .dataframe thead th {\n",
       "        text-align: right;\n",
       "    }\n",
       "</style>\n",
       "<table border=\"1\" class=\"dataframe\">\n",
       "  <thead>\n",
       "    <tr style=\"text-align: right;\">\n",
       "      <th></th>\n",
       "      <th>artist</th>\n",
       "    </tr>\n",
       "  </thead>\n",
       "  <tbody>\n",
       "    <tr>\n",
       "      <th>dolly-parton</th>\n",
       "      <td>743</td>\n",
       "    </tr>\n",
       "    <tr>\n",
       "      <th>elton-john</th>\n",
       "      <td>643</td>\n",
       "    </tr>\n",
       "    <tr>\n",
       "      <th>chris-brown</th>\n",
       "      <td>621</td>\n",
       "    </tr>\n",
       "    <tr>\n",
       "      <th>barbra-streisand</th>\n",
       "      <td>602</td>\n",
       "    </tr>\n",
       "    <tr>\n",
       "      <th>eddy-arnold</th>\n",
       "      <td>589</td>\n",
       "    </tr>\n",
       "    <tr>\n",
       "      <th>bee-gees</th>\n",
       "      <td>586</td>\n",
       "    </tr>\n",
       "    <tr>\n",
       "      <th>bob-dylan</th>\n",
       "      <td>584</td>\n",
       "    </tr>\n",
       "    <tr>\n",
       "      <th>eminem</th>\n",
       "      <td>567</td>\n",
       "    </tr>\n",
       "    <tr>\n",
       "      <th>ella-fitzgerald</th>\n",
       "      <td>565</td>\n",
       "    </tr>\n",
       "    <tr>\n",
       "      <th>american-idol</th>\n",
       "      <td>562</td>\n",
       "    </tr>\n",
       "  </tbody>\n",
       "</table>\n",
       "</div>"
      ],
      "text/plain": [
       "                  artist\n",
       "dolly-parton         743\n",
       "elton-john           643\n",
       "chris-brown          621\n",
       "barbra-streisand     602\n",
       "eddy-arnold          589\n",
       "bee-gees             586\n",
       "bob-dylan            584\n",
       "eminem               567\n",
       "ella-fitzgerald      565\n",
       "american-idol        562"
      ]
     },
     "execution_count": 17,
     "metadata": {},
     "output_type": "execute_result"
    }
   ],
   "source": [
    "pd.DataFrame(data.artist.value_counts()[:10])"
   ]
  },
  {
   "cell_type": "markdown",
   "metadata": {},
   "source": [
    "### Data pre-processing\n",
    "\n",
    "Next I would like to filter out all the non-English lyrics from the dataset to keep it simple.\n",
    "- The number of non-English songs in the dataset is much smaller than that of English songs.\n",
    "- It might introduce noise during song classification.\n",
    "- Topic modelling, understandably separates out the different languages."
   ]
  },
  {
   "cell_type": "code",
   "execution_count": 18,
   "metadata": {},
   "outputs": [],
   "source": [
    "def is_english_lyrics(text):\n",
    "    lang_clf = langid.classify(text)[0]\n",
    "    eng_text =  lang_clf=='en'\n",
    "    if eng_text:\n",
    "        return 1\n",
    "    else:\n",
    "        return 0"
   ]
  },
  {
   "cell_type": "code",
   "execution_count": 160,
   "metadata": {},
   "outputs": [],
   "source": [
    "data['english_lyrics'] = data['lyrics'].apply(lambda lyrics: is_english_lyrics(lyrics))"
   ]
  },
  {
   "cell_type": "code",
   "execution_count": 170,
   "metadata": {},
   "outputs": [
    {
     "name": "stdout",
     "output_type": "stream",
     "text": [
      "211401 songs have English lyrics in the dataset\n"
     ]
    }
   ],
   "source": [
    "print('{} songs have English lyrics in the dataset'.format(data['english_lyrics'].sum()))  #How many songs have English lyrics"
   ]
  },
  {
   "cell_type": "code",
   "execution_count": 162,
   "metadata": {},
   "outputs": [],
   "source": [
    "data = data.loc[data['english_lyrics']==1, :].reset_index(drop=True)"
   ]
  },
  {
   "cell_type": "code",
   "execution_count": 163,
   "metadata": {},
   "outputs": [],
   "source": [
    "#from polyglot.detect import Detector"
   ]
  },
  {
   "cell_type": "code",
   "execution_count": 164,
   "metadata": {},
   "outputs": [],
   "source": [
    "stop_words = set(stopwords.words('english')).union(set(stopwords.words('german'))).union(set(stopwords.words('spanish'))).union(set(stopwords.words('french')))  \n",
    "lemmatizer = WordNetLemmatizer()\n",
    "tokenizer = RegexpTokenizer(r'([a-zA-Z]+)') \n",
    "\n",
    "from nltk.corpus import wordnet\n",
    "\n",
    "def get_wordnet_pos(word):\n",
    "    tag = pos_tag([word])[0][1][0].upper()\n",
    "    tag_dict = {\"J\": wordnet.ADJ,\n",
    "                \"N\": wordnet.NOUN,\n",
    "                \"V\": wordnet.VERB,\n",
    "                \"R\": wordnet.ADV}\n",
    "    return tag_dict.get(tag, wordnet.NOUN)\n",
    "\n",
    "def preprocess_text(lyrics):\n",
    "    '''\n",
    "    This function preprocesses the comments and sets them up for vectorization.\n",
    "    Input: comment string\n",
    "    Returns: A string after converting the words to lowercase, removing punctuations, and lemmatizing each word\n",
    "    '''\n",
    "    words = [word for word in tokenizer.tokenize(lyrics.lower()) if not word in stop_words]  # convert to lowercase and remove stopwords\n",
    "    clean_words = [word for word in words if len(word)>2]\n",
    "#    clean_words = [word for word in words if word not in punctuation_set] #remove puntuations\n",
    "    lemmatized_lyrics = ' '.join([lemmatizer.lemmatize(word,pos= get_wordnet_pos(word)) for word in clean_words]) ## lemmatization\n",
    "    return lemmatized_lyrics         "
   ]
  },
  {
   "cell_type": "markdown",
   "metadata": {},
   "source": [
    "- We will now apply the preprocessing function to transform the 'lyrics' column."
   ]
  },
  {
   "cell_type": "code",
   "execution_count": 165,
   "metadata": {},
   "outputs": [
    {
     "name": "stdout",
     "output_type": "stream",
     "text": [
      "Took 4055.602637052536 secs.\n"
     ]
    }
   ],
   "source": [
    "start = time.time()\n",
    "data['lyrics'] = data['lyrics'].apply(lambda lyrics: preprocess_text(lyrics))\n",
    "print('Took {} secs.'.format(time.time() - start))"
   ]
  },
  {
   "cell_type": "markdown",
   "metadata": {},
   "source": [
    "- Only keep those lyrics which contain at least twenty words."
   ]
  },
  {
   "cell_type": "code",
   "execution_count": 166,
   "metadata": {},
   "outputs": [],
   "source": [
    "data = data.loc[data['lyrics'].apply(lambda words: len(words.split()))>20, :].reset_index(drop=True)"
   ]
  },
  {
   "cell_type": "code",
   "execution_count": 167,
   "metadata": {},
   "outputs": [],
   "source": [
    "data.to_pickle(\"preprocessed_data.pkl\")\n",
    "#data = pd.read_pickle(\"preprocessed_data.pkl\")"
   ]
  },
  {
   "cell_type": "code",
   "execution_count": 150,
   "metadata": {},
   "outputs": [
    {
     "data": {
      "text/plain": [
       "0    baby know gonna cut right chase woman make lik...\n",
       "1    playin everything easy like seem sure still wa...\n",
       "2    search tenderness hard find love need live loo...\n",
       "3    verse write book stand title book would life s...\n",
       "4    party people people party pop sit around see l...\n",
       "5    heard church bell ring heard choir sing saw lo...\n",
       "6    another day would spend waitin right one star ...\n",
       "7    wait wait wait wait wait wait wait wait wait w...\n",
       "8    verse read magazine wait around say wait see g...\n",
       "9    honey well sit look around cause must bumped h...\n",
       "Name: lyrics, dtype: object"
      ]
     },
     "execution_count": 150,
     "metadata": {},
     "output_type": "execute_result"
    }
   ],
   "source": [
    "# Take a peek in to the cleaned lyrics column\n",
    "clean_lyrics = data['lyrics']\n",
    "clean_lyrics.head(10)"
   ]
  },
  {
   "cell_type": "markdown",
   "metadata": {},
   "source": [
    "## Topic modelling with Latent Dirichlet Allocation (LDA)\n",
    "- The purpose of this section is to see if the unsupervised algorithm can separate up the genres based on the lyrics alone. That would be super cool! Let's find out."
   ]
  },
  {
   "cell_type": "code",
   "execution_count": 151,
   "metadata": {},
   "outputs": [
    {
     "name": "stderr",
     "output_type": "stream",
     "text": [
      "/Users/debashis/anaconda3/lib/python3.6/site-packages/smart_open/smart_open_lib.py:398: UserWarning: This function is deprecated, use smart_open.open instead. See the migration notes for details: https://github.com/RaRe-Technologies/smart_open/blob/master/README.rst#migrating-to-the-new-open-function\n",
      "  'See the migration notes for details: %s' % _MIGRATION_NOTES_URL\n"
     ]
    }
   ],
   "source": [
    "tokenized_clean_lyrics = [word_tokenize(doc) for doc in clean_lyrics]\n",
    "gensim_dict = Dictionary(tokenized_clean_lyrics)\n",
    "gensim_dict.save('dictionary.dict')"
   ]
  },
  {
   "cell_type": "code",
   "execution_count": 152,
   "metadata": {},
   "outputs": [],
   "source": [
    "#Now convert each document into the bag-of-words (BoW) format = list of (token_id, token_count).\n",
    "corpus = [gensim_dict.doc2bow(doc) for doc in tokenized_clean_lyrics]\n",
    "gensim.corpora.MmCorpus.serialize('corpus.mm', corpus)"
   ]
  },
  {
   "cell_type": "markdown",
   "metadata": {},
   "source": [
    "#### LDA with count features\n",
    "- We will create a LDA model with 10 topics (ambitious attempt). Why 10? Because there are 10 different genres in the dataset."
   ]
  },
  {
   "cell_type": "code",
   "execution_count": 155,
   "metadata": {},
   "outputs": [
    {
     "name": "stdout",
     "output_type": "stream",
     "text": [
      "3.568079650402069 mins\n"
     ]
    }
   ],
   "source": [
    "num_topics=10\n",
    "start = time.time()\n",
    "lda = LdaModel(corpus, id2word=gensim_dict, num_topics=num_topics, chunksize=10000)\n",
    "lda.save('lda_10_topics.ldamodel')\n",
    "print((time.time() - start)/60, 'mins')"
   ]
  },
  {
   "cell_type": "code",
   "execution_count": 205,
   "metadata": {},
   "outputs": [],
   "source": [
    "def show_topics(model,num_topics=10):\n",
    "    ''' Input: LDA model, number of topics to display (default=5).\n",
    "    Output: dataframe with topics as columns\n",
    "    '''\n",
    "    topics = {}\n",
    "    for i in range(num_topics):\n",
    "        topics[i] = [tup[0] for tup in model.show_topic(i)]\n",
    "    topics_lda_df = pd.DataFrame(data=topics)\n",
    "    columns= ['Topic '+str(i+1) for i in range(num_topics)]\n",
    "    topics_lda_df.columns = columns\n",
    "    return topics_lda_df"
   ]
  },
  {
   "cell_type": "code",
   "execution_count": 206,
   "metadata": {},
   "outputs": [
    {
     "data": {
      "text/html": [
       "<div>\n",
       "<style scoped>\n",
       "    .dataframe tbody tr th:only-of-type {\n",
       "        vertical-align: middle;\n",
       "    }\n",
       "\n",
       "    .dataframe tbody tr th {\n",
       "        vertical-align: top;\n",
       "    }\n",
       "\n",
       "    .dataframe thead th {\n",
       "        text-align: right;\n",
       "    }\n",
       "</style>\n",
       "<table border=\"1\" class=\"dataframe\">\n",
       "  <thead>\n",
       "    <tr style=\"text-align: right;\">\n",
       "      <th></th>\n",
       "      <th>Topic 1</th>\n",
       "      <th>Topic 2</th>\n",
       "      <th>Topic 3</th>\n",
       "      <th>Topic 4</th>\n",
       "      <th>Topic 5</th>\n",
       "      <th>Topic 6</th>\n",
       "      <th>Topic 7</th>\n",
       "      <th>Topic 8</th>\n",
       "      <th>Topic 9</th>\n",
       "      <th>Topic 10</th>\n",
       "    </tr>\n",
       "  </thead>\n",
       "  <tbody>\n",
       "    <tr>\n",
       "      <th>0</th>\n",
       "      <td>take</td>\n",
       "      <td>like</td>\n",
       "      <td>love</td>\n",
       "      <td>come</td>\n",
       "      <td>god</td>\n",
       "      <td>know</td>\n",
       "      <td>come</td>\n",
       "      <td>get</td>\n",
       "      <td>get</td>\n",
       "      <td>let</td>\n",
       "    </tr>\n",
       "    <tr>\n",
       "      <th>1</th>\n",
       "      <td>never</td>\n",
       "      <td>christmas</td>\n",
       "      <td>baby</td>\n",
       "      <td>time</td>\n",
       "      <td>life</td>\n",
       "      <td>say</td>\n",
       "      <td>rock</td>\n",
       "      <td>na</td>\n",
       "      <td>like</td>\n",
       "      <td>go</td>\n",
       "    </tr>\n",
       "    <tr>\n",
       "      <th>2</th>\n",
       "      <td>life</td>\n",
       "      <td>day</td>\n",
       "      <td>heart</td>\n",
       "      <td>day</td>\n",
       "      <td>blood</td>\n",
       "      <td>get</td>\n",
       "      <td>back</td>\n",
       "      <td>want</td>\n",
       "      <td>nigga</td>\n",
       "      <td>round</td>\n",
       "    </tr>\n",
       "    <tr>\n",
       "      <th>3</th>\n",
       "      <td>world</td>\n",
       "      <td>say</td>\n",
       "      <td>like</td>\n",
       "      <td>see</td>\n",
       "      <td>see</td>\n",
       "      <td>yeah</td>\n",
       "      <td>roll</td>\n",
       "      <td>gon</td>\n",
       "      <td>fuck</td>\n",
       "      <td>home</td>\n",
       "    </tr>\n",
       "    <tr>\n",
       "      <th>4</th>\n",
       "      <td>one</td>\n",
       "      <td>new</td>\n",
       "      <td>feel</td>\n",
       "      <td>away</td>\n",
       "      <td>eye</td>\n",
       "      <td>one</td>\n",
       "      <td>like</td>\n",
       "      <td>let</td>\n",
       "      <td>shit</td>\n",
       "      <td>get</td>\n",
       "    </tr>\n",
       "    <tr>\n",
       "      <th>5</th>\n",
       "      <td>time</td>\n",
       "      <td>hello</td>\n",
       "      <td>give</td>\n",
       "      <td>night</td>\n",
       "      <td>lie</td>\n",
       "      <td>well</td>\n",
       "      <td>well</td>\n",
       "      <td>know</td>\n",
       "      <td>bitch</td>\n",
       "      <td>lord</td>\n",
       "    </tr>\n",
       "    <tr>\n",
       "      <th>6</th>\n",
       "      <td>away</td>\n",
       "      <td>thank</td>\n",
       "      <td>make</td>\n",
       "      <td>dream</td>\n",
       "      <td>death</td>\n",
       "      <td>love</td>\n",
       "      <td>big</td>\n",
       "      <td>girl</td>\n",
       "      <td>cause</td>\n",
       "      <td>old</td>\n",
       "    </tr>\n",
       "    <tr>\n",
       "      <th>7</th>\n",
       "      <td>make</td>\n",
       "      <td>year</td>\n",
       "      <td>never</td>\n",
       "      <td>know</td>\n",
       "      <td>dead</td>\n",
       "      <td>good</td>\n",
       "      <td>town</td>\n",
       "      <td>wan</td>\n",
       "      <td>know</td>\n",
       "      <td>jesus</td>\n",
       "    </tr>\n",
       "    <tr>\n",
       "      <th>8</th>\n",
       "      <td>live</td>\n",
       "      <td>radio</td>\n",
       "      <td>na</td>\n",
       "      <td>go</td>\n",
       "      <td>soul</td>\n",
       "      <td>time</td>\n",
       "      <td>old</td>\n",
       "      <td>take</td>\n",
       "      <td>money</td>\n",
       "      <td>right</td>\n",
       "    </tr>\n",
       "    <tr>\n",
       "      <th>9</th>\n",
       "      <td>see</td>\n",
       "      <td>two</td>\n",
       "      <td>know</td>\n",
       "      <td>light</td>\n",
       "      <td>pain</td>\n",
       "      <td>thing</td>\n",
       "      <td>little</td>\n",
       "      <td>make</td>\n",
       "      <td>see</td>\n",
       "      <td>sing</td>\n",
       "    </tr>\n",
       "  </tbody>\n",
       "</table>\n",
       "</div>"
      ],
      "text/plain": [
       "  Topic 1    Topic 2 Topic 3 Topic 4 Topic 5 Topic 6 Topic 7 Topic 8 Topic 9  \\\n",
       "0    take       like    love    come     god    know    come     get     get   \n",
       "1   never  christmas    baby    time    life     say    rock      na    like   \n",
       "2    life        day   heart     day   blood     get    back    want   nigga   \n",
       "3   world        say    like     see     see    yeah    roll     gon    fuck   \n",
       "4     one        new    feel    away     eye     one    like     let    shit   \n",
       "5    time      hello    give   night     lie    well    well    know   bitch   \n",
       "6    away      thank    make   dream   death    love     big    girl   cause   \n",
       "7    make       year   never    know    dead    good    town     wan    know   \n",
       "8    live      radio      na      go    soul    time     old    take   money   \n",
       "9     see        two    know   light    pain   thing  little    make     see   \n",
       "\n",
       "  Topic 10  \n",
       "0      let  \n",
       "1       go  \n",
       "2    round  \n",
       "3     home  \n",
       "4      get  \n",
       "5     lord  \n",
       "6      old  \n",
       "7    jesus  \n",
       "8    right  \n",
       "9     sing  "
      ]
     },
     "execution_count": 206,
     "metadata": {},
     "output_type": "execute_result"
    }
   ],
   "source": [
    "show_topics(lda,10)"
   ]
  },
  {
   "cell_type": "markdown",
   "metadata": {},
   "source": [
    "### LDA with tf-idf features "
   ]
  },
  {
   "cell_type": "code",
   "execution_count": 153,
   "metadata": {},
   "outputs": [],
   "source": [
    "from gensim import models\n",
    "tfidf = models.TfidfModel(corpus)  # This is basically the tf-idf vectorizer for gensim\n",
    "corpus_tfidf = tfidf[corpus]"
   ]
  },
  {
   "cell_type": "code",
   "execution_count": 156,
   "metadata": {},
   "outputs": [
    {
     "name": "stdout",
     "output_type": "stream",
     "text": [
      "3.379238013426463 mins\n"
     ]
    }
   ],
   "source": [
    "num_topics=10\n",
    "start = time.time()\n",
    "lda_tfidf = LdaModel(corpus_tfidf, id2word=gensim_dict, num_topics=num_topics, chunksize=2000)\n",
    "#lda_tfidf.save('lda_10_topics.ldamodel')\n",
    "print((time.time() - start)/60, 'mins')"
   ]
  },
  {
   "cell_type": "code",
   "execution_count": 158,
   "metadata": {},
   "outputs": [
    {
     "data": {
      "text/html": [
       "<div>\n",
       "<style scoped>\n",
       "    .dataframe tbody tr th:only-of-type {\n",
       "        vertical-align: middle;\n",
       "    }\n",
       "\n",
       "    .dataframe tbody tr th {\n",
       "        vertical-align: top;\n",
       "    }\n",
       "\n",
       "    .dataframe thead th {\n",
       "        text-align: right;\n",
       "    }\n",
       "</style>\n",
       "<table border=\"1\" class=\"dataframe\">\n",
       "  <thead>\n",
       "    <tr style=\"text-align: right;\">\n",
       "      <th></th>\n",
       "      <th>Topic 1</th>\n",
       "      <th>Topic 2</th>\n",
       "      <th>Topic 3</th>\n",
       "      <th>Topic 4</th>\n",
       "      <th>Topic 5</th>\n",
       "      <th>Topic 6</th>\n",
       "      <th>Topic 7</th>\n",
       "      <th>Topic 8</th>\n",
       "      <th>Topic 9</th>\n",
       "      <th>Topic 10</th>\n",
       "    </tr>\n",
       "  </thead>\n",
       "  <tbody>\n",
       "    <tr>\n",
       "      <th>0</th>\n",
       "      <td>saxophone</td>\n",
       "      <td>get</td>\n",
       "      <td>cowboy</td>\n",
       "      <td>christmas</td>\n",
       "      <td>love</td>\n",
       "      <td>doo</td>\n",
       "      <td>blinding</td>\n",
       "      <td>realise</td>\n",
       "      <td>lonesome</td>\n",
       "      <td>nigga</td>\n",
       "    </tr>\n",
       "    <tr>\n",
       "      <th>1</th>\n",
       "      <td>instrumental</td>\n",
       "      <td>na</td>\n",
       "      <td>sympathy</td>\n",
       "      <td>merry</td>\n",
       "      <td>know</td>\n",
       "      <td>girlfriend</td>\n",
       "      <td>frustrate</td>\n",
       "      <td>forgiveness</td>\n",
       "      <td>anywhere</td>\n",
       "      <td>shit</td>\n",
       "    </tr>\n",
       "    <tr>\n",
       "      <th>2</th>\n",
       "      <td>marry</td>\n",
       "      <td>yeah</td>\n",
       "      <td>jeff</td>\n",
       "      <td>santa</td>\n",
       "      <td>want</td>\n",
       "      <td>keyboard</td>\n",
       "      <td>confession</td>\n",
       "      <td>awaits</td>\n",
       "      <td>goodnight</td>\n",
       "      <td>fuck</td>\n",
       "    </tr>\n",
       "    <tr>\n",
       "      <th>3</th>\n",
       "      <td>hurtin</td>\n",
       "      <td>girl</td>\n",
       "      <td>thirty</td>\n",
       "      <td>sunset</td>\n",
       "      <td>never</td>\n",
       "      <td>animal</td>\n",
       "      <td>hometown</td>\n",
       "      <td>cloudy</td>\n",
       "      <td>sweetheart</td>\n",
       "      <td>bitch</td>\n",
       "    </tr>\n",
       "    <tr>\n",
       "      <th>4</th>\n",
       "      <td>paralyze</td>\n",
       "      <td>baby</td>\n",
       "      <td>andre</td>\n",
       "      <td>chaos</td>\n",
       "      <td>time</td>\n",
       "      <td>arrive</td>\n",
       "      <td>forgiven</td>\n",
       "      <td>blossom</td>\n",
       "      <td>lifetime</td>\n",
       "      <td>as</td>\n",
       "    </tr>\n",
       "    <tr>\n",
       "      <th>5</th>\n",
       "      <td>georgia</td>\n",
       "      <td>like</td>\n",
       "      <td>medicine</td>\n",
       "      <td>inspiration</td>\n",
       "      <td>say</td>\n",
       "      <td>bobby</td>\n",
       "      <td>sha</td>\n",
       "      <td>believer</td>\n",
       "      <td>sunrise</td>\n",
       "      <td>rap</td>\n",
       "    </tr>\n",
       "    <tr>\n",
       "      <th>6</th>\n",
       "      <td>trumpet</td>\n",
       "      <td>gon</td>\n",
       "      <td>underwood</td>\n",
       "      <td>december</td>\n",
       "      <td>feel</td>\n",
       "      <td>surprised</td>\n",
       "      <td>disappoint</td>\n",
       "      <td>violin</td>\n",
       "      <td>satisfied</td>\n",
       "      <td>wit</td>\n",
       "    </tr>\n",
       "    <tr>\n",
       "      <th>7</th>\n",
       "      <td>raven</td>\n",
       "      <td>rock</td>\n",
       "      <td>lawn</td>\n",
       "      <td>boogie</td>\n",
       "      <td>one</td>\n",
       "      <td>coffee</td>\n",
       "      <td>rear</td>\n",
       "      <td>reckless</td>\n",
       "      <td>farewell</td>\n",
       "      <td>verse</td>\n",
       "    </tr>\n",
       "    <tr>\n",
       "      <th>8</th>\n",
       "      <td>eminem</td>\n",
       "      <td>wan</td>\n",
       "      <td>dum</td>\n",
       "      <td>reel</td>\n",
       "      <td>away</td>\n",
       "      <td>wisdom</td>\n",
       "      <td>identity</td>\n",
       "      <td>goddess</td>\n",
       "      <td>divine</td>\n",
       "      <td>fuckin</td>\n",
       "    </tr>\n",
       "    <tr>\n",
       "      <th>9</th>\n",
       "      <td>term</td>\n",
       "      <td>hey</td>\n",
       "      <td>strive</td>\n",
       "      <td>symphony</td>\n",
       "      <td>heart</td>\n",
       "      <td>bop</td>\n",
       "      <td>mum</td>\n",
       "      <td>robot</td>\n",
       "      <td>parade</td>\n",
       "      <td>like</td>\n",
       "    </tr>\n",
       "  </tbody>\n",
       "</table>\n",
       "</div>"
      ],
      "text/plain": [
       "        Topic 1 Topic 2    Topic 3      Topic 4 Topic 5     Topic 6  \\\n",
       "0     saxophone     get     cowboy    christmas    love         doo   \n",
       "1  instrumental      na   sympathy        merry    know  girlfriend   \n",
       "2         marry    yeah       jeff        santa    want    keyboard   \n",
       "3        hurtin    girl     thirty       sunset   never      animal   \n",
       "4      paralyze    baby      andre        chaos    time      arrive   \n",
       "5       georgia    like   medicine  inspiration     say       bobby   \n",
       "6       trumpet     gon  underwood     december    feel   surprised   \n",
       "7         raven    rock       lawn       boogie     one      coffee   \n",
       "8        eminem     wan        dum         reel    away      wisdom   \n",
       "9          term     hey     strive     symphony   heart         bop   \n",
       "\n",
       "      Topic 7      Topic 8     Topic 9 Topic 10  \n",
       "0    blinding      realise    lonesome    nigga  \n",
       "1   frustrate  forgiveness    anywhere     shit  \n",
       "2  confession       awaits   goodnight     fuck  \n",
       "3    hometown       cloudy  sweetheart    bitch  \n",
       "4    forgiven      blossom    lifetime       as  \n",
       "5         sha     believer     sunrise      rap  \n",
       "6  disappoint       violin   satisfied      wit  \n",
       "7        rear     reckless    farewell    verse  \n",
       "8    identity      goddess      divine   fuckin  \n",
       "9         mum        robot      parade     like  "
      ]
     },
     "execution_count": 158,
     "metadata": {},
     "output_type": "execute_result"
    }
   ],
   "source": [
    "show_topics(lda_tfidf,num_topics=10)"
   ]
  },
  {
   "cell_type": "markdown",
   "metadata": {},
   "source": [
    "** Can you interpret the topics here?**\n",
    "- Topic 2 sure looks like words out of a Hip-hop song. \n",
    "- Topic 1 contains words I'd rather associate with metal/death metal lyrics. \n",
    "- Topic 8 resembles pop lyrics (loosely).\n",
    "- Topic 4 is Country.\n"
   ]
  },
  {
   "cell_type": "code",
   "execution_count": 169,
   "metadata": {},
   "outputs": [
    {
     "data": {
      "image/png": "[encoded data removed]",
      "text/plain": [
       "<Figure size 1080x2304 with 10 Axes>"
      ]
     },
     "metadata": {
      "needs_background": "light"
     },
     "output_type": "display_data"
    }
   ],
   "source": [
    "fig=plt.figure(figsize=(15,32))\n",
    "for i in range(num_topics):\n",
    "    df=pd.DataFrame(lda.show_topic(i), columns=['term','prob']).set_index('term')    \n",
    "    plt.subplot(5,2,i+1)\n",
    "    plt.title('topic '+str(i+1))\n",
    "    sns.barplot(x='prob', y=df.index, data=df)\n",
    "    plt.xlabel('probability')\n",
    "    plt.ylabel('Topic term')"
   ]
  },
  {
   "cell_type": "markdown",
   "metadata": {},
   "source": [
    "### LDA visualisation with `pyLDAvis`\n",
    "- LDAvis is a cool application to visualise the LDA topics and the inter-topic distances. It represents the topics as blobs on the first two principal components."
   ]
  },
  {
   "cell_type": "code",
   "execution_count": 140,
   "metadata": {},
   "outputs": [],
   "source": [
    "import pyLDAvis\n",
    "pyLDAvis.enable_notebook()\n",
    "import pyLDAvis.gensim"
   ]
  },
  {
   "cell_type": "code",
   "execution_count": 141,
   "metadata": {},
   "outputs": [
    {
     "name": "stderr",
     "output_type": "stream",
     "text": [
      "/Users/debashis/anaconda3/lib/python3.6/site-packages/pyLDAvis/_prepare.py:257: FutureWarning: Sorting because non-concatenation axis is not aligned. A future version\n",
      "of pandas will change to not sort by default.\n",
      "\n",
      "To accept the future behavior, pass 'sort=False'.\n",
      "\n",
      "To retain the current behavior and silence the warning, pass 'sort=True'.\n",
      "\n",
      "  return pd.concat([default_term_info] + list(topic_dfs))\n"
     ]
    },
    {
     "name": "stdout",
     "output_type": "stream",
     "text": [
      "3.172516740295622 hrs\n"
     ]
    }
   ],
   "source": [
    "start = time.time()\n",
    "lda_display = pyLDAvis.gensim.prepare(lda, corpus, gensim_dict)\n",
    "end = time.time()\n",
    "print((end-start)/3600,'hrs')"
   ]
  },
  {
   "cell_type": "code",
   "execution_count": 143,
   "metadata": {},
   "outputs": [
    {
     "data": {
      "text/html": [
       "\n",
       "<link rel=\"stylesheet\" type=\"text/css\" href=\"https://cdn.rawgit.com/bmabey/pyLDAvis/files/ldavis.v1.0.0.css\">\n",
       "\n",
       "\n",
       "<div id=\"ldavis_el902381508599312246783818503\"></div>\n",
       "<script type=\"text/javascript\">\n",
       "\n",
       "var ldavis_el902381508599312246783818503_data = {\"mdsDat\": {\"x\": [-0.08017714344527198, -0.1633002806287531, -0.011135646177126564, 0.1597776500100146, -0.18922509836868437, -0.06921727396176003, 0.05222974703404616, 0.21479443222150527, 0.06918561258667871, 0.0170680007293515], \"y\": [-0.10052452774461972, -0.015966969793485344, -0.15821453677724379, 0.020327685164005502, 0.1657699257090599, -0.03211824417347503, 0.18603948469438483, 0.052036230624741706, -0.10405680180300503, -0.013292245900362957], \"topics\": [1, 2, 3, 4, 5, 6, 7, 8, 9, 10], \"cluster\": [1, 1, 1, 1, 1, 1, 1, 1, 1, 1], \"Freq\": [15.781993865966797, 15.01112174987793, 14.683759689331055, 13.198179244995117, 9.46950912475586, 7.83928108215332, 7.808902740478516, 7.46681022644043, 5.0311279296875, 3.709318161010742]}, \"tinfo\": {\"Category\": [\"Default\", \"Default\", \"Default\", \"Default\", \"Default\", \"Default\", \"Default\", \"Default\", \"Default\", \"Default\", \"Default\", \"Default\", \"Default\", \"Default\", \"Default\", \"Default\", \"Default\", \"Default\", \"Default\", \"Default\", \"Default\", \"Default\", \"Default\", \"Default\", \"Default\", \"Default\", \"Default\", \"Default\", \"Default\", \"Default\", \"Topic1\", \"Topic1\", \"Topic1\", \"Topic1\", \"Topic1\", \"Topic1\", \"Topic1\", \"Topic1\", \"Topic1\", \"Topic1\", \"Topic1\", \"Topic1\", \"Topic1\", \"Topic1\", \"Topic1\", \"Topic1\", \"Topic1\", \"Topic1\", \"Topic1\", \"Topic1\", \"Topic1\", \"Topic1\", \"Topic1\", \"Topic1\", \"Topic1\", \"Topic1\", \"Topic1\", \"Topic1\", \"Topic1\", \"Topic1\", \"Topic1\", \"Topic1\", \"Topic1\", \"Topic1\", \"Topic1\", \"Topic1\", \"Topic1\", \"Topic1\", \"Topic1\", \"Topic1\", \"Topic1\", \"Topic1\", \"Topic1\", \"Topic1\", \"Topic1\", \"Topic1\", \"Topic1\", \"Topic1\", \"Topic1\", \"Topic1\", \"Topic1\", \"Topic1\", \"Topic1\", \"Topic1\", \"Topic1\", \"Topic1\", \"Topic1\", \"Topic1\", \"Topic1\", \"Topic1\", \"Topic1\", \"Topic1\", \"Topic1\", \"Topic1\", \"Topic1\", \"Topic1\", \"Topic1\", \"Topic1\", \"Topic1\", \"Topic1\", \"Topic1\", \"Topic1\", \"Topic1\", \"Topic1\", \"Topic1\", \"Topic1\", \"Topic1\", \"Topic1\", \"Topic1\", \"Topic1\", \"Topic1\", \"Topic1\", \"Topic1\", \"Topic1\", \"Topic1\", \"Topic1\", \"Topic1\", \"Topic1\", \"Topic2\", \"Topic2\", \"Topic2\", \"Topic2\", \"Topic2\", \"Topic2\", \"Topic2\", \"Topic2\", \"Topic2\", \"Topic2\", \"Topic2\", \"Topic2\", \"Topic2\", \"Topic2\", \"Topic2\", \"Topic2\", \"Topic2\", \"Topic2\", \"Topic2\", \"Topic2\", \"Topic2\", \"Topic2\", \"Topic2\", \"Topic2\", \"Topic2\", \"Topic2\", \"Topic2\", \"Topic2\", \"Topic2\", \"Topic2\", \"Topic2\", \"Topic2\", \"Topic2\", \"Topic2\", \"Topic2\", \"Topic2\", \"Topic2\", \"Topic2\", \"Topic2\", \"Topic2\", \"Topic2\", \"Topic2\", \"Topic2\", \"Topic2\", \"Topic2\", \"Topic2\", \"Topic2\", \"Topic2\", \"Topic2\", \"Topic2\", \"Topic2\", \"Topic2\", \"Topic2\", \"Topic2\", \"Topic2\", \"Topic2\", \"Topic2\", \"Topic2\", \"Topic2\", \"Topic2\", \"Topic2\", \"Topic2\", \"Topic2\", \"Topic2\", \"Topic2\", \"Topic2\", \"Topic2\", \"Topic2\", \"Topic2\", \"Topic2\", \"Topic2\", \"Topic2\", \"Topic2\", \"Topic2\", \"Topic2\", \"Topic2\", \"Topic2\", \"Topic2\", \"Topic2\", \"Topic2\", \"Topic2\", \"Topic2\", \"Topic2\", \"Topic2\", \"Topic2\", \"Topic2\", \"Topic2\", \"Topic2\", \"Topic2\", \"Topic2\", \"Topic2\", \"Topic2\", \"Topic2\", \"Topic2\", \"Topic3\", \"Topic3\", \"Topic3\", \"Topic3\", \"Topic3\", \"Topic3\", \"Topic3\", \"Topic3\", \"Topic3\", \"Topic3\", \"Topic3\", \"Topic3\", \"Topic3\", \"Topic3\", \"Topic3\", \"Topic3\", \"Topic3\", \"Topic3\", \"Topic3\", \"Topic3\", \"Topic3\", \"Topic3\", \"Topic3\", \"Topic3\", \"Topic3\", \"Topic3\", \"Topic3\", \"Topic3\", \"Topic3\", \"Topic3\", \"Topic3\", \"Topic3\", \"Topic3\", \"Topic3\", \"Topic3\", \"Topic3\", \"Topic3\", \"Topic3\", \"Topic3\", \"Topic3\", \"Topic3\", \"Topic3\", \"Topic3\", \"Topic3\", \"Topic3\", \"Topic3\", \"Topic3\", \"Topic3\", \"Topic3\", \"Topic3\", \"Topic3\", \"Topic3\", \"Topic3\", \"Topic3\", \"Topic3\", \"Topic3\", \"Topic3\", \"Topic3\", \"Topic3\", \"Topic3\", \"Topic3\", \"Topic3\", \"Topic3\", \"Topic3\", \"Topic3\", \"Topic3\", \"Topic3\", \"Topic3\", \"Topic3\", \"Topic3\", \"Topic3\", \"Topic3\", \"Topic3\", \"Topic3\", \"Topic3\", \"Topic3\", \"Topic3\", \"Topic3\", \"Topic3\", \"Topic3\", \"Topic3\", \"Topic3\", \"Topic3\", \"Topic4\", \"Topic4\", \"Topic4\", \"Topic4\", \"Topic4\", \"Topic4\", \"Topic4\", \"Topic4\", \"Topic4\", \"Topic4\", \"Topic4\", \"Topic4\", \"Topic4\", \"Topic4\", \"Topic4\", \"Topic4\", \"Topic4\", \"Topic4\", \"Topic4\", \"Topic4\", \"Topic4\", \"Topic4\", \"Topic4\", \"Topic4\", \"Topic4\", \"Topic4\", \"Topic4\", \"Topic4\", \"Topic4\", \"Topic4\", \"Topic4\", \"Topic4\", \"Topic4\", \"Topic4\", \"Topic4\", \"Topic4\", \"Topic4\", \"Topic4\", \"Topic4\", \"Topic4\", \"Topic4\", \"Topic4\", \"Topic4\", \"Topic4\", \"Topic4\", \"Topic4\", \"Topic4\", \"Topic4\", \"Topic4\", \"Topic4\", \"Topic4\", \"Topic4\", \"Topic4\", \"Topic4\", \"Topic4\", \"Topic4\", \"Topic4\", \"Topic4\", \"Topic4\", \"Topic4\", \"Topic4\", \"Topic4\", \"Topic4\", \"Topic4\", \"Topic4\", \"Topic4\", \"Topic4\", \"Topic4\", \"Topic4\", \"Topic4\", \"Topic4\", \"Topic4\", \"Topic4\", \"Topic4\", \"Topic4\", \"Topic4\", \"Topic4\", \"Topic4\", \"Topic4\", \"Topic4\", \"Topic4\", \"Topic4\", \"Topic4\", \"Topic4\", \"Topic4\", \"Topic4\", \"Topic4\", \"Topic4\", \"Topic4\", \"Topic4\", \"Topic4\", \"Topic4\", \"Topic4\", \"Topic4\", \"Topic4\", \"Topic4\", \"Topic4\", \"Topic4\", \"Topic4\", \"Topic4\", \"Topic4\", \"Topic4\", \"Topic4\", \"Topic4\", \"Topic4\", \"Topic4\", \"Topic4\", \"Topic4\", \"Topic4\", \"Topic5\", \"Topic5\", \"Topic5\", \"Topic5\", \"Topic5\", \"Topic5\", \"Topic5\", \"Topic5\", \"Topic5\", \"Topic5\", \"Topic5\", \"Topic5\", \"Topic5\", \"Topic5\", \"Topic5\", \"Topic5\", \"Topic5\", \"Topic5\", \"Topic5\", \"Topic5\", \"Topic5\", \"Topic5\", \"Topic5\", \"Topic5\", \"Topic5\", \"Topic5\", \"Topic5\", \"Topic5\", \"Topic5\", \"Topic5\", \"Topic5\", \"Topic5\", \"Topic5\", \"Topic5\", \"Topic5\", \"Topic5\", \"Topic5\", \"Topic5\", \"Topic5\", \"Topic5\", \"Topic5\", \"Topic5\", \"Topic5\", \"Topic5\", \"Topic5\", \"Topic5\", \"Topic5\", \"Topic5\", \"Topic5\", \"Topic5\", \"Topic5\", \"Topic5\", \"Topic5\", \"Topic5\", \"Topic5\", \"Topic5\", \"Topic5\", \"Topic5\", \"Topic5\", \"Topic5\", \"Topic5\", \"Topic5\", \"Topic5\", \"Topic5\", \"Topic5\", \"Topic5\", \"Topic5\", \"Topic5\", \"Topic5\", \"Topic5\", \"Topic5\", \"Topic5\", \"Topic5\", \"Topic5\", \"Topic5\", \"Topic5\", \"Topic5\", \"Topic5\", \"Topic5\", \"Topic5\", \"Topic5\", \"Topic5\", \"Topic5\", \"Topic5\", \"Topic5\", \"Topic5\", \"Topic5\", \"Topic5\", \"Topic5\", \"Topic5\", \"Topic5\", \"Topic5\", \"Topic5\", \"Topic5\", \"Topic5\", \"Topic5\", \"Topic5\", \"Topic5\", \"Topic5\", \"Topic5\", \"Topic5\", \"Topic5\", \"Topic5\", \"Topic5\", \"Topic5\", \"Topic5\", \"Topic5\", \"Topic5\", \"Topic5\", \"Topic5\", \"Topic5\", \"Topic5\", \"Topic6\", \"Topic6\", \"Topic6\", \"Topic6\", \"Topic6\", \"Topic6\", \"Topic6\", \"Topic6\", \"Topic6\", \"Topic6\", \"Topic6\", \"Topic6\", \"Topic6\", \"Topic6\", \"Topic6\", \"Topic6\", \"Topic6\", \"Topic6\", \"Topic6\", \"Topic6\", \"Topic6\", \"Topic6\", \"Topic6\", \"Topic6\", \"Topic6\", \"Topic6\", \"Topic6\", \"Topic6\", \"Topic6\", \"Topic6\", \"Topic6\", \"Topic6\", \"Topic6\", \"Topic6\", \"Topic6\", \"Topic6\", \"Topic6\", \"Topic6\", \"Topic6\", \"Topic6\", \"Topic6\", \"Topic6\", \"Topic6\", \"Topic6\", \"Topic6\", \"Topic6\", \"Topic6\", \"Topic6\", \"Topic6\", \"Topic6\", \"Topic6\", \"Topic6\", \"Topic6\", \"Topic6\", \"Topic6\", \"Topic6\", \"Topic6\", \"Topic6\", \"Topic6\", \"Topic6\", \"Topic6\", \"Topic6\", \"Topic6\", \"Topic6\", \"Topic6\", \"Topic6\", \"Topic6\", \"Topic6\", \"Topic6\", \"Topic6\", \"Topic6\", \"Topic6\", \"Topic6\", \"Topic6\", \"Topic6\", \"Topic6\", \"Topic6\", \"Topic6\", \"Topic6\", \"Topic6\", \"Topic6\", \"Topic6\", \"Topic6\", \"Topic6\", \"Topic6\", \"Topic6\", \"Topic6\", \"Topic6\", \"Topic6\", \"Topic6\", \"Topic6\", \"Topic6\", \"Topic6\", \"Topic6\", \"Topic6\", \"Topic6\", \"Topic6\", \"Topic6\", \"Topic6\", \"Topic6\", \"Topic6\", \"Topic7\", \"Topic7\", \"Topic7\", \"Topic7\", \"Topic7\", \"Topic7\", \"Topic7\", \"Topic7\", \"Topic7\", \"Topic7\", \"Topic7\", \"Topic7\", \"Topic7\", \"Topic7\", \"Topic7\", \"Topic7\", \"Topic7\", \"Topic7\", \"Topic7\", \"Topic7\", \"Topic7\", \"Topic7\", \"Topic7\", \"Topic7\", \"Topic7\", \"Topic7\", \"Topic7\", \"Topic7\", \"Topic7\", \"Topic7\", \"Topic7\", \"Topic7\", \"Topic7\", \"Topic7\", \"Topic7\", \"Topic7\", \"Topic7\", \"Topic7\", \"Topic7\", \"Topic7\", \"Topic7\", \"Topic7\", \"Topic7\", \"Topic7\", \"Topic7\", \"Topic7\", \"Topic7\", \"Topic7\", \"Topic7\", \"Topic7\", \"Topic7\", \"Topic7\", \"Topic7\", \"Topic7\", \"Topic7\", \"Topic7\", \"Topic7\", \"Topic7\", \"Topic7\", \"Topic7\", \"Topic7\", \"Topic7\", \"Topic7\", \"Topic7\", \"Topic7\", \"Topic7\", \"Topic7\", \"Topic7\", \"Topic7\", \"Topic7\", \"Topic7\", \"Topic7\", \"Topic7\", \"Topic7\", \"Topic7\", \"Topic7\", \"Topic7\", \"Topic7\", \"Topic7\", \"Topic7\", \"Topic7\", \"Topic7\", \"Topic7\", \"Topic7\", \"Topic7\", \"Topic7\", \"Topic7\", \"Topic7\", \"Topic7\", \"Topic7\", \"Topic7\", \"Topic7\", \"Topic7\", \"Topic7\", \"Topic7\", \"Topic7\", \"Topic7\", \"Topic7\", \"Topic7\", \"Topic7\", \"Topic7\", \"Topic7\", \"Topic7\", \"Topic7\", \"Topic7\", \"Topic7\", \"Topic7\", \"Topic7\", \"Topic7\", \"Topic7\", \"Topic7\", \"Topic7\", \"Topic8\", \"Topic8\", \"Topic8\", \"Topic8\", \"Topic8\", \"Topic8\", \"Topic8\", \"Topic8\", \"Topic8\", \"Topic8\", \"Topic8\", \"Topic8\", \"Topic8\", \"Topic8\", \"Topic8\", \"Topic8\", \"Topic8\", \"Topic8\", \"Topic8\", \"Topic8\", \"Topic8\", \"Topic8\", \"Topic8\", \"Topic8\", \"Topic8\", \"Topic8\", \"Topic8\", \"Topic8\", \"Topic8\", \"Topic8\", \"Topic8\", \"Topic8\", \"Topic8\", \"Topic8\", \"Topic8\", \"Topic8\", \"Topic8\", \"Topic8\", \"Topic8\", \"Topic8\", \"Topic8\", \"Topic8\", \"Topic8\", \"Topic8\", \"Topic8\", \"Topic8\", \"Topic8\", \"Topic8\", \"Topic8\", \"Topic8\", \"Topic8\", \"Topic8\", \"Topic8\", \"Topic8\", \"Topic8\", \"Topic8\", \"Topic8\", \"Topic8\", \"Topic8\", \"Topic8\", \"Topic8\", \"Topic8\", \"Topic8\", \"Topic8\", \"Topic8\", \"Topic8\", \"Topic8\", \"Topic8\", \"Topic8\", \"Topic8\", \"Topic8\", \"Topic8\", \"Topic8\", \"Topic8\", \"Topic8\", \"Topic8\", \"Topic8\", \"Topic8\", \"Topic8\", \"Topic8\", \"Topic8\", \"Topic8\", \"Topic8\", \"Topic8\", \"Topic8\", \"Topic8\", \"Topic8\", \"Topic8\", \"Topic8\", \"Topic8\", \"Topic8\", \"Topic8\", \"Topic8\", \"Topic8\", \"Topic8\", \"Topic8\", \"Topic8\", \"Topic8\", \"Topic8\", \"Topic8\", \"Topic8\", \"Topic8\", \"Topic8\", \"Topic9\", \"Topic9\", \"Topic9\", \"Topic9\", \"Topic9\", \"Topic9\", \"Topic9\", \"Topic9\", \"Topic9\", \"Topic9\", \"Topic9\", \"Topic9\", \"Topic9\", \"Topic9\", \"Topic9\", \"Topic9\", \"Topic9\", \"Topic9\", \"Topic9\", \"Topic9\", \"Topic9\", \"Topic9\", \"Topic9\", \"Topic9\", \"Topic9\", \"Topic9\", \"Topic9\", \"Topic9\", \"Topic9\", \"Topic9\", \"Topic9\", \"Topic9\", \"Topic9\", \"Topic9\", \"Topic9\", \"Topic9\", \"Topic9\", \"Topic9\", \"Topic9\", \"Topic9\", \"Topic9\", \"Topic9\", \"Topic9\", \"Topic9\", \"Topic9\", \"Topic9\", \"Topic9\", \"Topic9\", \"Topic9\", \"Topic9\", \"Topic9\", \"Topic9\", \"Topic9\", \"Topic9\", \"Topic9\", \"Topic9\", \"Topic9\", \"Topic9\", \"Topic9\", \"Topic9\", \"Topic9\", \"Topic9\", \"Topic9\", \"Topic9\", \"Topic9\", \"Topic9\", \"Topic9\", \"Topic9\", \"Topic9\", \"Topic9\", \"Topic9\", \"Topic9\", \"Topic9\", \"Topic9\", \"Topic9\", \"Topic9\", \"Topic9\", \"Topic9\", \"Topic9\", \"Topic9\", \"Topic9\", \"Topic9\", \"Topic9\", \"Topic9\", \"Topic9\", \"Topic9\", \"Topic9\", \"Topic9\", \"Topic9\", \"Topic9\", \"Topic10\", \"Topic10\", \"Topic10\", \"Topic10\", \"Topic10\", \"Topic10\", \"Topic10\", \"Topic10\", \"Topic10\", \"Topic10\", \"Topic10\", \"Topic10\", \"Topic10\", \"Topic10\", \"Topic10\", \"Topic10\", \"Topic10\", \"Topic10\", \"Topic10\", \"Topic10\", \"Topic10\", \"Topic10\", \"Topic10\", \"Topic10\", \"Topic10\", \"Topic10\", \"Topic10\", \"Topic10\", \"Topic10\", \"Topic10\", \"Topic10\", \"Topic10\", \"Topic10\", \"Topic10\", \"Topic10\", \"Topic10\", \"Topic10\", \"Topic10\", \"Topic10\", \"Topic10\", \"Topic10\", \"Topic10\", \"Topic10\", \"Topic10\", \"Topic10\", \"Topic10\", \"Topic10\", \"Topic10\", \"Topic10\", \"Topic10\", \"Topic10\", \"Topic10\", \"Topic10\", \"Topic10\", \"Topic10\", \"Topic10\", \"Topic10\", \"Topic10\", \"Topic10\", \"Topic10\", \"Topic10\", \"Topic10\", \"Topic10\", \"Topic10\", \"Topic10\", \"Topic10\", \"Topic10\", \"Topic10\", \"Topic10\", \"Topic10\", \"Topic10\", \"Topic10\", \"Topic10\", \"Topic10\", \"Topic10\", \"Topic10\", \"Topic10\", \"Topic10\", \"Topic10\", \"Topic10\", \"Topic10\", \"Topic10\", \"Topic10\", \"Topic10\", \"Topic10\", \"Topic10\", \"Topic10\", \"Topic10\", \"Topic10\", \"Topic10\", \"Topic10\", \"Topic10\", \"Topic10\", \"Topic10\", \"Topic10\"], \"Freq\": [130542.0, 316317.0, 431247.0, 166136.0, 120338.0, 91489.0, 69902.0, 103890.0, 213457.0, 67598.0, 169759.0, 74668.0, 58502.0, 56813.0, 47880.0, 316058.0, 28947.0, 39479.0, 110057.0, 34855.0, 30481.0, 297540.0, 86739.0, 205248.0, 101409.0, 119537.0, 27491.0, 41831.0, 53170.0, 101919.0, 297.05499267578125, 288.2783203125, 263.7527770996094, 224.36904907226562, 180.48037719726562, 175.3329315185547, 158.89157104492188, 124.34888458251953, 124.28182220458984, 113.35543060302734, 151.16082763671875, 102.19841003417969, 404.793701171875, 102.96414184570312, 144.82244873046875, 89.30010223388672, 88.2975082397461, 82.47567749023438, 73.42276763916016, 74.73177337646484, 70.0014877319336, 67.19182586669922, 66.24983978271484, 65.9972152709961, 76.94306945800781, 65.16747283935547, 63.36170959472656, 62.15922164916992, 59.545047760009766, 67.2159423828125, 314.7062683105469, 273.9325256347656, 97.75093078613281, 222667.0, 266.95916748046875, 148.2808380126953, 182.81845092773438, 18695.318359375, 11219.5302734375, 40360.82421875, 406.961669921875, 15502.3271484375, 1589.17919921875, 4614.93212890625, 17483.54296875, 2310.138916015625, 51979.03125, 17110.65625, 5132.43603515625, 30499.255859375, 5616.42724609375, 3516.28125, 27331.25, 16156.6435546875, 11230.740234375, 21302.927734375, 2815.5927734375, 18518.9609375, 81529.3984375, 18124.13671875, 47216.45703125, 16394.625, 60725.6796875, 36573.16015625, 5874.35400390625, 12487.126953125, 17815.173828125, 35461.33984375, 61174.85546875, 26387.443359375, 82205.625, 53972.20703125, 47494.93359375, 61367.91796875, 12003.33984375, 16398.08984375, 29840.791015625, 26996.0078125, 20630.595703125, 28351.380859375, 28169.09765625, 27155.158203125, 23903.853515625, 36801.6953125, 28258.0546875, 25602.55859375, 23584.673828125, 22535.060546875, 303.93206787109375, 298.72442626953125, 361.7196960449219, 202.81924438476562, 174.8262939453125, 208.91973876953125, 145.71864318847656, 148.12672424316406, 116.5673599243164, 156.77890014648438, 104.90647888183594, 169.6320037841797, 151.20738220214844, 101.87430572509766, 143.25021362304688, 102.16411590576172, 96.66156768798828, 97.05118560791016, 88.04239654541016, 80.62831115722656, 81.59306335449219, 78.79072570800781, 76.95655059814453, 76.60952758789062, 72.02831268310547, 98.29454040527344, 78.46745300292969, 71.00113677978516, 75.0518569946289, 79.84455871582031, 221.27108764648438, 83.3633804321289, 84.21682739257812, 449.0141296386719, 349.0912170410156, 121.45246887207031, 2746.737548828125, 119.46451568603516, 1168.5445556640625, 188.6046600341797, 11473.080078125, 7168.99462890625, 3432.646728515625, 4314.13623046875, 25231.990234375, 1061.6788330078125, 1223.343505859375, 56749.07421875, 8379.716796875, 2307.482421875, 6803.11328125, 8725.0146484375, 24588.322265625, 31520.482421875, 21400.650390625, 33531.81640625, 41281.15234375, 20895.017578125, 30641.60546875, 9681.810546875, 14161.328125, 9049.875, 5473.123046875, 4759.607421875, 26110.216796875, 32839.58984375, 14646.615234375, 13198.4130859375, 13444.2099609375, 23164.76953125, 11589.7490234375, 9876.1015625, 29248.103515625, 18258.216796875, 17315.73828125, 52280.140625, 43067.390625, 34796.12890625, 39178.13671875, 29115.41796875, 38406.265625, 15912.0234375, 16865.078125, 25066.548828125, 31732.080078125, 34734.1015625, 33718.28515625, 33693.37890625, 19333.125, 29534.607421875, 23197.8203125, 20608.42578125, 23477.615234375, 27528.79296875, 335.2254943847656, 250.1763153076172, 247.86830139160156, 400.88323974609375, 138.24737548828125, 133.692138671875, 131.71450805664062, 130.24798583984375, 119.19575500488281, 99.25181579589844, 97.76177215576172, 103.99597930908203, 100.49508666992188, 85.85555267333984, 83.76258850097656, 82.591796875, 75.13944244384766, 131.2668914794922, 85.37076568603516, 73.06856536865234, 66.08899688720703, 62.20272445678711, 60.916011810302734, 60.08356857299805, 58.470340728759766, 56.08002853393555, 55.90742874145508, 54.31221008300781, 54.576690673828125, 52.39968490600586, 99.58676147460938, 65.15396118164062, 113.79556274414062, 139354.359375, 60581.65234375, 336.5300598144531, 80897.7421875, 13758.076171875, 202.9966583251953, 106903.6875, 2235.8193359375, 476.086669921875, 271.9164123535156, 48592.7265625, 51269.26953125, 1159.4456787109375, 74251.3828125, 2810.04296875, 5519.43896484375, 126703.484375, 56170.62109375, 8926.0, 42810.71484375, 40212.90234375, 54655.80078125, 19083.9375, 18054.796875, 52607.046875, 20092.490234375, 20050.765625, 18563.48046875, 115602.53125, 40153.50390625, 8776.3232421875, 17467.69140625, 55890.84765625, 40359.86328125, 12792.4443359375, 42814.015625, 16466.98046875, 48092.26953125, 46112.34375, 40144.765625, 53766.546875, 24358.1171875, 35899.91015625, 26543.947265625, 38986.75390625, 23915.78515625, 29513.548828125, 26922.29296875, 24093.859375, 24200.79296875, 728.9601440429688, 405.00701904296875, 401.3365173339844, 417.8128356933594, 249.02609252929688, 462.2773742675781, 552.4649658203125, 255.25416564941406, 228.55984497070312, 200.00286865234375, 354.79412841796875, 227.85079956054688, 179.23513793945312, 185.11016845703125, 170.44537353515625, 199.1490936279297, 211.70394897460938, 156.65594482421875, 142.02598571777344, 147.32687377929688, 140.00637817382812, 163.3793487548828, 145.70616149902344, 135.79295349121094, 134.99468994140625, 185.28343200683594, 140.2089080810547, 131.1708984375, 137.85586547851562, 122.44029235839844, 69308.2109375, 34014.390625, 9631.013671875, 3504.34716796875, 1096.6424560546875, 1339.6241455078125, 784.55517578125, 2946.64892578125, 3810.747802734375, 749.2975463867188, 414.3641662597656, 631.48193359375, 1030.4400634765625, 312.0517883300781, 373.94854736328125, 486.97186279296875, 296.7908020019531, 271.7129211425781, 5002.6484375, 4457.35400390625, 43828.76171875, 384.8027038574219, 402.10675048828125, 9395.619140625, 5332.15478515625, 3637.276123046875, 50478.34765625, 1633.5084228515625, 1281.5430908203125, 4265.25634765625, 843.18896484375, 10995.533203125, 1382.551513671875, 1169.157470703125, 2308.98486328125, 7329.216796875, 15937.35546875, 6582.1279296875, 4731.6533203125, 27987.919921875, 2137.318603515625, 6578.841796875, 6360.474609375, 5002.85888671875, 2168.39599609375, 2162.2900390625, 3863.26611328125, 2872.40185546875, 5224.5419921875, 3423.42822265625, 3012.387451171875, 12899.568359375, 12055.396484375, 4314.8642578125, 14386.5517578125, 7134.14013671875, 108009.1875, 76725.671875, 7785.3564453125, 12728.9736328125, 13473.56640625, 15507.203125, 15434.4130859375, 41992.1171875, 25944.3671875, 13768.5751953125, 22430.56640625, 24517.150390625, 24210.677734375, 11694.13671875, 14773.212890625, 16047.068359375, 18735.4921875, 11789.7744140625, 12277.443359375, 12994.6064453125, 11905.8193359375, 11850.2529296875, 11765.830078125, 2228.95556640625, 490.1299743652344, 326.34893798828125, 290.2584533691406, 366.6673583984375, 268.32037353515625, 332.11260986328125, 311.73236083984375, 383.86175537109375, 198.91685485839844, 388.9972839355469, 203.4674530029297, 185.906982421875, 192.94366455078125, 235.02142333984375, 264.2458801269531, 329.5108337402344, 207.4530029296875, 194.05189514160156, 199.05419921875, 206.74012756347656, 142.85789489746094, 164.20156860351562, 161.33680725097656, 142.60678100585938, 136.90650939941406, 184.11048889160156, 145.29541015625, 141.58126831054688, 129.90426635742188, 2758.955078125, 1102.2379150390625, 666.6810913085938, 714.701416015625, 783.4209594726562, 339.7176818847656, 656.9063720703125, 265.1177062988281, 235.9868927001953, 224.30245971679688, 7012.0068359375, 2511.56591796875, 1173.9150390625, 680.7797241210938, 526.7499389648438, 411.4276428222656, 371.3385009765625, 5325.1259765625, 1671.607666015625, 3159.971923828125, 653.6873779296875, 883.1198120117188, 7162.10009765625, 3905.967529296875, 2649.59130859375, 975.4380493164062, 995.2113647460938, 670.805908203125, 13102.546875, 1762.507568359375, 1867.7398681640625, 967.71875, 1691.5838623046875, 845.4517211914062, 14421.859375, 3584.80078125, 1224.55859375, 7856.96044921875, 1468.0015869140625, 1336.365478515625, 20899.7734375, 4657.71240234375, 1957.8719482421875, 1613.8741455078125, 4166.65478515625, 3233.475830078125, 2738.939453125, 8058.64208984375, 11639.271484375, 5353.537109375, 15945.87109375, 9997.5048828125, 8553.67578125, 2180.470703125, 9323.5390625, 3950.446044921875, 8109.6416015625, 6553.86279296875, 4539.8388671875, 5789.2880859375, 7601.6455078125, 20999.48828125, 9310.513671875, 5204.509765625, 4308.1044921875, 6646.4228515625, 10457.6328125, 5300.30810546875, 7211.322265625, 8754.248046875, 11151.6962890625, 10577.3349609375, 14723.4599609375, 13355.2001953125, 13542.0029296875, 11915.53125, 9999.5576171875, 8119.81396484375, 8283.416015625, 8285.9375, 7040.3134765625, 7106.31298828125, 447.60040283203125, 473.6105651855469, 225.69984436035156, 176.310302734375, 175.1676483154297, 161.68136596679688, 144.1219024658203, 142.4812469482422, 133.1654815673828, 578.9078369140625, 126.03772735595703, 119.7457046508789, 120.23432159423828, 115.3369369506836, 122.26890563964844, 111.05433654785156, 108.5262451171875, 105.00433349609375, 103.95896911621094, 192.442138671875, 135.91287231445312, 99.42461395263672, 110.07038116455078, 93.47494506835938, 88.05044555664062, 95.44427490234375, 84.75914001464844, 85.76866912841797, 85.8230209350586, 83.37152099609375, 6621.654296875, 406.9020690917969, 647.0485229492188, 182.95713806152344, 196.38623046875, 286.864990234375, 141.73667907714844, 131.8908233642578, 369.7106018066406, 185.04017639160156, 534.0397338867188, 197.6553192138672, 225.29342651367188, 9199.9990234375, 645.0524291992188, 1210.323486328125, 318.195556640625, 170.14111328125, 22072.359375, 6796.5615234375, 3903.78125, 560.009521484375, 1869.703125, 414.5599060058594, 2124.616943359375, 2274.5283203125, 18238.029296875, 5256.40576171875, 5566.8642578125, 886.0130004882812, 560.73046875, 591.6786499023438, 14315.51953125, 8589.26953125, 597.8873291015625, 8049.44775390625, 5984.029296875, 8867.9365234375, 4556.78076171875, 3807.319580078125, 9026.5732421875, 23542.23828125, 13991.548828125, 5909.2021484375, 3900.06494140625, 24458.75, 2907.602294921875, 35935.64453125, 14705.7841796875, 18304.306640625, 9973.1953125, 15321.6923828125, 7317.35986328125, 22281.76171875, 25692.52734375, 32356.755859375, 20036.435546875, 11005.216796875, 14319.9443359375, 10196.275390625, 23842.919921875, 13269.9482421875, 18200.41015625, 10701.3056640625, 14257.373046875, 13610.2998046875, 10743.3759765625, 12520.490234375, 11416.5615234375, 9465.66796875, 9480.5634765625, 501.60430908203125, 343.2415771484375, 341.42132568359375, 243.1378631591797, 261.0162353515625, 215.46612548828125, 206.35630798339844, 200.01644897460938, 179.4957733154297, 173.2780303955078, 321.404052734375, 165.40216064453125, 156.67373657226562, 140.0779571533203, 154.91746520996094, 142.09536743164062, 156.00320434570312, 151.71568298339844, 127.17378997802734, 125.18475341796875, 142.67333984375, 195.57778930664062, 132.3943328857422, 112.24995422363281, 114.71448516845703, 148.24185180664062, 139.60191345214844, 109.10055541992188, 100.3906021118164, 102.07667541503906, 339.2550964355469, 1694.5987548828125, 229.8358917236328, 228.20770263671875, 225.4813690185547, 225.8705291748047, 186.4533233642578, 174.25039672851562, 2172.0634765625, 415.3779602050781, 191.75164794921875, 437.811279296875, 401.78741455078125, 187.63966369628906, 700.3130493164062, 355.91290283203125, 1523.5670166015625, 781.0665893554688, 346.83697509765625, 2307.95751953125, 920.7800903320312, 294.9485168457031, 224.0276336669922, 1164.34765625, 3677.02392578125, 328.7591857910156, 1113.75634765625, 9062.17578125, 3257.1923828125, 1141.127197265625, 3143.1787109375, 555.6746215820312, 2190.240234375, 1949.5430908203125, 554.0684204101562, 2757.406005859375, 6079.36962890625, 1208.876708984375, 2447.821044921875, 995.7828979492188, 4161.12451171875, 5136.34619140625, 2825.45849609375, 2179.154541015625, 2114.245361328125, 4461.2685546875, 8831.3974609375, 1404.3638916015625, 8956.142578125, 3354.966796875, 2810.068603515625, 5110.48583984375, 4145.9072265625, 4002.24951171875, 4285.35009765625, 3000.992431640625, 1804.0770263671875, 2582.7470703125, 20139.400390625, 4788.69384765625, 11520.1787109375, 5651.2021484375, 3925.7197265625, 5854.05322265625, 7853.2685546875, 12160.701171875, 9084.7021484375, 8309.7236328125, 8270.7265625, 7315.04150390625, 4758.96240234375, 5418.73779296875, 5330.04345703125, 6911.2275390625, 5254.6142578125, 5715.25634765625, 4709.11865234375, 5200.1708984375, 5223.44189453125, 5229.59375, 4815.4326171875, 4373.95654296875, 1491.628662109375, 1173.536865234375, 2751.16650390625, 745.1786499023438, 593.74609375, 471.7008972167969, 910.6815185546875, 290.75885009765625, 263.0078430175781, 264.6980285644531, 309.700439453125, 262.2666320800781, 225.39891052246094, 217.72508239746094, 518.0101928710938, 203.95468139648438, 195.49166870117188, 1110.61572265625, 187.9038848876953, 187.222412109375, 254.04478454589844, 182.93528747558594, 240.80882263183594, 279.3072814941406, 181.05709838867188, 175.14552307128906, 600.2332153320312, 331.76397705078125, 166.64808654785156, 353.0278625488281, 3104.047119140625, 1423.4578857421875, 1077.985595703125, 1961.0462646484375, 632.2940063476562, 587.0863037109375, 831.2573852539062, 716.2593383789062, 493.9722900390625, 478.4876708984375, 438.1896667480469, 326.9297790527344, 526.3171997070312, 2248.183837890625, 1225.400146484375, 2305.63427734375, 761.432373046875, 462.36370849609375, 488.1595458984375, 23484.76953125, 711.0453491210938, 2603.360595703125, 3474.17578125, 10885.4609375, 3071.31591796875, 1405.573974609375, 1033.632568359375, 4460.43896484375, 3618.195068359375, 11210.77734375, 5440.9541015625, 1442.4893798828125, 2124.750244140625, 5236.5087890625, 2324.3076171875, 4068.17919921875, 1493.303955078125, 12189.4228515625, 11064.66015625, 2497.492919921875, 17890.2890625, 14457.48828125, 8067.484375, 85837.984375, 3160.939208984375, 2217.590576171875, 4295.9150390625, 9534.3125, 8069.9814453125, 36715.6796875, 5356.0654296875, 9886.8701171875, 5437.4736328125, 4401.68359375, 6643.45068359375, 18504.470703125, 7834.47705078125, 5840.58837890625, 12747.6142578125, 5920.20361328125, 9392.123046875, 6693.73779296875, 9209.7783203125, 8713.390625, 7281.1328125, 7890.751953125, 6373.70263671875, 7127.19775390625, 7350.1708984375, 6335.0615234375, 6973.15087890625, 6121.86767578125, 6207.9345703125, 318.26849365234375, 285.5833435058594, 317.1596374511719, 280.1630554199219, 193.82130432128906, 181.7742919921875, 656.37890625, 354.13641357421875, 162.9935302734375, 211.37997436523438, 213.90127563476562, 161.55136108398438, 141.62680053710938, 514.4819946289062, 121.31369018554688, 120.15057373046875, 118.86152648925781, 116.74556732177734, 185.8518829345703, 115.56360626220703, 112.2783203125, 117.95091247558594, 101.64060974121094, 100.44691467285156, 247.08335876464844, 111.9885482788086, 123.96676635742188, 98.71731567382812, 93.10382843017578, 109.99813079833984, 7328.25146484375, 1803.1597900390625, 142.05380249023438, 3129.60888671875, 2287.023681640625, 246.64669799804688, 24491.1953125, 263.5545959472656, 518.5054931640625, 195.4714813232422, 1964.3466796875, 721.4349975585938, 218.93434143066406, 469.7209167480469, 187.77835083007812, 7656.7451171875, 262.12371826171875, 14410.1513671875, 2380.91162109375, 6960.6708984375, 507.7486267089844, 5074.91650390625, 1938.8387451171875, 7345.00439453125, 62403.79296875, 698.713623046875, 28544.84765625, 1619.400390625, 1595.8330078125, 2244.34033203125, 6506.439453125, 10548.3818359375, 1501.74365234375, 5083.02392578125, 2929.880615234375, 5694.51953125, 4101.39697265625, 5323.62744140625, 3892.150146484375, 13491.32421875, 22262.76171875, 21086.134765625, 6126.63427734375, 27321.8125, 3569.603271484375, 27533.921875, 18426.908203125, 14735.0546875, 11952.4443359375, 5315.8427734375, 6852.21484375, 9444.35546875, 11181.7900390625, 7428.21240234375, 8472.7763671875, 7410.20556640625, 5784.28857421875, 6369.71044921875, 5888.76953125, 5504.33544921875, 583.9015502929688, 602.7725219726562, 453.852294921875, 246.13412475585938, 224.8748016357422, 209.52224731445312, 196.73458862304688, 182.05914306640625, 180.26539611816406, 173.133056640625, 179.23939514160156, 196.72952270507812, 143.775390625, 193.65072631835938, 145.80331420898438, 161.02337646484375, 595.4677734375, 128.0479736328125, 340.45367431640625, 186.2798614501953, 183.24534606933594, 124.83280944824219, 127.28095245361328, 144.30926513671875, 121.7405776977539, 140.81732177734375, 137.8424835205078, 115.9457015991211, 116.64141082763672, 113.84193420410156, 834.5291137695312, 553.0220336914062, 284.1981506347656, 306.6885986328125, 220.1268310546875, 376.5195617675781, 224.13706970214844, 419.3963317871094, 2734.734375, 4442.50390625, 1108.2799072265625, 3431.015380859375, 2568.736328125, 5226.82470703125, 621.9857788085938, 240.8404998779297, 507.5333251953125, 450.7931823730469, 1168.193115234375, 1215.0355224609375, 1134.941162109375, 1477.8065185546875, 740.1688232421875, 381.8899230957031, 6297.21044921875, 14621.06640625, 35446.43359375, 10882.9375, 635.7158203125, 2757.01904296875, 7693.99560546875, 7657.3544921875, 3075.381103515625, 6847.53271484375, 29265.58984375, 16365.6611328125, 12369.435546875, 3290.183837890625, 9791.755859375, 3535.99560546875, 1323.1302490234375, 1301.331787109375, 958.7135620117188, 1469.556884765625, 2251.932373046875, 5897.54541015625, 5206.88818359375, 3734.05078125, 2329.048095703125, 4571.01220703125, 12328.4150390625, 3883.66943359375, 2156.54638671875, 4596.14794921875, 7515.27294921875, 4475.48876953125, 4361.9375, 5999.51220703125, 4082.11865234375, 4165.10498046875, 4414.083984375, 3984.206787109375, 3964.590087890625, 3969.350341796875, 3858.642333984375], \"Term\": [\"baby\", \"love\", \"get\", \"na\", \"yeah\", \"night\", \"nigga\", \"gon\", \"say\", \"good\", \"want\", \"wan\", \"fuck\", \"light\", \"shit\", \"know\", \"ooh\", \"tonight\", \"well\", \"bitch\", \"dance\", \"like\", \"girl\", \"come\", \"heart\", \"go\", \"rock\", \"hey\", \"home\", \"away\", \"lalala\", \"christmastime\", \"fowler\", \"lalalala\", \"diablo\", \"beaujolais\", \"sammy\", \"wella\", \"marimba\", \"miranda\", \"wishful\", \"lifelong\", \"motorhead\", \"somedays\", \"highlight\", \"charcoal\", \"visualise\", \"feelgood\", \"libre\", \"motherly\", \"lovelier\", \"stairwell\", \"moustache\", \"southwest\", \"showboat\", \"yakuza\", \"nico\", \"gurgle\", \"indicate\", \"lacy\", \"amy\", \"juliet\", \"dominator\", \"love\", \"deja\", \"anniversary\", \"julie\", \"remember\", \"goodbye\", \"would\", \"ann\", \"knew\", \"goodnight\", \"hello\", \"wish\", \"heartache\", \"could\", \"kiss\", \"darling\", \"always\", \"met\", \"glad\", \"ever\", \"true\", \"forget\", \"much\", \"lovely\", \"thought\", \"say\", \"friend\", \"day\", \"use\", \"never\", \"think\", \"felt\", \"forever\", \"last\", \"thing\", \"time\", \"still\", \"know\", \"one\", \"make\", \"like\", \"someone\", \"even\", \"life\", \"give\", \"every\", \"cause\", \"way\", \"feel\", \"heart\", \"get\", \"see\", \"take\", \"go\", \"well\", \"freddy\", \"shannon\", \"rockabye\", \"breakaway\", \"shalom\", \"sierra\", \"naa\", \"prelude\", \"birdland\", \"alamo\", \"duel\", \"excitable\", \"enchantment\", \"nitro\", \"simpatico\", \"repaid\", \"steward\", \"unspeakable\", \"interaction\", \"soundless\", \"daemon\", \"wallflower\", \"bono\", \"intoxication\", \"wildflower\", \"individuality\", \"kindle\", \"godsend\", \"ascension\", \"barbarella\", \"empathy\", \"opaque\", \"buries\", \"lifeline\", \"emily\", \"modest\", \"surrender\", \"denies\", \"dreamer\", \"unbreakable\", \"broken\", \"breathe\", \"heal\", \"freedom\", \"inside\", \"collide\", \"ordinary\", \"heart\", \"apart\", \"beating\", \"afraid\", \"reach\", \"lie\", \"lose\", \"break\", \"dream\", \"world\", \"stand\", \"fall\", \"truth\", \"fight\", \"hide\", \"search\", \"faith\", \"find\", \"eye\", \"free\", \"pain\", \"tear\", \"nothing\", \"open\", \"fear\", \"try\", \"believe\", \"alone\", \"see\", \"never\", \"life\", \"feel\", \"away\", \"take\", \"change\", \"face\", \"look\", \"let\", \"time\", \"one\", \"come\", \"mind\", \"make\", \"give\", \"keep\", \"way\", \"know\", \"gardner\", \"fanny\", \"mia\", \"doot\", \"westward\", \"alfie\", \"aaaah\", \"volare\", \"blas\", \"gurdy\", \"ryone\", \"hurtful\", \"gether\", \"rosalie\", \"hurdy\", \"orchard\", \"cantare\", \"ohhhhhhhh\", \"yule\", \"islander\", \"rounder\", \"jiving\", \"goooo\", \"athens\", \"cello\", \"tootsie\", \"serenely\", \"activist\", \"indispose\", \"fisted\", \"jude\", \"thoughtful\", \"oohhh\", \"na\", \"wan\", \"dinah\", \"gon\", \"alright\", \"oah\", \"want\", \"mmm\", \"mistletoe\", \"aaah\", \"girl\", \"need\", \"ohhh\", \"let\", \"ohh\", \"christmas\", \"know\", \"baby\", \"somebody\", \"right\", \"tell\", \"feel\", \"hey\", \"tonight\", \"way\", \"got\", \"ta\", \"really\", \"get\", \"yeah\", \"crazy\", \"something\", \"make\", \"cause\", \"wrong\", \"take\", \"everything\", \"say\", \"come\", \"see\", \"love\", \"think\", \"time\", \"well\", \"like\", \"thing\", \"one\", \"never\", \"away\", \"give\", \"bom\", \"motha\", \"gorillaz\", \"stuntin\", \"gab\", \"chingy\", \"mothafucka\", \"ballers\", \"ckin\", \"terminator\", \"charli\", \"punx\", \"konvict\", \"repping\", \"womanizer\", \"swisher\", \"naomi\", \"janelle\", \"francais\", \"shoutout\", \"blackjack\", \"beefin\", \"flacko\", \"alicia\", \"familia\", \"biatch\", \"purp\", \"whachu\", \"spinach\", \"dressin\", \"nigga\", \"bitch\", \"hoe\", \"homie\", \"mayne\", \"hatin\", \"dawg\", \"mma\", \"hater\", \"finna\", \"fucka\", \"hustlin\", \"trill\", \"eastside\", \"kanye\", \"yayo\", \"westside\", \"prolly\", \"tryna\", \"pussy\", \"shit\", \"diggy\", \"mothafuckin\", \"fuckin\", \"hood\", \"gangsta\", \"fuck\", \"homies\", \"pimpin\", \"lil\", \"snitch\", \"wit\", \"yall\", \"ballin\", \"hustle\", \"hook\", \"as\", \"dick\", \"nah\", \"money\", \"holla\", \"aint\", \"niggaz\", \"cash\", \"shorty\", \"shawty\", \"dope\", \"pimp\", \"motherfucker\", \"thug\", \"ghetto\", \"bout\", \"verse\", \"chick\", \"hit\", \"gettin\", \"get\", \"like\", \"rap\", \"game\", \"real\", \"got\", \"ta\", \"know\", \"cause\", \"put\", \"back\", \"make\", \"see\", \"talk\", \"keep\", \"yeah\", \"say\", \"chorus\", \"girl\", \"want\", \"let\", \"take\", \"one\", \"thy\", \"danse\", \"comme\", \"macabre\", \"tidings\", \"alto\", \"thine\", \"manger\", \"damnation\", \"doth\", \"bethlehem\", \"immortality\", \"undead\", \"entombed\", \"quand\", \"morbid\", \"infernal\", \"abomination\", \"defile\", \"extinction\", \"carnage\", \"confetti\", \"hellish\", \"ravage\", \"obscurity\", \"stat\", \"adrift\", \"orient\", \"allelujah\", \"thistle\", \"eternal\", \"mortal\", \"crimson\", \"rejoice\", \"realm\", \"anguish\", \"oblivion\", \"writhe\", \"satanic\", \"radiant\", \"shall\", \"thee\", \"mankind\", \"serpent\", \"abyss\", \"horde\", \"wretched\", \"holy\", \"ancient\", \"christ\", \"shepherd\", \"unto\", \"jesus\", \"flesh\", \"praise\", \"veil\", \"arise\", \"raven\", \"death\", \"kingdom\", \"sword\", \"behold\", \"reign\", \"tomb\", \"blood\", \"glory\", \"worship\", \"earth\", \"savior\", \"creature\", \"god\", \"evil\", \"sin\", \"satan\", \"spirit\", \"grave\", \"demon\", \"born\", \"dead\", \"darkness\", \"soul\", \"child\", \"rise\", \"lust\", \"burn\", \"human\", \"lord\", \"land\", \"flame\", \"upon\", \"fear\", \"life\", \"fire\", \"power\", \"father\", \"dark\", \"light\", \"king\", \"black\", \"end\", \"world\", \"eye\", \"come\", \"one\", \"see\", \"time\", \"day\", \"hand\", \"night\", \"like\", \"fall\", \"take\", \"oom\", \"dixie\", \"uranium\", \"mera\", \"melodie\", \"aaa\", \"humm\", \"overcoat\", \"dreamboat\", \"bluebird\", \"kaleidoscope\", \"pah\", \"backstabber\", \"rie\", \"lola\", \"bedding\", \"waterloo\", \"shangri\", \"swanee\", \"pier\", \"caf\", \"blinker\", \"marrakesh\", \"possum\", \"maroon\", \"parisian\", \"bossman\", \"lawman\", \"softness\", \"salisbury\", \"doo\", \"caroline\", \"apos\", \"mam\", \"stardust\", \"detour\", \"tupelo\", \"drizzle\", \"postman\", \"so\", \"travelin\", \"riverside\", \"indigo\", \"river\", \"railroad\", \"runaway\", \"dorado\", \"freckle\", \"blue\", \"train\", \"sunshine\", \"raindrop\", \"lonesome\", \"kentucky\", \"california\", \"rainbow\", \"sun\", \"bird\", \"mile\", \"summertime\", \"lucy\", \"ribbon\", \"rain\", \"moon\", \"willow\", \"water\", \"summer\", \"wind\", \"mountain\", \"winter\", \"road\", \"long\", \"sky\", \"tree\", \"snow\", \"little\", \"sail\", \"go\", \"old\", \"run\", \"fly\", \"home\", \"morning\", \"away\", \"back\", \"come\", \"day\", \"head\", \"keep\", \"walk\", \"get\", \"look\", \"like\", \"around\", \"take\", \"see\", \"eye\", \"time\", \"love\", \"way\", \"know\", \"punisher\", \"shh\", \"lizard\", \"diggidy\", \"poodle\", \"denis\", \"ltd\", \"debbie\", \"monoxide\", \"chute\", \"cialis\", \"emma\", \"trenchtown\", \"jimi\", \"gobble\", \"herald\", \"pear\", \"fetus\", \"nel\", \"sweden\", \"blak\", \"mathers\", \"amazon\", \"acceptable\", \"ethel\", \"mixture\", \"caveman\", \"gunman\", \"parry\", \"copenhagen\", \"cannibal\", \"jingle\", \"pioneer\", \"haw\", \"houdini\", \"marco\", \"rhodes\", \"anal\", \"dee\", \"pum\", \"tripp\", \"doh\", \"woof\", \"revolutionary\", \"goo\", \"ronnie\", \"riot\", \"lynch\", \"ghostface\", \"america\", \"zappa\", \"chainsaw\", \"peddler\", \"pig\", \"vocal\", \"operation\", \"government\", \"gun\", \"bomb\", \"dum\", \"murder\", \"arthur\", \"killer\", \"joe\", \"percussion\", \"bullet\", \"dog\", \"rebel\", \"jack\", \"president\", \"shoot\", \"rhyme\", \"law\", \"lyric\", \"attack\", \"brain\", \"kill\", \"weapon\", \"black\", \"cat\", \"nine\", \"cut\", \"shot\", \"eat\", \"three\", \"crack\", \"system\", \"state\", \"like\", \"dead\", \"one\", \"people\", \"kid\", \"head\", \"well\", \"get\", \"come\", \"take\", \"make\", \"cause\", \"two\", \"fuck\", \"run\", \"see\", \"call\", \"back\", \"face\", \"give\", \"say\", \"know\", \"go\", \"put\", \"kr\", \"ding\", \"bop\", \"dong\", \"hep\", \"bdp\", \"claus\", \"laka\", \"nal\", \"tum\", \"lang\", \"kung\", \"naega\", \"huhn\", \"toot\", \"yum\", \"voo\", \"chee\", \"chewy\", \"edward\", \"tiga\", \"conglomerate\", \"jook\", \"har\", \"senora\", \"jemima\", \"susie\", \"rudolph\", \"ahoy\", \"waan\", \"yuh\", \"nuh\", \"inna\", \"boogie\", \"zing\", \"seh\", \"ling\", \"mek\", \"bwoy\", \"crank\", \"deh\", \"duh\", \"weh\", \"funky\", \"beep\", \"santa\", \"pon\", \"giddy\", \"choo\", \"rock\", \"rah\", \"clap\", \"bass\", \"party\", \"rockin\", \"funk\", \"dang\", \"boom\", \"bounce\", \"shake\", \"bang\", \"booty\", \"jam\", \"jump\", \"groove\", \"hip\", \"daz\", \"roll\", \"beat\", \"gal\", \"hey\", \"big\", \"hot\", \"get\", \"swing\", \"candy\", \"dirty\", \"dance\", \"everybody\", \"like\", \"floor\", \"boy\", \"drop\", \"kick\", \"body\", \"come\", \"move\", \"ready\", \"let\", \"ride\", \"girl\", \"play\", \"cause\", \"yeah\", \"well\", \"na\", \"hand\", \"back\", \"make\", \"chorus\", \"say\", \"stop\", \"right\", \"hoh\", \"clarinet\", \"bung\", \"jou\", \"beenie\", \"jolene\", \"lordy\", \"preston\", \"jumbo\", \"diddle\", \"reverie\", \"ooooooo\", \"abilene\", \"diddley\", \"academy\", \"porgy\", \"jas\", \"vex\", \"alyssa\", \"plex\", \"marlene\", \"elton\", \"picker\", \"jeannie\", \"lucille\", \"cheyenne\", \"waterfront\", \"schooldays\", \"shoestring\", \"laaa\", \"bye\", \"aah\", \"weenie\", \"ooo\", \"hoo\", \"peggy\", \"ooh\", \"lewis\", \"annie\", \"walley\", \"papa\", \"yeh\", \"healin\", \"heartbreaker\", \"finder\", \"whoa\", \"mojo\", \"woman\", \"woo\", \"honey\", \"carl\", \"lovin\", \"cryin\", \"mama\", \"baby\", \"oooo\", \"good\", \"wah\", \"ahh\", \"walkin\", \"beautiful\", \"yes\", \"mornin\", \"nothin\", \"sister\", \"goin\", \"babe\", \"pretty\", \"daddy\", \"home\", \"well\", \"yeah\", \"lord\", \"say\", \"comin\", \"get\", \"come\", \"time\", \"one\", \"please\", \"call\", \"take\", \"know\", \"give\", \"see\", \"back\", \"boy\", \"like\", \"love\", \"tell\", \"dibby\", \"noel\", \"woy\", \"bala\", \"bronc\", \"macdonald\", \"jeremiah\", \"barbra\", \"badman\", \"excitation\", \"kimi\", \"suffragette\", \"painkiller\", \"mou\", \"kon\", \"shoop\", \"tonk\", \"lilith\", \"viva\", \"yippie\", \"bullsh\", \"lana\", \"kono\", \"oww\", \"yout\", \"corrina\", \"sou\", \"valentino\", \"coeur\", \"buzzard\", \"honky\", \"amour\", \"woogie\", \"francisco\", \"sherry\", \"rosie\", \"luna\", \"amor\", \"cowboy\", \"gim\", \"bon\", \"woah\", \"saturday\", \"me\", \"ruby\", \"vai\", \"jukebox\", \"rio\", \"san\", \"london\", \"neon\", \"hollywood\", \"rodeo\", \"rocker\", \"wild\", \"dance\", \"night\", \"round\", \"aha\", \"york\", \"city\", \"music\", \"radio\", \"shine\", \"yeah\", \"light\", \"tonight\", \"guitar\", \"high\", \"bright\", \"johnny\", \"wow\", \"ole\", \"american\", \"queen\", \"star\", \"fire\", \"white\", \"wine\", \"sing\", \"like\", \"street\", \"bell\", \"hear\", \"make\", \"stop\", \"new\", \"one\", \"play\", \"turn\", \"right\", \"let\", \"love\", \"get\", \"na\"], \"Total\": [130542.0, 316317.0, 431247.0, 166136.0, 120338.0, 91489.0, 69902.0, 103890.0, 213457.0, 67598.0, 169759.0, 74668.0, 58502.0, 56813.0, 47880.0, 316058.0, 28947.0, 39479.0, 110057.0, 34855.0, 30481.0, 297540.0, 86739.0, 205248.0, 101409.0, 119537.0, 27491.0, 41831.0, 53170.0, 101919.0, 297.9544982910156, 289.18182373046875, 264.698486328125, 225.26515197753906, 181.3773651123047, 176.23085021972656, 159.78884887695312, 125.26569366455078, 125.20735168457031, 114.25768280029297, 152.3856658935547, 103.0997543334961, 408.5058288574219, 103.96434783935547, 146.24343872070312, 90.20890045166016, 89.2033462524414, 83.38075256347656, 74.32798767089844, 75.65884399414062, 70.9328384399414, 68.08917999267578, 67.14666748046875, 66.89454650878906, 77.99281311035156, 66.07605743408203, 64.26227569580078, 63.059120178222656, 60.441810607910156, 68.24181365966797, 321.4538879394531, 281.82171630859375, 99.7481460571289, 316317.78125, 287.07000732421875, 156.13645935058594, 195.3955078125, 26004.8125, 15404.193359375, 60529.99609375, 459.0252990722656, 22260.048828125, 1992.4886474609375, 6280.26513671875, 27073.359375, 3033.160888671875, 90725.015625, 27795.87890625, 7828.64013671875, 58830.234375, 8853.4873046875, 5321.3701171875, 54354.890625, 30625.69921875, 20501.21875, 43660.8828125, 4289.7138671875, 37974.46484375, 213457.90625, 37551.17578125, 114983.9765625, 34151.19140625, 160260.15625, 90168.25, 10243.177734375, 25493.02734375, 39065.2734375, 92629.3125, 190834.25, 70580.8515625, 316058.03125, 185171.609375, 194871.796875, 297540.21875, 27149.60546875, 44778.640625, 118463.015625, 106583.15625, 65519.83203125, 130648.90625, 137304.859375, 141263.40625, 101409.2421875, 431247.53125, 196463.375, 166195.90625, 119537.296875, 110057.015625, 304.82550048828125, 299.6438903808594, 362.87060546875, 203.846923828125, 175.71876525878906, 210.08692932128906, 146.60986328125, 149.24171447753906, 117.4875717163086, 158.0361785888672, 105.79680633544922, 171.08154296875, 152.5323944091797, 102.76712799072266, 144.5376739501953, 103.0981674194336, 97.58365631103516, 97.986572265625, 88.9413070678711, 81.52098083496094, 82.52008819580078, 79.6864242553711, 77.84698486328125, 77.49885559082031, 72.9176254272461, 99.5160140991211, 79.44896697998047, 71.89116668701172, 75.99270629882812, 80.85714721679688, 226.09765625, 84.60598754882812, 85.4984130859375, 481.0578918457031, 370.52587890625, 125.0634536743164, 3321.5732421875, 123.45452117919922, 1386.7562255859375, 201.5098419189453, 16010.828125, 9843.373046875, 4513.81494140625, 5776.1044921875, 40293.453125, 1296.0382080078125, 1516.0224609375, 101409.2421875, 12502.59375, 3167.93115234375, 10402.92578125, 13976.298828125, 44253.73828125, 59606.62890625, 38741.71484375, 64556.70703125, 83994.75, 38867.7578125, 61441.21875, 16979.53125, 26473.390625, 16203.017578125, 9046.90625, 7798.22705078125, 60400.5390625, 79373.59375, 30587.37109375, 27528.36328125, 28193.26953125, 55562.1484375, 24091.583984375, 19817.81640625, 80350.6015625, 44379.80078125, 41439.72265625, 196463.375, 160260.15625, 118463.015625, 141263.40625, 101919.265625, 166195.90625, 41820.17578125, 47643.62109375, 101207.046875, 158314.828125, 190834.25, 185171.609375, 205248.984375, 65388.03125, 194871.796875, 106583.15625, 82659.1328125, 137304.859375, 316058.03125, 336.1893615722656, 251.07394409179688, 248.76516723632812, 402.5311584472656, 139.14723205566406, 134.58839416503906, 132.61155700683594, 131.1539764404297, 120.09933471679688, 100.15447235107422, 98.66072082519531, 105.00678253173828, 101.50257873535156, 86.7579116821289, 84.65992736816406, 83.49177551269531, 76.05965423583984, 132.9691925048828, 86.48265075683594, 74.0374526977539, 67.01766967773438, 63.10188293457031, 61.81332778930664, 61.00099182128906, 59.36887741088867, 56.97708511352539, 56.80599594116211, 55.21048355102539, 55.492984771728516, 53.29656219482422, 101.40882110595703, 66.31126403808594, 116.8413314819336, 166136.625, 74668.7109375, 355.2132568359375, 103890.1171875, 17805.515625, 219.16714477539062, 169759.84375, 2895.39306640625, 563.6669921875, 307.1555480957031, 86739.828125, 99426.5390625, 1544.762451171875, 158314.828125, 4223.318359375, 9135.759765625, 316058.03125, 130542.0859375, 16224.564453125, 97634.3515625, 93741.5, 141263.40625, 41831.5, 39479.296875, 137304.859375, 46911.9140625, 46907.53125, 45928.1328125, 431247.53125, 120338.640625, 18944.58984375, 44518.01171875, 194871.796875, 130648.90625, 31431.646484375, 166195.90625, 45845.26171875, 213457.90625, 205248.984375, 196463.375, 316317.78125, 90168.25, 190834.25, 110057.015625, 297540.21875, 92629.3125, 185171.609375, 160260.15625, 101919.265625, 106583.15625, 729.8505249023438, 406.25726318359375, 402.59149169921875, 419.2099609375, 249.91932678222656, 463.9784851074219, 554.6570434570312, 256.325439453125, 229.5330810546875, 200.9269561767578, 356.4787292480469, 228.95040893554688, 180.14248657226562, 186.06520080566406, 171.33660888671875, 200.2123260498047, 212.95431518554688, 157.58460998535156, 142.91842651367188, 148.25486755371094, 140.90219116210938, 164.42510986328125, 146.68069458007812, 136.70877075195312, 135.91326904296875, 186.55352783203125, 141.1853790283203, 132.10040283203125, 138.84507751464844, 123.33470916748047, 69902.2890625, 34855.71484375, 9893.015625, 3572.050048828125, 1105.785888671875, 1355.5509033203125, 793.8541870117188, 3027.41650390625, 3926.78955078125, 760.4153442382812, 418.2027282714844, 640.8926391601562, 1051.807861328125, 314.86761474609375, 378.1270446777344, 493.7931213378906, 299.4581604003906, 273.9775695800781, 5202.07666015625, 4637.626953125, 47880.9453125, 389.9238586425781, 407.8381042480469, 10226.55859375, 5711.53515625, 3879.23583984375, 58502.07421875, 1709.312744140625, 1333.9722900390625, 4610.8642578125, 869.3748779296875, 12539.8076171875, 1454.011962890625, 1224.1365966796875, 2487.548828125, 8349.83203125, 18950.509765625, 7584.43896484375, 5350.21337890625, 35605.03125, 2317.76708984375, 7678.22802734375, 7443.37841796875, 5834.32763671875, 2372.636474609375, 2369.822021484375, 4505.40234375, 3254.130859375, 6413.8798828125, 4069.008056640625, 3510.48388671875, 20466.16015625, 18974.220703125, 5482.55615234375, 27529.880859375, 10910.91015625, 431247.53125, 297540.21875, 12556.849609375, 26572.515625, 34448.640625, 46911.9140625, 46907.53125, 316058.03125, 130648.90625, 46191.14453125, 128473.5390625, 194871.796875, 196463.375, 38844.640625, 82659.1328125, 120338.640625, 213457.90625, 60616.31640625, 86739.828125, 169759.84375, 158314.828125, 166195.90625, 185171.609375, 2231.859375, 491.03765869140625, 327.2618103027344, 291.1566467285156, 368.30950927734375, 269.5542907714844, 333.6544189453125, 313.1938781738281, 385.6712341308594, 199.868408203125, 390.935791015625, 204.4822235107422, 186.84461975097656, 193.92605590820312, 236.3356170654297, 265.7444763183594, 331.3939208984375, 208.70236206054688, 195.23757934570312, 200.2735137939453, 208.0245361328125, 143.75473022460938, 165.23341369628906, 162.3780059814453, 143.53256225585938, 137.80630493164062, 185.3313751220703, 146.26560974121094, 142.5614776611328, 130.80397033691406, 2791.103759765625, 1113.11865234375, 672.0885620117188, 725.5774536132812, 796.114990234375, 342.92242431640625, 667.8931884765625, 267.4322204589844, 237.78201293945312, 225.97503662109375, 7396.5400390625, 2598.488037109375, 1203.0140380859375, 700.301025390625, 539.1912841796875, 419.2633056640625, 377.88446044921875, 5777.7412109375, 1758.6094970703125, 3401.463623046875, 675.6640014648438, 922.9310913085938, 8122.74853515625, 4320.42138671875, 2897.643798828125, 1025.8118896484375, 1048.12060546875, 698.6388549804688, 16032.3525390625, 1948.832275390625, 2075.776123046875, 1034.866455078125, 1901.4300537109375, 902.6348266601562, 19832.302734375, 4372.30078125, 1358.376953125, 10976.5908203125, 1671.649169921875, 1506.5025634765625, 36447.98046875, 6376.60595703125, 2349.37841796875, 1880.8599853515625, 5843.71875, 4326.7431640625, 3573.99658203125, 13210.5751953125, 22307.833984375, 8682.3115234375, 34592.42578125, 19212.400390625, 17948.95703125, 2807.246337890625, 21062.251953125, 6464.3232421875, 18614.322265625, 13993.2275390625, 8271.291015625, 12256.869140625, 19817.81640625, 118463.015625, 29290.419921875, 10632.515625, 7893.9248046875, 19864.861328125, 56813.7265625, 12446.2763671875, 26366.587890625, 43812.04296875, 83994.75, 79373.59375, 205248.984375, 185171.609375, 196463.375, 190834.25, 114983.9765625, 57008.3359375, 91489.703125, 297540.21875, 61441.21875, 166195.90625, 448.49639892578125, 475.07879638671875, 226.6264190673828, 177.21751403808594, 176.07444763183594, 162.60012817382812, 145.0269012451172, 143.39578247070312, 134.07603454589844, 582.94580078125, 126.93159484863281, 120.63948822021484, 121.15707397460938, 116.23037719726562, 123.23902893066406, 111.95936584472656, 109.42440795898438, 105.89737701416016, 104.86973571777344, 194.19088745117188, 137.1529083251953, 100.35072326660156, 111.12690734863281, 94.39478302001953, 88.94733428955078, 96.41800689697266, 85.65776824951172, 86.68869018554688, 86.74968719482422, 84.27376556396484, 6761.06494140625, 412.8232421875, 660.4329223632812, 184.98269653320312, 198.83248901367188, 292.34649658203125, 143.48182678222656, 133.48257446289062, 380.1239318847656, 187.93441772460938, 554.6649780273438, 201.44070434570312, 230.49317932128906, 10844.0361328125, 685.8269653320312, 1334.5516357421875, 333.71514892578125, 174.02993774414062, 29733.052734375, 9028.47265625, 5185.56298828125, 628.7138061523438, 2353.88525390625, 458.2764892578125, 2772.89111328125, 3018.10791015625, 31643.791015625, 7847.9013671875, 8496.3349609375, 1078.99658203125, 645.6873779296875, 686.2456665039062, 25412.802734375, 14344.1396484375, 703.346923828125, 14494.90234375, 10558.4345703125, 17037.509765625, 7716.97509765625, 6285.05419921875, 17941.568359375, 59148.859375, 31781.853515625, 11274.041015625, 6824.8095703125, 68276.9453125, 4740.38330078125, 119537.296875, 39195.62109375, 59057.44921875, 26570.4140625, 53170.3125, 18852.265625, 101919.265625, 128473.5390625, 205248.984375, 114983.9765625, 48122.40234375, 82659.1328125, 50483.66796875, 431247.53125, 101207.046875, 297540.21875, 65463.609375, 166195.90625, 196463.375, 79373.59375, 190834.25, 316317.78125, 137304.859375, 316058.03125, 502.5694580078125, 344.1374816894531, 342.3487243652344, 244.0717315673828, 262.05487060546875, 216.37144470214844, 207.25506591796875, 200.945556640625, 180.40724182128906, 174.18075561523438, 323.13421630859375, 166.33042907714844, 157.62818908691406, 140.98175048828125, 155.91995239257812, 143.0287628173828, 157.03131103515625, 152.7436065673828, 128.07070922851562, 126.0937728881836, 143.74771118164062, 197.1412811279297, 133.47805786132812, 113.1805648803711, 115.70263671875, 149.55532836914062, 140.8418731689453, 110.07899475097656, 101.29165649414062, 103.00433349609375, 342.49859619140625, 1744.59375, 232.0005340576172, 230.34414672851562, 227.9140625, 228.33578491210938, 188.2903594970703, 176.00743103027344, 2259.081298828125, 423.544677734375, 194.32965087890625, 453.35772705078125, 415.364013671875, 190.1491241455078, 743.5060424804688, 370.36041259765625, 1706.020263671875, 848.5146484375, 361.5670166015625, 2661.30908203125, 1014.6846923828125, 305.7785339355469, 229.07289123535156, 1348.5958251953125, 4812.85009765625, 347.91229248046875, 1335.5594482421875, 13798.5927734375, 4485.162109375, 1394.80712890625, 4478.9404296875, 630.302001953125, 3038.196533203125, 2740.35400390625, 636.3890380859375, 4149.33837890625, 10525.115234375, 1583.1285400390625, 3937.01513671875, 1309.887451171875, 7767.337890625, 10115.0556640625, 4861.638671875, 3617.68798828125, 3570.85205078125, 9535.154296875, 24136.76171875, 2129.61865234375, 26366.587890625, 7093.07421875, 5628.06005859375, 14013.0615234375, 10779.25390625, 10349.154296875, 13119.4443359375, 7479.94189453125, 3116.772216796875, 6089.482421875, 297540.21875, 22307.833984375, 185171.609375, 37526.2890625, 15863.9169921875, 48122.40234375, 110057.015625, 431247.53125, 205248.984375, 166195.90625, 194871.796875, 130648.90625, 32124.65234375, 58502.07421875, 59057.44921875, 196463.375, 64213.109375, 128473.5390625, 47643.62109375, 106583.15625, 213457.90625, 316058.03125, 119537.296875, 46191.14453125, 1492.568115234375, 1174.9310302734375, 2754.716796875, 746.30810546875, 594.655029296875, 472.6314392089844, 913.4356689453125, 291.6928405761719, 263.91571044921875, 265.67889404296875, 310.918701171875, 263.3189697265625, 226.3072509765625, 218.6571807861328, 520.3598022460938, 204.88348388671875, 196.39877319335938, 1115.82373046875, 188.81239318847656, 188.1334686279297, 255.3068389892578, 183.86056518554688, 242.03219604492188, 280.77130126953125, 182.01072692871094, 176.0706329345703, 603.5192260742188, 333.5840759277344, 167.569091796875, 355.0099792480469, 3123.990478515625, 1437.55712890625, 1086.6563720703125, 1993.7431640625, 636.62744140625, 590.6920166015625, 839.4725341796875, 722.5068359375, 497.4801940917969, 482.10430908203125, 441.49072265625, 328.8508605957031, 532.1016845703125, 2330.57275390625, 1257.5728759765625, 2397.6826171875, 780.1436767578125, 468.532958984375, 496.1046142578125, 27491.66015625, 733.2233276367188, 2851.59814453125, 3888.5263671875, 12973.1875, 3445.54541015625, 1518.18896484375, 1101.6473388671875, 5516.513671875, 4430.38720703125, 15589.5185546875, 7034.54638671875, 1607.084716796875, 2520.0966796875, 7101.50048828125, 2816.558837890625, 5564.8505859375, 1734.114013671875, 23251.392578125, 21409.083984375, 3347.468505859375, 41831.5, 33507.05859375, 16464.3046875, 431247.53125, 5012.5517578125, 3019.6728515625, 8429.703125, 30481.212890625, 23765.62109375, 297540.21875, 12947.091796875, 44664.26953125, 15667.1484375, 10228.958984375, 23975.728515625, 205248.984375, 33905.109375, 18672.037109375, 158314.828125, 22296.234375, 86739.828125, 37995.109375, 130648.90625, 120338.640625, 110057.015625, 166136.625, 57008.3359375, 128473.5390625, 194871.796875, 60616.31640625, 213457.90625, 46529.78125, 97634.3515625, 319.2321472167969, 286.48583984375, 318.1876220703125, 281.1427917480469, 194.72482299804688, 182.67173767089844, 659.9407348632812, 356.0810546875, 163.97439575195312, 212.65371704101562, 215.30490112304688, 162.65208435058594, 142.6017303466797, 518.0836181640625, 122.20843505859375, 121.0474853515625, 119.76828002929688, 117.63994598388672, 187.2859649658203, 116.49544525146484, 113.18827056884766, 118.95475006103516, 102.54358673095703, 101.35160827636719, 249.30892944335938, 113.0024642944336, 125.14793395996094, 99.66092681884766, 94.00305938720703, 111.08482360839844, 7437.70556640625, 1865.976806640625, 143.7838897705078, 3312.975341796875, 2414.701904296875, 252.40843200683594, 28947.341796875, 272.009765625, 549.504638671875, 200.63868713378906, 2251.723876953125, 787.5633544921875, 227.46156311035156, 510.0321960449219, 193.96026611328125, 10692.4501953125, 277.674560546875, 22447.798828125, 3133.29833984375, 10484.662109375, 574.4971313476562, 7600.68701171875, 2603.6640625, 11642.4521484375, 130542.0859375, 837.3983154296875, 67598.2265625, 2380.28857421875, 2341.8623046875, 3618.30224609375, 14101.29296875, 25817.431640625, 2268.595458984375, 11075.6435546875, 5506.67578125, 13858.599609375, 9484.447265625, 14110.609375, 9132.4296875, 53170.3125, 110057.015625, 120338.640625, 18614.322265625, 213457.90625, 9917.45703125, 431247.53125, 205248.984375, 190834.25, 185171.609375, 30578.6640625, 64213.109375, 166195.90625, 316058.03125, 106583.15625, 196463.375, 128473.5390625, 44664.26953125, 297540.21875, 316317.78125, 93741.5, 584.8896484375, 603.8466796875, 454.7763977050781, 247.0424346923828, 225.80010986328125, 210.4228973388672, 197.63436889648438, 182.96441650390625, 181.1995391845703, 174.05130004882812, 180.21322631835938, 197.8388214111328, 144.6775360107422, 194.8802032470703, 146.75840759277344, 162.10836791992188, 599.50439453125, 128.94638061523438, 342.8441467285156, 187.60780334472656, 184.56690979003906, 125.73558807373047, 128.20420837402344, 145.36009216308594, 122.64693450927734, 141.87657165527344, 138.88949584960938, 116.84310150146484, 117.57278442382812, 114.75582885742188, 845.2235107421875, 559.745849609375, 286.5267639160156, 309.5933837890625, 222.65550231933594, 385.73907470703125, 227.5673828125, 432.1925964355469, 2945.7197265625, 4882.97412109375, 1170.9818115234375, 3807.96875, 2878.22509765625, 6243.109375, 669.7799682617188, 247.45860290527344, 555.60546875, 489.1669006347656, 1382.2900390625, 1447.009521484375, 1381.9290771484375, 1858.617431640625, 873.5382080078125, 418.2632751464844, 10754.80078125, 30481.212890625, 91489.703125, 22777.55078125, 772.2694091796875, 4537.37353515625, 16200.84765625, 16538.24609375, 5730.62646484375, 16673.4921875, 120338.640625, 56813.7265625, 39479.296875, 6786.1318359375, 37570.953125, 8471.17578125, 2170.2998046875, 2173.17822265625, 1322.34619140625, 2722.0146484375, 5612.82421875, 30716.146484375, 29290.419921875, 17052.12109375, 6785.3564453125, 29033.5234375, 297540.21875, 24965.775390625, 6028.73486328125, 46853.9296875, 194871.796875, 46529.78125, 43165.76171875, 185171.609375, 37995.109375, 60537.76171875, 97634.3515625, 158314.828125, 316317.78125, 431247.53125, 166136.625], \"loglift\": [30.0, 29.0, 28.0, 27.0, 26.0, 25.0, 24.0, 23.0, 22.0, 21.0, 20.0, 19.0, 18.0, 17.0, 16.0, 15.0, 14.0, 13.0, 12.0, 11.0, 10.0, 9.0, 8.0, 7.0, 6.0, 5.0, 4.0, 3.0, 2.0, 1.0, 1.8432999849319458, 1.8431999683380127, 1.8427000045776367, 1.8423000574111938, 1.8413000106811523, 1.8411999940872192, 1.8407000303268433, 1.8389999866485596, 1.8388999700546265, 1.8384000062942505, 1.8381999731063843, 1.837499976158142, 1.8372000455856323, 1.8365999460220337, 1.8365000486373901, 1.8361999988555908, 1.8360999822616577, 1.8353999853134155, 1.8339999914169312, 1.8339999914169312, 1.8330999612808228, 1.8329999446868896, 1.832900047302246, 1.832800030708313, 1.8327000141143799, 1.8324999809265137, 1.832200050354004, 1.8319000005722046, 1.8314000368118286, 1.8312000036239624, 1.8250999450683594, 1.8178999423980713, 1.8260999917984009, 1.4952000379562378, 1.7736999988555908, 1.794700026512146, 1.7798000574111938, 1.5162999629974365, 1.5292999744415283, 1.440999984741211, 1.7259000539779663, 1.4845000505447388, 1.6201000213623047, 1.5382000207901, 1.409000039100647, 1.5740000009536743, 1.2892999649047852, 1.3610999584197998, 1.4241000413894653, 1.1892999410629272, 1.3911999464035034, 1.4320000410079956, 1.1588000059127808, 1.2067999839782715, 1.2445000410079956, 1.1287000179290771, 1.4253000020980835, 1.1282000541687012, 0.8838000297546387, 1.117799997329712, 0.9563000202178955, 1.1124999523162842, 0.8758999705314636, 0.9438999891281128, 1.2903000116348267, 1.132599949836731, 1.0611000061035156, 0.8860999941825867, 0.7085999846458435, 0.8623999953269958, 0.49959999322891235, 0.6134999990463257, 0.43459999561309814, 0.26759999990463257, 1.0300999879837036, 0.84170001745224, 0.4675999879837036, 0.4731000065803528, 0.6906999945640564, 0.31850001215934753, 0.2623000144958496, 0.1972000002861023, 0.40119999647140503, -0.614799976348877, -0.09279999881982803, -0.02419999986886978, 0.2232999950647354, 0.2603999972343445, 1.893399953842163, 1.8933000564575195, 1.8932000398635864, 1.8912999629974365, 1.8912999629974365, 1.8907999992370605, 1.8903000354766846, 1.8889000415802002, 1.8884999752044678, 1.8883999586105347, 1.8878999948501587, 1.8878999948501587, 1.8876999616622925, 1.8876999616622925, 1.8874000310897827, 1.8873000144958496, 1.8868999481201172, 1.8868000507354736, 1.886199951171875, 1.8854000568389893, 1.88510000705719, 1.88510000705719, 1.8848999738693237, 1.8847999572753906, 1.8840999603271484, 1.8839999437332153, 1.8839000463485718, 1.8839000463485718, 1.8839000463485718, 1.8838000297546387, 1.8747999668121338, 1.881600022315979, 1.8812999725341797, 1.8273999691009521, 1.8367999792099, 1.8671000003814697, 1.7064000368118286, 1.8634999990463257, 1.7252000570297241, 1.830199956893921, 1.563099980354309, 1.579300045967102, 1.6225999593734741, 1.6045000553131104, 1.4283000230789185, 1.6969000101089478, 1.6819000244140625, 1.3158999681472778, 1.4962999820709229, 1.5794999599456787, 1.4716999530792236, 1.4251999855041504, 1.3086999654769897, 1.2591999769210815, 1.302899956703186, 1.2412999868392944, 1.1859999895095825, 1.2756999731063843, 1.200700044631958, 1.3345999717712402, 1.270799994468689, 1.3138999938964844, 1.3938000202178955, 1.4026000499725342, 1.0577000379562378, 1.013800024986267, 1.159999966621399, 1.1612999439239502, 1.1557999849319458, 1.0214999914169312, 1.1646000146865845, 1.1999000310897827, 0.8858000040054321, 1.0082000494003296, 1.023800015449524, 0.5724999904632568, 0.5823000073432922, 0.6712999939918518, 0.6139000058174133, 0.6434999704360962, 0.43140000104904175, 0.9301000237464905, 0.8579000234603882, 0.5006999969482422, 0.2890999913215637, 0.19269999861717224, 0.1931000053882599, 0.08950000256299973, 0.6779000163078308, 0.009600000455975533, 0.3714999854564667, 0.5073999762535095, 0.13019999861717224, -0.5443000197410583, 1.9155999422073364, 1.9148000478744507, 1.9148000478744507, 1.9142999649047852, 1.9119000434875488, 1.9117000102996826, 1.9115999937057495, 1.9114999771118164, 1.9108999967575073, 1.9093999862670898, 1.9092999696731567, 1.9088000059127808, 1.9084999561309814, 1.9079999923706055, 1.9077999591827393, 1.9076000452041626, 1.9062999486923218, 1.905500054359436, 1.905500054359436, 1.9053000211715698, 1.9045000076293945, 1.904099941253662, 1.9038000106811523, 1.9033000469207764, 1.9032000303268433, 1.9026000499725342, 1.902500033378601, 1.9019999504089355, 1.9018000364303589, 1.9014999866485596, 1.9003000259399414, 1.9007999897003174, 1.8919999599456787, 1.7425999641418457, 1.7094000577926636, 1.864400029182434, 1.6683000326156616, 1.6605000495910645, 1.8417999744415283, 1.4559999704360962, 1.6598999500274658, 1.7496000528335571, 1.7965999841690063, 1.3389999866485596, 1.256100058555603, 1.631500005722046, 1.1612999439239502, 1.5110000371932983, 1.4144999980926514, 1.0044000148773193, 1.0750999450683594, 1.3208999633789062, 1.093999981880188, 1.072100043296814, 0.9689000248908997, 1.1335999965667725, 1.1361000537872314, 0.9591000080108643, 1.0705000162124634, 1.06850004196167, 1.0125000476837158, 0.6018999814987183, 0.8208000063896179, 1.1490000486373901, 0.9829000234603882, 0.6694999933242798, 0.7437999844551086, 1.0195000171661377, 0.5620999932289124, 0.8945000171661377, 0.42809998989105225, 0.4253000020980835, 0.3303999900817871, 0.14630000293254852, 0.6096000075340271, 0.24779999256134033, 0.49619999527931213, -0.11389999836683273, 0.5644000172615051, 0.0820000022649765, 0.13459999859333038, 0.47620001435279846, 0.4359000027179718, 2.023900032043457, 2.0220000743865967, 2.0220000743865967, 2.0218000411987305, 2.0215001106262207, 2.021399974822998, 2.0211000442504883, 2.020900011062622, 2.0208001136779785, 2.0204999446868896, 2.020400047302246, 2.0202999114990234, 2.0199999809265137, 2.01990008354187, 2.01990008354187, 2.0197999477386475, 2.019200086593628, 2.019200086593628, 2.0188000202178955, 2.0188000202178955, 2.018699884414673, 2.018699884414673, 2.018399953842163, 2.018399953842163, 2.0183000564575195, 2.0183000564575195, 2.018199920654297, 2.0179998874664307, 2.017899990081787, 2.0178000926971436, 2.0165998935699463, 2.000699996948242, 1.9982999563217163, 2.00600004196167, 2.0167999267578125, 2.0132999420166016, 2.0132999420166016, 1.9981000423431396, 1.9951000213623047, 2.0104000568389893, 2.015899896621704, 2.0102999210357666, 2.0046000480651855, 2.0160999298095703, 2.0139999389648438, 2.011199951171875, 2.0160999298095703, 2.0167999267578125, 1.9859999418258667, 1.9853999614715576, 1.9366999864578247, 2.011899948120117, 2.0109000205993652, 1.9402999877929688, 1.9564000368118286, 1.9607000350952148, 1.8775999546051025, 1.979699969291687, 1.9850000143051147, 1.9471999406814575, 1.9945000410079956, 1.8937000036239624, 1.9746999740600586, 1.979099988937378, 1.950600028038025, 1.894700050354004, 1.8518999814987183, 1.8833999633789062, 1.9021999835968018, 1.7843999862670898, 1.944000005722046, 1.8705999851226807, 1.867900013923645, 1.8712999820709229, 1.9350999593734741, 1.93340003490448, 1.8712999820709229, 1.9003000259399414, 1.8200000524520874, 1.8523000478744507, 1.8720999956130981, 1.5635000467300415, 1.5714999437332153, 1.785599946975708, 1.376099944114685, 1.6002000570297241, 0.6406000256538391, 0.6697999835014343, 1.5470999479293823, 1.2891000509262085, 1.086400032043457, 0.9180999994277954, 0.9135000109672546, 0.006599999964237213, 0.40849998593330383, 0.8147000074386597, 0.2797999978065491, -0.0478999987244606, -0.06859999895095825, 0.8245999813079834, 0.30320000648498535, 0.010300000198185444, -0.40790000557899475, 0.387800008058548, 0.06989999860525131, -0.5447999835014343, -0.5625, -0.6157000064849854, -0.7310000061988831, 2.355799913406372, 2.3552000522613525, 2.354300022125244, 2.3540000915527344, 2.35260009765625, 2.3524999618530273, 2.3524999618530273, 2.352400064468384, 2.352400064468384, 2.352299928665161, 2.352099895477295, 2.352099895477295, 2.352099895477295, 2.3519999980926514, 2.3515000343322754, 2.3513998985290527, 2.3513998985290527, 2.351099967956543, 2.3510000705718994, 2.3510000705718994, 2.3508999347686768, 2.350800037384033, 2.350800037384033, 2.3506999015808105, 2.350600004196167, 2.3505001068115234, 2.3505001068115234, 2.350399971008301, 2.3501999378204346, 2.3501999378204346, 2.3454999923706055, 2.3473000526428223, 2.3489999771118164, 2.3420000076293945, 2.3410000801086426, 2.3477001190185547, 2.3405001163482666, 2.348400115966797, 2.3494999408721924, 2.3496999740600586, 2.3036999702453613, 2.3231000900268555, 2.3326001167297363, 2.3287999629974365, 2.333699941635132, 2.338200092315674, 2.339600086212158, 2.2755000591278076, 2.3064000606536865, 2.2834999561309814, 2.3239998817443848, 2.312999963760376, 2.2311999797821045, 2.256200075149536, 2.2676000595092773, 2.3066999912261963, 2.305299997329712, 2.3164000511169434, 2.1552999019622803, 2.2565999031066895, 2.251499891281128, 2.2899999618530273, 2.2402000427246094, 2.291599988937378, 2.0385000705718994, 2.1584999561309814, 2.2534000873565674, 2.022700071334839, 2.2272000312805176, 2.237299919128418, 1.8008999824523926, 2.0429999828338623, 2.174799919128418, 2.2039999961853027, 2.0188000202178955, 2.0657999515533447, 2.0910000801086426, 1.8628000020980835, 1.7065000534057617, 1.8736000061035156, 1.5827000141143799, 1.7038999795913696, 1.6159000396728516, 2.1043999195098877, 1.542199969291687, 1.8645999431610107, 1.5262000560760498, 1.5986000299453735, 1.757200002670288, 1.6069999933242798, 1.398900032043457, 0.6269999742507935, 1.2109999656677246, 1.642699956893921, 1.7515000104904175, 1.2621999979019165, 0.6646000146865845, 1.5033999681472778, 1.0606000423431396, 0.7466999888420105, 0.3379000127315521, 0.3416000008583069, -0.2777000069618225, -0.27230000495910645, -0.3176000118255615, -0.4165000021457672, -0.0851999968290329, 0.4081999957561493, -0.04490000009536743, -1.2238999605178833, 0.1906999945640564, -0.7950999736785889, 2.5439999103546143, 2.5429000854492188, 2.5418999195098877, 2.5408999919891357, 2.5408999919891357, 2.5404000282287598, 2.539799928665161, 2.539599895477295, 2.5392000675201416, 2.539099931716919, 2.5390000343322754, 2.538599967956543, 2.5383999347686768, 2.538300037384033, 2.538100004196167, 2.537899971008301, 2.5378000736236572, 2.537600040435791, 2.5373001098632812, 2.5369999408721924, 2.536900043487549, 2.536799907684326, 2.5364999771118164, 2.5362000465393066, 2.535900115966797, 2.535900115966797, 2.5355000495910645, 2.535399913787842, 2.5353000164031982, 2.5353000164031982, 2.5251998901367188, 2.531599998474121, 2.5255000591278076, 2.5350000858306885, 2.533600091934204, 2.527100086212158, 2.533799886703491, 2.5339999198913574, 2.518199920654297, 2.5304999351501465, 2.5081000328063965, 2.527100086212158, 2.523200035095215, 2.3815999031066895, 2.4846999645233154, 2.4482998847961426, 2.4983999729156494, 2.523400068283081, 2.2481000423431396, 2.2620999813079834, 2.2620999813079834, 2.430299997329712, 2.315700054168701, 2.4458000659942627, 2.2797000408172607, 2.263200044631958, 1.9950000047683716, 2.14520001411438, 2.123199939727783, 2.3489999771118164, 2.404900074005127, 2.3977999687194824, 1.972100019454956, 2.0332000255584717, 2.3835999965667725, 1.957800030708313, 1.9781999588012695, 1.8930000066757202, 2.019200086593628, 2.044800043106079, 1.8590999841690063, 1.6247999668121338, 1.725600004196167, 1.899999976158142, 1.9865000247955322, 1.5194000005722046, 2.0571999549865723, 1.344099998474121, 1.5657000541687012, 1.3746000528335571, 1.566100001335144, 1.301800012588501, 1.5995999574661255, 1.0255999565124512, 0.9365000128746033, 0.6985999941825867, 0.798799991607666, 1.0706000328063965, 0.7929999828338623, 0.946399986743927, -0.3492000102996826, 0.5144000053405762, -0.24809999763965607, 0.7348999977111816, 0.09009999781847, -0.12359999865293503, 0.5461000204086304, -0.17800000309944153, -0.7756999731063843, -0.12849999964237213, -0.9606999754905701, 2.5480000972747803, 2.547300100326538, 2.5471999645233154, 2.546099901199341, 2.5459001064300537, 2.5457000732421875, 2.545599937438965, 2.545300006866455, 2.544800043106079, 2.5446999073028564, 2.5445001125335693, 2.544300079345703, 2.543800115585327, 2.5434999465942383, 2.5434999465942383, 2.5434000492095947, 2.543299913406372, 2.5432000160217285, 2.5429000854492188, 2.5427000522613525, 2.5423998832702637, 2.5418999195098877, 2.541800022125244, 2.541599988937378, 2.541300058364868, 2.541100025177002, 2.541100025177002, 2.5409998893737793, 2.5409998893737793, 2.5408999919891357, 2.5404000282287598, 2.5208001136779785, 2.5404999256134033, 2.540600061416626, 2.5392000675201416, 2.539099931716919, 2.54010009765625, 2.539900064468384, 2.5106000900268555, 2.530400037765503, 2.536600112915039, 2.515000104904175, 2.516700029373169, 2.536600112915039, 2.4900999069213867, 2.5100998878479004, 2.436800003051758, 2.467099905014038, 2.5083000659942627, 2.4075000286102295, 2.4528000354766846, 2.5137999057769775, 2.527600049972534, 2.4030001163482666, 2.2806999683380127, 2.493299961090088, 2.368299961090088, 2.1294000148773193, 2.2300000190734863, 2.3492000102996826, 2.1958000659942627, 2.4238998889923096, 2.2227001190185547, 2.209399938583374, 2.411400079727173, 2.141200065612793, 2.000999927520752, 2.2802000045776367, 2.074700117111206, 2.275700092315674, 1.9257999658584595, 1.8722000122070312, 2.007200002670288, 2.0429999828338623, 2.0257999897003174, 1.7904000282287598, 1.5444999933242798, 2.133500099182129, 1.4701000452041626, 1.801200032234192, 1.8553999662399292, 1.541200041770935, 1.5944000482559204, 1.5999000072479248, 1.430999994277954, 1.6366000175476074, 2.003200054168701, 1.692199945449829, -0.14300000667572021, 1.011199951171875, -0.2273000031709671, 0.6567000150680542, 1.15339994430542, 0.4433000087738037, -0.09019999951124191, -1.0185999870300293, -0.5677000284194946, -0.4458000063896179, -0.6097000241279602, -0.3327000141143799, 0.6402999758720398, 0.17069999873638153, 0.14480000734329224, -0.7973999977111816, 0.046799998730421066, -0.5626999735832214, 0.23569999635219574, -0.47029998898506165, -1.1604000329971313, -1.5516999959945679, -0.661899983882904, 0.19280000030994415, 2.594099998474121, 2.5934998989105225, 2.593400001525879, 2.5931999683380127, 2.5931999683380127, 2.5927000045776367, 2.5917000770568848, 2.5915000438690186, 2.5913000106811523, 2.5910000801086426, 2.5908000469207764, 2.5906999111175537, 2.5906999111175537, 2.590399980545044, 2.5901999473571777, 2.5901999473571777, 2.590100049972534, 2.5899999141693115, 2.589900016784668, 2.5897998809814453, 2.5896999835968018, 2.5896999835968018, 2.589600086212158, 2.5894999504089355, 2.589400053024292, 2.589400053024292, 2.589200019836426, 2.589200019836426, 2.589200019836426, 2.589099884033203, 2.5882999897003174, 2.5848000049591064, 2.586699962615967, 2.578200101852417, 2.587899923324585, 2.588599920272827, 2.58489990234375, 2.5859999656677246, 2.587599992752075, 2.5871999263763428, 2.5871999263763428, 2.5887999534606934, 2.5838000774383545, 2.5587000846862793, 2.5687999725341797, 2.5555999279022217, 2.5703999996185303, 2.581399917602539, 2.5785999298095703, 2.4372000694274902, 2.563999891281128, 2.5035998821258545, 2.4820001125335693, 2.4191999435424805, 2.4797000885009766, 2.5176000595092773, 2.5309998989105225, 2.382200002670288, 2.392199993133545, 2.265000104904175, 2.3378000259399414, 2.4867000579833984, 2.424099922180176, 2.29010009765625, 2.402600049972534, 2.281399965286255, 2.445199966430664, 1.9488999843597412, 1.9345999956130981, 2.301800012588501, 1.745300054550171, 1.7541999816894531, 1.8812999725341797, 0.9804999828338623, 2.1335999965667725, 2.2860000133514404, 1.9206000566482544, 1.4325000047683716, 1.5146000385284424, 0.5023999810218811, 1.7121000289916992, 1.0866999626159668, 1.5364999771118164, 1.7515000104904175, 1.3113000392913818, 0.18850000202655792, 1.129699945449829, 1.4325000047683716, 0.0754999965429306, 1.2687000036239624, 0.3716999888420105, 0.8583999872207642, -0.057500001043081284, -0.030700000002980232, -0.12099999934434891, -0.45239999890327454, 0.40369999408721924, -0.2971000075340271, -0.6829000115394592, 0.3361999988555908, -0.82669997215271, 0.5665000081062317, -0.1606999933719635, 2.9865000247955322, 2.9863998889923096, 2.986299991607666, 2.9860000610351562, 2.9848999977111816, 2.984600067138672, 2.984100103378296, 2.9839999675750732, 2.9835000038146973, 2.9835000038146973, 2.9830000400543213, 2.9827001094818115, 2.9827001094818115, 2.982599973678589, 2.9821999073028564, 2.982100009918213, 2.9818999767303467, 2.9818999767303467, 2.981800079345703, 2.9814999103546143, 2.9814999103546143, 2.981100082397461, 2.9807000160217285, 2.980600118637085, 2.980600118637085, 2.9804999828338623, 2.9800000190734863, 2.9800000190734863, 2.9798998832702637, 2.9797000885009766, 2.9746999740600586, 2.9553000926971436, 2.977400064468384, 2.9326000213623047, 2.9351999759674072, 2.966399908065796, 2.8224000930786133, 2.957900047302246, 2.93149995803833, 2.963399887084961, 2.8529999256134033, 2.9017999172210693, 2.9512999057769775, 2.9072000980377197, 2.9570999145507812, 2.655600070953369, 2.9319000244140625, 2.546299934387207, 2.714900016784668, 2.579900026321411, 2.865999937057495, 2.585599899291992, 2.694700002670288, 2.528899908065796, 2.251499891281128, 2.808500051498413, 2.1273999214172363, 2.6043999195098877, 2.6059999465942383, 2.511899948120117, 2.216099977493286, 2.094399929046631, 2.5769999027252197, 2.210700035095215, 2.3585000038146973, 2.100100040435791, 2.15120005607605, 2.0148000717163086, 2.136699914932251, 1.6181000471115112, 1.3913999795913696, 1.2477999925613403, 1.8782000541687012, 0.9337999820709229, 1.9677000045776367, 0.23829999566078186, 0.5791000127792358, 0.4284000098705292, 0.2492000013589859, 1.23989999294281, 0.7519000172615051, 0.121799997985363, -0.3521000146865845, 0.32589998841285706, -0.15410000085830688, 0.13670000433921814, 0.9455000162124634, -0.8544999957084656, -0.9941999912261963, 0.15449999272823334, 3.29259991645813, 3.2925000190734863, 3.29229998588562, 3.290600061416626, 3.2901999950408936, 3.2899999618530273, 3.289799928665161, 3.289400100708008, 3.2892000675201416, 3.2890000343322754, 3.2888998985290527, 3.2887001037597656, 3.288100004196167, 3.2880001068115234, 3.2878000736236572, 3.287600040435791, 3.287600040435791, 3.2873001098632812, 3.2873001098632812, 3.2871999740600586, 3.287100076675415, 3.287100076675415, 3.287100076675415, 3.287100076675415, 3.286900043487549, 3.286799907684326, 3.286799907684326, 3.286600112915039, 3.286400079727173, 3.28629994392395, 3.281599998474121, 3.2822000980377197, 3.2862000465393066, 3.284899950027466, 3.282900094985962, 3.2701001167297363, 3.279099941253662, 3.2643001079559326, 3.2200000286102295, 3.1998000144958496, 3.239300012588501, 3.1900999546051025, 3.1805999279022217, 3.1166000366210938, 3.2202999591827393, 3.267199993133545, 3.2037999629974365, 3.212599992752075, 3.125999927520752, 3.1196000576019287, 3.097399950027466, 3.065000057220459, 3.1285998821258545, 3.2032999992370605, 2.7590999603271484, 2.5597000122070312, 2.346100091934204, 2.5557000637054443, 3.0996999740600586, 2.796099901199341, 2.5497000217437744, 2.5243000984191895, 2.6719000339508057, 2.404400110244751, 1.8803999423980713, 2.0497000217437744, 2.1338000297546387, 2.5703999996185303, 1.9495999813079834, 2.420599937438965, 2.799499988555908, 2.7815001010894775, 2.9728000164031982, 2.6779000759124756, 2.3810999393463135, 1.6440999507904053, 1.5670000314712524, 1.7755000591278076, 2.2249999046325684, 1.4456000328063965, 0.11069999635219574, 1.4335999488830566, 2.2662999629974365, 0.9725000262260437, 0.03889999911189079, 0.9527999758720398, 1.0022000074386597, -0.13529999554157257, 1.0635000467300415, 0.6177999973297119, 0.19789999723434448, -0.3878999948501587, -1.0850000381469727, -1.3938000202178955, -0.4681999981403351], \"logprob\": [30.0, 29.0, 28.0, 27.0, 26.0, 25.0, 24.0, 23.0, 22.0, 21.0, 20.0, 19.0, 18.0, 17.0, 16.0, 15.0, 14.0, 13.0, 12.0, 11.0, 10.0, 9.0, 8.0, 7.0, 6.0, 5.0, 4.0, 3.0, 2.0, 1.0, -9.473999977111816, -9.503999710083008, -9.592900276184082, -9.754599571228027, -9.972299575805664, -10.001299858093262, -10.099699974060059, -10.344799995422363, -10.345399856567383, -10.437399864196777, -10.1496000289917, -10.541000366210938, -9.164600372314453, -10.533599853515625, -10.192399978637695, -10.67590045928955, -10.687199592590332, -10.755399703979492, -10.871700286865234, -10.854000091552734, -10.919400215148926, -10.960399627685547, -10.974499702453613, -10.978300094604492, -10.824899673461914, -10.991000175476074, -11.019100189208984, -11.038200378417969, -11.081199645996094, -10.960000038146973, -9.416299819946289, -9.555100440979004, -10.58549976348877, -2.8545000553131104, -9.58080005645752, -10.168800354003906, -9.959400177001953, -5.331900119781494, -5.84250020980835, -4.562300205230713, -9.159199714660645, -5.519199848175049, -7.796999931335449, -6.730899810791016, -5.398900032043457, -7.422900199890137, -4.309299945831299, -5.420499801635742, -6.624599933624268, -4.84250020980835, -6.5345001220703125, -7.002799987792969, -4.952199935913086, -5.47790002822876, -5.8414998054504395, -5.201300144195557, -7.224999904632568, -5.341400146484375, -3.8592000007629395, -5.3628997802734375, -4.405399799346924, -5.463200092315674, -4.153800010681152, -4.660900115966797, -6.48960018157959, -5.735499858856201, -5.380099773406982, -4.691699981689453, -4.146399974822998, -4.987299919128418, -3.8510000705718994, -4.271699905395508, -4.399600028991699, -4.1433000564575195, -5.775000095367432, -5.4629998207092285, -4.864299774169922, -4.9644999504089355, -5.233399868011475, -4.915500164031982, -4.921999931335449, -4.958600044250488, -5.086100101470947, -4.654600143432617, -4.918799877166748, -5.017499923706055, -5.099599838256836, -5.145100116729736, -9.401100158691406, -9.418299674987793, -9.22700023651123, -9.805500030517578, -9.954099655151367, -9.775899887084961, -10.136199951171875, -10.119799613952637, -10.359399795532227, -10.062999725341797, -10.464799880981445, -9.984199523925781, -10.099200248718262, -10.494099617004395, -10.153300285339355, -10.491299629211426, -10.546600341796875, -10.54259967803955, -10.640000343322754, -10.727999687194824, -10.716099739074707, -10.751099586486816, -10.7746000289917, -10.77910041809082, -10.840800285339355, -10.529899597167969, -10.755200386047363, -10.855199813842773, -10.799699783325195, -10.737799644470215, -9.718500137329102, -10.694700241088867, -10.684499740600586, -9.0108003616333, -9.262499809265137, -10.318300247192383, -7.199699878692627, -10.334799766540527, -8.054300308227539, -9.878199577331543, -5.770100116729736, -6.240300178527832, -6.976799964904785, -6.748199939727783, -4.98199987411499, -8.150300025939941, -8.008500099182129, -4.171500205993652, -6.0843000411987305, -7.373899936676025, -6.292699813842773, -6.043900012969971, -5.007800102233887, -4.759500026702881, -5.146699905395508, -4.6975998878479, -4.489699840545654, -5.170599937438965, -4.787700176239014, -5.939899921417236, -5.559599876403809, -6.007400035858154, -6.510300159454346, -6.649899959564209, -4.947800159454346, -4.718500137329102, -5.525899887084961, -5.630000114440918, -5.611599922180176, -5.067500114440918, -5.760000228881836, -5.920000076293945, -4.8343000411987305, -5.305500030517578, -5.358500003814697, -4.253499984741211, -4.447299957275391, -4.660600185394287, -4.541999816894531, -4.838799953460693, -4.5619001388549805, -5.442999839782715, -5.384900093078613, -4.98859977722168, -4.752799987792969, -4.662399768829346, -4.6921000480651855, -4.692800045013428, -5.248300075531006, -4.82450008392334, -5.065999984741211, -5.1844000816345215, -5.054100036621094, -4.894899845123291, -9.281000137329102, -9.573599815368652, -9.582900047302246, -9.102100372314453, -10.166799545288086, -10.200300216674805, -10.215200424194336, -10.226400375366211, -10.3149995803833, -10.498200416564941, -10.513299942016602, -10.451499938964844, -10.485699653625488, -10.643099784851074, -10.667799949645996, -10.681900024414062, -10.77649974822998, -10.218600273132324, -10.648799896240234, -10.804400444030762, -10.904800415039062, -10.965399742126465, -10.986300468444824, -11.000100135803223, -11.027299880981445, -11.069000244140625, -11.072099685668945, -11.101099967956543, -11.096199989318848, -11.136899948120117, -10.494799613952637, -10.919099807739258, -10.36139965057373, -3.250999927520752, -4.084099769592285, -9.277099609375, -3.7948999404907227, -5.566400051116943, -9.782600402832031, -3.5160999298095703, -7.383399963378906, -8.93019962310791, -9.490300178527832, -4.304599761962891, -4.250999927520752, -8.04010009765625, -3.8805999755859375, -7.154900074005127, -6.479800224304199, -3.3461999893188477, -4.1596999168396, -5.999100208282471, -4.431300163269043, -4.493899822235107, -4.186999797821045, -5.239200115203857, -5.294600009918213, -4.225200176239014, -5.187699794769287, -5.189799785614014, -5.266900062561035, -3.4379000663757324, -4.495299816131592, -6.015999794006348, -5.327700138092041, -4.164700031280518, -4.490200042724609, -5.639200210571289, -4.43120002746582, -5.38670015335083, -4.314899921417236, -4.35699987411499, -4.49560022354126, -4.203400135040283, -4.995200157165527, -4.6072998046875, -4.909299850463867, -4.524799823760986, -5.013500213623047, -4.803199768066406, -4.895100116729736, -5.006100177764893, -5.001699924468994, -8.397500038146973, -8.985199928283691, -8.99429988861084, -8.954099655151367, -9.471599578857422, -8.852999687194824, -8.674799919128418, -9.446900367736816, -9.55739974975586, -9.690799713134766, -9.117600440979004, -9.560500144958496, -9.800399780273438, -9.768199920654297, -9.850700378417969, -9.695099830627441, -9.633999824523926, -9.935099601745605, -10.033100128173828, -9.996500015258789, -10.047499656677246, -9.893099784851074, -10.007599830627441, -10.07800006866455, -10.083900451660156, -9.76729965209961, -10.045999526977539, -10.112600326538086, -10.062899589538574, -10.181500434875488, -3.8427999019622803, -4.554599761962891, -5.816400051116943, -6.827400207519531, -7.989099979400635, -7.789000034332275, -8.324000358581543, -7.000699996948242, -6.743599891662598, -8.369999885559082, -8.962400436401367, -8.541099548339844, -8.051400184631348, -9.246000289916992, -9.0649995803833, -8.80090045928955, -9.296099662780762, -9.384400367736816, -6.471399784088135, -6.5868000984191895, -4.30109977722168, -9.036399841308594, -8.992400169372559, -5.841100215911865, -6.407599925994873, -6.790200233459473, -4.159800052642822, -7.590700149536133, -7.8333001136779785, -6.630899906158447, -8.251999855041504, -5.683899879455566, -7.757500171661377, -7.925099849700928, -7.24459981918335, -6.0894999504089355, -5.312699794769287, -6.197000026702881, -6.527100086212158, -4.749599933624268, -7.321800231933594, -6.197500228881836, -6.231299877166748, -6.471399784088135, -7.307400226593018, -7.310200214385986, -6.729899883270264, -7.026199817657471, -6.427999973297119, -6.850800037384033, -6.978700160980225, -5.524199962615967, -5.591899871826172, -6.61929988861084, -5.41510009765625, -6.116499900817871, -3.399199962615967, -3.7411999702453613, -6.029099941253662, -5.537499904632568, -5.4807000160217285, -5.340099811553955, -5.344799995422363, -4.343900203704834, -4.825399875640869, -5.459000110626221, -4.9710001945495605, -4.881999969482422, -4.894599914550781, -5.622300148010254, -5.388599872589111, -5.3059000968933105, -5.151000022888184, -5.614200115203857, -5.573599815368652, -5.516900062561035, -5.604400157928467, -5.609000205993652, -5.616199970245361, -6.94789981842041, -8.462499618530273, -8.869199752807617, -8.98639965057373, -8.752699851989746, -9.0649995803833, -8.851699829101562, -8.914999961853027, -8.706899642944336, -9.364299774169922, -8.693599700927734, -9.34160041809082, -9.431900024414062, -9.394700050354004, -9.197500228881836, -9.080300331115723, -8.85949993133545, -9.322199821472168, -9.388999938964844, -9.36359977722168, -9.325699806213379, -9.695300102233887, -9.556099891662598, -9.573699951171875, -9.697099685668945, -9.737799644470215, -9.44159984588623, -9.678400039672852, -9.704299926757812, -9.790300369262695, -6.734499931335449, -7.6519999504089355, -8.154800415039062, -8.08530044555664, -7.993500232696533, -8.829000473022461, -8.169599533081055, -9.07699966430664, -9.193400382995605, -9.244199752807617, -5.801799774169922, -6.828499794006348, -7.589000225067139, -8.133899688720703, -8.390399932861328, -8.637499809265137, -8.739999771118164, -6.077000141143799, -7.235599994659424, -6.598800182342529, -8.174500465393066, -7.873700141906738, -5.780600070953369, -6.386899948120117, -6.775000095367432, -7.7743000984191895, -7.754199981689453, -8.148699760437012, -5.176599979400635, -7.182700157165527, -7.12470006942749, -7.782199859619141, -7.223700046539307, -7.917300224304199, -5.080599784851074, -6.472700119018555, -7.546800136566162, -5.688000202178955, -7.365499973297119, -7.459400177001953, -4.709700107574463, -6.210899829864502, -7.077499866485596, -7.2708001136779785, -6.322299957275391, -6.575799942016602, -6.741799831390381, -5.662600040435791, -5.295000076293945, -6.071599960327148, -4.980199813842773, -5.4471001625061035, -5.603000164031982, -6.969799995422363, -5.5167999267578125, -6.3755998611450195, -5.656300067901611, -5.86929988861084, -6.236499786376953, -5.9934000968933105, -5.7210001945495605, -4.704899787902832, -5.518199920654297, -6.099899768829346, -6.288899898529053, -5.855299949645996, -5.402100086212158, -6.081600189208984, -5.77370023727417, -5.579899787902832, -5.337800025939941, -5.390699863433838, -5.059899806976318, -5.15749979019165, -5.143599987030029, -5.271500110626221, -5.446800231933594, -5.655099868774414, -5.6350998878479, -5.634799957275391, -5.797699928283691, -5.788400173187256, -8.364299774169922, -8.30780029296875, -9.048999786376953, -9.295999526977539, -9.302499771118164, -9.382599830627441, -9.497599601745605, -9.508999824523926, -9.576600074768066, -8.107099533081055, -9.631600379943848, -9.68280029296875, -9.678799629211426, -9.720399856567383, -9.661999702453613, -9.758199691772461, -9.781200408935547, -9.814200401306152, -9.824199676513672, -9.208399772644043, -9.55620002746582, -9.868800163269043, -9.76710033416748, -9.930500030517578, -9.990300178527832, -9.909700393676758, -10.028400421142578, -10.016599655151367, -10.015899658203125, -10.044899940490723, -5.670100212097168, -8.459600448608398, -7.995800018310547, -9.258999824523926, -9.18809986114502, -8.809200286865234, -9.514200210571289, -9.586199760437012, -8.555500030517578, -9.247599601745605, -8.187700271606445, -9.181699752807617, -9.050800323486328, -5.341300010681152, -7.998899936676025, -7.36959981918335, -8.705599784851074, -9.331600189208984, -4.466100215911865, -5.644000053405762, -6.198500156402588, -8.140299797058105, -6.934700012207031, -8.440999984741211, -6.8069000244140625, -6.738699913024902, -4.6570000648498535, -5.901000022888184, -5.843599796295166, -7.68149995803833, -8.138999938964844, -8.08530044555664, -4.899099826812744, -5.409900188446045, -8.074799537658691, -5.474899768829346, -5.771399974822998, -5.377999782562256, -6.043799877166748, -6.223499774932861, -5.360300064086914, -4.401700019836426, -4.921999931335449, -5.783999919891357, -6.19950008392334, -4.363500118255615, -6.493100166320801, -3.9786999225616455, -4.872200012207031, -4.653299808502197, -5.2606000900268555, -4.831200122833252, -5.570199966430664, -4.456699848175049, -4.314300060272217, -4.083600044250488, -4.562900066375732, -5.162099838256836, -4.898799896240234, -5.238399982452393, -4.388999938964844, -4.974999904632568, -4.658999919891357, -5.190100193023682, -4.903200149536133, -4.9496002197265625, -5.186200141906738, -5.033100128173828, -5.125400066375732, -5.31279993057251, -5.311200141906738, -8.246500015258789, -8.625900268554688, -8.631199836730957, -8.97070026397705, -8.899800300598145, -9.091500282287598, -9.134699821472168, -9.165900230407715, -9.274200439453125, -9.309399604797363, -8.69159984588623, -9.355999946594238, -9.410200119018555, -9.522100448608398, -9.42140007019043, -9.507800102233887, -9.41450023651123, -9.442299842834473, -9.618800163269043, -9.634499549865723, -9.503800392150879, -9.188400268554688, -9.578499794006348, -9.743599891662598, -9.72189998626709, -9.465499877929688, -9.525500297546387, -9.772100448608398, -9.855299949645996, -9.838600158691406, -8.63759994506836, -7.029099941253662, -9.027000427246094, -9.034099578857422, -9.046099662780762, -9.044400215148926, -9.236200332641602, -9.303799629211426, -6.780900001525879, -8.435099601745605, -9.208100318908691, -8.382499694824219, -8.468400001525879, -9.2298002243042, -7.912799835205078, -8.589599609375, -7.135499954223633, -7.803699970245361, -8.615500450134277, -6.720200061798096, -7.639100074768066, -8.77750015258789, -9.052599906921387, -7.404399871826172, -6.254499912261963, -8.668999671936035, -7.448800086975098, -5.352499961853027, -6.375699996948242, -7.424600124359131, -6.411300182342529, -8.144200325012207, -6.772600173950195, -6.888999938964844, -8.147000312805176, -6.542300224304199, -5.751699924468994, -7.3668999671936035, -6.661399841308594, -7.560800075531006, -6.130799770355225, -5.920199871063232, -6.517899990081787, -6.777599811553955, -6.8078999519348145, -6.061100006103516, -5.378300189971924, -7.2170000076293945, -5.364200115203857, -6.346099853515625, -6.523399829864502, -5.925300121307373, -6.134500026702881, -6.1697001457214355, -6.101399898529053, -6.457600116729736, -6.9664998054504395, -6.607699871063232, -4.553899765014648, -5.990300178527832, -5.112500190734863, -5.824699878692627, -6.189000129699707, -5.789400100708008, -5.49560022354126, -5.0584001541137695, -5.349999904632568, -5.439199924468994, -5.443900108337402, -5.5665998458862305, -5.996500015258789, -5.866700172424316, -5.883200168609619, -5.6234002113342285, -5.897500038146973, -5.813399791717529, -6.0071001052856445, -5.907899856567383, -5.90339994430542, -5.902200222015381, -5.984799861907959, -6.080900192260742, -7.1118998527526855, -7.351799964904785, -6.499800205230713, -7.8059000968933105, -8.033100128173828, -8.263199806213379, -7.605299949645996, -8.746999740600586, -8.847399711608887, -8.840900421142578, -8.683899879455566, -8.850199699401855, -9.001700401306152, -9.036299705505371, -8.169500350952148, -9.10159969329834, -9.144000053405762, -7.406899929046631, -9.183600425720215, -9.187199592590332, -8.881999969482422, -9.210399627685547, -8.935500144958496, -8.787199974060059, -9.22070026397705, -9.253899574279785, -8.022199630737305, -8.615099906921387, -9.30370044708252, -8.553000450134277, -6.3790998458862305, -7.158699989318848, -7.436699867248535, -6.8383002281188965, -7.970200061798096, -8.044400215148926, -7.696599960327148, -7.8454999923706055, -8.217100143432617, -8.248900413513184, -8.336899757385254, -8.629799842834473, -8.153599739074707, -6.701700210571289, -7.308499813079834, -6.676400184631348, -7.784299850463867, -8.28320026397705, -8.228899955749512, -4.355400085449219, -7.852799892425537, -6.554999828338623, -6.26639986038208, -5.1244001388549805, -6.389699935913086, -7.171299934387207, -7.478700160980225, -6.016499996185303, -6.225800037384033, -5.094900131225586, -5.817800045013428, -7.145400047302246, -6.7581000328063965, -5.856100082397461, -6.668399810791016, -6.10860013961792, -7.110799789428711, -5.011199951171875, -5.107999801635742, -6.596499919891357, -4.627500057220459, -4.84060001373291, -5.423900127410889, -3.059299945831299, -6.360899925231934, -6.715400218963623, -6.054100036621094, -5.256899833679199, -5.423600196838379, -3.908600091934204, -5.833600044250488, -5.220600128173828, -5.81850004196167, -6.029799938201904, -5.618199825286865, -4.593800067901611, -5.453199863433838, -5.747000217437744, -4.966400146484375, -5.733399868011475, -5.271900177001953, -5.610599994659424, -5.291500091552734, -5.34689998626709, -5.526500225067139, -5.446100234985352, -5.659599781036377, -5.547900199890137, -5.517099857330322, -5.6656999588012695, -5.569699764251709, -5.699900150299072, -5.685999870300293, -8.261799812316895, -8.370200157165527, -8.265299797058105, -8.389300346374512, -8.757800102233887, -8.821900367736816, -7.538000106811523, -8.154999732971191, -8.930999755859375, -8.671099662780762, -8.659199714660645, -8.939900398254395, -9.071499824523926, -7.781599998474121, -9.226300239562988, -9.236000061035156, -9.246800422668457, -9.264699935913086, -8.799799919128418, -9.274900436401367, -9.30370044708252, -9.254400253295898, -9.403300285339355, -9.41510009765625, -8.515000343322754, -9.306300163269043, -9.204700469970703, -9.432499885559082, -9.491000175476074, -9.324199676513672, -5.125199794769287, -6.527400016784668, -9.068499565124512, -5.97599983215332, -6.289700031280518, -8.516799926757812, -3.918600082397461, -8.450499534606934, -7.773799896240234, -8.749300003051758, -6.441800117492676, -7.44350004196167, -8.635899543762207, -7.872600078582764, -8.78950023651123, -5.081399917602539, -8.455900192260742, -4.448999881744385, -6.249499797821045, -5.176700115203857, -7.7947001457214355, -5.492599964141846, -6.454899787902832, -5.122900009155273, -2.983299970626831, -7.475500106811523, -3.765500068664551, -6.634900093078613, -6.649600028991699, -6.308499813079834, -5.244200229644775, -4.761000156402588, -6.710299968719482, -5.491099834442139, -6.041999816894531, -5.377500057220459, -5.705599784851074, -5.444799900054932, -5.757999897003174, -4.514900207519531, -4.013999938964844, -4.068299770355225, -5.304299831390381, -3.809299945831299, -5.8445000648498535, -3.801500082015991, -4.203100204467773, -4.426700115203857, -4.636000156402588, -5.446300029754639, -5.192399978637695, -4.871500015258789, -4.702700138092041, -5.111700057983398, -4.980100154876709, -5.114099979400635, -5.361800193786621, -5.265399932861328, -5.343900203704834, -5.411399841308594, -7.350200176239014, -7.318399906158447, -7.602099895477295, -8.21399974822998, -8.304400444030762, -8.375100135803223, -8.43809986114502, -8.515600204467773, -8.525500297546387, -8.565899848937988, -8.531200408935547, -8.43809986114502, -8.751700401306152, -8.453900337219238, -8.737700462341309, -8.638400077819824, -7.330599784851074, -8.867500305175781, -7.889599800109863, -8.49269962310791, -8.509099960327148, -8.892900466918945, -8.873499870300293, -8.748000144958496, -8.918000221252441, -8.772500038146973, -8.793800354003906, -8.96679973602295, -8.960800170898438, -8.985099792480469, -6.993000030517578, -7.4045000076293945, -8.070199966430664, -7.994100093841553, -8.325699806213379, -7.788899898529053, -8.307700157165527, -7.681099891662598, -5.806099891662598, -5.320899963378906, -6.709400177001953, -5.5792999267578125, -5.86870002746582, -5.158400058746338, -7.2870001792907715, -8.235799789428711, -7.4903998374938965, -7.60890007019043, -6.656700134277344, -6.617400169372559, -6.6855998039245605, -6.421599864959717, -7.11299991607666, -7.774799823760986, -4.972099781036377, -4.129700183868408, -3.2441000938415527, -4.425000190734863, -7.265200138092041, -5.797999858856201, -4.771699905395508, -4.776500225067139, -5.688700199127197, -4.888299942016602, -3.435699939727783, -4.017000198364258, -4.296899795532227, -5.621200084686279, -4.530600070953369, -5.549200057983398, -6.532199859619141, -6.548799991607666, -6.854300022125244, -6.427199840545654, -6.000400066375732, -5.037600040435791, -5.162199974060059, -5.494699954986572, -5.966700077056885, -5.292399883270264, -4.300300121307373, -5.455399990081787, -6.043700218200684, -5.286900043487549, -4.795199871063232, -5.313499927520752, -5.339200019836426, -5.020500183105469, -5.4054999351501465, -5.38539981842041, -5.327400207519531, -5.429800033569336, -5.434800148010254, -5.433599948883057, -5.4618000984191895]}, \"token.table\": {\"Topic\": [6, 3, 3, 5, 7, 9, 3, 4, 6, 8, 9, 10, 9, 5, 2, 5, 7, 9, 7, 3, 5, 1, 2, 3, 4, 5, 6, 7, 8, 9, 10, 2, 3, 4, 8, 9, 10, 1, 2, 3, 4, 5, 6, 7, 8, 9, 10, 8, 1, 2, 3, 4, 5, 6, 7, 8, 9, 10, 2, 3, 4, 5, 1, 2, 3, 4, 5, 6, 7, 8, 9, 10, 1, 2, 3, 4, 5, 6, 7, 8, 9, 10, 5, 1, 2, 3, 4, 5, 6, 7, 8, 9, 10, 3, 9, 7, 1, 2, 3, 4, 5, 6, 7, 8, 9, 10, 1, 2, 3, 4, 5, 6, 7, 8, 9, 10, 1, 10, 5, 9, 10, 1, 8, 5, 7, 1, 2, 4, 5, 6, 7, 8, 10, 1, 2, 5, 1, 9, 10, 1, 4, 6, 9, 10, 1, 6, 7, 1, 2, 3, 4, 5, 6, 7, 8, 9, 10, 1, 3, 6, 9, 2, 5, 6, 7, 10, 1, 2, 3, 4, 5, 6, 7, 8, 9, 10, 1, 5, 6, 7, 8, 9, 1, 2, 3, 4, 5, 6, 7, 8, 9, 10, 2, 3, 1, 2, 3, 4, 5, 6, 7, 8, 9, 10, 1, 2, 3, 4, 5, 6, 7, 8, 9, 10, 1, 2, 3, 4, 5, 6, 7, 8, 9, 10, 1, 2, 3, 4, 5, 6, 7, 8, 9, 10, 1, 2, 3, 4, 5, 6, 7, 8, 9, 10, 6, 10, 10, 4, 4, 7, 8, 9, 1, 2, 3, 4, 5, 6, 7, 8, 9, 10, 2, 10, 1, 2, 3, 4, 6, 7, 8, 9, 10, 8, 1, 2, 3, 4, 5, 6, 7, 8, 9, 10, 1, 2, 3, 4, 5, 6, 7, 8, 9, 10, 1, 1, 2, 3, 4, 5, 6, 7, 8, 9, 10, 6, 4, 9, 3, 4, 8, 9, 10, 1, 2, 4, 5, 6, 7, 8, 10, 1, 2, 3, 4, 5, 6, 7, 8, 9, 10, 1, 2, 3, 4, 5, 6, 7, 8, 9, 10, 5, 7, 4, 1, 2, 3, 4, 5, 6, 7, 8, 9, 10, 1, 2, 3, 4, 5, 6, 7, 8, 9, 10, 2, 1, 2, 3, 4, 5, 6, 7, 8, 9, 10, 1, 2, 3, 4, 5, 6, 7, 8, 9, 10, 4, 7, 3, 6, 1, 2, 3, 4, 5, 6, 7, 8, 9, 10, 1, 2, 3, 4, 5, 6, 7, 8, 9, 10, 1, 6, 8, 1, 2, 3, 4, 5, 6, 7, 8, 9, 10, 4, 1, 2, 3, 4, 5, 6, 7, 8, 9, 10, 1, 4, 5, 7, 8, 9, 10, 2, 6, 8, 9, 10, 1, 3, 4, 6, 7, 8, 9, 10, 3, 4, 7, 8, 9, 10, 4, 8, 10, 1, 2, 3, 4, 5, 6, 7, 8, 9, 10, 6, 1, 2, 3, 4, 5, 6, 7, 8, 9, 10, 1, 2, 3, 4, 5, 6, 7, 8, 9, 10, 1, 2, 3, 4, 5, 6, 7, 8, 9, 10, 1, 2, 3, 4, 5, 6, 7, 8, 9, 10, 1, 2, 3, 4, 5, 6, 7, 8, 9, 10, 2, 1, 2, 3, 4, 5, 6, 7, 8, 9, 10, 1, 2, 3, 4, 5, 6, 7, 8, 9, 10, 1, 2, 3, 4, 5, 6, 7, 8, 9, 10, 10, 1, 2, 3, 4, 5, 6, 7, 8, 9, 10, 3, 10, 9, 2, 1, 2, 3, 4, 5, 6, 7, 8, 9, 10, 10, 5, 7, 8, 1, 2, 3, 4, 5, 6, 7, 8, 9, 10, 6, 1, 2, 3, 4, 5, 6, 7, 8, 9, 10, 1, 2, 3, 4, 5, 6, 7, 8, 9, 10, 1, 2, 3, 4, 5, 6, 7, 8, 9, 10, 6, 7, 8, 3, 1, 4, 9, 5, 3, 4, 6, 10, 1, 2, 3, 4, 5, 6, 7, 8, 9, 10, 1, 2, 3, 4, 5, 6, 7, 8, 9, 10, 1, 2, 3, 4, 5, 6, 7, 8, 9, 10, 7, 3, 4, 7, 8, 1, 2, 3, 4, 5, 6, 7, 8, 9, 10, 1, 4, 9, 7, 8, 8, 9, 1, 3, 4, 7, 8, 9, 10, 1, 2, 3, 4, 5, 6, 7, 8, 9, 10, 4, 8, 4, 6, 8, 1, 2, 3, 4, 5, 6, 7, 8, 9, 10, 1, 2, 3, 4, 5, 7, 8, 9, 10, 1, 3, 4, 5, 6, 7, 8, 9, 10, 1, 7, 7, 10, 1, 2, 3, 4, 5, 6, 7, 8, 9, 10, 4, 1, 2, 3, 4, 5, 6, 7, 8, 9, 10, 9, 3, 8, 10, 1, 2, 3, 4, 5, 6, 7, 8, 9, 10, 1, 2, 3, 4, 5, 6, 7, 8, 9, 10, 1, 2, 3, 4, 5, 6, 7, 8, 9, 10, 5, 5, 8, 7, 10, 1, 2, 3, 4, 5, 6, 7, 8, 9, 10, 1, 2, 3, 4, 5, 6, 7, 8, 9, 10, 1, 2, 3, 4, 5, 6, 7, 8, 9, 10, 1, 7, 8, 10, 1, 2, 3, 4, 5, 6, 7, 8, 9, 10, 1, 2, 3, 5, 6, 7, 8, 9, 10, 5, 7, 1, 2, 3, 4, 5, 6, 7, 8, 9, 10, 1, 2, 3, 4, 5, 6, 7, 8, 9, 10, 1, 2, 3, 4, 5, 6, 7, 8, 9, 10, 2, 2, 5, 1, 2, 3, 4, 5, 6, 7, 8, 9, 10, 3, 4, 7, 8, 9, 10, 5, 1, 2, 3, 4, 5, 6, 7, 8, 9, 10, 1, 2, 3, 4, 5, 6, 7, 8, 9, 10, 1, 2, 3, 4, 5, 6, 7, 9, 10, 4, 7, 8, 1, 2, 3, 4, 5, 6, 7, 8, 9, 10, 4, 7, 8, 1, 2, 3, 4, 5, 6, 7, 8, 9, 10, 1, 2, 3, 4, 5, 6, 7, 8, 9, 10, 7, 3, 4, 5, 6, 7, 8, 9, 5, 5, 8, 10, 1, 4, 9, 1, 2, 3, 4, 5, 6, 7, 8, 9, 10, 2, 4, 7, 7, 6, 9, 1, 10, 1, 3, 4, 7, 8, 9, 10, 9, 1, 9, 7, 4, 7, 3, 9, 8, 1, 2, 3, 4, 5, 6, 7, 8, 9, 10, 5, 6, 1, 2, 3, 4, 5, 6, 7, 8, 9, 10, 1, 4, 7, 1, 3, 8, 3, 4, 6, 7, 8, 9, 3, 1, 3, 4, 5, 7, 8, 9, 10, 4, 6, 9, 5, 1, 2, 3, 4, 5, 6, 7, 8, 9, 10, 6, 1, 2, 3, 4, 5, 6, 7, 8, 9, 10, 4, 5, 6, 1, 2, 3, 4, 5, 6, 7, 8, 9, 10, 2, 4, 7, 8, 3, 4, 7, 8, 9, 1, 2, 3, 4, 5, 6, 7, 8, 9, 10, 4, 7, 8, 1, 2, 3, 4, 5, 6, 7, 8, 9, 10, 8, 9, 1, 2, 4, 7, 8, 9, 7, 2, 3, 5, 9, 2, 7, 1, 2, 3, 4, 5, 6, 7, 8, 9, 10, 5, 1, 2, 3, 4, 5, 6, 7, 8, 10, 7, 1, 2, 3, 4, 5, 6, 7, 8, 9, 10, 1, 2, 3, 4, 5, 6, 7, 8, 9, 10, 1, 2, 3, 4, 5, 6, 7, 8, 9, 10, 1, 2, 3, 4, 5, 6, 7, 8, 9, 10, 1, 2, 3, 4, 5, 6, 7, 8, 9, 10, 1, 2, 3, 4, 5, 6, 7, 8, 9, 10, 2, 5, 10, 5, 1, 2, 3, 4, 5, 6, 7, 8, 9, 10, 1, 2, 3, 4, 5, 6, 7, 8, 9, 10, 1, 2, 3, 4, 5, 6, 7, 8, 9, 10, 1, 2, 3, 4, 5, 6, 7, 8, 9, 10, 4, 3, 1, 2, 3, 4, 5, 6, 7, 8, 9, 10, 1, 2, 3, 4, 5, 6, 7, 8, 9, 10, 1, 2, 3, 4, 5, 6, 7, 8, 9, 10, 1, 1, 2, 3, 4, 5, 6, 7, 8, 9, 10, 7, 1, 2, 3, 4, 5, 6, 7, 8, 9, 10, 1, 2, 3, 4, 5, 6, 7, 8, 9, 10, 7, 9, 4, 7, 8, 1, 2, 3, 4, 5, 6, 7, 8, 9, 10, 3, 4, 1, 2, 3, 4, 5, 6, 7, 8, 9, 10, 1, 2, 3, 4, 5, 6, 7, 8, 9, 10, 1, 2, 3, 4, 5, 6, 7, 8, 9, 10, 1, 2, 3, 4, 5, 6, 7, 8, 9, 10, 1, 2, 3, 4, 5, 6, 7, 8, 9, 10, 1, 2, 3, 4, 5, 6, 7, 8, 9, 10, 1, 4, 2, 8, 10, 4, 5, 6, 9, 2, 1, 2, 3, 4, 5, 6, 7, 8, 9, 10, 1, 2, 3, 4, 5, 6, 7, 8, 9, 10, 1, 2, 3, 4, 5, 6, 7, 8, 9, 10, 1, 2, 3, 4, 5, 6, 7, 8, 9, 10, 4, 7, 8, 1, 2, 3, 4, 5, 6, 7, 8, 9, 10, 3, 4, 6, 7, 8, 10, 1, 3, 4, 6, 7, 8, 9, 10, 4, 1, 2, 3, 4, 5, 6, 7, 8, 9, 10, 1, 2, 3, 4, 5, 6, 7, 8, 9, 10, 4, 7, 8, 9, 10, 3, 1, 2, 3, 4, 5, 6, 7, 8, 9, 10, 3, 1, 2, 3, 4, 5, 6, 7, 8, 9, 10, 1, 3, 4, 5, 7, 8, 9, 10, 7, 8, 1, 4, 7, 8, 10, 1, 2, 3, 4, 7, 8, 9, 10, 1, 2, 3, 4, 5, 6, 7, 8, 9, 10, 1, 2, 3, 4, 5, 6, 7, 8, 9, 10, 1, 2, 3, 4, 5, 6, 7, 8, 9, 10, 1, 2, 3, 4, 5, 6, 7, 8, 9, 10, 1, 2, 3, 4, 5, 6, 7, 8, 9, 10, 7, 1, 2, 3, 4, 5, 6, 7, 8, 9, 10, 2, 1, 2, 3, 4, 5, 6, 7, 8, 9, 10, 1, 2, 3, 4, 5, 6, 7, 8, 9, 10, 1, 4, 7, 8, 9, 10, 1, 2, 3, 4, 5, 6, 7, 8, 9, 10, 1, 2, 3, 4, 5, 6, 7, 9, 10, 1, 2, 3, 4, 5, 6, 7, 8, 9, 10, 3, 4, 1, 2, 3, 4, 5, 6, 7, 8, 9, 10, 1, 2, 3, 4, 5, 6, 7, 8, 9, 10, 1, 2, 3, 4, 5, 6, 7, 8, 9, 10, 1, 2, 3, 4, 5, 6, 7, 8, 9, 10, 1, 2, 3, 4, 5, 6, 7, 8, 9, 10, 1, 2, 3, 4, 5, 6, 7, 8, 9, 10, 7, 3, 1, 1, 2, 3, 4, 5, 6, 7, 8, 9, 10, 5, 8, 1, 3, 4, 5, 7, 8, 9, 10, 3, 4, 7, 8, 4, 7, 1, 2, 3, 4, 5, 6, 7, 8, 9, 10, 1, 2, 3, 4, 5, 6, 7, 8, 9, 10, 1, 4, 7, 8, 9, 1, 2, 3, 4, 5, 6, 7, 8, 9, 10, 1, 2, 3, 4, 5, 6, 7, 8, 9, 10, 1, 2, 3, 5, 6, 9, 10, 3, 4, 9, 5, 1, 2, 3, 4, 5, 6, 7, 8, 9, 10, 8, 7, 1, 2, 3, 4, 5, 6, 7, 8, 9, 10, 1, 2, 3, 4, 5, 6, 7, 8, 9, 10, 1, 2, 3, 4, 5, 6, 7, 8, 9, 10, 1, 9, 1, 2, 3, 4, 5, 6, 7, 8, 9, 10, 1, 2, 3, 4, 5, 6, 7, 8, 9, 10, 3, 4, 7, 8, 9, 10, 9, 3, 4, 7, 8, 9, 1, 2, 3, 4, 6, 7, 8, 9, 10, 1, 2, 3, 4, 5, 6, 7, 8, 9, 10, 1, 2, 3, 4, 5, 6, 7, 8, 9, 10, 1, 4, 7, 8, 9, 10, 1, 3, 4, 7, 8, 9, 1, 2, 3, 4, 5, 6, 7, 8, 9, 10, 1, 3, 6, 8, 9, 10, 1, 2, 3, 4, 6, 7, 8, 9, 10, 1, 2, 3, 4, 5, 6, 7, 8, 9, 10, 1, 2, 3, 4, 5, 6, 7, 8, 9, 10, 5, 7, 1, 2, 3, 4, 5, 6, 7, 8, 9, 10, 4, 7, 8, 1, 2, 3, 4, 5, 6, 7, 8, 9, 10, 6, 3, 3, 1, 2, 3, 4, 6, 7, 8, 9, 10, 4, 7, 8, 5, 1, 1, 6, 7, 3, 2, 5, 7, 5, 7, 8, 10, 1, 2, 3, 4, 5, 6, 7, 8, 9, 10, 2, 2, 3, 1, 2, 3, 4, 5, 6, 7, 8, 9, 10, 1, 2, 3, 4, 5, 6, 7, 8, 9, 10, 4, 9, 9, 8, 10, 1, 2, 3, 4, 5, 6, 7, 8, 9, 10, 7, 3, 4, 6, 7, 8, 10, 3, 1, 3, 4, 5, 6, 7, 8, 9, 10, 1, 2, 3, 4, 5, 6, 7, 8, 9, 10, 9, 8, 9, 3, 7, 1, 3, 6, 8, 10, 1, 8, 10, 1, 3, 10, 9, 1, 2, 3, 4, 5, 6, 7, 8, 9, 10, 6, 4, 7, 8, 1, 2, 3, 4, 5, 6, 7, 8, 9, 10, 4, 6, 7, 8, 9, 10, 1, 2, 3, 4, 5, 6, 7, 8, 9, 10, 1, 2, 3, 4, 5, 6, 7, 8, 9, 10, 1, 2, 3, 4, 5, 6, 7, 8, 9, 10, 1, 2, 3, 4, 5, 6, 7, 8, 9, 10, 10, 2, 1, 2, 3, 4, 5, 6, 7, 8, 9, 10, 1, 2, 3, 4, 5, 6, 7, 8, 9, 10, 1, 2, 3, 4, 5, 6, 7, 8, 9, 10, 1, 2, 3, 4, 5, 6, 7, 8, 9, 10, 1, 2, 3, 4, 5, 6, 7, 8, 9, 10, 10, 10, 4, 8, 8, 9, 1, 8, 1, 1, 10, 1, 2, 3, 4, 5, 6, 7, 8, 9, 10, 8, 1, 2, 3, 4, 5, 6, 7, 8, 9, 10, 1, 2, 3, 4, 5, 6, 7, 8, 9, 10, 6, 1, 2, 3, 4, 5, 6, 7, 8, 9, 10, 5, 9, 1, 1, 2, 3, 4, 5, 6, 7, 8, 9, 10, 1, 2, 3, 4, 5, 6, 7, 8, 9, 10, 1, 2, 3, 4, 5, 6, 1, 1, 2, 3, 4, 5, 6, 7, 8, 9, 10, 1, 2, 3, 4, 5, 6, 7, 8, 9, 10, 1, 3, 4, 6, 7, 8, 9, 10, 10, 1, 2, 3, 8, 10, 1, 2, 3, 4, 5, 6, 7, 8, 9, 10, 7, 6, 1, 2, 3, 4, 5, 6, 7, 8, 9, 10, 1, 2, 3, 5, 6, 7, 8, 9, 10, 1, 2, 3, 4, 5, 6, 7, 8, 9, 10, 1, 2, 3, 4, 5, 6, 7, 8, 9, 10, 1, 2, 3, 4, 5, 6, 7, 8, 9, 10, 8, 9, 1, 2, 3, 4, 5, 6, 7, 8, 9, 10, 1, 2, 3, 4, 5, 6, 7, 8, 9, 10, 1, 1, 2, 3, 4, 5, 6, 7, 8, 9, 10, 1, 2, 3, 4, 5, 6, 7, 8, 9, 10, 7, 4, 9, 4, 5, 6, 8, 9, 10, 1, 2, 10, 1, 2, 3, 4, 5, 6, 7, 8, 9, 10, 4, 7, 8, 1, 2, 3, 4, 5, 6, 7, 8, 9, 10, 5, 10, 1, 2, 3, 4, 5, 6, 7, 8, 9, 10, 6, 7, 1, 2, 3, 4, 5, 6, 7, 8, 9, 10, 5, 1, 2, 3, 5, 6, 7, 8, 1, 7, 1, 9, 6, 6, 4, 7, 4, 7, 8, 1, 2, 3, 4, 7, 8, 9, 10, 5, 7, 8, 6, 6, 1, 2, 3, 4, 5, 6, 7, 8, 9, 10, 3, 1, 2, 3, 4, 5, 6, 7, 8, 9, 10, 1, 2, 3, 4, 5, 6, 7, 8, 9, 10, 1, 1, 3, 4, 5, 8, 7, 1, 3, 4, 6, 7, 8, 9, 10, 1, 2, 3, 4, 6, 7, 8, 9, 10, 1, 2, 1, 6, 9, 1, 2, 3, 4, 5, 6, 7, 8, 9, 10, 7, 1, 2, 3, 4, 5, 6, 7, 8, 9, 10, 5, 7, 1, 3, 4, 5, 6, 7, 8, 9, 10, 1, 2, 3, 4, 5, 6, 7, 8, 9, 10, 1, 2, 5, 7, 4, 4, 7, 4, 7, 8, 1, 2, 3, 4, 5, 7, 8, 9, 1, 1, 10, 10, 1, 2, 3, 4, 5, 6, 7, 8, 9, 10, 1, 1, 2, 3, 4, 5, 6, 7, 8, 9, 10, 1, 2, 3, 4, 5, 6, 7, 8, 9, 10, 1, 2, 3, 4, 5, 6, 7, 8, 9, 10, 1, 2, 3, 4, 5, 6, 7, 8, 9, 10, 1, 2, 3, 4, 5, 6, 7, 8, 9, 10, 2, 8, 1, 2, 3, 4, 5, 6, 7, 8, 9, 10, 8, 4, 1, 2, 3, 4, 5, 6, 7, 8, 9, 10, 7, 1, 2, 3, 4, 5, 6, 7, 8, 9, 10, 1, 2, 3, 4, 5, 6, 7, 8, 9, 10, 1, 2, 3, 4, 5, 6, 7, 8, 9, 10, 1, 1, 2, 3, 4, 5, 6, 7, 8, 9, 10, 4, 7, 8, 9, 1, 2, 3, 4, 5, 6, 7, 8, 9, 10, 1, 2, 3, 4, 5, 6, 7, 8, 9, 10, 2, 10, 1, 2, 3, 4, 5, 6, 7, 8, 9, 10, 1, 2, 3, 4, 5, 6, 7, 8, 9, 10, 3, 4, 5, 7, 8, 10, 3, 8, 9, 2, 3, 5, 5, 1, 2, 3, 4, 6, 7, 8, 9, 10, 1, 2, 3, 4, 5, 6, 7, 8, 9, 10, 3, 9, 1, 2, 3, 4, 5, 6, 7, 8, 9, 10, 1, 3, 4, 6, 7, 8, 9, 10, 1, 2, 3, 4, 5, 6, 7, 8, 9, 10, 1, 2, 3, 4, 5, 6, 7, 8, 9, 10, 3, 4, 6, 1, 3, 4, 6, 8, 9, 10, 1, 2, 3, 4, 5, 7, 8, 9, 10, 9, 2, 1, 2, 3, 4, 5, 6, 7, 8, 9, 10, 3, 4, 5, 7, 8, 3, 1, 2, 3, 4, 5, 6, 7, 8, 9, 10, 5, 6, 10, 6, 1, 2, 3, 4, 5, 6, 7, 8, 9, 10, 10, 1, 2, 3, 4, 5, 6, 7, 8, 9, 10, 6, 7, 1, 2, 3, 4, 5, 6, 7, 8, 9, 10, 7, 7, 8, 10, 4, 9, 1, 2, 3, 4, 5, 6, 7, 8, 9, 10, 7, 8, 9, 4, 6, 2, 4, 5, 7, 8, 9, 10, 3, 4, 7, 8, 9, 10, 4, 7, 8, 9, 7, 10, 1, 2, 3, 4, 5, 6, 7, 8, 9, 10, 1, 2, 3, 4, 5, 6, 7, 8, 9, 10, 9, 4, 5, 7, 8, 10, 7, 9, 6, 1, 6, 7, 8, 1, 2, 3, 4, 5, 6, 7, 8, 9, 10, 1, 2, 3, 4, 5, 6, 7, 8, 9, 10, 2, 1, 2, 3, 4, 5, 6, 7, 8, 9, 10, 2, 9, 1, 2, 3, 4, 5, 6, 7, 8, 9, 10, 4, 7, 8, 7, 8, 7, 4, 4, 4, 7, 8, 9, 10, 1, 2, 3, 4, 5, 6, 7, 8, 9, 10, 5, 1, 2, 3, 4, 5, 6, 7, 8, 9, 10, 2, 5, 1, 2, 3, 4, 5, 6, 7, 8, 9, 10, 1, 4, 7, 8, 9, 1, 3, 4, 5, 6, 7, 8, 9, 10, 1, 2, 3, 4, 5, 6, 7, 8, 9, 10, 1, 2, 3, 4, 5, 6, 7, 8, 9, 10, 1, 2, 3, 4, 5, 6, 7, 10, 1, 2, 3, 4, 5, 6, 7, 8, 9, 10, 5, 4, 5, 6, 7, 9, 10, 1, 2, 3, 4, 5, 6, 7, 8, 9, 10, 1, 2, 3, 4, 5, 6, 7, 8, 9, 10, 1, 2, 3, 4, 5, 6, 7, 8, 9, 10, 1, 2, 3, 4, 5, 6, 7, 8, 9, 10, 2, 5, 7, 1, 2, 3, 4, 5, 6, 7, 8, 9, 10, 1, 2, 3, 4, 5, 6, 7, 8, 10, 1, 2, 3, 5, 7, 1, 2, 3, 4, 5, 6, 7, 8, 9, 10, 2, 4, 7, 9, 1, 4, 7, 1, 7, 1, 2, 3, 4, 5, 6, 7, 8, 9, 10, 1, 2, 3, 4, 5, 6, 7, 8, 9, 10, 1, 2, 3, 4, 5, 6, 7, 8, 9, 10, 6, 1, 2, 3, 4, 5, 6, 7, 8, 9, 10, 1, 4, 5, 8, 10, 1, 2, 3, 4, 5, 7, 8, 9, 10, 1, 2, 3, 4, 5, 6, 7, 8, 9, 10, 1, 2, 3, 4, 5, 6, 7, 8, 9, 10, 6, 8, 1, 2, 3, 4, 5, 6, 7, 8, 9, 10, 1, 2, 3, 4, 5, 6, 7, 8, 9, 10, 2, 1, 3, 6, 10, 1, 3, 4, 6, 7, 8, 9, 10, 2, 3, 4, 6, 7, 8, 9, 10, 1, 2, 3, 4, 5, 6, 7, 8, 9, 10, 4, 7, 3, 4, 8, 9, 10, 1, 2, 3, 4, 5, 6, 7, 8, 9, 10, 3, 1, 3, 4, 5, 6, 7, 8, 9, 10, 5, 8, 1, 2, 3, 4, 5, 6, 7, 8, 9, 10, 1, 2, 3, 4, 5, 6, 8, 9, 3, 1, 2, 3, 4, 5, 6, 7, 8, 9, 10, 6, 1, 1, 2, 3, 4, 5, 6, 7, 8, 9, 10, 3, 6, 7, 8, 10, 3, 4, 5, 6, 7, 8, 9, 10, 1, 5, 1, 2, 3, 4, 6, 7, 8, 9, 10, 1, 2, 3, 4, 5, 6, 7, 8, 9, 10, 1, 2, 3, 4, 5, 6, 7, 8, 9, 10, 9, 1, 2, 3, 4, 5, 6, 7, 8, 9, 10, 1, 2, 3, 4, 5, 6, 7, 8, 9, 10, 5, 8, 8, 3, 5, 7, 10, 1, 2, 3, 4, 5, 6, 7, 8, 9, 10, 1, 2, 3, 4, 5, 6, 7, 8, 9, 10, 2, 6, 2, 3, 4, 8, 9, 10, 2, 5, 7, 8, 10, 3, 10, 7, 1, 2, 3, 4, 5, 6, 7, 8, 9, 10, 1, 2, 3, 4, 5, 6, 7, 8, 9, 10, 9, 10, 1, 2, 3, 4, 5, 6, 7, 8, 9, 10, 3, 4, 7, 8, 9, 1, 2, 3, 4, 5, 6, 7, 8, 9, 10, 4, 1, 2, 2, 1, 2, 3, 4, 5, 6, 7, 8, 9, 10, 1, 2, 3, 4, 5, 6, 7, 8, 9, 10, 1, 2, 3, 4, 5, 6, 7, 8, 9, 10, 1, 2, 3, 4, 5, 6, 7, 8, 9, 10, 4, 7, 8, 9, 1, 2, 3, 4, 5, 6, 7, 8, 9, 10, 4, 6, 6, 1, 2, 3, 4, 5, 6, 7, 8, 9, 10, 1, 1, 2, 3, 4, 5, 6, 7, 8, 9, 10, 1, 2, 3, 4, 5, 6, 7, 8, 9, 10, 10, 1, 2, 3, 4, 5, 6, 7, 8, 9, 10, 2, 1, 4, 1, 2, 3, 4, 5, 6, 7, 8, 9, 10, 1, 1, 2, 3, 4, 5, 6, 7, 8, 9, 10, 1, 2, 3, 4, 5, 6, 7, 8, 9, 10, 5, 6, 10, 5, 1, 2, 3, 4, 5, 6, 7, 8, 9, 10, 2, 1, 2, 3, 4, 5, 6, 7, 8, 9, 10, 1, 2, 3, 4, 5, 6, 7, 8, 9, 10, 1, 2, 3, 4, 5, 6, 7, 8, 9, 10, 4, 10, 1, 2, 3, 4, 5, 6, 7, 8, 9, 10, 1, 3, 4, 5, 6, 7, 8, 9, 10, 1, 2, 3, 4, 5, 6, 7, 8, 9, 10, 1, 2, 3, 4, 5, 6, 7, 8, 9, 10, 1, 2, 3, 4, 5, 6, 7, 8, 9, 10, 3, 8, 6, 7, 1, 2, 3, 4, 5, 6, 7, 8, 9, 10, 4, 1, 2, 3, 4, 5, 6, 7, 8, 9, 10, 1, 2, 3, 4, 5, 6, 7, 8, 9, 10, 1, 2, 3, 4, 5, 6, 7, 8, 9, 10, 1, 2, 3, 4, 5, 6, 7, 8, 9, 10, 1, 2, 3, 4, 5, 6, 7, 8, 9, 10, 1, 2, 3, 4, 5, 6, 7, 8, 9, 10, 1, 2, 3, 4, 5, 6, 7, 8, 9, 10, 4, 1, 2, 3, 4, 5, 6, 7, 8, 9, 10, 5, 7, 1, 2, 3, 4, 5, 6, 7, 8, 9, 10, 1, 2, 3, 4, 5, 6, 7, 8, 9, 10, 5, 1, 2, 3, 4, 5, 6, 7, 8, 9, 10, 3, 1, 2, 3, 4, 5, 6, 7, 8, 9, 10, 1, 3, 4, 5, 7, 8, 9, 10, 2, 5, 7, 5, 7, 8, 1, 2, 3, 4, 5, 6, 7, 8, 9, 10, 1, 2, 3, 4, 5, 6, 7, 8, 1, 2, 3, 4, 5, 6, 7, 8, 9, 10, 1, 8, 10, 4, 8, 3, 1, 2, 3, 4, 5, 6, 7, 8, 9, 10, 1, 3, 4, 5, 6, 7, 8, 10, 1, 2, 3, 4, 5, 6, 7, 8, 9, 10, 7, 4, 7, 8, 10, 7, 9, 1, 2, 3, 4, 5, 6, 7, 8, 9, 10, 1, 2, 3, 4, 5, 6, 7, 8, 9, 10, 1, 2, 3, 4, 5, 6, 7, 8, 9, 10, 1, 2, 3, 4, 6, 7, 8, 9, 10, 8, 6, 7, 1, 2, 3, 4, 5, 6, 7, 8, 9, 10, 1, 2, 3, 4, 5, 6, 7, 8, 9, 10, 1, 2, 3, 5, 5, 2, 1, 2, 3, 5, 6, 7, 9, 1, 2, 3, 4, 5, 6, 7, 8, 9, 10, 6, 1, 2, 3, 4, 5, 6, 7, 8, 9, 10, 5, 10, 10, 1, 2, 5, 6, 7, 9, 10, 1, 2, 3, 4, 5, 6, 7, 8, 9, 10, 9, 1, 4, 8, 10, 1, 2, 3, 4, 5, 6, 7, 8, 9, 10, 3, 8, 5, 8, 2, 4, 6, 8, 9, 10, 1, 2, 3, 4, 5, 6, 7, 8, 9, 10, 1, 2, 3, 4, 5, 6, 7, 8, 9, 10, 5, 9, 2, 1, 2, 3, 4, 5, 6, 7, 8, 9, 10, 1, 2, 3, 4, 5, 6, 7, 8, 9, 10, 1, 2, 3, 4, 5, 6, 7, 8, 9, 10, 9, 6, 1, 2, 3, 4, 5, 6, 7, 8, 9, 10, 1, 2, 3, 4, 5, 6, 7, 8, 9, 10, 1, 9, 5, 8, 10, 1, 2, 3, 4, 5, 6, 7, 8, 9, 10, 1, 4, 7, 8, 3, 4, 1, 2, 3, 4, 5, 6, 7, 8, 9, 10, 1, 2, 3, 4, 6, 7, 8, 9, 10, 1, 2, 3, 4, 5, 6, 7, 8, 9, 10, 2, 1, 2, 3, 5, 6, 7, 8, 9, 10, 1, 2, 3, 4, 5, 6, 7, 8, 9, 10, 1, 2, 3, 4, 5, 6, 7, 8, 9, 10, 1, 2, 3, 4, 5, 6, 7, 8, 9, 10, 1, 2, 3, 4, 5, 6, 7, 8, 9, 10, 1, 1, 3, 4, 5, 7, 8, 9, 10, 1, 2, 3, 4, 6, 8, 9, 10, 1, 2, 3, 4, 5, 6, 7, 8, 9, 10, 4, 1, 2, 3, 4, 6, 7, 8, 9, 10, 4, 7, 9, 10, 1, 2, 3, 4, 5, 6, 7, 8, 9, 10, 1, 2, 3, 4, 5, 6, 7, 8, 9, 10, 1, 2, 3, 4, 5, 6, 7, 8, 9, 10, 1, 2, 3, 4, 5, 6, 7, 8, 9, 10, 10, 2, 5, 7, 2, 5, 1, 2, 3, 4, 5, 6, 7, 8, 9, 10, 1, 3, 4, 7, 8, 9, 4, 7, 8, 1, 2, 3, 4, 5, 6, 7, 8, 9, 10, 3, 8, 9, 10, 1, 2, 3, 4, 5, 6, 7, 8, 9, 10, 1, 10, 1, 2, 3, 4, 5, 6, 7, 8, 9, 10, 10, 4, 5, 8, 9, 10, 3, 8, 7, 10, 7, 8], \"Freq\": [0.9963091611862183, 0.9953883290290833, 0.8855447769165039, 0.006511359009891748, 0.08139198273420334, 0.02278975583612919, 0.0032154740765690804, 0.0032154740765690804, 0.0016077370382845402, 0.011790071614086628, 0.966249942779541, 0.01339780818670988, 0.995780348777771, 0.9918431043624878, 0.011127776466310024, 0.9773896932601929, 0.009273147210478783, 0.9901117086410522, 0.9895691871643066, 0.9780750870704651, 0.9928162693977356, 0.1306363195180893, 0.6539506316184998, 0.1381342113018036, 0.007305637001991272, 0.011535216122865677, 0.0175912044942379, 0.014130639843642712, 0.003460564883425832, 0.01768733188509941, 0.005671481601893902, 0.001294884947128594, 0.00776930944994092, 0.08157774806022644, 0.07769309729337692, 0.00906419474631548, 0.823546826839447, 0.02177754044532776, 0.0008540211711078882, 0.08753716945648193, 0.0764348953962326, 0.0008540211711078882, 0.0025620635133236647, 0.005124127026647329, 0.11870894581079483, 0.6815088987350464, 0.004697116557508707, 0.9966038465499878, 0.0036466747988015413, 0.002474529203027487, 0.10249760746955872, 0.8568383455276489, 0.00013023838982917368, 0.0016930989222601056, 0.0028652444016188383, 0.018233373761177063, 0.010809785686433315, 0.0009116686997003853, 0.9934434294700623, 0.9956281781196594, 0.994815468788147, 0.9960615038871765, 0.1848226636648178, 0.4178599417209625, 0.18617402017116547, 0.00699811615049839, 0.038682691752910614, 0.06882285326719284, 0.004609104245901108, 0.000892863143235445, 0.07919937372207642, 0.011945060454308987, 0.03302347660064697, 0.010165389627218246, 0.7726818919181824, 0.008817492052912712, 0.0006177860777825117, 0.012468046508729458, 0.003819041419774294, 0.051500894129276276, 0.0187020692974329, 0.08828724920749664, 0.9942338466644287, 0.5184239149093628, 0.16102264821529388, 0.14997389912605286, 0.055940624326467514, 0.01973475143313408, 0.06144799664616585, 0.010334822349250317, 0.004929438233375549, 0.011473692022264004, 0.00673123262822628, 0.005339428316801786, 0.9931336641311646, 0.9889265894889832, 0.03231492266058922, 0.013902932405471802, 0.0007515098550356925, 0.006387833971530199, 0.006763588637113571, 0.01202415768057108, 0.8672423958778381, 0.01578170619904995, 0.00300603942014277, 0.041708797216415405, 0.0036737495101988316, 0.009184373542666435, 0.0022042496129870415, 0.0246141217648983, 0.01910349726676941, 0.004408499225974083, 0.3695791959762573, 0.02534887194633484, 0.0018368747550994158, 0.5400412082672119, 0.02545161545276642, 0.9694752097129822, 0.007146100513637066, 0.0017865251284092665, 0.9879483580589294, 0.9799228310585022, 0.018665196374058723, 0.005681578069925308, 0.988594651222229, 0.006254941690713167, 0.012509883381426334, 0.0005686310469172895, 0.9507511258125305, 0.003411786397919059, 0.023882504552602768, 0.0005686310469172895, 0.0017058931989595294, 0.0029161113779991865, 0.0029161113779991865, 0.991477906703949, 0.8866613507270813, 0.02614234946668148, 0.0849626362323761, 0.005459462758153677, 0.02001802995800972, 0.007279283367097378, 0.9444870352745056, 0.021837851032614708, 0.9478887915611267, 0.025618616491556168, 0.012809308245778084, 0.21683500707149506, 0.6702609062194824, 0.06966554373502731, 0.002239535329863429, 0.02671445719897747, 0.00431910390034318, 0.005118937697261572, 0.0005598838324658573, 0.002559468848630786, 0.00175963481888175, 0.012113266624510288, 0.006056633312255144, 0.9796604514122009, 0.001514158328063786, 0.04579625651240349, 0.9493182301521301, 0.000954088696744293, 0.000954088696744293, 0.000954088696744293, 0.140123650431633, 0.17065970599651337, 0.2372615933418274, 0.0896986871957779, 0.01752118393778801, 0.16346485912799835, 0.026610203087329865, 0.06366895884275436, 0.06188170984387398, 0.02910013683140278, 0.05552893504500389, 0.014278869144618511, 0.0015865410678088665, 0.8821167945861816, 0.038076985627412796, 0.007932704873383045, 0.00042215222492814064, 0.00010553805623203516, 0.0005276902811601758, 0.8409799933433533, 0.00010553805623203516, 5.276902811601758e-05, 0.055196404457092285, 0.09851977974176407, 0.0037993700243532658, 0.0003166141686961055, 0.9869368076324463, 0.9835905432701111, 0.019603164866566658, 0.09465528279542923, 0.021843526512384415, 0.04620745778083801, 0.12882079184055328, 0.0036405876744538546, 0.5920155644416809, 0.083453468978405, 0.007001130376011133, 0.002800452057272196, 0.1633351594209671, 0.2856673002243042, 0.23640280961990356, 0.005327746272087097, 0.06425674259662628, 0.2186240255832672, 0.00686818128451705, 0.001197025878354907, 0.010783044621348381, 0.0075353761203587055, 0.031736165285110474, 0.014550136402249336, 0.5009253621101379, 0.0015815366059541702, 0.00379568780772388, 0.0029522015247493982, 0.00010543577081989497, 0.0035848161205649376, 0.43239209055900574, 0.008329425938427448, 0.017833329737186432, 0.0016239973483607173, 0.4302903413772583, 0.03490062057971954, 9.192437573801726e-05, 0.008119986392557621, 0.00029109386377967894, 0.022682340815663338, 0.47803741693496704, 0.006120631471276283, 0.1351718008518219, 0.11397677659988403, 0.17983469367027283, 0.17459626495838165, 0.023172086104750633, 0.19998671114444733, 0.044483866542577744, 0.05547446012496948, 0.0576772466301918, 0.01562967710196972, 0.9904497861862183, 0.9933800101280212, 0.995780348777771, 0.9948290586471558, 0.9549587965011597, 0.0016338046407327056, 0.04166201874613762, 0.0016338046407327056, 0.004122511949390173, 0.00014215557894203812, 0.0008529334445483983, 0.19418451189994812, 0.0005686223157681525, 0.0028431115206331015, 0.02132333628833294, 0.7734684944152832, 0.00227448926307261, 0.00042646672227419913, 0.989399254322052, 0.9947289228439331, 0.001028667320497334, 0.0002571668301243335, 0.000514333660248667, 0.022373514249920845, 0.000514333660248667, 0.004371836315840483, 0.8933975696563721, 0.000771500519476831, 0.07663571834564209, 0.9986640214920044, 0.07029726356267929, 0.1353163868188858, 0.03017410822212696, 0.10780470818281174, 0.01532059907913208, 0.010462848469614983, 0.05095967650413513, 0.5168367028236389, 0.012845015153288841, 0.04997878521680832, 0.0754435583949089, 0.7282355427742004, 0.03346032276749611, 0.022096440196037292, 0.019886795431375504, 0.03409165143966675, 0.03472297638654709, 0.017361488193273544, 0.011048220098018646, 0.023990420624613762, 0.993015706539154, 0.11537948995828629, 0.20466208457946777, 0.06970991939306259, 0.0012055631959810853, 0.05637780949473381, 0.06155464053153992, 0.0034039432648569345, 0.0037585205864161253, 0.4613761305809021, 0.022480208426713943, 0.9914311170578003, 0.9913327693939209, 0.9962776899337769, 0.0023855476174503565, 0.019084380939602852, 0.9740986227989197, 0.0007951825391501188, 0.0023855476174503565, 0.0009663082309998572, 0.022225089371204376, 0.0009663082309998572, 0.9353864192962646, 0.0009663082309998572, 0.021258780732750893, 0.014494623988866806, 0.004831541329622269, 0.1630696803331375, 0.4114033877849579, 0.29979854822158813, 0.03379916027188301, 0.03947741910815239, 0.00698515959084034, 0.014668835327029228, 0.0038531043101102114, 0.02088788151741028, 0.0060387831181287766, 0.08011630922555923, 0.04097045212984085, 0.013269782066345215, 0.0008293613791465759, 0.09686940908432007, 0.05888465791940689, 0.262078195810318, 0.08044805377721786, 0.008791230618953705, 0.35778650641441345, 0.9950483441352844, 0.002557964762672782, 0.9916724562644958, 0.08941399306058884, 0.028710369020700455, 0.029128190129995346, 0.2086724489927292, 0.005252624396234751, 0.0744619220495224, 0.07693900913000107, 0.4314613342285156, 0.0276359673589468, 0.028292546048760414, 0.017711741849780083, 0.05211584270000458, 0.009301849640905857, 0.06460326164960861, 0.058869242668151855, 0.6697331666946411, 0.06001604348421097, 0.05428202822804451, 0.0021661841310560703, 0.011213188990950584, 0.9958500266075134, 8.606909977970645e-05, 2.8689699320239015e-05, 0.00011475879728095606, 0.9758514761924744, 2.8689699320239015e-05, 2.8689699320239015e-05, 0.013025123625993729, 0.009496290236711502, 0.0012623467482626438, 5.737939864047803e-05, 0.013312302529811859, 0.05882444977760315, 0.00542353093624115, 0.11002561450004578, 0.2734900712966919, 0.10228855162858963, 0.339672327041626, 0.06337566673755646, 0.012515840120613575, 0.021011440083384514, 0.9935970306396484, 0.9947984218597412, 0.9908464550971985, 0.9865399599075317, 0.005042278673499823, 0.025766044855117798, 0.004437205381691456, 0.03368242084980011, 0.7271974682807922, 0.0028236762154847383, 0.18540459871292114, 0.007462572772055864, 0.003932977560907602, 0.004185091238468885, 0.11229926347732544, 0.01261222641915083, 0.015605528838932514, 0.015134671702980995, 0.008441783487796783, 0.7423388361930847, 0.019540542736649513, 0.012376798316836357, 0.04204075410962105, 0.019574176520109177, 0.0017154252855107188, 0.9932312965393066, 0.0034308505710214376, 0.01839360222220421, 0.02919619344174862, 0.23623891174793243, 0.12045515328645706, 0.24996112287044525, 0.008341769687831402, 0.020729297772049904, 0.27707186341285706, 0.019144361838698387, 0.020479043945670128, 0.9988346695899963, 0.00579689210280776, 0.010256039910018444, 0.006911678705364466, 0.11504600942134857, 0.03188290446996689, 0.005350977182388306, 0.7261722087860107, 0.07848099619150162, 0.006911678705364466, 0.013154485262930393, 0.0017079684184864163, 0.016225701197981834, 0.0008539842092432082, 0.014517731964588165, 0.017079684883356094, 0.0025619526859372854, 0.946214497089386, 0.9891198873519897, 0.00050156912766397, 0.9835770130157471, 0.00150470738299191, 0.013542366214096546, 0.00018127390649169683, 0.002175286877900362, 0.027372360229492188, 0.14737568795681, 0.011057708412408829, 0.8084816336631775, 0.0025378346908837557, 0.00036254781298339367, 0.0006222447264008224, 0.09955915808677673, 0.0012444894528016448, 0.8972768783569336, 0.0006222447264008224, 0.0006222447264008224, 0.0003630137362051755, 0.9986507296562195, 0.0003630137362051755, 0.05283645913004875, 0.04473688453435898, 0.011581630446016788, 0.03928670659661293, 0.6100415587425232, 0.04246597737073898, 0.06911129504442215, 0.020135384052991867, 0.061617303639650345, 0.04829464107751846, 0.9923209547996521, 0.0006771417101845145, 0.0015799973625689745, 0.0011285694781690836, 0.17379970848560333, 0.00022571389854419976, 0.0006771417101845145, 0.004062850493937731, 0.8166329264640808, 0.0006771417101845145, 0.00045142779708839953, 0.052770037204027176, 0.00263850181363523, 0.13910767436027527, 0.6303087472915649, 0.0001954445760929957, 0.009234756231307983, 0.0035668634809553623, 0.06625571101903915, 0.09083286672830582, 0.005130419973284006, 0.11861830949783325, 0.004052456468343735, 0.17992010712623596, 0.22785551846027374, 0.008418362587690353, 0.0272701196372509, 0.014194791205227375, 0.2213626205921173, 0.12949948012828827, 0.06880220025777817, 0.02391151711344719, 0.07278329879045486, 0.020240889862179756, 0.1719951182603836, 0.11347483098506927, 0.01698976196348667, 0.46784770488739014, 0.0865219384431839, 0.018353138118982315, 0.007760755252093077, 0.07217027246952057, 0.5524019598960876, 0.16664208471775055, 0.05763813108205795, 0.018610430881381035, 0.013060856610536575, 0.04377710074186325, 0.04243487864732742, 0.015874361619353294, 0.017423080280423164, 0.9958453178405762, 0.026820074766874313, 0.7283072471618652, 0.12668421864509583, 0.015543452464044094, 0.0607515312731266, 0.015340269543230534, 0.02052142098546028, 0.001422276720404625, 0.0038604652509093285, 0.0008127295295707881, 0.07212693989276886, 0.14413583278656006, 0.04698285087943077, 0.0057843211106956005, 0.14661483466625214, 0.14295536279678345, 0.012513021007180214, 0.00849941000342369, 0.002833136823028326, 0.4174154996871948, 0.08850260823965073, 0.7165775299072266, 0.045594144612550735, 0.0023109361063688993, 0.08619166910648346, 0.0308541189879179, 0.019174523651599884, 0.0011866969289258122, 0.005433822516351938, 0.004059752449393272, 0.9964565634727478, 0.0033740319777280092, 0.04217539727687836, 0.0062660593539476395, 0.19930888712406158, 0.029161276295781136, 0.0062660593539476395, 0.6644432544708252, 0.02602824568748474, 0.019762186333537102, 0.0031330296769738197, 0.005418089218437672, 0.9915103316307068, 0.996267557144165, 0.9824743866920471, 0.030813420191407204, 0.2946503460407257, 0.05635674670338631, 0.03038611449301243, 0.4426877200603485, 0.022314803674817085, 0.046148911118507385, 0.013911142945289612, 0.01039774902164936, 0.05236857011914253, 0.9934135675430298, 0.002010130323469639, 0.002010130323469639, 0.9930043816566467, 0.0026890013832598925, 0.0010756005067378283, 0.004571302328258753, 0.0020167510956525803, 0.0021512010134756565, 0.0004033501900266856, 0.0009411504724994302, 0.00026890012668445706, 0.9852500557899475, 0.0006722503458149731, 0.9915940165519714, 0.01334347389638424, 0.0007212688797153533, 0.002885075518861413, 0.08330655097961426, 0.0003606344398576766, 0.7663481831550598, 0.021277431398630142, 0.0739300549030304, 0.0007212688797153533, 0.036784712225198746, 0.2270875871181488, 0.12486547231674194, 0.11925913393497467, 0.13062752783298492, 0.07992137223482132, 0.04360480234026909, 0.08183687180280685, 0.04844805225729942, 0.10670718550682068, 0.03765586391091347, 0.047687284648418427, 0.0016558085335418582, 0.011921821162104607, 0.10597174614667892, 0.00033116168924607337, 0.07682951539754868, 0.005629749037325382, 0.7345166802406311, 0.002318131970241666, 0.013577629812061787, 0.005839440040290356, 0.9897850751876831, 0.002919720020145178, 0.9860681295394897, 0.05221958085894585, 0.0626634955406189, 0.884251594543457, 0.9950749278068542, 0.002422344172373414, 0.004844688344746828, 0.9858940839767456, 0.004844688344746828, 0.0027423896826803684, 0.0005141980946063995, 0.001028396189212799, 0.8575109839439392, 0.0011997955152764916, 0.0034279872197657824, 0.04302123934030533, 0.08347148448228836, 0.005827578250318766, 0.0011997955152764916, 0.009304851293563843, 0.0007049129926599562, 0.001973756356164813, 0.20428377389907837, 0.0033835822250694036, 0.022134266793727875, 0.4729965925216675, 0.25785717368125916, 0.02072444185614586, 0.006626181770116091, 0.21700143814086914, 0.07766617089509964, 0.3089195489883423, 0.19857801496982574, 0.003957170527428389, 0.020849771797657013, 0.05598975345492363, 0.07049427926540375, 0.03572169318795204, 0.010822899639606476, 0.9940225481987, 0.9769428372383118, 0.019622044637799263, 0.9647505283355713, 0.013081363402307034, 0.2407928705215454, 0.38048622012138367, 0.19985568523406982, 0.07348127663135529, 0.022333716973662376, 0.04655647650361061, 0.015279706567525864, 0.0038976401556283236, 0.011286417953670025, 0.006049711722880602, 0.9865988492965698, 0.9958518147468567, 0.002805216470733285, 0.003584795631468296, 0.9956769943237305, 0.9956973791122437, 0.9911288022994995, 0.003647933481261134, 0.0027359500527381897, 0.7870416641235352, 0.0029183467850089073, 0.18932774662971497, 0.012585370801389217, 0.0014591733925044537, 0.09951905906200409, 0.09650017321109772, 0.04720909148454666, 0.018425600603222847, 0.5203930735588074, 0.049186982214450836, 0.03096958063542843, 0.01780100353062153, 0.06610313802957535, 0.053923506289720535, 0.9957358241081238, 0.002155272290110588, 0.0060471114702522755, 0.0080628152936697, 0.9836634993553162, 0.13105382025241852, 0.1902952939271927, 0.2394074946641922, 0.1945020854473114, 0.0593404583632946, 0.02134738676249981, 0.029216555878520012, 0.10450981557369232, 0.010525219142436981, 0.01981314644217491, 0.0005879821837879717, 0.0020579376723617315, 0.00029399109189398587, 0.00558583065867424, 0.9290118217468262, 0.05291839689016342, 0.005291839595884085, 0.002351928735151887, 0.0017639464931562543, 0.024081192910671234, 0.6041095852851868, 0.0005472998600453138, 0.040390729904174805, 0.037216391414403915, 0.011493297293782234, 0.12992899119853973, 0.00021891994401812553, 0.15193043649196625, 0.9959132075309753, 0.99322110414505, 0.9933952689170837, 0.0030946892220526934, 0.014999215491116047, 0.040985509753227234, 0.011912956833839417, 0.1519673615694046, 0.04950358346104622, 0.07036668807268143, 0.10135272145271301, 0.05783648043870926, 0.026109745725989342, 0.47491341829299927, 0.9976775646209717, 0.003156124847009778, 0.0017534027574583888, 0.0017534027574583888, 0.06382385641336441, 0.002805444411933422, 0.00035068055149167776, 0.012624499388039112, 0.9128214716911316, 0.00035068055149167776, 0.0007013611029833555, 0.9983041286468506, 0.0021895356476306915, 0.9973335266113281, 0.9951282739639282, 0.0023147466126829386, 0.8194202780723572, 0.020832719281315804, 0.01157373283058405, 0.09799093753099442, 0.0023147466126829386, 0.03240645304322243, 0.004629493225365877, 0.001543164369650185, 0.007715821731835604, 0.09069959819316864, 0.1641567200422287, 0.22466371953487396, 0.0515374056994915, 0.07173238694667816, 0.15764755010604858, 0.044263314455747604, 0.09015391767024994, 0.08977876603603363, 0.015361829660832882, 0.004335789009928703, 0.0016133168246597052, 0.04920616373419762, 0.25772735476493835, 0.0004033292061649263, 0.07088510692119598, 0.016738161444664, 0.23544341325759888, 0.3599713146686554, 0.0038316273130476475, 0.9961443543434143, 0.994749903678894, 0.9953194856643677, 0.9902495741844177, 0.9938215613365173, 0.5729290843009949, 0.1294901967048645, 0.14021490514278412, 0.051364004611968994, 0.025318264961242676, 0.03897491842508316, 0.011121518909931183, 0.0037255436182022095, 0.018230915069580078, 0.008619452826678753, 0.00033947560586966574, 0.00033947560586966574, 0.00033947560586966574, 0.005092134233564138, 0.00033947560586966574, 0.011881646700203419, 0.015955353155732155, 0.035305462777614594, 0.002376329153776169, 0.9284657835960388, 0.021123157814145088, 0.10267459601163864, 0.008556216023862362, 0.2814193069934845, 0.07780808955430984, 0.027807703241705894, 0.4012063145637512, 0.07286152988672256, 0.003475962905213237, 0.0032085811253637075, 0.002074240008369088, 0.002074240008369088, 0.991486668586731, 0.002074240008369088, 0.10831588506698608, 0.014779944904148579, 0.4632457196712494, 0.14072619378566742, 0.0011612813686951995, 0.02317284233868122, 0.008762395940721035, 0.08260933309793472, 0.09744206815958023, 0.05970042198896408, 0.0013275782112032175, 0.03186187893152237, 0.012611993588507175, 0.8868222832679749, 0.018586095422506332, 0.03318945690989494, 0.009956836700439453, 0.0033189456444233656, 0.001991367433220148, 0.992428719997406, 0.005951596423983574, 0.07643075287342072, 0.007297408301383257, 0.07335815578699112, 0.04570481926202774, 0.0023044447880238295, 0.03034185618162155, 0.006913334131240845, 0.011522224172949791, 0.7447197437286377, 0.001536296447739005, 0.061942208558321, 0.17233921587467194, 0.022621752694249153, 0.15364237129688263, 0.10368897765874863, 0.03325469046831131, 0.36465978622436523, 0.057803213596343994, 0.01826867088675499, 0.011774729005992413, 0.199946790933609, 0.0009854990057647228, 0.014125484973192215, 0.15691334009170532, 0.002518497407436371, 0.06657592952251434, 0.012263987213373184, 0.10752888768911362, 0.42617353796958923, 0.01313998643308878, 0.993697464466095, 0.0025928819086402655, 0.9956666827201843, 0.06203821301460266, 0.03323358669877052, 0.04356782138347626, 0.001705968868918717, 0.04474887624382973, 0.018339164555072784, 0.0005905276630073786, 0.31278282403945923, 0.0033135164994746447, 0.47967252135276794, 0.0018154630670323968, 0.03540153056383133, 0.009077315218746662, 0.938594400882721, 0.009985046461224556, 0.005446388851851225, 0.9978867769241333, 0.03579184412956238, 0.39622727036476135, 0.03257007524371147, 0.013239458203315735, 0.3345606029033661, 0.07853062450885773, 0.030304767191410065, 0.0033224495127797127, 0.0053360555320978165, 0.07007348537445068, 0.009444489143788815, 0.31961533427238464, 0.013936380855739117, 0.0003455301048234105, 0.6166560649871826, 0.026605818420648575, 0.0008062369306571782, 0.0001151766991824843, 0.0008062369306571782, 0.01186319999396801, 0.655541718006134, 0.019926832988858223, 0.07664166390895844, 0.00025547220138832927, 0.003065666416659951, 0.1512395441532135, 0.00025547220138832927, 0.09158679097890854, 0.0015328332083299756, 0.9888466000556946, 0.0037790315691381693, 0.00629838602617383, 0.41063112020492554, 0.07293190062046051, 0.12899188697338104, 0.044397491961717606, 0.08696863800287247, 0.17425036430358887, 0.02192479372024536, 0.009644822217524052, 0.021498648449778557, 0.028751831501722336, 0.010379940271377563, 0.12801925837993622, 0.8609583973884583, 0.04899623990058899, 0.04581350088119507, 0.019096430391073227, 0.06298235803842545, 0.521744966506958, 0.027344653382897377, 0.21467794477939606, 0.03227565810084343, 0.024117087945342064, 0.0029586018063127995, 0.012474775314331055, 0.010790680535137653, 0.0015593469142913818, 0.056385986506938934, 0.8172849416732788, 0.0009979821043089032, 0.09343606978654861, 0.002993946196511388, 0.0035553111229091883, 0.0004989910521544516, 0.995294451713562, 0.006639867089688778, 0.00044265782344155014, 0.00044265782344155014, 0.0017706312937662005, 0.9614527821540833, 0.02833010070025921, 0.00044265782344155014, 0.9936611652374268, 0.004530106671154499, 0.9920933246612549, 0.0022650533355772495, 0.9300867319107056, 0.05573553219437599, 0.010450412519276142, 0.007834366522729397, 0.11891449242830276, 0.01538893487304449, 0.03189706429839134, 0.7663689255714417, 0.002797988010570407, 0.048964790999889374, 0.0011191952507942915, 0.002238390501588583, 0.004196982365101576, 0.9639177322387695, 0.008100149221718311, 0.02430044673383236, 0.993661642074585, 0.9817118048667908, 0.01710299216210842, 0.9924060702323914, 0.9984789490699768, 0.0002636978169903159, 0.00013184890849515796, 0.8678295016288757, 0.07067101448774338, 0.05933200940489769, 0.0015821869019418955, 0.00013184890849515796, 0.9922234416007996, 0.005790571216493845, 0.9921178221702576, 0.995608925819397, 0.9873722791671753, 0.010258412919938564, 0.9487258791923523, 0.05067378282546997, 0.999207615852356, 0.01589617133140564, 0.030012918636202812, 0.02692858688533306, 0.19632956385612488, 0.0249119084328413, 0.027403099462389946, 0.059195440262556076, 0.5096265077590942, 0.07912497222423553, 0.030368803068995476, 0.0021049140486866236, 0.9977292418479919, 0.0094060730189085, 0.0006650758441537619, 0.006270715035498142, 0.21985507011413574, 0.012636440806090832, 0.03030845709145069, 0.5775708556175232, 0.08037916570901871, 0.05653144791722298, 0.006365726236253977, 0.01764610968530178, 0.015440345741808414, 0.9661244750022888, 0.9824743866920471, 0.010025248862802982, 0.9982472062110901, 0.00014790569548495114, 0.001626962679438293, 0.9794315099716187, 0.0026623024605214596, 0.01582590863108635, 0.0002958113909699023, 0.9961961507797241, 0.00044391152914613485, 0.00022195576457306743, 0.8574150800704956, 0.00022195576457306743, 0.05815240740776062, 0.08234558999538422, 0.0006658672937192023, 0.00022195576457306743, 0.041951946914196014, 0.9529085159301758, 0.0029965676367282867, 0.9956551194190979, 0.17837031185626984, 0.5194193124771118, 0.0632622092962265, 0.010703767649829388, 0.0709608718752861, 0.11495319753885269, 0.004832960199564695, 0.00117725960444659, 0.0028811879456043243, 0.03344346582889557, 0.9919744729995728, 0.03317093476653099, 0.8429744243621826, 0.026680968701839447, 0.00576885836198926, 0.054083045572042465, 0.016585467383265495, 0.0007211072952486575, 0.0021633217111229897, 0.004326643422245979, 0.013701038435101509, 0.9891781806945801, 0.007491614669561386, 0.9888931512832642, 0.06459375470876694, 0.03523295745253563, 0.0200419370085001, 0.33758535981178284, 0.03880731761455536, 0.05233881622552872, 0.07110419869422913, 0.3470318913459778, 0.02361629530787468, 0.009638001210987568, 0.992468535900116, 0.003040892072021961, 0.003040892072021961, 0.9943717122077942, 0.07599616795778275, 0.002867779927328229, 0.8180342316627502, 0.10180619359016418, 0.0007169449818320572, 0.03771662712097168, 0.1318259984254837, 0.015214195474982262, 0.013847650960087776, 0.7157959938049316, 0.03944758325815201, 0.032705966383218765, 0.0030063979793339968, 0.004190736450254917, 0.006286104675382376, 0.9908926486968994, 0.0031759380362927914, 0.0031759380362927914, 0.046573854982852936, 0.013817554339766502, 0.020678017288446426, 0.21441365778446198, 0.07304944843053818, 0.02444644272327423, 0.38669827580451965, 0.17025545239448547, 0.04609072208404541, 0.0038650501519441605, 0.9939751625061035, 0.9919738173484802, 0.0026988668832927942, 0.9419045448303223, 0.0026988668832927942, 0.032386403530836105, 0.008096600882709026, 0.010795467533171177, 0.9920012950897217, 0.9774537682533264, 0.0044228676706552505, 0.0044228676706552505, 0.008845735341310501, 0.9899536371231079, 0.006555984262377024, 0.2516431510448456, 0.3275126814842224, 0.11252614110708237, 0.02640826441347599, 0.19980807602405548, 0.02544962428510189, 0.029831979423761368, 0.006870257202535868, 0.010271148756146431, 0.009677704423666, 0.9952247142791748, 0.000716562382876873, 0.007882186211645603, 0.0003582811914384365, 0.0003582811914384365, 0.9884978532791138, 0.0003582811914384365, 0.0010748435743153095, 0.0003582811914384365, 0.0003582811914384365, 0.9939272403717041, 0.36620137095451355, 0.11172737926244736, 0.1402454376220703, 0.1941327303647995, 0.024654611945152283, 0.03334178775548935, 0.052681367844343185, 0.02981332130730152, 0.03048328310251236, 0.016682060435414314, 0.5028250217437744, 0.11189425736665726, 0.20748822391033173, 0.045810043811798096, 0.04967354238033295, 0.03431154042482376, 0.01856318674981594, 0.004912161268293858, 0.014147761277854443, 0.010394648648798466, 0.3148817718029022, 0.19910001754760742, 0.17442047595977783, 0.08012840896844864, 0.05508255958557129, 0.07017722725868225, 0.03110508620738983, 0.013064746744930744, 0.031257711350917816, 0.030784571543335915, 0.0584457702934742, 0.05428008735179901, 0.2928600013256073, 0.1017015278339386, 0.001809336245059967, 0.045527949929237366, 0.010393164120614529, 0.3395661413669586, 0.05911901220679283, 0.036270879209041595, 0.24118086695671082, 0.27935275435447693, 0.3591865301132202, 0.04530457407236099, 0.023099442943930626, 0.01729731634259224, 0.011975064873695374, 0.002290313132107258, 0.008397814817726612, 0.011887814849615097, 0.00533199030905962, 0.02603265829384327, 0.00470469705760479, 0.006116106174886227, 0.7304826378822327, 0.001411409117281437, 0.17987625300884247, 0.002352348528802395, 0.04296956583857536, 0.0007841162150725722, 0.9936782121658325, 0.005845165811479092, 0.9939598441123962, 0.9936411380767822, 0.1274983286857605, 0.4137396216392517, 0.09724896401166916, 0.021115334704518318, 0.13325589895248413, 0.13534727692604065, 0.025071309879422188, 0.005543405190110207, 0.01669320836663246, 0.024479173123836517, 0.14511911571025848, 0.3539823293685913, 0.09382158517837524, 0.08870022743940353, 0.12450774759054184, 0.045735400170087814, 0.09883799403905869, 0.019792785868048668, 0.01861739344894886, 0.010872389189898968, 0.04129143804311752, 0.6103951334953308, 0.04885726049542427, 0.00192351418081671, 0.2601873576641083, 0.02872447855770588, 0.004231730941683054, 0.0005129370838403702, 0.0024364511482417583, 0.0015388113679364324, 0.2311152070760727, 0.49872058629989624, 0.06456577777862549, 0.013004299253225327, 0.11458106338977814, 0.03871993348002434, 0.00761703634634614, 0.00151364179328084, 0.0036294853780418634, 0.026529422029852867, 0.9932805299758911, 0.9957225918769836, 0.14162790775299072, 0.02938968874514103, 0.006587344221770763, 0.030023088678717613, 0.5457361340522766, 0.016215000301599503, 0.08677559345960617, 0.007600781973451376, 0.13149352371692657, 0.004433789290487766, 0.03184003755450249, 0.4983394742012024, 0.03713829815387726, 0.009284574538469315, 0.38359421491622925, 0.006458834744989872, 0.026289476081728935, 0.001412870129570365, 0.004289069678634405, 0.0012614910956472158, 0.19222953915596008, 0.2773400545120239, 0.3869084119796753, 0.033441074192523956, 0.024882594123482704, 0.023388929665088654, 0.009768984280526638, 0.013046549633145332, 0.016515247523784637, 0.022482821717858315, 0.9834403991699219, 0.5734548568725586, 0.181291401386261, 0.08962062746286392, 0.011812740005552769, 0.060918595641851425, 0.041881535202264786, 0.01591303013265133, 0.0028311526402831078, 0.0054670535027980804, 0.01669403724372387, 0.9951316714286804, 0.043893132358789444, 0.534914493560791, 0.1470910906791687, 0.02950132079422474, 0.07618971168994904, 0.008272457867860794, 0.10244248807430267, 0.017602581530809402, 0.021682148799300194, 0.018433604389429092, 0.1320352405309677, 0.43228089809417725, 0.233143612742424, 0.020777959376573563, 0.03438711166381836, 0.09887328743934631, 0.014933641999959946, 0.005645644851028919, 0.013095909729599953, 0.014834304340183735, 0.025778476148843765, 0.9692707061767578, 0.9849880337715149, 0.0026301415637135506, 0.010520566254854202, 0.014953695237636566, 0.2707711160182953, 0.056093424558639526, 0.03410671651363373, 0.31788551807403564, 0.031034037470817566, 0.03123888373374939, 0.036018602550029755, 0.03014637529850006, 0.1777714341878891, 0.9756726622581482, 0.9953593611717224, 0.05488865077495575, 0.22499510645866394, 0.04038063809275627, 0.05138254538178444, 0.5488864779472351, 0.009067508392035961, 0.02381732128560543, 0.007254006806761026, 0.005198704544454813, 0.03409383073449135, 0.0016202123370021582, 0.006249390542507172, 0.0013887534150853753, 0.015970664098858833, 0.904078483581543, 0.0006943767075426877, 0.05902202054858208, 0.009721273556351662, 0.0011572944931685925, 0.00023145890736486763, 0.1078234389424324, 0.13230770826339722, 0.08797342330217361, 0.06534285843372345, 0.03352104127407074, 0.04016346111893654, 0.037923574447631836, 0.41368362307548523, 0.03823252394795418, 0.043098483234643936, 0.013774719089269638, 0.14869922399520874, 0.1311609148979187, 0.10206841677427292, 0.10026188939809799, 0.3753422796726227, 0.04000690206885338, 0.05792156606912613, 0.004779752343893051, 0.025968734174966812, 0.4898202121257782, 0.2076254040002823, 0.1079903095960617, 0.011532565578818321, 0.15027639269828796, 0.010473452508449554, 0.002471263986080885, 0.0011375659378245473, 0.002039773389697075, 0.016631998121738434, 0.5478211045265198, 0.17716020345687866, 0.10853013396263123, 0.05028969421982765, 0.026193564757704735, 0.026925228536128998, 0.013413836248219013, 0.01185295358300209, 0.013560169376432896, 0.02429123967885971, 0.9973611831665039, 0.993573784828186, 0.0032300432212650776, 0.0032300432212650776, 0.9916232824325562, 0.011492275632917881, 0.0057461378164589405, 0.9768434166908264, 0.0057461378164589405, 0.9972918629646301, 0.033314403146505356, 0.47885775566101074, 0.1462368220090866, 0.03527599573135376, 0.11360897868871689, 0.07414824515581131, 0.022623715922236443, 0.02350643277168274, 0.05711507424712181, 0.015267739072442055, 0.006232574116438627, 0.7468701601028442, 0.008829480037093163, 0.002250651828944683, 0.13019154965877533, 0.013850164599716663, 0.07357899844646454, 0.0013850164832547307, 0.009521988220512867, 0.0070982095785439014, 0.48264801502227783, 0.06689537316560745, 0.1536569744348526, 0.059119321405887604, 0.02681673690676689, 0.06268778443336487, 0.022768927738070488, 0.02508576586842537, 0.08939799666404724, 0.010918432846665382, 0.001965742325410247, 0.011606425978243351, 0.0017948081949725747, 0.8628411889076233, 0.011538052000105381, 0.00010256046516587958, 0.09262919425964355, 0.011555145494639874, 0.005863039754331112, 0.00010256046516587958, 0.9899504780769348, 0.0023911846801638603, 0.004782369360327721, 0.00019556921324692667, 0.00019556921324692667, 9.778460662346333e-05, 0.9187841415405273, 0.00029335380531847477, 9.778460662346333e-05, 0.06140873208642006, 0.017699014395475388, 0.0012711999006569386, 9.778460662346333e-05, 0.0013173590414226055, 0.03161661699414253, 0.0006586795207113028, 0.03952077031135559, 0.926103413105011, 0.0006586795207113028, 0.00042907908209599555, 0.0008581581641919911, 0.013730530627071857, 0.0030035534873604774, 0.012872371822595596, 0.9645697474479675, 0.0021453953813761473, 0.0021453953813761473, 0.9963214993476868, 0.0011949328472837806, 0.00029873321182094514, 0.002688598819077015, 0.0020911323372274637, 0.0020911323372274637, 0.0492909774184227, 0.00029873321182094514, 0.7459368109703064, 0.083645299077034, 0.11232368648052216, 0.09761966019868851, 0.13856422901153564, 0.12257025390863419, 0.4790287911891937, 0.021375469863414764, 0.005230968818068504, 0.05193335935473442, 0.05437949672341347, 0.021902330219745636, 0.0074136750772595406, 0.9375557899475098, 0.007217916194349527, 0.0531032420694828, 0.0018044790485873818, 0.0002577827253844589, 0.9964622259140015, 0.08533845841884613, 0.037486590445041656, 0.2680664658546448, 0.2504570782184601, 0.0030678436160087585, 0.05528843402862549, 0.028199581429362297, 0.19904577732086182, 0.06384732574224472, 0.009203530848026276, 0.9851966500282288, 0.00531578017398715, 0.0003666055272333324, 0.03400266170501709, 0.653840959072113, 9.16513818083331e-05, 0.009806698188185692, 0.01328945066779852, 0.18366937339305878, 0.09348440915346146, 0.006048991344869137, 0.0002848610165528953, 0.0002848610165528953, 0.8580013513565063, 0.0002848610165528953, 0.0843188613653183, 0.056117620319128036, 0.0002848610165528953, 0.0002848610165528953, 0.9597114324569702, 0.03872034698724747, 0.002134321490302682, 0.004268642980605364, 0.002134321490302682, 0.9860565662384033, 0.002134321490302682, 0.00020479322120081633, 0.00040958644240163267, 0.00020479322120081633, 0.0794597715139389, 0.00143355259206146, 0.007782142609357834, 0.0008191728848032653, 0.9098962545394897, 0.051429662853479385, 0.002086699940264225, 0.5602155327796936, 0.14153820276260376, 0.0009222983499057591, 0.0333871990442276, 0.0013603901024907827, 0.108277827501297, 0.0583699569106102, 0.04241419583559036, 0.25328579545021057, 0.21765165030956268, 0.2270621508359909, 0.10466006398200989, 0.02667400799691677, 0.013773282989859581, 0.048788197338581085, 0.024309657514095306, 0.06969206035137177, 0.01410166546702385, 0.660732090473175, 0.003946352284401655, 0.10805487632751465, 0.02536940574645996, 0.01691293716430664, 0.023490190505981445, 0.018792152404785156, 0.023114347830414772, 0.10993409156799316, 0.009583997540175915, 0.02172769047319889, 0.09514441341161728, 0.004116825759410858, 0.0034306880552321672, 0.8199344277381897, 0.007318801246583462, 0.02378610335290432, 0.004345538094639778, 0.004116825759410858, 0.015781164169311523, 0.1973024308681488, 0.09556013345718384, 0.19792985916137695, 0.06449033319950104, 0.030400553718209267, 0.30062583088874817, 0.04028031602501869, 0.015836061909794807, 0.03914259374141693, 0.01842939481139183, 0.9940998554229736, 0.13795003294944763, 0.0560799241065979, 0.009767345152795315, 0.08713788539171219, 0.573419988155365, 0.005734199658036232, 0.08000443130731583, 0.012044562958180904, 0.034295454621315, 0.0035392907448112965, 0.9876039624214172, 0.005989061202853918, 0.0010823603952303529, 0.07331188023090363, 0.2602716088294983, 0.0002164720935979858, 0.06241611763834953, 0.008514569140970707, 0.17310550808906555, 0.410936176776886, 0.004185127094388008, 0.0019539876375347376, 0.0013090753927826881, 0.7786881327629089, 0.09168341010808945, 0.00014438331709243357, 0.0039753541350364685, 0.013957054354250431, 0.05283467099070549, 0.0289344172924757, 0.026518402621150017, 0.0013449789257720113, 0.01075983140617609, 0.9414852857589722, 0.0026899578515440226, 0.005379915703088045, 0.0376594103872776, 0.19422106444835663, 0.02992681972682476, 0.17676499485969543, 0.05520854890346527, 0.006790118757635355, 0.026568744331598282, 0.017145419493317604, 0.04429110139608383, 0.4222743809223175, 0.0268202293664217, 0.728373110294342, 0.06673507392406464, 0.07043536752462387, 0.0002596695558167994, 0.005517978221178055, 0.046480849385261536, 0.0007140912930481136, 0.07770611345767975, 0.003765208413824439, 0.7974951267242432, 0.00602261908352375, 0.03412817418575287, 0.0015056547708809376, 0.00351319438777864, 0.03864513710141182, 0.0005018849042244256, 0.003011309541761875, 0.04818095266819, 0.06675069034099579, 0.9868422150611877, 0.9960469007492065, 0.001556107890792191, 0.001705323695205152, 0.42829206585884094, 0.33055567741394043, 8.526618330506608e-05, 0.19282947480678558, 0.0023235036060214043, 0.026411201804876328, 0.009997460059821606, 0.006224431563168764, 0.0022462496999651194, 0.014226248487830162, 0.0007487498805858195, 0.04267874360084534, 0.06813623756170273, 0.00374374957755208, 0.8341073989868164, 0.01497499831020832, 0.017969997599720955, 0.0007487498805858195, 0.014098363928496838, 0.068180613219738, 0.005315776448696852, 0.03235689923167229, 0.7472133040428162, 0.008320345543324947, 0.08320345729589462, 0.00924482848495245, 0.030276814475655556, 0.001848965766839683, 0.001775215845555067, 0.002130259061232209, 0.12106972187757492, 0.0031953887082636356, 0.0003550431865733117, 0.014911813661456108, 0.0014201727462932467, 0.8251203298568726, 0.004970604553818703, 0.024853022769093513, 0.09828868508338928, 0.015030654147267342, 0.01768312230706215, 0.0019156716298311949, 0.004862858448177576, 0.14986446499824524, 0.01886199787259102, 0.11921371519565582, 0.0892997682094574, 0.48481225967407227, 0.005072981119155884, 0.03159742429852486, 0.006015106104314327, 0.1937154084444046, 0.018117789179086685, 0.015146472491323948, 0.6567336320877075, 0.04051137715578079, 0.027611510828137398, 0.005507808178663254, 0.990198016166687, 0.9884730577468872, 0.9832043051719666, 0.19951468706130981, 0.23977194726467133, 0.09158309549093246, 0.035731617361307144, 0.14243531227111816, 0.05630755424499512, 0.041450079530477524, 0.11180821061134338, 0.04344978556036949, 0.03797690197825432, 0.003561617573723197, 0.9936913251876831, 0.00025466096121817827, 0.0005093219224363565, 0.9705129265785217, 0.00025466096121817827, 0.0038199143018573523, 0.02266482636332512, 0.0012733048060908914, 0.00025466096121817827, 0.0007377074216492474, 0.9885279536247253, 0.0007377074216492474, 0.009590196423232555, 0.004341330379247665, 0.9898232817649841, 0.08052382618188858, 0.15957224369049072, 0.1077045127749443, 0.11512310057878494, 0.07156749814748764, 0.22868767380714417, 0.12164812535047531, 0.06668411940336227, 0.032521236687898636, 0.015959303826093674, 0.036111362278461456, 0.7605540156364441, 0.04896080121397972, 0.0004430841945577413, 0.1311529129743576, 0.0039877574890851974, 0.009083225391805172, 0.0004430841945577413, 0.007975514978170395, 0.001550794579088688, 0.0043963473290205, 0.0043963473290205, 0.013189041055738926, 0.013189041055738926, 0.9628000259399414, 0.12784413993358612, 0.27400049567222595, 0.1611604392528534, 0.05041199177503586, 0.10820864140987396, 0.0506894513964653, 0.03163021802902222, 0.03141678869724274, 0.06654724478721619, 0.09809209406375885, 0.23571816086769104, 0.5596038103103638, 0.11006886512041092, 0.00453607551753521, 0.030924202874302864, 0.03199905529618263, 0.005246070213615894, 0.0013805447379127145, 0.010176586918532848, 0.010354085825383663, 0.7615817785263062, 0.08505978435277939, 0.11275365948677063, 0.0029672016389667988, 0.023078234866261482, 0.01219849567860365, 0.0019781345035880804, 0.07254444062709808, 0.003921321127563715, 0.9215104579925537, 0.9925353527069092, 0.7348415851593018, 0.021177450194954872, 0.019266702234745026, 0.030731186270713806, 0.0009553736890666187, 0.00573224201798439, 0.004139952827244997, 0.10827568173408508, 0.06480617821216583, 0.010190652683377266, 0.998898446559906, 0.9928073287010193, 0.0045898426324129105, 0.0040639229118824005, 0.45621123909950256, 0.010303240269422531, 0.0015299475053325295, 0.007243345491588116, 0.0018407180905342102, 0.42766815423965454, 0.06590726971626282, 0.020630385726690292, 0.045732222497463226, 0.5585379600524902, 0.17663376033306122, 0.021847782656550407, 0.1002899631857872, 0.04110345616936684, 0.033635709434747696, 0.0028389773797243834, 0.01147934328764677, 0.007899763062596321, 0.023741744458675385, 0.1530703753232956, 0.07939644157886505, 0.12493694573640823, 0.07745344936847687, 0.14633645117282867, 0.049905575811862946, 0.06667384505271912, 0.01783292554318905, 0.260626882314682, 0.9914974570274353, 0.006837913766503334, 0.006289476994425058, 0.001796993426978588, 0.01042256224900484, 0.11788277328014374, 0.0016172941541299224, 0.0005390980513766408, 0.11626547574996948, 0.7310169339179993, 0.005031581502407789, 0.00898496713489294, 0.030294355005025864, 0.03392677381634712, 0.05252474546432495, 0.5225958228111267, 0.003414471633732319, 0.010534008964896202, 0.10490419715642929, 0.19912908971309662, 0.029604196548461914, 0.013149349018931389, 0.00010108141577802598, 0.9735150933265686, 0.0025270353071391582, 0.023147644475102425, 0.0005054070497862995, 0.00010108141577802598, 0.9961403012275696, 0.0004314497346058488, 0.9220080971717834, 0.0025886984076350927, 0.07377790659666061, 0.0004314497346058488, 0.0016141029773280025, 0.0016141029773280025, 0.0021521374583244324, 0.11675345152616501, 0.005918377544730902, 0.047347020357847214, 0.014526926912367344, 0.014526926912367344, 0.7952147722244263, 0.000692312081810087, 0.0183462705463171, 0.000692312081810087, 0.00917313527315855, 0.9216404557228088, 0.002423092257231474, 0.03600022941827774, 0.002942326245829463, 0.001557702198624611, 0.006403886713087559, 0.12845514714717865, 0.0761515200138092, 0.14299333095550537, 0.03169061616063118, 0.03605395555496216, 0.288168340921402, 0.013202856294810772, 0.013278086669743061, 0.2537318170070648, 0.01624966971576214, 0.0002799512876663357, 0.9809492826461792, 0.004199269227683544, 0.01371761318296194, 0.0005599025753326714, 0.0002799512876663357, 0.0005850304733030498, 0.0005850304733030498, 0.955939769744873, 0.009360487572848797, 0.032176673412323, 0.0011700609466060996, 0.041679929941892624, 0.0031474546995013952, 0.116932712495327, 0.017644822597503662, 0.00114452897105366, 0.09261146932840347, 0.002575190272182226, 0.053697485476732254, 0.6639221906661987, 0.006676419172435999, 0.0011831190204247832, 0.0011831190204247832, 0.0011831190204247832, 0.007098713889718056, 0.0011831190204247832, 0.9879043698310852, 0.00041412978316657245, 0.00041412978316657245, 0.005797816906124353, 0.0024847788736224174, 0.00041412978316657245, 0.004555427934974432, 0.03809994086623192, 0.9471148252487183, 0.0008282595663331449, 0.0007003371138125658, 0.00017508427845314145, 0.0003501685569062829, 0.9335493445396423, 0.0015757584478706121, 0.0005252528353594244, 0.02993941120803356, 0.02888890542089939, 0.0031515168957412243, 0.0012255898909643292, 0.011018185876309872, 0.0035928867291659117, 0.02191660925745964, 0.8777422308921814, 0.0011976289097219706, 0.0007185773574747145, 0.01736561954021454, 0.05257590860128403, 0.012335577048361301, 0.001437154714949429, 0.9802908897399902, 0.01669595204293728, 0.007106282282620668, 0.0022472860291600227, 0.03103684075176716, 0.2748977243900299, 0.014334039762616158, 0.02374834567308426, 0.011236429214477539, 0.48996907472610474, 0.05666804686188698, 0.08873742818832397, 0.008775237016379833, 0.987214207649231, 0.9969944953918457, 0.01918220892548561, 0.18223097920417786, 0.014231961220502853, 0.0020110381301492453, 0.6110461950302124, 0.005104942712932825, 0.15809853374958038, 0.003403295064345002, 0.0038673807866871357, 0.0006187809631228447, 0.9929192066192627, 0.9922049641609192, 0.9904122352600098, 0.0016080086352303624, 0.0004020021588075906, 0.0012060065055266023, 0.9282230138778687, 0.003216017270460725, 0.00763804093003273, 0.051054272800683975, 0.0012060065055266023, 0.005628030281513929, 0.9845643043518066, 0.0031206475105136633, 0.0109222661703825, 0.9927513599395752, 0.9926903247833252, 0.004338523373007774, 0.9761677384376526, 0.017354093492031097, 0.9911162853240967, 0.9847661256790161, 0.9957937598228455, 0.0030175568535923958, 0.0018405081937089562, 0.0036810163874179125, 0.9920339584350586, 0.0009202540968544781, 0.05804913118481636, 0.6262059211730957, 0.14848566055297852, 0.017124369740486145, 0.08366123586893082, 0.03144431486725807, 0.01655355840921402, 0.005311036482453346, 0.007594285998493433, 0.0055840336717665195, 0.9894165396690369, 0.9935630559921265, 0.9859874844551086, 0.0027939947322010994, 0.0012699976796284318, 0.009143983013927937, 0.08051785081624985, 0.0005079990369267762, 0.002285995753481984, 0.6217908263206482, 0.2059936225414276, 0.06476987898349762, 0.010921980254352093, 0.0003968101809732616, 0.0003968101809732616, 0.0023808609694242477, 0.08650461584329605, 0.0015872407238930464, 0.0031744814477860928, 0.052775751799345016, 0.8432216048240662, 0.0035712914541363716, 0.005952152423560619, 0.9962902069091797, 0.9935852885246277, 0.9866641759872437, 0.993919312953949, 0.9967901706695557, 0.013049770146608353, 0.006524885073304176, 0.003077775938436389, 0.010464438237249851, 0.8817212581634521, 0.0041857752948999405, 0.02326798625290394, 0.01009510550647974, 0.030162204056978226, 0.017358656972646713, 0.9930363297462463, 0.0005731993587687612, 0.0005731993587687612, 0.0005731993587687612, 0.9715728759765625, 0.026367170736193657, 0.0005731993587687612, 0.9825380444526672, 0.01459665410220623, 0.0036491635255515575, 0.027003809809684753, 0.00036491637001745403, 0.023354647681117058, 0.7115868926048279, 0.16348253190517426, 0.04306013137102127, 0.013136988505721092, 0.007833018898963928, 0.0004607658484019339, 0.0009215316968038678, 0.04745887964963913, 0.0023038291838020086, 0.2575680911540985, 0.04100815951824188, 0.01935216411948204, 0.013822974637150764, 0.6095932126045227, 0.9963226914405823, 0.9957352876663208, 0.9959352016448975, 0.9861075282096863, 0.009861075319349766, 0.05039547383785248, 0.003599676536396146, 0.001799838268198073, 0.030597250908613205, 0.9143178462982178, 0.9365619421005249, 0.05629607290029526, 0.005117824766784906, 0.9722458720207214, 0.014193370006978512, 0.007096685003489256, 0.9940576553344727, 0.010279517620801926, 0.05153840407729149, 0.03816094994544983, 0.063648521900177, 0.0011265224311500788, 0.04069562628865242, 0.025205940008163452, 0.7374497652053833, 0.02013658918440342, 0.011687670834362507, 0.992660641670227, 0.9890855550765991, 0.005289227701723576, 0.002644613850861788, 0.055021144449710846, 0.24931304156780243, 0.21603178977966309, 0.17872193455696106, 0.009206484071910381, 0.17324160039424896, 0.023506173864006996, 0.05008520931005478, 0.03178112208843231, 0.013077804818749428, 0.04582386463880539, 0.9055668711662292, 0.015274621546268463, 0.02836715430021286, 0.002182088792324066, 0.002182088792324066, 0.03978899493813515, 0.03196806088089943, 0.05415995791554451, 0.2154666930437088, 0.005670176353305578, 0.01974785514175892, 0.1586671769618988, 0.430346816778183, 0.03607405349612236, 0.008114217780530453, 0.14933259785175323, 0.008888094685971737, 0.021747466176748276, 0.22863206267356873, 0.004475565627217293, 0.02118014171719551, 0.2474798560142517, 0.2692273259162903, 0.0354263074696064, 0.013615804724395275, 0.04872236028313637, 0.1375495195388794, 0.029871447011828423, 0.14368124306201935, 0.23561570048332214, 0.001491500879637897, 0.36587342619895935, 0.012884910218417645, 0.022745387628674507, 0.0015329313464462757, 0.0013165705604478717, 0.011519991792738438, 0.0009874278912320733, 0.20044785737991333, 0.03752226009964943, 0.0009874278912320733, 0.7208223342895508, 0.016786273568868637, 0.008557708002626896, 0.0013165705604478717, 0.993267834186554, 0.9817622900009155, 0.01422112062573433, 0.025630155578255653, 0.002088978188112378, 0.09737852215766907, 0.4258301854133606, 0.003615539288148284, 0.1802145391702652, 0.04338647052645683, 0.006990042515099049, 0.20070259273052216, 0.0010262555442750454, 0.048234011977910995, 0.0025656388606876135, 0.002052511088550091, 0.9046443104743958, 0.004618150182068348, 0.01847260072827339, 0.005644405726343393, 0.002052511088550091, 0.009749428369104862, 0.6155948638916016, 0.026226909831166267, 0.15473516285419464, 0.028025737032294273, 0.044215187430381775, 0.046229876577854156, 0.005288553889840841, 0.013958903960883617, 0.025759214535355568, 0.03993397578597069, 0.6964045763015747, 0.08436638861894608, 0.06244370713829994, 0.05152729153633118, 0.01635216549038887, 0.033018793910741806, 0.02039528265595436, 0.003144647227600217, 0.025202101096510887, 0.007097918074578047, 0.26009780168533325, 0.08710109442472458, 0.4008852541446686, 0.1328616738319397, 0.013845558278262615, 0.029997656121850014, 0.016547594219446182, 0.01373798307031393, 0.03537957742810249, 0.009548879228532314, 0.9948322772979736, 0.9906070828437805, 0.9936578869819641, 0.9996193647384644, 0.9949910044670105, 0.9902342557907104, 0.981802761554718, 0.9976247549057007, 0.9967964887619019, 0.994383692741394, 0.9941497445106506, 0.012720439583063126, 0.11255444586277008, 0.008575577288866043, 0.010648008435964584, 0.46836942434310913, 0.21574722230434418, 0.0965467020869255, 0.03987643122673035, 0.013649459928274155, 0.021367479115724564, 0.9970452189445496, 0.4560316205024719, 0.1290404349565506, 0.06873112171888351, 0.05508728697896004, 0.11790522933006287, 0.05024923384189606, 0.03494152054190636, 0.01285028737038374, 0.03609343618154526, 0.039062827825546265, 0.010078906081616879, 0.04093270003795624, 0.004936607088893652, 0.08906462043523788, 0.1787463128566742, 0.0034967632964253426, 0.5810797810554504, 0.06273604929447174, 0.02612287923693657, 0.0030853794887661934, 0.9920555949211121, 0.060278624296188354, 0.2004360556602478, 0.46900850534439087, 0.07520458102226257, 0.026883142068982124, 0.023522749543190002, 0.021255115047097206, 0.08052309602499008, 0.017717860639095306, 0.025165045633912086, 0.0294107086956501, 0.9705533981323242, 0.9821333885192871, 0.113052599132061, 0.5556140542030334, 0.09644383192062378, 0.03904755041003227, 0.13117535412311554, 0.010710959322750568, 0.00684687914326787, 0.0009264753898605704, 0.04367992654442787, 0.002530859550461173, 0.25190141797065735, 0.2937287986278534, 0.12395429611206055, 0.07148222625255585, 0.177262082695961, 0.02609253115952015, 0.02230232022702694, 0.006516801659017801, 0.0129323061555624, 0.013827100396156311, 0.016630014404654503, 0.9333596229553223, 0.004157503601163626, 0.004157503601163626, 0.033260028809309006, 0.006236255634576082, 0.9893330931663513, 0.04120483249425888, 0.3017052710056305, 0.07026471197605133, 0.02245936170220375, 0.1840752363204956, 0.06838136166334152, 0.00971596222370863, 0.009187920019030571, 0.004945987835526466, 0.288064181804657, 0.2062511146068573, 0.06190759688615799, 0.13103102147579193, 0.2578676640987396, 0.027848336845636368, 0.06116820126771927, 0.06768497079610825, 0.12339844554662704, 0.021408870816230774, 0.04143305495381355, 0.0008675163262523711, 0.003036307170987129, 0.9249892830848694, 0.00021687908156309277, 0.002168790902942419, 0.06571435928344727, 0.0023856698535382748, 0.00021687908156309277, 0.992660641670227, 0.00238244840875268, 0.0035736726131290197, 0.00119122420437634, 0.9899073243141174, 0.00238244840875268, 0.08289767801761627, 0.03604437783360481, 0.2525303363800049, 0.04590129107236862, 0.012097788043320179, 0.35823220014572144, 0.029805082827806473, 0.08620772510766983, 0.07339227199554443, 0.0228920616209507, 0.9960603713989258, 0.9899461269378662, 0.01935025304555893, 0.004837563261389732, 0.0013821609318256378, 0.04906671121716499, 0.0041464827954769135, 0.016585931181907654, 0.01796809211373329, 0.04422914981842041, 0.0020732413977384567, 0.8396627306938171, 0.09983494132757187, 0.00849659088999033, 0.009771079756319523, 0.006797272711992264, 0.7944312691688538, 0.0004248295444995165, 0.0004248295444995165, 0.06627340614795685, 0.0140193747356534, 0.1854642629623413, 0.10782963782548904, 0.15427178144454956, 0.027845000848174095, 0.029096081852912903, 0.39801275730133057, 0.014488867484033108, 0.012392462231218815, 0.05459107831120491, 0.016027359291911125, 0.17440484464168549, 0.24768038094043732, 0.18293192982673645, 0.10460734367370605, 0.01874375343322754, 0.13111735880374908, 0.03027457185089588, 0.04819822311401367, 0.03454304859042168, 0.02751784585416317, 0.044428154826164246, 0.00891786441206932, 0.02073672041296959, 0.016653843224048615, 0.43568602204322815, 0.0794549509882927, 0.05834217369556427, 0.002900992054492235, 0.3291551470756531, 0.0037605452816933393, 0.004545862786471844, 0.994028627872467, 0.16719616949558258, 0.5288002490997314, 0.11773858219385147, 0.029057171195745468, 0.05740972235798836, 0.0446259081363678, 0.009998887777328491, 0.009059394709765911, 0.023923514410853386, 0.012196630239486694, 0.7039344906806946, 0.03140512853860855, 0.1699777990579605, 0.012680286541581154, 0.0098129166290164, 0.03609345108270645, 0.000919960904866457, 0.004027595277875662, 0.018617354333400726, 0.012534862384200096, 0.9868490099906921, 0.6564540266990662, 0.006061010528355837, 0.013986947014927864, 0.004196084104478359, 0.05384974554181099, 0.1463967114686966, 0.0016318104462698102, 0.07483016699552536, 0.004429199732840061, 0.038464102894067764, 0.03881227970123291, 0.0006578352767974138, 0.22787414491176605, 0.01749841868877411, 0.00013156705244909972, 0.011841034516692162, 0.0017103716963902116, 0.0139461075887084, 0.6677027940750122, 0.01986662484705448, 0.9939443469047546, 0.0040110875852406025, 0.9907386898994446, 0.0371696911752224, 0.0743393823504448, 0.8688415288925171, 0.0046462113969028, 0.0015487370546907187, 0.01238989643752575, 0.004394303075969219, 0.004394303075969219, 0.9843238592147827, 0.06554465740919113, 0.03597831726074219, 0.02778523601591587, 0.057351574301719666, 0.7765616774559021, 0.0014248838415369391, 0.01994837448000908, 0.0067681982181966305, 0.002137325704097748, 0.005699535366147757, 0.06364062428474426, 0.9204319715499878, 0.015320890583097935, 0.02017863281071186, 0.04146294668316841, 0.007463330402970314, 0.025707026943564415, 0.21864792704582214, 0.002764196367934346, 0.6023184061050415, 0.058877382427453995, 0.002764196367934346, 0.019349373877048492, 0.996027410030365, 0.9979902505874634, 0.24372434616088867, 0.1515611857175827, 0.2868090867996216, 0.1258109211921692, 0.022050393745303154, 0.02831605263054371, 0.04244329035282135, 0.03771710395812988, 0.023004868999123573, 0.038563814014196396, 0.9892817139625549, 0.005405911244452, 0.10032250732183456, 0.0014601735165342689, 0.011767280288040638, 0.12514545023441315, 0.0006012478843331337, 0.010307107120752335, 0.001803743769414723, 0.10882586985826492, 0.6308808326721191, 0.008932826109230518, 0.9961880445480347, 0.000831245502922684, 0.001662491005845368, 0.000831245502922684, 0.9758822321891785, 0.000831245502922684, 0.019118646159768105, 0.000831245502922684, 0.008759030140936375, 0.9897704124450684, 0.9903571605682373, 0.9895018339157104, 0.9893494844436646, 0.9898592829704285, 0.005072504281997681, 0.9942108392715454, 0.9920546412467957, 0.001808668370358646, 0.005426004994660616, 0.00016017659800127149, 0.00048052979400381446, 0.00032035319600254297, 0.1428775191307068, 0.0012814127840101719, 0.01649818941950798, 0.0009610595880076289, 0.8372430801391602, 0.004152209963649511, 0.002768139820545912, 0.9909940958023071, 0.9938977360725403, 0.9931298494338989, 0.6343263387680054, 0.009487787261605263, 0.06517206132411957, 0.0831310823559761, 0.02710796147584915, 0.06223536282777786, 0.006664040498435497, 0.019992122426629066, 0.06494615972042084, 0.026769112795591354, 0.9969241619110107, 0.05649494752287865, 0.1129898950457573, 0.058025021106004715, 0.026364309713244438, 0.012946758419275284, 0.6552236676216125, 0.03060143068432808, 0.006355681456625462, 0.02283337526023388, 0.018243160098791122, 0.14314545691013336, 0.2956657409667969, 0.22030025720596313, 0.06735177338123322, 0.10027828812599182, 0.09706669300794601, 0.025922175496816635, 0.011515868827700615, 0.030250184237957, 0.008503085002303123, 0.9889925718307495, 0.0035481941886246204, 0.8444702625274658, 0.0017740970943123102, 0.010644583031535149, 0.13837957382202148, 0.9896003007888794, 0.0013212586054578424, 0.009579124860465527, 0.9734372496604919, 0.0003303146513644606, 0.0009909439831972122, 0.011891326867043972, 0.0009909439831972122, 0.0013212586054578424, 0.004489891231060028, 0.0024176337756216526, 0.7722613215446472, 0.0006907525239512324, 0.007252901326864958, 0.0017268812516704202, 0.06044084206223488, 0.0970507264137268, 0.05318794399499893, 0.023987822234630585, 0.967508852481842, 0.04321605712175369, 0.010804014280438423, 0.9435505867004395, 0.0264850202947855, 0.0026400762144476175, 0.014436162076890469, 0.7860686779022217, 0.0017974987858906388, 0.012975694611668587, 0.0165987778455019, 0.07965166121721268, 0.054486680775880814, 0.004802692215889692, 0.9921996593475342, 0.025864221155643463, 0.0857493057847023, 0.015546418726444244, 0.002230876125395298, 0.1651545614004135, 0.5987811088562012, 0.008017211221158504, 0.001254867878742516, 0.002509735757485032, 0.09488195180892944, 0.9934355020523071, 0.0037630132865160704, 0.01190163753926754, 0.0198360625654459, 0.07140982151031494, 0.00044080137740820646, 0.14943166077136993, 0.0035264110192656517, 0.06964661926031113, 0.6620836853981018, 0.01190163753926754, 0.23121888935565948, 0.05325619876384735, 0.08678001910448074, 0.01193490531295538, 0.0573405884206295, 0.38812312483787537, 0.005145270377397537, 0.004827006254345179, 0.08481739461421967, 0.07654252648353577, 0.0008983768057078123, 0.004491884261369705, 0.9900112748146057, 0.0035935072228312492, 0.9969052672386169, 0.9952095746994019, 0.0018029159400612116, 0.9856852293014526, 0.004903906490653753, 0.007355859968811274, 0.000155911868205294, 0.000155911868205294, 0.000311823736410588, 0.8146395087242126, 0.000155911868205294, 0.1688525527715683, 0.014967539347708225, 0.0009354712092317641, 0.991291880607605, 0.9914179444313049, 0.007343836594372988, 0.9954833388328552, 0.011921769939363003, 0.1291957050561905, 0.017882654443383217, 0.0012958445586264133, 0.21381434798240662, 0.5905163288116455, 0.012180938385426998, 0.0020733512938022614, 0.005053793545812368, 0.016327641904354095, 0.9829229712486267, 0.046954575926065445, 0.17643357813358307, 0.2291100174188614, 0.09243444353342056, 0.021117761731147766, 0.14269235730171204, 0.020675349980592728, 0.23105661571025848, 0.007786436937749386, 0.031735628843307495, 0.4879195988178253, 0.11797745525836945, 0.19555261731147766, 0.053022291511297226, 0.017933672294020653, 0.06115313991904259, 0.01972016878426075, 0.01424616202712059, 0.02654550038278103, 0.00593208335340023, 0.000669801258482039, 0.001339602516964078, 0.00022326709586195648, 0.18084634840488434, 0.10247959196567535, 0.00022326709586195648, 0.7017284631729126, 0.007814347743988037, 0.0040188077837228775, 0.00022326709586195648, 0.05460071191191673, 0.07364746928215027, 0.020256077870726585, 0.06911253184080124, 0.052000679075717926, 0.021404929459095, 0.0391819067299366, 0.19893282651901245, 0.007860567420721054, 0.46298742294311523, 0.002016412792727351, 0.0010834456188604236, 0.83879154920578, 0.06096187233924866, 0.00021668912086170167, 0.0015168238896876574, 0.011610925197601318, 0.04749705269932747, 0.013085615821182728, 0.02322787046432495, 0.9958402514457703, 0.9942235350608826, 0.0005607252824120224, 0.00018690843717195094, 0.001682175905443728, 0.8844507336616516, 0.00037381687434390187, 0.00037381687434390187, 0.003738168627023697, 0.10635089874267578, 0.0022429011296480894, 0.00018690843717195094, 0.996530294418335, 0.995518684387207, 0.09807240962982178, 0.17533548176288605, 0.5156470537185669, 0.07677024602890015, 0.00935363955795765, 0.05197807401418686, 0.02559678815305233, 0.02041708491742611, 0.021945850923657417, 0.004888031166046858, 0.9916396737098694, 0.0057890089228749275, 0.05644283816218376, 0.0028945044614374638, 0.0007236261153593659, 0.010854392312467098, 0.06006097048521042, 0.0007236261153593659, 0.039799436926841736, 0.0014472522307187319, 0.8213156461715698, 0.37892138957977295, 0.2687318027019501, 0.1679893583059311, 0.06895662844181061, 0.033370740711688995, 0.03403840586543083, 0.018569806590676308, 0.005129159893840551, 0.015050528571009636, 0.009241224266588688, 0.1690923422574997, 0.170227512717247, 0.06864236295223236, 0.11993301659822464, 0.08509058505296707, 0.04920566454529762, 0.09662751108407974, 0.12917645275592804, 0.010957758873701096, 0.10105231404304504, 0.9803574681282043, 4.2917050450341776e-05, 1.4305683180282358e-05, 5.722273272112943e-05, 0.9914982914924622, 1.4305683180282358e-05, 1.4305683180282358e-05, 0.004749486688524485, 0.0030900274869054556, 0.00048639322631061077, 2.8611366360564716e-05, 0.8544507026672363, 0.13676585257053375, 0.008195203728973866, 0.0002686952066142112, 0.17983444035053253, 0.08188899606466293, 0.13448508083820343, 0.016089241951704025, 0.09053477644920349, 0.05648723244667053, 0.0025248744059354067, 0.01078809890896082, 0.03992798924446106, 0.3874315917491913, 0.01741275005042553, 0.0012437677942216396, 0.004797390196472406, 0.2276095151901245, 0.014214489609003067, 0.028606660664081573, 0.49928393959999084, 0.11300519108772278, 0.07373766601085663, 0.019722603261470795, 0.9925352931022644, 0.9985978603363037, 0.027899056673049927, 0.0033406636212021112, 0.09082993865013123, 0.3190785348415375, 9.028820932144299e-05, 0.01986340619623661, 0.01905081234872341, 0.04261603206396103, 0.4589349627494812, 0.018418794497847557, 0.22653912007808685, 0.4169205129146576, 0.20733539760112762, 0.035671766847372055, 0.04893619194626808, 0.029246529564261436, 0.013120442628860474, 0.008333011530339718, 0.008207025937736034, 0.0057053230702877045, 0.0006956245051696897, 0.0013912490103393793, 0.004869371652603149, 0.0013912490103393793, 0.9898737072944641, 0.0006956245051696897, 0.92623370885849, 0.06387818604707718, 0.004562727641314268, 0.011977963149547577, 0.0029944907873868942, 0.9836902022361755, 0.9962896108627319, 0.0494871512055397, 0.07174453139305115, 0.6653535962104797, 0.03267572820186615, 0.020126353949308395, 0.004972393158823252, 0.06629857420921326, 0.07884795218706131, 0.010181567631661892, 0.05049319937825203, 0.03430948406457901, 0.7502771615982056, 0.02459925226867199, 0.007768184877932072, 0.01100492849946022, 0.0006473487010225654, 0.08350798487663269, 0.018125765025615692, 0.018773112446069717, 0.9851906299591064, 0.007520539220422506, 0.22872452437877655, 0.0286511592566967, 0.031687214970588684, 0.050617899745702744, 0.07051808387041092, 0.3751949667930603, 0.0432446263730526, 0.03962177410721779, 0.09233174473047256, 0.039443179965019226, 0.009831011295318604, 0.003024926409125328, 0.021174484863877296, 0.10511619597673416, 0.003024926409125328, 0.051423750817775726, 0.08091678470373154, 0.725226104259491, 0.29147017002105713, 0.18209055066108704, 0.15938729047775269, 0.06354105472564697, 0.07212229073047638, 0.04760449007153511, 0.06221256032586098, 0.024620404466986656, 0.06454553455114365, 0.03240237385034561, 0.006425460334867239, 0.0032818212639540434, 0.1215655654668808, 0.006840006448328495, 0.0002763638913165778, 0.0011745465453714132, 0.00034545487142167985, 0.010190918110311031, 0.8460534811019897, 0.003765458008274436, 0.9756821393966675, 0.017117230221629143, 0.9988932013511658, 0.005735026206821203, 0.030788034200668335, 0.004829495679587126, 0.004225808661431074, 0.0012073739198967814, 0.944770097732544, 0.008451617322862148, 0.04179611802101135, 0.009553398936986923, 0.06567961722612381, 0.0011941748671233654, 0.021495146676898003, 0.003582524601370096, 0.017912622541189194, 0.8347282409667969, 0.005970874335616827, 0.9959909319877625, 0.98101806640625, 0.048647694289684296, 0.4810808598995209, 0.09484639763832092, 0.07276400178670883, 0.09451433271169662, 0.07031501084566116, 0.08260145783424377, 0.019342854619026184, 0.015482584945857525, 0.02042206935584545, 0.0028742875438183546, 0.0028742875438183546, 0.022994300350546837, 0.9456406235694885, 0.022994300350546837, 0.9941098690032959, 0.06134473904967308, 0.80671626329422, 0.047492701560258865, 0.017150141298770905, 0.0006596208550035954, 0.008575070649385452, 0.014511658810079098, 0.020448245108127594, 0.005936587695032358, 0.016490520909428596, 0.9913471937179565, 0.9902662038803101, 0.9906432628631592, 0.9946991801261902, 0.12601548433303833, 0.4794327914714813, 0.08086205273866653, 0.027862172573804855, 0.2426588088274002, 0.010280306451022625, 0.018598999828100204, 0.002760788891464472, 0.00988071784377098, 0.0016346776392310858, 0.9953169226646423, 0.012434917502105236, 0.003996937535703182, 0.002220520982518792, 0.009770291857421398, 0.0008882083930075169, 0.00754977110773325, 0.0008882083930075169, 0.07549770921468735, 0.8722206354141235, 0.01421133428812027, 0.9852931499481201, 0.9872481226921082, 0.007168631535023451, 0.0020041335374116898, 0.07715914398431778, 0.02643914520740509, 0.0019270514603704214, 0.0013103949604555964, 0.0039311847649514675, 0.8390381932258606, 0.006012400612235069, 0.03499525412917137, 0.9934324622154236, 0.9778546690940857, 0.008730845525860786, 0.008730845525860786, 0.015847330912947655, 0.9785727262496948, 0.11786404252052307, 0.2888908088207245, 0.06693974137306213, 0.07946429401636124, 0.03602807596325874, 0.04863257333636284, 0.1505877673625946, 0.11101550608873367, 0.07461436092853546, 0.025981785729527473, 0.8705366849899292, 0.12728063762187958, 0.9946989417076111, 0.005149572156369686, 0.9887178540229797, 0.0007415119907818735, 0.015571752563118935, 0.046715255826711655, 0.8631199598312378, 0.06896061450242996, 0.0037075600121170282, 0.001483023981563747, 0.000307301728753373, 0.8825705051422119, 0.006760637741535902, 0.1090921089053154, 0.000614603457506746, 0.000307301728753373, 0.9610394239425659, 0.0007496407488361001, 0.037482038140296936, 0.0007496407488361001, 0.991377055644989, 0.004310335032641888, 0.1351226568222046, 0.13138532638549805, 0.1564675122499466, 0.16696885228157043, 0.018818210810422897, 0.04208436235785484, 0.04105791449546814, 0.17618057131767273, 0.024476833641529083, 0.10743487626314163, 0.3257827162742615, 0.11524375528097153, 0.24566148221492767, 0.03319307789206505, 0.017495859414339066, 0.03283334895968437, 0.024134475737810135, 0.019523417577147484, 0.17384670674800873, 0.012296155095100403, 0.9957470893859863, 0.0012818151153624058, 0.015381782315671444, 0.0012818151153624058, 0.9754613637924194, 0.003845445578917861, 0.995974600315094, 0.9913464784622192, 0.9852239489555359, 0.00526144215837121, 0.9733667373657227, 0.018415046855807304, 0.002630721079185605, 0.015612485818564892, 0.2699267268180847, 0.022384166717529297, 0.05069355294108391, 0.4895360767841339, 0.006583578418940306, 0.08671513199806213, 0.0331059955060482, 0.012790951877832413, 0.012885003350675106, 0.011388563551008701, 0.019326046109199524, 0.0013804319314658642, 0.005176619626581669, 0.91453617811203, 0.0020706478971987963, 0.028643961995840073, 0.0027608638629317284, 0.006211943458765745, 0.00897280778735876, 0.991679847240448, 0.0022902730852365494, 0.004580546170473099, 0.0022902730852365494, 0.16642650961875916, 0.0022902730852365494, 0.0015268487622961402, 0.760370671749115, 0.049622584134340286, 0.0076342434622347355, 0.0015268487622961402, 0.0028083494398742914, 0.9941556453704834, 0.10417693108320236, 0.005952967796474695, 0.147335946559906, 0.05116717517375946, 0.004393856972455978, 0.16094273328781128, 0.014740681275725365, 0.07490817457437515, 0.3773047626018524, 0.05924620106816292, 0.9927819967269897, 0.0036499337293207645, 0.0036499337293207645, 0.9798257946968079, 0.01652718149125576, 0.9988669157028198, 0.9958488345146179, 0.9916040897369385, 0.961051881313324, 0.016387691721320152, 0.020053358748555183, 0.0021562750916928053, 0.00021562751499004662, 0.14320926368236542, 0.07906277477741241, 0.1459803581237793, 0.2980874478816986, 0.010218408890068531, 0.039704579859972, 0.09469347447156906, 0.12833628058433533, 0.04591789096593857, 0.01478638406842947, 0.9943486452102661, 0.06698945164680481, 0.01959797739982605, 0.03117859922349453, 0.08444946259260178, 0.1744219958782196, 0.029040638357400894, 0.0783919095993042, 0.08694375306367874, 0.02761533111333847, 0.4012240469455719, 0.004425267688930035, 0.9912599325180054, 0.07241791486740112, 0.060202840715646744, 0.039437223225831985, 0.0574108250439167, 0.0006980039761401713, 0.08515648543834686, 0.03961172327399254, 0.0809684619307518, 0.027396656572818756, 0.536590576171875, 0.0013638410018756986, 0.017729932442307472, 0.00818304531276226, 0.9696909189224243, 0.0013638410018756986, 0.0014580937568098307, 0.0014580937568098307, 0.004374281037598848, 0.004374281037598848, 0.9404704570770264, 0.005832375027239323, 0.008748562075197697, 0.02916187420487404, 0.004374281037598848, 0.16633348166942596, 0.13091826438903809, 0.029079830273985863, 0.009955612011253834, 0.06555750966072083, 0.5633381009101868, 0.019242269918322563, 0.0027938673738390207, 0.00495813088491559, 0.007830698974430561, 0.03644667565822601, 0.16202203929424286, 0.007289335131645203, 0.0009940002346411347, 0.017892004922032356, 0.7537835240364075, 0.008614668622612953, 0.0009940002346411347, 0.0009940002346411347, 0.011265336535871029, 0.054078660905361176, 0.004771646577864885, 0.004771646577864885, 0.0015905487816780806, 0.00954329315572977, 0.8907073140144348, 0.003181097563356161, 0.028629878535866737, 0.0009556537261232734, 0.0003981890622526407, 0.0004778268630616367, 0.6199803352355957, 0.01863524690270424, 0.00015927561616990715, 0.24655866622924805, 0.11117438226938248, 0.0008760159253142774, 0.0008760159253142774, 0.9915136098861694, 0.012882192619144917, 0.9604389667510986, 0.0014313546707853675, 0.015744902193546295, 0.004294063895940781, 0.004294063895940781, 0.06074569746851921, 0.6242711544036865, 0.06203358992934227, 0.020964061841368675, 0.09487490355968475, 0.07555648684501648, 0.022752804681658745, 0.01659953035414219, 0.011805701069533825, 0.010374706238508224, 0.008783187717199326, 0.0378105491399765, 0.39208361506462097, 0.11327098309993744, 0.031223159283399582, 0.008515407331287861, 0.06233920902013779, 0.312820702791214, 0.009854307398200035, 0.023296868428587914, 0.11933707445859909, 0.13112273812294006, 0.20244631171226501, 0.39113301038742065, 0.01175663247704506, 0.007460381370037794, 0.0542546808719635, 0.05567708984017372, 0.02229405753314495, 0.0045865378342568874, 0.2873402237892151, 0.030656591057777405, 0.40417492389678955, 0.14679455757141113, 0.005160235799849033, 0.028348637744784355, 0.01630808785557747, 0.03971422091126442, 0.0325290821492672, 0.008970536291599274, 0.00628049997612834, 0.9835262894630432, 0.00753659987822175, 0.0006316606304608285, 0.013264873996376991, 0.024003105238080025, 0.010738231241703033, 0.05179617181420326, 0.07327263802289963, 0.763677716255188, 0.013264873996376991, 0.0328463539481163, 0.01642317697405815, 0.0031555197201669216, 0.013673918321728706, 0.0005259199533611536, 0.019459038972854614, 0.8898565769195557, 0.0010518399067223072, 0.06363631039857864, 0.0073628793470561504, 0.0015777598600834608, 0.002756425179541111, 0.0013782125897705555, 0.0013782125897705555, 0.9854220151901245, 0.009647488594055176, 0.7189053893089294, 0.08083119243383408, 0.03591642901301384, 0.03676242753863335, 0.0441841296851635, 0.03730078786611557, 0.014228135347366333, 0.0049606203101575375, 0.01111332792788744, 0.015766313299536705, 0.9893483519554138, 0.9942750930786133, 0.004644575994461775, 0.9939392805099487, 0.005259030498564243, 0.005259030498564243, 0.9886977076530457, 0.0053109461441636086, 0.9878360033035278, 0.04191771149635315, 0.020464543253183365, 0.0029658759012818336, 0.1890251636505127, 0.009095353074371815, 0.007810140028595924, 0.5077579617500305, 0.21680553257465363, 0.0005931751802563667, 0.003460188629105687, 0.032058488577604294, 0.004371612332761288, 0.005828816443681717, 0.007286020554602146, 0.02040085755288601, 0.8626648187637329, 0.008743224665522575, 0.004371612332761288, 0.016029244288802147, 0.039344511926174164, 0.009642884135246277, 0.05413470044732094, 0.0913158655166626, 0.20182780921459198, 0.05687059089541435, 0.12324950844049454, 0.04848352447152138, 0.26551568508148193, 0.02264956384897232, 0.1263442039489746, 0.9894143342971802, 0.1227027177810669, 0.10750314593315125, 0.43848296999931335, 0.1115386113524437, 0.012280513532459736, 0.028043407946825027, 0.027777109295129776, 0.06358417868614197, 0.04286401346325874, 0.04520949721336365, 0.0020442919339984655, 0.020442919805645943, 0.008177167735993862, 0.044974423944950104, 0.9219757318496704, 0.0005861595273017883, 0.04865124076604843, 0.0023446381092071533, 0.022274062037467957, 0.00351695716381073, 0.893307089805603, 0.019929423928260803, 0.001758478581905365, 0.008206233382225037, 0.03186814859509468, 0.21015149354934692, 0.026686787605285645, 0.0157669335603714, 0.476573646068573, 0.14803089201450348, 0.03877662494778633, 0.005014218855649233, 0.005682781338691711, 0.0413951613008976, 0.005901861470192671, 0.0176133681088686, 0.00682402728125453, 0.0015676820185035467, 0.10383587330579758, 0.8483926057815552, 0.004795262590050697, 0.0015676820185035467, 0.004795262590050697, 0.0047030458226799965, 0.9829195141792297, 0.009928479790687561, 0.03745491802692413, 0.15277370810508728, 0.08399488776922226, 0.018504513427615166, 0.03098948672413826, 0.5031332969665527, 0.013153810985386372, 0.010199776850640774, 0.13516098260879517, 0.014602960087358952, 0.003782965475693345, 0.0069475616328418255, 0.01189451664686203, 0.0312822125852108, 0.00792967714369297, 0.013422252610325813, 0.008438922464847565, 0.8542590737342834, 0.02211579866707325, 0.03990301117300987, 0.997600793838501, 0.04064425826072693, 0.0023908386938273907, 0.04303509369492531, 0.9133003354072571, 0.000580459600314498, 0.004063217435032129, 0.04730745777487755, 0.013060341589152813, 0.0020316087175160646, 0.8912957310676575, 0.014511490240693092, 0.02699137292802334, 0.0011447696015238762, 0.0022895392030477524, 0.016026774421334267, 0.0469355545938015, 0.030908780172467232, 0.05036986246705055, 0.004579078406095505, 0.8471295237541199, 0.01870855689048767, 0.029933691024780273, 0.03212710842490196, 0.131863072514534, 0.018149450421333313, 0.09771458059549332, 0.01208529807627201, 0.5242266654968262, 0.07930707931518555, 0.0559106282889843, 0.03780101612210274, 0.9612258672714233, 0.9912640452384949, 0.005184852052479982, 0.012962129898369312, 0.005184852052479982, 0.9773445725440979, 0.02467341721057892, 0.03626377508044243, 0.10150345414876938, 0.0779276043176651, 0.020283129066228867, 0.11164501309394836, 0.019273363053798676, 0.06791774928569794, 0.06264940649271011, 0.4777950048446655, 0.9848148822784424, 0.0029860553331673145, 0.005972110666334629, 0.005972110666334629, 0.0164233036339283, 0.008958165533840656, 0.0029860553331673145, 0.02538147009909153, 0.0029860553331673145, 0.9286631941795349, 0.0029977450612932444, 0.9952513575553894, 0.0256021898239851, 0.22281694412231445, 0.1751006841659546, 0.09502611309289932, 0.03454263508319855, 0.3099355101585388, 0.09025110304355621, 0.014782216399908066, 0.011057030409574509, 0.02086104266345501, 0.0022479461040347815, 0.008991784416139126, 0.06144385784864426, 0.0007493153098039329, 0.0022479461040347815, 0.9066715240478516, 0.011989044956862926, 0.005245207343250513, 0.993303120136261, 0.006117648910731077, 0.246815487742424, 0.009703856892883778, 0.00021095341071486473, 0.10252335667610168, 0.6134524941444397, 0.009070996195077896, 0.0006328602321445942, 0.0018985806964337826, 0.009703856892883778, 0.9848853945732117, 0.9950631856918335, 0.0007234371732920408, 0.005787497386336327, 0.003617185866460204, 0.01880936697125435, 0.0007234371732920408, 0.003617185866460204, 0.010851557366549969, 0.0759609043598175, 0.03617185726761818, 0.8449746370315552, 0.03628503531217575, 0.0008341387729160488, 0.0004170693864580244, 0.961762011051178, 0.0004170693864580244, 0.000531671685166657, 0.015950150787830353, 0.8581181168556213, 0.000531671685166657, 0.11803111433982849, 0.005316717084497213, 0.000531671685166657, 0.000531671685166657, 0.004205532371997833, 0.992505669593811, 0.018761562183499336, 0.00034743634751066566, 0.007643599528819323, 0.0024320543743669987, 0.0055589815601706505, 0.002084617968648672, 0.03752312436699867, 0.0323115810751915, 0.8925639390945435, 0.012562444433569908, 0.07477645576000214, 0.012562444433569908, 0.0011964233126491308, 0.8781747221946716, 0.0005982116563245654, 0.008374962955713272, 0.0005982116563245654, 0.0059821163304150105, 0.004785693250596523, 0.3819441497325897, 0.07032299786806107, 0.2252996861934662, 0.08776906132698059, 0.008568434044718742, 0.025939540937542915, 0.024468524381518364, 0.03266686201095581, 0.12799713015556335, 0.015019354410469532, 0.9933682680130005, 0.06366817653179169, 0.604958176612854, 0.08754374086856842, 0.010500826872885227, 0.14347445964813232, 0.055599115788936615, 0.018127743154764175, 0.0025423055049031973, 0.005637286230921745, 0.007737451698631048, 0.14383342862129211, 0.266105592250824, 0.20433834195137024, 0.12323416769504547, 0.06892887502908707, 0.06927499920129776, 0.035177040845155716, 0.02789323963224888, 0.0431276299059391, 0.018089884892106056, 0.0033858593087643385, 0.9937496781349182, 0.994446873664856, 0.9858114123344421, 0.9724389314651489, 0.024275274947285652, 0.001427957322448492, 0.029956024140119553, 0.07928404211997986, 0.08589104562997818, 0.005324089899659157, 0.030725771561264992, 0.015330813825130463, 0.0030789917800575495, 0.7191370129585266, 0.01808907650411129, 0.013214006088674068, 0.010815868154168129, 0.009193487465381622, 0.001757578575052321, 0.0016223802231252193, 0.9480108022689819, 0.006624719128012657, 0.013790231198072433, 0.0036503553856164217, 0.002163173630833626, 0.002433570334687829, 0.995909571647644, 0.9915259480476379, 0.9978511333465576, 0.014769041910767555, 0.9123048186302185, 0.07046942412853241, 0.0012659179046750069, 0.00042197262519039214, 0.002960051177069545, 0.9679366946220398, 0.00888015329837799, 0.0014800255885347724, 0.019240332767367363, 0.008982486091554165, 0.988073468208313, 0.9966946840286255, 0.03964376449584961, 0.1871233731508255, 0.05757642164826393, 0.0666327103972435, 0.05931570753455162, 0.16325314342975616, 0.0029387965332716703, 0.007736831437796354, 0.005097912158817053, 0.41071179509162903, 0.0006892094388604164, 0.00022973648447077721, 0.00045947296894155443, 0.9153745770454407, 0.00010442567145219073, 0.00010442567145219073, 0.06503631174564362, 0.015705620869994164, 0.002192939165979624, 0.00010442567145219073, 0.9893295168876648, 0.9931628108024597, 0.010943260043859482, 0.06372839957475662, 0.01377563364803791, 0.25156623125076294, 0.007724654395133257, 0.01660800725221634, 0.5357047915458679, 0.04647666960954666, 0.021629031747579575, 0.03192857280373573, 0.0042147208005189896, 0.9137514233589172, 0.0004214720684103668, 0.07923674583435059, 0.001685888273641467, 0.025233658030629158, 0.023471012711524963, 0.03126375749707222, 0.32404839992523193, 0.004267456941306591, 0.004731310531497002, 0.38462772965431213, 0.14574292302131653, 0.045457690954208374, 0.011039725504815578, 0.9915357232093811, 0.9872704744338989, 0.9948263168334961, 0.9893614053726196, 0.019579647108912468, 0.06895440816879272, 0.008512889966368675, 0.010215467773377895, 0.8334119319915771, 0.012343690730631351, 0.04043622687458992, 0.00042564450995996594, 0.004256444983184338, 0.002553866943344474, 0.11720933765172958, 0.2579776346683502, 0.05621088296175003, 0.007095246110111475, 0.111870676279068, 0.2030755877494812, 0.012537231668829918, 0.05569424107670784, 0.02087242342531681, 0.15743869543075562, 0.05230015516281128, 0.026694871485233307, 0.026513272896409035, 0.025786882266402245, 0.09733640402555466, 0.059200871735811234, 0.08771172165870667, 0.08535094559192657, 0.5320814251899719, 0.007263910491019487, 0.033541154116392136, 0.23664447665214539, 0.021710501983761787, 0.005506286863237619, 0.208829864859581, 0.4402512311935425, 0.011547469533979893, 0.0014159022830426693, 0.0022969082929193974, 0.03826082870364189, 0.9696622490882874, 0.01955427974462509, 0.009202014654874802, 0.0011502518318593502, 0.052309151738882065, 0.004395727068185806, 0.049378667026758194, 0.012161511927843094, 0.21202056109905243, 0.5714445114135742, 0.022564731538295746, 0.034579720348119736, 0.0008791454019956291, 0.04014763981103897, 0.010642009787261486, 0.9843859672546387, 0.9913580417633057, 0.20505943894386292, 0.022065307945013046, 0.5501534342765808, 0.06095695123076439, 0.0030817468650639057, 0.040001071989536285, 0.011402463540434837, 0.03396084904670715, 0.05762866511940956, 0.01565527357161045, 0.9907242655754089, 0.44210585951805115, 0.1819915920495987, 0.22619113326072693, 0.0037937937304377556, 0.005893271416425705, 0.11760760098695755, 0.006372099742293358, 0.0010313225211575627, 0.011602378450334072, 0.0033517982810735703, 0.23417487740516663, 0.23833049833774567, 0.3923805058002472, 0.03789477422833443, 0.009007589891552925, 0.025832241401076317, 0.03488475829362869, 0.012444401159882545, 0.01044521015137434, 0.004604877904057503, 0.9935956597328186, 0.036771055310964584, 0.26705268025398254, 0.09265033900737762, 0.010117821395397186, 0.4609679579734802, 0.033591169863939285, 0.026046164333820343, 0.013760237954556942, 0.030844902619719505, 0.028214268386363983, 0.9936092495918274, 0.9866275191307068, 0.9939135313034058, 0.005133717320859432, 0.14288847148418427, 0.01471665594726801, 0.00359360221773386, 0.7130733132362366, 0.05219279229640961, 0.036791641265153885, 0.005304841324687004, 0.001711239106953144, 0.024641843512654305, 0.9840036034584045, 0.09864217042922974, 0.5375921130180359, 0.08521201461553574, 0.03336955979466438, 0.07471488416194916, 0.04456135630607605, 0.0501958467066288, 0.019527753815054893, 0.04034192115068436, 0.01579715497791767, 0.1004357784986496, 0.32406407594680786, 0.03763492777943611, 0.037146586924791336, 0.10154268890619278, 0.16942229866981506, 0.014520050957798958, 0.02024993672966957, 0.0029300551395863295, 0.19201627373695374, 0.005029359366744757, 0.9857543706893921, 0.005029359366744757, 0.9941489696502686, 0.0407259576022625, 0.17768341302871704, 0.022497806698083878, 0.10986155271530151, 0.11199638247489929, 0.04860839992761612, 0.4241739809513092, 0.0402333028614521, 0.01313740573823452, 0.011002576909959316, 0.9940189123153687, 0.37385493516921997, 0.24381966888904572, 0.06412503868341446, 0.13594338297843933, 0.053569771349430084, 0.05041027441620827, 0.04091761261224747, 0.011277846060693264, 0.014862388372421265, 0.011207005940377712, 0.09600303322076797, 0.22194387018680573, 0.2098870873451233, 0.14508986473083496, 0.008145321160554886, 0.02948649227619171, 0.03812611848115921, 0.13157165050506592, 0.023576298728585243, 0.09617496281862259, 0.054714903235435486, 0.07021612673997879, 0.022190378978848457, 0.30265432596206665, 0.03272480145096779, 0.09913571178913116, 0.13025832176208496, 0.08395493030548096, 0.04862656816840172, 0.15557298064231873, 0.9971137046813965, 0.9957600831985474, 0.1473703384399414, 0.003977862186729908, 0.029928678646683693, 0.01951046846807003, 0.02860272489488125, 0.566750705242157, 0.003883151337504387, 0.014017229899764061, 0.0028413303662091494, 0.1830763816833496, 0.007414295803755522, 0.03243754431605339, 0.03243754431605339, 0.0009267869754694402, 0.8211332559585571, 0.004633935168385506, 0.0027803611010313034, 0.0018535739509388804, 0.09638584405183792, 0.045190539211034775, 0.15506991744041443, 0.038238149136304855, 0.0031917793676257133, 0.12514303624629974, 0.5763531923294067, 0.007900443859398365, 0.0020225136540830135, 0.004866673611104488, 0.04199875891208649, 0.12862634658813477, 0.01079921331256628, 0.07520880550146103, 0.005206763278692961, 0.00867793895304203, 0.7528594136238098, 0.0011570585193112493, 0.00539960665628314, 0.003278332529589534, 0.00867793895304203, 0.04064339026808739, 0.8270177245140076, 0.029805153608322144, 0.0018063728930428624, 0.07225491851568222, 0.008128678426146507, 0.014149921014904976, 0.002408497268334031, 0.001505310763604939, 0.002408497268334031, 0.0033138960134238005, 0.9941688179969788, 0.9917064905166626, 0.9913257360458374, 0.035909853875637054, 0.04329132288694382, 0.020348917692899704, 0.01196995098143816, 0.027131889015436172, 0.12329049408435822, 0.0660342276096344, 0.6306169033050537, 0.009376461617648602, 0.03211936727166176, 0.9939448237419128, 0.00048174752737395465, 0.01204368844628334, 0.00048174752737395465, 0.0009634950547479093, 0.8999043703079224, 0.00048174752737395465, 0.08382406830787659, 0.0009634950547479093, 0.00048174752737395465, 0.00048174752737395465, 0.0022459132596850395, 0.11742917448282242, 0.007379429414868355, 0.09464920312166214, 0.09368667006492615, 0.0022459132596850395, 0.5788039565086365, 0.08213625848293304, 0.016042238101363182, 0.005454360507428646, 0.001833394286222756, 0.001790757174603641, 0.4274580180644989, 0.329030305147171, 8.527415047865361e-05, 0.19280485808849335, 0.0022384466137737036, 0.02993122860789299, 0.009572023525834084, 0.005286997649818659, 0.15405313670635223, 0.23108872771263123, 0.25761163234710693, 0.07130139321088791, 0.04275676980614662, 0.08578430116176605, 0.05000123009085655, 0.035903412848711014, 0.05682450532913208, 0.01466943509876728, 0.2518494129180908, 0.03596377745270729, 0.21817681193351746, 0.30104538798332214, 0.0033724086824804544, 0.03207649663090706, 0.04118972271680832, 0.03253988176584244, 0.06585206836462021, 0.017917528748512268, 0.1959332823753357, 0.4768514037132263, 0.08005456626415253, 0.008193444460630417, 0.14446710050106049, 0.05632549896836281, 0.013691211119294167, 0.0026602093130350113, 0.01752191223204136, 0.004256335087120533, 0.19164404273033142, 0.12235776335000992, 0.4289775490760803, 0.11149810999631882, 0.0112863564863801, 0.018124310299754143, 0.023426124826073647, 0.024727575480937958, 0.05871465802192688, 0.009248838759958744, 0.9953866004943848, 0.00500290933996439, 0.0030787133146077394, 0.00038483916432596743, 0.0019241959089413285, 0.9667159914970398, 0.008081622421741486, 0.010390657931566238, 0.0023090350441634655, 0.0015393566573038697, 0.0007696783286519349, 0.99504154920578, 0.002997112926095724, 0.3828269839286804, 0.13576695322990417, 0.258190393447876, 0.05878268927335739, 0.012177570722997189, 0.08489753305912018, 0.01913001388311386, 0.01644187979400158, 0.026557467877864838, 0.005225128028541803, 0.4056084156036377, 0.09780604392290115, 0.2701394259929657, 0.11593881249427795, 0.005290110595524311, 0.03733021393418312, 0.022957082837820053, 0.013419358059763908, 0.023522691801190376, 0.007985072210431099, 0.9938536286354065, 0.48766979575157166, 0.19921281933784485, 0.08905984461307526, 0.060014013200998306, 0.07270675152540207, 0.02628081850707531, 0.03889455646276474, 0.007452376186847687, 0.015958091244101524, 0.0027386825531721115, 0.9802256226539612, 0.18819394707679749, 0.011662079021334648, 0.00945161934942007, 0.11860258132219315, 0.026373067870736122, 0.0490112230181694, 0.3266144394874573, 0.14398474991321564, 0.07744230329990387, 0.04855388402938843, 0.0002457601367495954, 0.0007372804102487862, 0.84123694896698, 0.0004915202734991908, 0.02924545668065548, 0.12681223452091217, 0.0009830405469983816, 0.0002457601367495954, 0.00044805690413340926, 0.9987188577651978, 0.00044805690413340926, 0.9964445233345032, 0.0027151077520102262, 0.994881272315979, 0.3205661475658417, 0.18201135098934174, 0.18812136352062225, 0.0577988475561142, 0.0624416209757328, 0.06560666859149933, 0.016244463622570038, 0.012985090725123882, 0.0772136002779007, 0.017009524628520012, 0.0011078676907345653, 0.0022157353814691305, 0.0011078676907345653, 0.0033236031886190176, 0.9361482262611389, 0.0011078676907345653, 0.052069783210754395, 0.0033236031886190176, 0.04954495653510094, 0.11036164313554764, 0.45732831954956055, 0.006205784156918526, 0.014032671228051186, 0.005496551748365164, 0.0024823136627674103, 0.030319688841700554, 0.010942444205284119, 0.3133034408092499, 0.0016680444823578, 0.0033360889647156, 0.9924864768981934, 0.0019217472290620208, 0.9954650402069092, 0.9828512668609619, 0.030569953843951225, 0.016392584890127182, 0.015063456259667873, 0.015395738184452057, 0.010300745256245136, 0.752840518951416, 0.03455733880400658, 0.07609260827302933, 0.041092220693826675, 0.007642488460987806, 0.003605780191719532, 0.001802890095859766, 0.001802890095859766, 0.003605780191719532, 0.96274334192276, 0.001802890095859766, 0.02343757078051567, 0.001802890095859766, 0.02935948222875595, 0.013482299633324146, 0.029980376362800598, 0.028206389397382736, 0.19948481023311615, 0.5241243839263916, 0.08559486269950867, 0.06173473969101906, 0.007628143299371004, 0.020312149077653885, 0.9960147142410278, 0.9792662858963013, 0.005704463925212622, 0.002852231962606311, 0.011408927850425243, 0.9880118370056152, 0.010291790589690208, 0.5275634527206421, 0.13691115379333496, 0.1582004725933075, 0.03356657922267914, 0.0354277640581131, 0.035493068397045135, 0.019199561327695847, 0.015509850345551968, 0.03310944885015488, 0.005061109084635973, 0.0922875925898552, 0.5702160000801086, 0.08339452743530273, 0.05017806217074394, 0.14181780815124512, 0.0037692443002015352, 0.04063716530799866, 0.0012956777354702353, 0.013074565678834915, 0.003415877465158701, 0.1925685703754425, 0.3640047311782837, 0.19799478352069855, 0.1134776845574379, 0.005849365144968033, 0.026384370401501656, 0.0413438081741333, 0.017025385051965714, 0.03721191734075546, 0.004144337493926287, 0.0011533854994922876, 0.00019223091658204794, 0.02921910025179386, 0.9617313146591187, 0.00019223091658204794, 0.0013456164160743356, 0.004229080397635698, 0.0017300783656537533, 0.0003844618331640959, 0.9974446892738342, 0.9896723628044128, 0.00696952361613512, 0.12569014728069305, 0.23595190048217773, 0.21421340107917786, 0.06080502271652222, 0.09793887287378311, 0.10560350865125656, 0.02046656422317028, 0.04357610642910004, 0.02695837989449501, 0.06880003213882446, 0.30194878578186035, 0.07271674275398254, 0.03828835114836693, 0.1280636489391327, 0.01587565802037716, 0.04560360684990883, 0.14814168214797974, 0.1406707763671875, 0.05559593066573143, 0.05307450518012047, 0.004962536972016096, 0.9379194378852844, 0.029775220900774002, 0.02481268346309662, 0.9954795837402344, 0.989931583404541, 0.003250513458624482, 0.013002053834497929, 0.003250513458624482, 0.9567344784736633, 0.018419576808810234, 0.003250513458624482, 0.001083504525013268, 0.07040949910879135, 0.1997247338294983, 0.02994239330291748, 0.004568866454064846, 0.47230657935142517, 0.17100614309310913, 0.02431289665400982, 0.011666927486658096, 0.008158690296113491, 0.007913929410278797, 0.997235894203186, 0.480071097612381, 0.08550214022397995, 0.08971868455410004, 0.13197197020053864, 0.01789103075861931, 0.043717361986637115, 0.07935301214456558, 0.027788195759058, 0.027758914977312088, 0.01622198149561882, 0.02424648031592369, 0.9739002585411072, 0.992784321308136, 0.013647726736962795, 0.006823863368481398, 0.9504666328430176, 0.021446427330374718, 0.0009748375741764903, 0.0019496751483529806, 0.0029245128389447927, 0.042004361748695374, 0.0952344760298729, 0.09934531897306442, 0.6353356838226318, 0.025192076340317726, 0.0015283895190805197, 0.018920408561825752, 0.0688302293419838, 0.00553382420912385, 0.008010868914425373, 0.9945601224899292, 0.9865100979804993, 0.0029167772736400366, 0.0029167772736400366, 0.9917042851448059, 0.004986650310456753, 0.0031166563276201487, 0.0016622167313471437, 0.0072721983306109905, 0.008518860675394535, 0.002077770885080099, 0.7639963626861572, 0.08248750865459442, 0.0033244334626942873, 0.12238071113824844, 0.9912013411521912, 0.9928779006004333, 0.0028168221469968557, 0.9943382740020752, 0.00042011713958345354, 0.2323247790336609, 0.0033609371166676283, 0.07268026471138, 0.6801696419715881, 0.010923045687377453, 0.21634720265865326, 0.18839755654335022, 0.14555202424526215, 0.05013502761721611, 0.05992037057876587, 0.2019663006067276, 0.02323523722589016, 0.031237825751304626, 0.07039900869131088, 0.012816025875508785, 0.007738436106592417, 0.006356572266668081, 0.021557072177529335, 0.1898680478334427, 0.0008291181293316185, 0.054169051349163055, 0.0157532449811697, 0.07572612166404724, 0.6201803684234619, 0.00746206333860755, 0.01993633434176445, 0.9718962907791138, 0.9913859367370605, 0.0012856790563091636, 0.0005758770857937634, 0.8113438487052917, 0.12342519313097, 0.0001874948648037389, 0.00022767233895137906, 0.008303344249725342, 0.03909267857670784, 0.002263330854475498, 0.013298743404448032, 0.09828001260757446, 0.09527577459812164, 0.6297366619110107, 0.07654931396245956, 0.006196989677846432, 0.01049129106104374, 0.023126788437366486, 0.032669682055711746, 0.020134326070547104, 0.007551844697445631, 0.02000703290104866, 0.09817244112491608, 0.012832097709178925, 0.02435338869690895, 0.16109111905097961, 0.5552986860275269, 0.08126994967460632, 0.02014501392841339, 0.01986905373632908, 0.006967966910451651, 0.9908273816108704, 0.9961214661598206, 0.205156609416008, 0.17099176347255707, 0.38314011693000793, 0.05568630248308182, 0.03698339685797691, 0.06894148141145706, 0.025257663801312447, 0.024769699200987816, 0.016911273822188377, 0.012169999070465565, 0.00328697357326746, 0.07043514400720596, 0.00187827053014189, 0.09344395995140076, 0.15542688965797424, 0.0004695676325354725, 0.6592729687690735, 0.014087028801441193, 0.000939135265070945, 0.000939135265070945, 0.0069548822939395905, 0.9875932335853577, 0.007517360150814056, 0.9885328412055969, 0.001879340037703514, 0.20475751161575317, 0.05326330289244652, 0.2411840856075287, 0.050646476447582245, 0.015019487589597702, 0.079776830971241, 0.07135392725467682, 0.06615661829710007, 0.20228606462478638, 0.015564659610390663, 0.9898959398269653, 0.991791307926178, 0.0033393646590411663, 0.0033393646590411663, 0.9917552471160889, 0.9916699528694153, 0.01999751292169094, 0.06943418085575104, 0.004867429845035076, 0.14408764243125916, 0.12403149157762527, 0.13235889375209808, 0.18414130806922913, 0.08251173049211502, 0.01958700641989708, 0.21897569298744202, 0.004302100744098425, 0.12709902226924896, 0.08594849705696106, 0.017021356150507927, 0.0014028589939698577, 9.352393681183457e-05, 0.02684136852622032, 0.7161127328872681, 0.021229932084679604, 0.02594190277159214, 0.04955926164984703, 0.02584892138838768, 0.05039609968662262, 0.05160485953092575, 0.08033621311187744, 0.04937329888343811, 0.04965224489569664, 0.03179975226521492, 0.5855059623718262, 0.987415611743927, 0.008530640974640846, 0.002843546913936734, 0.001421773456968367, 0.12511606514453888, 0.8502205610275269, 0.002843546913936734, 0.001421773456968367, 0.002843546913936734, 0.002843546913936734, 0.01725604385137558, 0.11779890209436417, 0.02189287170767784, 0.004284663591533899, 0.2614818811416626, 0.5204985737800598, 0.008217163383960724, 0.0029933953192085028, 0.004343357868492603, 0.04120320454239845, 0.16712459921836853, 0.005452919285744429, 0.009137324057519436, 0.007663561962544918, 0.08312017470598221, 0.12276437133550644, 0.00781093817204237, 0.18053583800792694, 0.07309859246015549, 0.3432391583919525, 0.08464524894952774, 0.032298848032951355, 0.009228241629898548, 0.011137533001601696, 0.22004583477973938, 0.6057227253913879, 0.007000735029578209, 0.01718362234532833, 0.0007955380715429783, 0.011773963458836079, 0.6458008885383606, 0.1049371063709259, 0.09625698626041412, 0.03560695797204971, 0.03590245172381401, 0.046466343104839325, 0.009160296991467476, 0.0026963776908814907, 0.012743154540657997, 0.010453080758452415, 0.990906834602356, 0.00047847622772678733, 0.00047847622772678733, 0.8768874406814575, 0.0001594920759089291, 0.014194794930517673, 0.10733816772699356, 0.00047847622772678733, 7.974603795446455e-05, 0.001050428836606443, 0.01339296717196703, 0.0333511158823967, 0.011817323975265026, 0.0005252144183032215, 0.004201715346425772, 0.03492675721645355, 0.9010052680969238, 0.12215006351470947, 0.0020937465596944094, 0.048334360122680664, 0.045750588178634644, 0.01893281377851963, 0.06428246945142746, 0.01287431363016367, 0.026416843757033348, 0.6419337391853333, 0.017239997163414955, 0.9921989440917969, 0.0019149150466546416, 0.00031915248837321997, 0.01946830190718174, 0.09638405591249466, 0.004468135070055723, 0.04883033409714699, 0.045319654047489166, 0.7599021196365356, 0.02329813316464424, 0.031297847628593445, 0.9678257703781128, 0.003490075469017029, 0.9911814332008362, 0.07348078489303589, 0.49147120118141174, 0.14700919389724731, 0.03326398506760597, 0.13277019560337067, 0.0506698340177536, 0.021882319822907448, 0.014500906690955162, 0.014489000663161278, 0.020465563982725143, 0.024293698370456696, 0.03607246279716492, 0.001472345320507884, 0.002208518097177148, 0.9018115401268005, 0.001472345320507884, 0.022821353748440742, 0.004417036194354296, 0.001472345320507884, 0.00515320897102356, 0.6667933464050293, 0.1048075407743454, 0.0819428414106369, 0.02910953387618065, 0.03426400199532509, 0.011828846298158169, 0.016801586374640465, 0.005402280017733574, 0.04548158124089241, 0.003584999358281493, 0.006442177575081587, 0.0018406221643090248, 0.005061710719019175, 0.2213348150253296, 0.0004601555410772562, 0.004141399636864662, 0.008282799273729324, 0.10583577305078506, 0.04877648875117302, 0.5986623764038086, 0.9982928037643433, 0.010585245676338673, 0.9817816019058228, 0.005292622838169336, 0.0037392652593553066, 0.9909052848815918, 0.26352420449256897, 0.169224351644516, 0.4069783687591553, 0.03967339172959328, 0.01333051361143589, 0.0181345883756876, 0.03369215875864029, 0.005949418060481548, 0.044922877103090286, 0.004581369925290346, 0.9837148785591125, 0.0006877522682771087, 0.9511613845825195, 0.0006877522682771087, 0.04676715284585953, 0.0006877522682771087, 0.9862430095672607, 0.01012569759041071, 0.002025139518082142, 0.012955107726156712, 0.019453436136245728, 0.3336750268936157, 0.13334868848323822, 0.00048197319847531617, 0.0051271975971758366, 0.004138321615755558, 0.07240401208400726, 0.17522218823432922, 0.2431970238685608, 0.007618434727191925, 0.06983564794063568, 0.9154819250106812, 0.005078956484794617, 0.22337621450424194, 0.02641626074910164, 0.14370135962963104, 0.02231050655245781, 0.02726839855313301, 0.03869478777050972, 0.02444085106253624, 0.07545289397239685, 0.40856117010116577, 0.009838313795626163, 0.005330268759280443, 0.9914299845695496, 0.007052537985146046, 0.0006611754652112722, 0.0013223509304225445, 0.11372217535972595, 0.00044078362407162786, 0.0039670527912676334, 0.10534729063510895, 0.15780054032802582, 0.0017631344962865114, 0.6076202392578125, 0.994725227355957, 0.0006402067956514657, 0.004801551345735788, 0.9936009645462036, 0.00032010339782573283, 0.00032010339782573283, 0.9828560948371887, 0.9956878423690796, 0.9076711535453796, 0.09165408462285995, 0.006283109541982412, 0.9927313327789307], \"Term\": [\"aaa\", \"aaaah\", \"aaah\", \"aaah\", \"aaah\", \"aaah\", \"aah\", \"aah\", \"aah\", \"aah\", \"aah\", \"aah\", \"abilene\", \"abomination\", \"abyss\", \"abyss\", \"abyss\", \"academy\", \"acceptable\", \"activist\", \"adrift\", \"afraid\", \"afraid\", \"afraid\", \"afraid\", \"afraid\", \"afraid\", \"afraid\", \"afraid\", \"afraid\", \"afraid\", \"aha\", \"aha\", \"aha\", \"aha\", \"aha\", \"aha\", \"ahh\", \"ahh\", \"ahh\", \"ahh\", \"ahh\", \"ahh\", \"ahh\", \"ahh\", \"ahh\", \"ahh\", \"ahoy\", \"aint\", \"aint\", \"aint\", \"aint\", \"aint\", \"aint\", \"aint\", \"aint\", \"aint\", \"aint\", \"alamo\", \"alfie\", \"alicia\", \"allelujah\", \"alone\", \"alone\", \"alone\", \"alone\", \"alone\", \"alone\", \"alone\", \"alone\", \"alone\", \"alone\", \"alright\", \"alright\", \"alright\", \"alright\", \"alright\", \"alright\", \"alright\", \"alright\", \"alright\", \"alright\", \"alto\", \"always\", \"always\", \"always\", \"always\", \"always\", \"always\", \"always\", \"always\", \"always\", \"always\", \"alyssa\", \"alyssa\", \"amazon\", \"america\", \"america\", \"america\", \"america\", \"america\", \"america\", \"america\", \"america\", \"america\", \"america\", \"american\", \"american\", \"american\", \"american\", \"american\", \"american\", \"american\", \"american\", \"american\", \"american\", \"amor\", \"amor\", \"amour\", \"amour\", \"amour\", \"amy\", \"amy\", \"anal\", \"anal\", \"ancient\", \"ancient\", \"ancient\", \"ancient\", \"ancient\", \"ancient\", \"ancient\", \"ancient\", \"anguish\", \"anguish\", \"anguish\", \"ann\", \"ann\", \"ann\", \"annie\", \"annie\", \"annie\", \"annie\", \"annie\", \"anniversary\", \"anniversary\", \"anniversary\", \"apart\", \"apart\", \"apart\", \"apart\", \"apart\", \"apart\", \"apart\", \"apart\", \"apart\", \"apart\", \"apos\", \"apos\", \"apos\", \"apos\", \"arise\", \"arise\", \"arise\", \"arise\", \"arise\", \"around\", \"around\", \"around\", \"around\", \"around\", \"around\", \"around\", \"around\", \"around\", \"around\", \"arthur\", \"arthur\", \"arthur\", \"arthur\", \"arthur\", \"arthur\", \"as\", \"as\", \"as\", \"as\", \"as\", \"as\", \"as\", \"as\", \"as\", \"as\", \"ascension\", \"athens\", \"attack\", \"attack\", \"attack\", \"attack\", \"attack\", \"attack\", \"attack\", \"attack\", \"attack\", \"attack\", \"away\", \"away\", \"away\", \"away\", \"away\", \"away\", \"away\", \"away\", \"away\", \"away\", \"babe\", \"babe\", \"babe\", \"babe\", \"babe\", \"babe\", \"babe\", \"babe\", \"babe\", \"babe\", \"baby\", \"baby\", \"baby\", \"baby\", \"baby\", \"baby\", \"baby\", \"baby\", \"baby\", \"baby\", \"back\", \"back\", \"back\", \"back\", \"back\", \"back\", \"back\", \"back\", \"back\", \"back\", \"backstabber\", \"badman\", \"bala\", \"ballers\", \"ballin\", \"ballin\", \"ballin\", \"ballin\", \"bang\", \"bang\", \"bang\", \"bang\", \"bang\", \"bang\", \"bang\", \"bang\", \"bang\", \"bang\", \"barbarella\", \"barbra\", \"bass\", \"bass\", \"bass\", \"bass\", \"bass\", \"bass\", \"bass\", \"bass\", \"bass\", \"bdp\", \"beat\", \"beat\", \"beat\", \"beat\", \"beat\", \"beat\", \"beat\", \"beat\", \"beat\", \"beat\", \"beating\", \"beating\", \"beating\", \"beating\", \"beating\", \"beating\", \"beating\", \"beating\", \"beating\", \"beating\", \"beaujolais\", \"beautiful\", \"beautiful\", \"beautiful\", \"beautiful\", \"beautiful\", \"beautiful\", \"beautiful\", \"beautiful\", \"beautiful\", \"beautiful\", \"bedding\", \"beefin\", \"beenie\", \"beep\", \"beep\", \"beep\", \"beep\", \"beep\", \"behold\", \"behold\", \"behold\", \"behold\", \"behold\", \"behold\", \"behold\", \"behold\", \"believe\", \"believe\", \"believe\", \"believe\", \"believe\", \"believe\", \"believe\", \"believe\", \"believe\", \"believe\", \"bell\", \"bell\", \"bell\", \"bell\", \"bell\", \"bell\", \"bell\", \"bell\", \"bell\", \"bell\", \"bethlehem\", \"bethlehem\", \"biatch\", \"big\", \"big\", \"big\", \"big\", \"big\", \"big\", \"big\", \"big\", \"big\", \"big\", \"bird\", \"bird\", \"bird\", \"bird\", \"bird\", \"bird\", \"bird\", \"bird\", \"bird\", \"bird\", \"birdland\", \"bitch\", \"bitch\", \"bitch\", \"bitch\", \"bitch\", \"bitch\", \"bitch\", \"bitch\", \"bitch\", \"bitch\", \"black\", \"black\", \"black\", \"black\", \"black\", \"black\", \"black\", \"black\", \"black\", \"black\", \"blackjack\", \"blak\", \"blas\", \"blinker\", \"blood\", \"blood\", \"blood\", \"blood\", \"blood\", \"blood\", \"blood\", \"blood\", \"blood\", \"blood\", \"blue\", \"blue\", \"blue\", \"blue\", \"blue\", \"blue\", \"blue\", \"blue\", \"blue\", \"blue\", \"bluebird\", \"bluebird\", \"bluebird\", \"body\", \"body\", \"body\", \"body\", \"body\", \"body\", \"body\", \"body\", \"body\", \"body\", \"bom\", \"bomb\", \"bomb\", \"bomb\", \"bomb\", \"bomb\", \"bomb\", \"bomb\", \"bomb\", \"bomb\", \"bomb\", \"bon\", \"bon\", \"bon\", \"bon\", \"bon\", \"bon\", \"bon\", \"bono\", \"boogie\", \"boogie\", \"boogie\", \"boogie\", \"boom\", \"boom\", \"boom\", \"boom\", \"boom\", \"boom\", \"boom\", \"boom\", \"booty\", \"booty\", \"booty\", \"booty\", \"booty\", \"booty\", \"bop\", \"bop\", \"bop\", \"born\", \"born\", \"born\", \"born\", \"born\", \"born\", \"born\", \"born\", \"born\", \"born\", \"bossman\", \"bounce\", \"bounce\", \"bounce\", \"bounce\", \"bounce\", \"bounce\", \"bounce\", \"bounce\", \"bounce\", \"bounce\", \"bout\", \"bout\", \"bout\", \"bout\", \"bout\", \"bout\", \"bout\", \"bout\", \"bout\", \"bout\", \"boy\", \"boy\", \"boy\", \"boy\", \"boy\", \"boy\", \"boy\", \"boy\", \"boy\", \"boy\", \"brain\", \"brain\", \"brain\", \"brain\", \"brain\", \"brain\", \"brain\", \"brain\", \"brain\", \"brain\", \"break\", \"break\", \"break\", \"break\", \"break\", \"break\", \"break\", \"break\", \"break\", \"break\", \"breakaway\", \"breathe\", \"breathe\", \"breathe\", \"breathe\", \"breathe\", \"breathe\", \"breathe\", \"breathe\", \"breathe\", \"breathe\", \"bright\", \"bright\", \"bright\", \"bright\", \"bright\", \"bright\", \"bright\", \"bright\", \"bright\", \"bright\", \"broken\", \"broken\", \"broken\", \"broken\", \"broken\", \"broken\", \"broken\", \"broken\", \"broken\", \"broken\", \"bronc\", \"bullet\", \"bullet\", \"bullet\", \"bullet\", \"bullet\", \"bullet\", \"bullet\", \"bullet\", \"bullet\", \"bullet\", \"bullsh\", \"bullsh\", \"bung\", \"buries\", \"burn\", \"burn\", \"burn\", \"burn\", \"burn\", \"burn\", \"burn\", \"burn\", \"burn\", \"burn\", \"buzzard\", \"bwoy\", \"bwoy\", \"bwoy\", \"bye\", \"bye\", \"bye\", \"bye\", \"bye\", \"bye\", \"bye\", \"bye\", \"bye\", \"bye\", \"caf\", \"california\", \"california\", \"california\", \"california\", \"california\", \"california\", \"california\", \"california\", \"california\", \"california\", \"call\", \"call\", \"call\", \"call\", \"call\", \"call\", \"call\", \"call\", \"call\", \"call\", \"candy\", \"candy\", \"candy\", \"candy\", \"candy\", \"candy\", \"candy\", \"candy\", \"candy\", \"candy\", \"cannibal\", \"cannibal\", \"cannibal\", \"cantare\", \"carl\", \"carl\", \"carl\", \"carnage\", \"caroline\", \"caroline\", \"caroline\", \"caroline\", \"cash\", \"cash\", \"cash\", \"cash\", \"cash\", \"cash\", \"cash\", \"cash\", \"cash\", \"cash\", \"cat\", \"cat\", \"cat\", \"cat\", \"cat\", \"cat\", \"cat\", \"cat\", \"cat\", \"cat\", \"cause\", \"cause\", \"cause\", \"cause\", \"cause\", \"cause\", \"cause\", \"cause\", \"cause\", \"cause\", \"caveman\", \"cello\", \"chainsaw\", \"chainsaw\", \"chainsaw\", \"change\", \"change\", \"change\", \"change\", \"change\", \"change\", \"change\", \"change\", \"change\", \"change\", \"charcoal\", \"charli\", \"charli\", \"chee\", \"chee\", \"chewy\", \"cheyenne\", \"chick\", \"chick\", \"chick\", \"chick\", \"chick\", \"chick\", \"chick\", \"child\", \"child\", \"child\", \"child\", \"child\", \"child\", \"child\", \"child\", \"child\", \"child\", \"chingy\", \"chingy\", \"choo\", \"choo\", \"choo\", \"chorus\", \"chorus\", \"chorus\", \"chorus\", \"chorus\", \"chorus\", \"chorus\", \"chorus\", \"chorus\", \"chorus\", \"christ\", \"christ\", \"christ\", \"christ\", \"christ\", \"christ\", \"christ\", \"christ\", \"christ\", \"christmas\", \"christmas\", \"christmas\", \"christmas\", \"christmas\", \"christmas\", \"christmas\", \"christmas\", \"christmas\", \"christmastime\", \"chute\", \"cialis\", \"cialis\", \"city\", \"city\", \"city\", \"city\", \"city\", \"city\", \"city\", \"city\", \"city\", \"city\", \"ckin\", \"clap\", \"clap\", \"clap\", \"clap\", \"clap\", \"clap\", \"clap\", \"clap\", \"clap\", \"clap\", \"clarinet\", \"claus\", \"claus\", \"coeur\", \"collide\", \"collide\", \"collide\", \"collide\", \"collide\", \"collide\", \"collide\", \"collide\", \"collide\", \"collide\", \"come\", \"come\", \"come\", \"come\", \"come\", \"come\", \"come\", \"come\", \"come\", \"come\", \"comin\", \"comin\", \"comin\", \"comin\", \"comin\", \"comin\", \"comin\", \"comin\", \"comin\", \"comin\", \"comme\", \"confetti\", \"conglomerate\", \"copenhagen\", \"corrina\", \"could\", \"could\", \"could\", \"could\", \"could\", \"could\", \"could\", \"could\", \"could\", \"could\", \"cowboy\", \"cowboy\", \"cowboy\", \"cowboy\", \"cowboy\", \"cowboy\", \"cowboy\", \"cowboy\", \"cowboy\", \"cowboy\", \"crack\", \"crack\", \"crack\", \"crack\", \"crack\", \"crack\", \"crack\", \"crack\", \"crack\", \"crack\", \"crank\", \"crank\", \"crank\", \"crank\", \"crazy\", \"crazy\", \"crazy\", \"crazy\", \"crazy\", \"crazy\", \"crazy\", \"crazy\", \"crazy\", \"crazy\", \"creature\", \"creature\", \"creature\", \"creature\", \"creature\", \"creature\", \"creature\", \"creature\", \"creature\", \"crimson\", \"crimson\", \"cryin\", \"cryin\", \"cryin\", \"cryin\", \"cryin\", \"cryin\", \"cryin\", \"cryin\", \"cryin\", \"cryin\", \"cut\", \"cut\", \"cut\", \"cut\", \"cut\", \"cut\", \"cut\", \"cut\", \"cut\", \"cut\", \"daddy\", \"daddy\", \"daddy\", \"daddy\", \"daddy\", \"daddy\", \"daddy\", \"daddy\", \"daddy\", \"daddy\", \"daemon\", \"damnation\", \"damnation\", \"dance\", \"dance\", \"dance\", \"dance\", \"dance\", \"dance\", \"dance\", \"dance\", \"dance\", \"dance\", \"dang\", \"dang\", \"dang\", \"dang\", \"dang\", \"dang\", \"danse\", \"dark\", \"dark\", \"dark\", \"dark\", \"dark\", \"dark\", \"dark\", \"dark\", \"dark\", \"dark\", \"darkness\", \"darkness\", \"darkness\", \"darkness\", \"darkness\", \"darkness\", \"darkness\", \"darkness\", \"darkness\", \"darkness\", \"darling\", \"darling\", \"darling\", \"darling\", \"darling\", \"darling\", \"darling\", \"darling\", \"darling\", \"dawg\", \"dawg\", \"dawg\", \"day\", \"day\", \"day\", \"day\", \"day\", \"day\", \"day\", \"day\", \"day\", \"day\", \"daz\", \"daz\", \"daz\", \"dead\", \"dead\", \"dead\", \"dead\", \"dead\", \"dead\", \"dead\", \"dead\", \"dead\", \"dead\", \"death\", \"death\", \"death\", \"death\", \"death\", \"death\", \"death\", \"death\", \"death\", \"death\", \"debbie\", \"dee\", \"dee\", \"dee\", \"dee\", \"dee\", \"dee\", \"dee\", \"defile\", \"deh\", \"deh\", \"deh\", \"deja\", \"deja\", \"deja\", \"demon\", \"demon\", \"demon\", \"demon\", \"demon\", \"demon\", \"demon\", \"demon\", \"demon\", \"demon\", \"denies\", \"denies\", \"denies\", \"denis\", \"detour\", \"detour\", \"diablo\", \"dibby\", \"dick\", \"dick\", \"dick\", \"dick\", \"dick\", \"dick\", \"dick\", \"diddle\", \"diddley\", \"diddley\", \"diggidy\", \"diggy\", \"diggy\", \"dinah\", \"dinah\", \"ding\", \"dirty\", \"dirty\", \"dirty\", \"dirty\", \"dirty\", \"dirty\", \"dirty\", \"dirty\", \"dirty\", \"dirty\", \"dixie\", \"dixie\", \"dog\", \"dog\", \"dog\", \"dog\", \"dog\", \"dog\", \"dog\", \"dog\", \"dog\", \"dog\", \"doh\", \"doh\", \"doh\", \"dominator\", \"dominator\", \"dong\", \"doo\", \"doo\", \"doo\", \"doo\", \"doo\", \"doo\", \"doot\", \"dope\", \"dope\", \"dope\", \"dope\", \"dope\", \"dope\", \"dope\", \"dope\", \"dorado\", \"dorado\", \"dorado\", \"doth\", \"dream\", \"dream\", \"dream\", \"dream\", \"dream\", \"dream\", \"dream\", \"dream\", \"dream\", \"dream\", \"dreamboat\", \"dreamer\", \"dreamer\", \"dreamer\", \"dreamer\", \"dreamer\", \"dreamer\", \"dreamer\", \"dreamer\", \"dreamer\", \"dreamer\", \"dressin\", \"drizzle\", \"drizzle\", \"drop\", \"drop\", \"drop\", \"drop\", \"drop\", \"drop\", \"drop\", \"drop\", \"drop\", \"drop\", \"duel\", \"duh\", \"duh\", \"duh\", \"dum\", \"dum\", \"dum\", \"dum\", \"dum\", \"earth\", \"earth\", \"earth\", \"earth\", \"earth\", \"earth\", \"earth\", \"earth\", \"earth\", \"earth\", \"eastside\", \"eastside\", \"eastside\", \"eat\", \"eat\", \"eat\", \"eat\", \"eat\", \"eat\", \"eat\", \"eat\", \"eat\", \"eat\", \"edward\", \"elton\", \"emily\", \"emily\", \"emily\", \"emily\", \"emily\", \"emily\", \"emma\", \"empathy\", \"empathy\", \"empathy\", \"empathy\", \"enchantment\", \"enchantment\", \"end\", \"end\", \"end\", \"end\", \"end\", \"end\", \"end\", \"end\", \"end\", \"end\", \"entombed\", \"eternal\", \"eternal\", \"eternal\", \"eternal\", \"eternal\", \"eternal\", \"eternal\", \"eternal\", \"eternal\", \"ethel\", \"even\", \"even\", \"even\", \"even\", \"even\", \"even\", \"even\", \"even\", \"even\", \"even\", \"ever\", \"ever\", \"ever\", \"ever\", \"ever\", \"ever\", \"ever\", \"ever\", \"ever\", \"ever\", \"every\", \"every\", \"every\", \"every\", \"every\", \"every\", \"every\", \"every\", \"every\", \"every\", \"everybody\", \"everybody\", \"everybody\", \"everybody\", \"everybody\", \"everybody\", \"everybody\", \"everybody\", \"everybody\", \"everybody\", \"everything\", \"everything\", \"everything\", \"everything\", \"everything\", \"everything\", \"everything\", \"everything\", \"everything\", \"everything\", \"evil\", \"evil\", \"evil\", \"evil\", \"evil\", \"evil\", \"evil\", \"evil\", \"evil\", \"evil\", \"excitable\", \"excitable\", \"excitation\", \"extinction\", \"eye\", \"eye\", \"eye\", \"eye\", \"eye\", \"eye\", \"eye\", \"eye\", \"eye\", \"eye\", \"face\", \"face\", \"face\", \"face\", \"face\", \"face\", \"face\", \"face\", \"face\", \"face\", \"faith\", \"faith\", \"faith\", \"faith\", \"faith\", \"faith\", \"faith\", \"faith\", \"faith\", \"faith\", \"fall\", \"fall\", \"fall\", \"fall\", \"fall\", \"fall\", \"fall\", \"fall\", \"fall\", \"fall\", \"familia\", \"fanny\", \"father\", \"father\", \"father\", \"father\", \"father\", \"father\", \"father\", \"father\", \"father\", \"father\", \"fear\", \"fear\", \"fear\", \"fear\", \"fear\", \"fear\", \"fear\", \"fear\", \"fear\", \"fear\", \"feel\", \"feel\", \"feel\", \"feel\", \"feel\", \"feel\", \"feel\", \"feel\", \"feel\", \"feel\", \"feelgood\", \"felt\", \"felt\", \"felt\", \"felt\", \"felt\", \"felt\", \"felt\", \"felt\", \"felt\", \"felt\", \"fetus\", \"fight\", \"fight\", \"fight\", \"fight\", \"fight\", \"fight\", \"fight\", \"fight\", \"fight\", \"fight\", \"find\", \"find\", \"find\", \"find\", \"find\", \"find\", \"find\", \"find\", \"find\", \"find\", \"finder\", \"finder\", \"finna\", \"finna\", \"finna\", \"fire\", \"fire\", \"fire\", \"fire\", \"fire\", \"fire\", \"fire\", \"fire\", \"fire\", \"fire\", \"fisted\", \"flacko\", \"flame\", \"flame\", \"flame\", \"flame\", \"flame\", \"flame\", \"flame\", \"flame\", \"flame\", \"flame\", \"flesh\", \"flesh\", \"flesh\", \"flesh\", \"flesh\", \"flesh\", \"flesh\", \"flesh\", \"flesh\", \"flesh\", \"floor\", \"floor\", \"floor\", \"floor\", \"floor\", \"floor\", \"floor\", \"floor\", \"floor\", \"floor\", \"fly\", \"fly\", \"fly\", \"fly\", \"fly\", \"fly\", \"fly\", \"fly\", \"fly\", \"fly\", \"forever\", \"forever\", \"forever\", \"forever\", \"forever\", \"forever\", \"forever\", \"forever\", \"forever\", \"forever\", \"forget\", \"forget\", \"forget\", \"forget\", \"forget\", \"forget\", \"forget\", \"forget\", \"forget\", \"forget\", \"fowler\", \"francais\", \"francisco\", \"francisco\", \"francisco\", \"freckle\", \"freckle\", \"freckle\", \"freckle\", \"freddy\", \"free\", \"free\", \"free\", \"free\", \"free\", \"free\", \"free\", \"free\", \"free\", \"free\", \"freedom\", \"freedom\", \"freedom\", \"freedom\", \"freedom\", \"freedom\", \"freedom\", \"freedom\", \"freedom\", \"freedom\", \"friend\", \"friend\", \"friend\", \"friend\", \"friend\", \"friend\", \"friend\", \"friend\", \"friend\", \"friend\", \"fuck\", \"fuck\", \"fuck\", \"fuck\", \"fuck\", \"fuck\", \"fuck\", \"fuck\", \"fuck\", \"fuck\", \"fucka\", \"fucka\", \"fucka\", \"fuckin\", \"fuckin\", \"fuckin\", \"fuckin\", \"fuckin\", \"fuckin\", \"fuckin\", \"fuckin\", \"fuckin\", \"fuckin\", \"funk\", \"funk\", \"funk\", \"funk\", \"funk\", \"funk\", \"funky\", \"funky\", \"funky\", \"funky\", \"funky\", \"funky\", \"funky\", \"funky\", \"gab\", \"gal\", \"gal\", \"gal\", \"gal\", \"gal\", \"gal\", \"gal\", \"gal\", \"gal\", \"gal\", \"game\", \"game\", \"game\", \"game\", \"game\", \"game\", \"game\", \"game\", \"game\", \"game\", \"gangsta\", \"gangsta\", \"gangsta\", \"gangsta\", \"gangsta\", \"gardner\", \"get\", \"get\", \"get\", \"get\", \"get\", \"get\", \"get\", \"get\", \"get\", \"get\", \"gether\", \"gettin\", \"gettin\", \"gettin\", \"gettin\", \"gettin\", \"gettin\", \"gettin\", \"gettin\", \"gettin\", \"gettin\", \"ghetto\", \"ghetto\", \"ghetto\", \"ghetto\", \"ghetto\", \"ghetto\", \"ghetto\", \"ghetto\", \"ghostface\", \"ghostface\", \"giddy\", \"giddy\", \"giddy\", \"giddy\", \"giddy\", \"gim\", \"gim\", \"gim\", \"gim\", \"gim\", \"gim\", \"gim\", \"gim\", \"girl\", \"girl\", \"girl\", \"girl\", \"girl\", \"girl\", \"girl\", \"girl\", \"girl\", \"girl\", \"give\", \"give\", \"give\", \"give\", \"give\", \"give\", \"give\", \"give\", \"give\", \"give\", \"glad\", \"glad\", \"glad\", \"glad\", \"glad\", \"glad\", \"glad\", \"glad\", \"glad\", \"glad\", \"glory\", \"glory\", \"glory\", \"glory\", \"glory\", \"glory\", \"glory\", \"glory\", \"glory\", \"glory\", \"go\", \"go\", \"go\", \"go\", \"go\", \"go\", \"go\", \"go\", \"go\", \"go\", \"gobble\", \"god\", \"god\", \"god\", \"god\", \"god\", \"god\", \"god\", \"god\", \"god\", \"god\", \"godsend\", \"goin\", \"goin\", \"goin\", \"goin\", \"goin\", \"goin\", \"goin\", \"goin\", \"goin\", \"goin\", \"gon\", \"gon\", \"gon\", \"gon\", \"gon\", \"gon\", \"gon\", \"gon\", \"gon\", \"gon\", \"goo\", \"goo\", \"goo\", \"goo\", \"goo\", \"goo\", \"good\", \"good\", \"good\", \"good\", \"good\", \"good\", \"good\", \"good\", \"good\", \"good\", \"goodbye\", \"goodbye\", \"goodbye\", \"goodbye\", \"goodbye\", \"goodbye\", \"goodbye\", \"goodbye\", \"goodbye\", \"goodnight\", \"goodnight\", \"goodnight\", \"goodnight\", \"goodnight\", \"goodnight\", \"goodnight\", \"goodnight\", \"goodnight\", \"goodnight\", \"goooo\", \"gorillaz\", \"got\", \"got\", \"got\", \"got\", \"got\", \"got\", \"got\", \"got\", \"got\", \"got\", \"government\", \"government\", \"government\", \"government\", \"government\", \"government\", \"government\", \"government\", \"government\", \"government\", \"grave\", \"grave\", \"grave\", \"grave\", \"grave\", \"grave\", \"grave\", \"grave\", \"grave\", \"grave\", \"groove\", \"groove\", \"groove\", \"groove\", \"groove\", \"groove\", \"groove\", \"groove\", \"groove\", \"groove\", \"guitar\", \"guitar\", \"guitar\", \"guitar\", \"guitar\", \"guitar\", \"guitar\", \"guitar\", \"guitar\", \"guitar\", \"gun\", \"gun\", \"gun\", \"gun\", \"gun\", \"gun\", \"gun\", \"gun\", \"gun\", \"gun\", \"gunman\", \"gurdy\", \"gurgle\", \"hand\", \"hand\", \"hand\", \"hand\", \"hand\", \"hand\", \"hand\", \"hand\", \"hand\", \"hand\", \"har\", \"har\", \"hater\", \"hater\", \"hater\", \"hater\", \"hater\", \"hater\", \"hater\", \"hater\", \"hatin\", \"hatin\", \"hatin\", \"hatin\", \"haw\", \"haw\", \"head\", \"head\", \"head\", \"head\", \"head\", \"head\", \"head\", \"head\", \"head\", \"head\", \"heal\", \"heal\", \"heal\", \"heal\", \"heal\", \"heal\", \"heal\", \"heal\", \"heal\", \"heal\", \"healin\", \"healin\", \"healin\", \"healin\", \"healin\", \"hear\", \"hear\", \"hear\", \"hear\", \"hear\", \"hear\", \"hear\", \"hear\", \"hear\", \"hear\", \"heart\", \"heart\", \"heart\", \"heart\", \"heart\", \"heart\", \"heart\", \"heart\", \"heart\", \"heart\", \"heartache\", \"heartache\", \"heartache\", \"heartache\", \"heartache\", \"heartache\", \"heartache\", \"heartbreaker\", \"heartbreaker\", \"heartbreaker\", \"hellish\", \"hello\", \"hello\", \"hello\", \"hello\", \"hello\", \"hello\", \"hello\", \"hello\", \"hello\", \"hello\", \"hep\", \"herald\", \"hey\", \"hey\", \"hey\", \"hey\", \"hey\", \"hey\", \"hey\", \"hey\", \"hey\", \"hey\", \"hide\", \"hide\", \"hide\", \"hide\", \"hide\", \"hide\", \"hide\", \"hide\", \"hide\", \"hide\", \"high\", \"high\", \"high\", \"high\", \"high\", \"high\", \"high\", \"high\", \"high\", \"high\", \"highlight\", \"highlight\", \"hip\", \"hip\", \"hip\", \"hip\", \"hip\", \"hip\", \"hip\", \"hip\", \"hip\", \"hip\", \"hit\", \"hit\", \"hit\", \"hit\", \"hit\", \"hit\", \"hit\", \"hit\", \"hit\", \"hit\", \"hoe\", \"hoe\", \"hoe\", \"hoe\", \"hoe\", \"hoe\", \"hoh\", \"holla\", \"holla\", \"holla\", \"holla\", \"holla\", \"hollywood\", \"hollywood\", \"hollywood\", \"hollywood\", \"hollywood\", \"hollywood\", \"hollywood\", \"hollywood\", \"hollywood\", \"holy\", \"holy\", \"holy\", \"holy\", \"holy\", \"holy\", \"holy\", \"holy\", \"holy\", \"holy\", \"home\", \"home\", \"home\", \"home\", \"home\", \"home\", \"home\", \"home\", \"home\", \"home\", \"homie\", \"homie\", \"homie\", \"homie\", \"homie\", \"homie\", \"homies\", \"homies\", \"homies\", \"homies\", \"homies\", \"homies\", \"honey\", \"honey\", \"honey\", \"honey\", \"honey\", \"honey\", \"honey\", \"honey\", \"honey\", \"honey\", \"honky\", \"honky\", \"honky\", \"honky\", \"honky\", \"honky\", \"hoo\", \"hoo\", \"hoo\", \"hoo\", \"hoo\", \"hoo\", \"hoo\", \"hoo\", \"hoo\", \"hood\", \"hood\", \"hood\", \"hood\", \"hood\", \"hood\", \"hood\", \"hood\", \"hood\", \"hood\", \"hook\", \"hook\", \"hook\", \"hook\", \"hook\", \"hook\", \"hook\", \"hook\", \"hook\", \"hook\", \"horde\", \"horde\", \"hot\", \"hot\", \"hot\", \"hot\", \"hot\", \"hot\", \"hot\", \"hot\", \"hot\", \"hot\", \"houdini\", \"houdini\", \"huhn\", \"human\", \"human\", \"human\", \"human\", \"human\", \"human\", \"human\", \"human\", \"human\", \"human\", \"humm\", \"hurdy\", \"hurtful\", \"hustle\", \"hustle\", \"hustle\", \"hustle\", \"hustle\", \"hustle\", \"hustle\", \"hustle\", \"hustle\", \"hustlin\", \"hustlin\", \"hustlin\", \"immortality\", \"indicate\", \"indigo\", \"indigo\", \"indigo\", \"indispose\", \"individuality\", \"infernal\", \"infernal\", \"inna\", \"inna\", \"inna\", \"inna\", \"inside\", \"inside\", \"inside\", \"inside\", \"inside\", \"inside\", \"inside\", \"inside\", \"inside\", \"inside\", \"interaction\", \"intoxication\", \"islander\", \"jack\", \"jack\", \"jack\", \"jack\", \"jack\", \"jack\", \"jack\", \"jack\", \"jack\", \"jack\", \"jam\", \"jam\", \"jam\", \"jam\", \"jam\", \"jam\", \"jam\", \"jam\", \"jam\", \"jam\", \"janelle\", \"jas\", \"jeannie\", \"jemima\", \"jeremiah\", \"jesus\", \"jesus\", \"jesus\", \"jesus\", \"jesus\", \"jesus\", \"jesus\", \"jesus\", \"jesus\", \"jesus\", \"jimi\", \"jingle\", \"jingle\", \"jingle\", \"jingle\", \"jingle\", \"jingle\", \"jiving\", \"joe\", \"joe\", \"joe\", \"joe\", \"joe\", \"joe\", \"joe\", \"joe\", \"joe\", \"johnny\", \"johnny\", \"johnny\", \"johnny\", \"johnny\", \"johnny\", \"johnny\", \"johnny\", \"johnny\", \"johnny\", \"jolene\", \"jook\", \"jou\", \"jude\", \"jude\", \"jukebox\", \"jukebox\", \"jukebox\", \"jukebox\", \"jukebox\", \"julie\", \"julie\", \"julie\", \"juliet\", \"juliet\", \"juliet\", \"jumbo\", \"jump\", \"jump\", \"jump\", \"jump\", \"jump\", \"jump\", \"jump\", \"jump\", \"jump\", \"jump\", \"kaleidoscope\", \"kanye\", \"kanye\", \"kanye\", \"keep\", \"keep\", \"keep\", \"keep\", \"keep\", \"keep\", \"keep\", \"keep\", \"keep\", \"keep\", \"kentucky\", \"kentucky\", \"kentucky\", \"kentucky\", \"kentucky\", \"kentucky\", \"kick\", \"kick\", \"kick\", \"kick\", \"kick\", \"kick\", \"kick\", \"kick\", \"kick\", \"kick\", \"kid\", \"kid\", \"kid\", \"kid\", \"kid\", \"kid\", \"kid\", \"kid\", \"kid\", \"kid\", \"kill\", \"kill\", \"kill\", \"kill\", \"kill\", \"kill\", \"kill\", \"kill\", \"kill\", \"kill\", \"killer\", \"killer\", \"killer\", \"killer\", \"killer\", \"killer\", \"killer\", \"killer\", \"killer\", \"killer\", \"kimi\", \"kindle\", \"king\", \"king\", \"king\", \"king\", \"king\", \"king\", \"king\", \"king\", \"king\", \"king\", \"kingdom\", \"kingdom\", \"kingdom\", \"kingdom\", \"kingdom\", \"kingdom\", \"kingdom\", \"kingdom\", \"kingdom\", \"kingdom\", \"kiss\", \"kiss\", \"kiss\", \"kiss\", \"kiss\", \"kiss\", \"kiss\", \"kiss\", \"kiss\", \"kiss\", \"knew\", \"knew\", \"knew\", \"knew\", \"knew\", \"knew\", \"knew\", \"knew\", \"knew\", \"knew\", \"know\", \"know\", \"know\", \"know\", \"know\", \"know\", \"know\", \"know\", \"know\", \"know\", \"kon\", \"kono\", \"konvict\", \"kr\", \"kung\", \"laaa\", \"lacy\", \"laka\", \"lalala\", \"lalalala\", \"lana\", \"land\", \"land\", \"land\", \"land\", \"land\", \"land\", \"land\", \"land\", \"land\", \"land\", \"lang\", \"last\", \"last\", \"last\", \"last\", \"last\", \"last\", \"last\", \"last\", \"last\", \"last\", \"law\", \"law\", \"law\", \"law\", \"law\", \"law\", \"law\", \"law\", \"law\", \"law\", \"lawman\", \"let\", \"let\", \"let\", \"let\", \"let\", \"let\", \"let\", \"let\", \"let\", \"let\", \"lewis\", \"lewis\", \"libre\", \"lie\", \"lie\", \"lie\", \"lie\", \"lie\", \"lie\", \"lie\", \"lie\", \"lie\", \"lie\", \"life\", \"life\", \"life\", \"life\", \"life\", \"life\", \"life\", \"life\", \"life\", \"life\", \"lifeline\", \"lifeline\", \"lifeline\", \"lifeline\", \"lifeline\", \"lifeline\", \"lifelong\", \"light\", \"light\", \"light\", \"light\", \"light\", \"light\", \"light\", \"light\", \"light\", \"light\", \"like\", \"like\", \"like\", \"like\", \"like\", \"like\", \"like\", \"like\", \"like\", \"like\", \"lil\", \"lil\", \"lil\", \"lil\", \"lil\", \"lil\", \"lil\", \"lil\", \"lilith\", \"ling\", \"ling\", \"ling\", \"ling\", \"ling\", \"little\", \"little\", \"little\", \"little\", \"little\", \"little\", \"little\", \"little\", \"little\", \"little\", \"lizard\", \"lola\", \"london\", \"london\", \"london\", \"london\", \"london\", \"london\", \"london\", \"london\", \"london\", \"london\", \"lonesome\", \"lonesome\", \"lonesome\", \"lonesome\", \"lonesome\", \"lonesome\", \"lonesome\", \"lonesome\", \"lonesome\", \"long\", \"long\", \"long\", \"long\", \"long\", \"long\", \"long\", \"long\", \"long\", \"long\", \"look\", \"look\", \"look\", \"look\", \"look\", \"look\", \"look\", \"look\", \"look\", \"look\", \"lord\", \"lord\", \"lord\", \"lord\", \"lord\", \"lord\", \"lord\", \"lord\", \"lord\", \"lord\", \"lordy\", \"lordy\", \"lose\", \"lose\", \"lose\", \"lose\", \"lose\", \"lose\", \"lose\", \"lose\", \"lose\", \"lose\", \"love\", \"love\", \"love\", \"love\", \"love\", \"love\", \"love\", \"love\", \"love\", \"love\", \"lovelier\", \"lovely\", \"lovely\", \"lovely\", \"lovely\", \"lovely\", \"lovely\", \"lovely\", \"lovely\", \"lovely\", \"lovely\", \"lovin\", \"lovin\", \"lovin\", \"lovin\", \"lovin\", \"lovin\", \"lovin\", \"lovin\", \"lovin\", \"lovin\", \"ltd\", \"lucille\", \"lucille\", \"lucy\", \"lucy\", \"lucy\", \"lucy\", \"lucy\", \"lucy\", \"luna\", \"luna\", \"luna\", \"lust\", \"lust\", \"lust\", \"lust\", \"lust\", \"lust\", \"lust\", \"lust\", \"lust\", \"lust\", \"lynch\", \"lynch\", \"lynch\", \"lyric\", \"lyric\", \"lyric\", \"lyric\", \"lyric\", \"lyric\", \"lyric\", \"lyric\", \"lyric\", \"lyric\", \"macabre\", \"macdonald\", \"make\", \"make\", \"make\", \"make\", \"make\", \"make\", \"make\", \"make\", \"make\", \"make\", \"mam\", \"mam\", \"mama\", \"mama\", \"mama\", \"mama\", \"mama\", \"mama\", \"mama\", \"mama\", \"mama\", \"mama\", \"manger\", \"mankind\", \"mankind\", \"mankind\", \"mankind\", \"mankind\", \"mankind\", \"mankind\", \"marco\", \"marco\", \"marimba\", \"marlene\", \"maroon\", \"marrakesh\", \"mathers\", \"mathers\", \"mayne\", \"mayne\", \"mayne\", \"me\", \"me\", \"me\", \"me\", \"me\", \"me\", \"me\", \"me\", \"mek\", \"mek\", \"mek\", \"melodie\", \"mera\", \"met\", \"met\", \"met\", \"met\", \"met\", \"met\", \"met\", \"met\", \"met\", \"met\", \"mia\", \"mile\", \"mile\", \"mile\", \"mile\", \"mile\", \"mile\", \"mile\", \"mile\", \"mile\", \"mile\", \"mind\", \"mind\", \"mind\", \"mind\", \"mind\", \"mind\", \"mind\", \"mind\", \"mind\", \"mind\", \"miranda\", \"mistletoe\", \"mistletoe\", \"mistletoe\", \"mistletoe\", \"mistletoe\", \"mixture\", \"mma\", \"mma\", \"mma\", \"mma\", \"mma\", \"mma\", \"mma\", \"mma\", \"mmm\", \"mmm\", \"mmm\", \"mmm\", \"mmm\", \"mmm\", \"mmm\", \"mmm\", \"mmm\", \"modest\", \"modest\", \"mojo\", \"mojo\", \"mojo\", \"money\", \"money\", \"money\", \"money\", \"money\", \"money\", \"money\", \"money\", \"money\", \"money\", \"monoxide\", \"moon\", \"moon\", \"moon\", \"moon\", \"moon\", \"moon\", \"moon\", \"moon\", \"moon\", \"moon\", \"morbid\", \"morbid\", \"mornin\", \"mornin\", \"mornin\", \"mornin\", \"mornin\", \"mornin\", \"mornin\", \"mornin\", \"mornin\", \"morning\", \"morning\", \"morning\", \"morning\", \"morning\", \"morning\", \"morning\", \"morning\", \"morning\", \"morning\", \"mortal\", \"mortal\", \"mortal\", \"mortal\", \"motha\", \"mothafucka\", \"mothafucka\", \"mothafuckin\", \"mothafuckin\", \"mothafuckin\", \"motherfucker\", \"motherfucker\", \"motherfucker\", \"motherfucker\", \"motherfucker\", \"motherfucker\", \"motherfucker\", \"motherfucker\", \"motherly\", \"motorhead\", \"motorhead\", \"mou\", \"mountain\", \"mountain\", \"mountain\", \"mountain\", \"mountain\", \"mountain\", \"mountain\", \"mountain\", \"mountain\", \"mountain\", \"moustache\", \"move\", \"move\", \"move\", \"move\", \"move\", \"move\", \"move\", \"move\", \"move\", \"move\", \"much\", \"much\", \"much\", \"much\", \"much\", \"much\", \"much\", \"much\", \"much\", \"much\", \"murder\", \"murder\", \"murder\", \"murder\", \"murder\", \"murder\", \"murder\", \"murder\", \"murder\", \"murder\", \"music\", \"music\", \"music\", \"music\", \"music\", \"music\", \"music\", \"music\", \"music\", \"music\", \"na\", \"na\", \"na\", \"na\", \"na\", \"na\", \"na\", \"na\", \"na\", \"na\", \"naa\", \"naega\", \"nah\", \"nah\", \"nah\", \"nah\", \"nah\", \"nah\", \"nah\", \"nah\", \"nah\", \"nah\", \"nal\", \"naomi\", \"need\", \"need\", \"need\", \"need\", \"need\", \"need\", \"need\", \"need\", \"need\", \"need\", \"nel\", \"neon\", \"neon\", \"neon\", \"neon\", \"neon\", \"neon\", \"neon\", \"neon\", \"neon\", \"neon\", \"never\", \"never\", \"never\", \"never\", \"never\", \"never\", \"never\", \"never\", \"never\", \"never\", \"new\", \"new\", \"new\", \"new\", \"new\", \"new\", \"new\", \"new\", \"new\", \"new\", \"nico\", \"nigga\", \"nigga\", \"nigga\", \"nigga\", \"nigga\", \"nigga\", \"nigga\", \"nigga\", \"nigga\", \"nigga\", \"niggaz\", \"niggaz\", \"niggaz\", \"niggaz\", \"night\", \"night\", \"night\", \"night\", \"night\", \"night\", \"night\", \"night\", \"night\", \"night\", \"nine\", \"nine\", \"nine\", \"nine\", \"nine\", \"nine\", \"nine\", \"nine\", \"nine\", \"nine\", \"nitro\", \"noel\", \"nothin\", \"nothin\", \"nothin\", \"nothin\", \"nothin\", \"nothin\", \"nothin\", \"nothin\", \"nothin\", \"nothin\", \"nothing\", \"nothing\", \"nothing\", \"nothing\", \"nothing\", \"nothing\", \"nothing\", \"nothing\", \"nothing\", \"nothing\", \"nuh\", \"nuh\", \"nuh\", \"nuh\", \"nuh\", \"nuh\", \"oah\", \"oah\", \"oah\", \"oblivion\", \"oblivion\", \"oblivion\", \"obscurity\", \"ohh\", \"ohh\", \"ohh\", \"ohh\", \"ohh\", \"ohh\", \"ohh\", \"ohh\", \"ohh\", \"ohhh\", \"ohhh\", \"ohhh\", \"ohhh\", \"ohhh\", \"ohhh\", \"ohhh\", \"ohhh\", \"ohhh\", \"ohhh\", \"ohhhhhhhh\", \"ohhhhhhhh\", \"old\", \"old\", \"old\", \"old\", \"old\", \"old\", \"old\", \"old\", \"old\", \"old\", \"ole\", \"ole\", \"ole\", \"ole\", \"ole\", \"ole\", \"ole\", \"ole\", \"one\", \"one\", \"one\", \"one\", \"one\", \"one\", \"one\", \"one\", \"one\", \"one\", \"ooh\", \"ooh\", \"ooh\", \"ooh\", \"ooh\", \"ooh\", \"ooh\", \"ooh\", \"ooh\", \"ooh\", \"oohhh\", \"oohhh\", \"oom\", \"ooo\", \"ooo\", \"ooo\", \"ooo\", \"ooo\", \"ooo\", \"ooo\", \"oooo\", \"oooo\", \"oooo\", \"oooo\", \"oooo\", \"oooo\", \"oooo\", \"oooo\", \"oooo\", \"ooooooo\", \"opaque\", \"open\", \"open\", \"open\", \"open\", \"open\", \"open\", \"open\", \"open\", \"open\", \"open\", \"operation\", \"operation\", \"operation\", \"operation\", \"operation\", \"orchard\", \"ordinary\", \"ordinary\", \"ordinary\", \"ordinary\", \"ordinary\", \"ordinary\", \"ordinary\", \"ordinary\", \"ordinary\", \"ordinary\", \"orient\", \"overcoat\", \"oww\", \"pah\", \"pain\", \"pain\", \"pain\", \"pain\", \"pain\", \"pain\", \"pain\", \"pain\", \"pain\", \"pain\", \"painkiller\", \"papa\", \"papa\", \"papa\", \"papa\", \"papa\", \"papa\", \"papa\", \"papa\", \"papa\", \"papa\", \"parisian\", \"parry\", \"party\", \"party\", \"party\", \"party\", \"party\", \"party\", \"party\", \"party\", \"party\", \"party\", \"pear\", \"peddler\", \"peddler\", \"peddler\", \"peggy\", \"peggy\", \"people\", \"people\", \"people\", \"people\", \"people\", \"people\", \"people\", \"people\", \"people\", \"people\", \"percussion\", \"percussion\", \"picker\", \"pier\", \"pier\", \"pig\", \"pig\", \"pig\", \"pig\", \"pig\", \"pig\", \"pig\", \"pimp\", \"pimp\", \"pimp\", \"pimp\", \"pimp\", \"pimp\", \"pimpin\", \"pimpin\", \"pimpin\", \"pimpin\", \"pioneer\", \"pioneer\", \"play\", \"play\", \"play\", \"play\", \"play\", \"play\", \"play\", \"play\", \"play\", \"play\", \"please\", \"please\", \"please\", \"please\", \"please\", \"please\", \"please\", \"please\", \"please\", \"please\", \"plex\", \"pon\", \"pon\", \"pon\", \"pon\", \"pon\", \"poodle\", \"porgy\", \"possum\", \"postman\", \"postman\", \"postman\", \"postman\", \"power\", \"power\", \"power\", \"power\", \"power\", \"power\", \"power\", \"power\", \"power\", \"power\", \"praise\", \"praise\", \"praise\", \"praise\", \"praise\", \"praise\", \"praise\", \"praise\", \"praise\", \"praise\", \"prelude\", \"president\", \"president\", \"president\", \"president\", \"president\", \"president\", \"president\", \"president\", \"president\", \"president\", \"preston\", \"preston\", \"pretty\", \"pretty\", \"pretty\", \"pretty\", \"pretty\", \"pretty\", \"pretty\", \"pretty\", \"pretty\", \"pretty\", \"prolly\", \"prolly\", \"prolly\", \"pum\", \"pum\", \"punisher\", \"punx\", \"purp\", \"pussy\", \"pussy\", \"pussy\", \"pussy\", \"pussy\", \"put\", \"put\", \"put\", \"put\", \"put\", \"put\", \"put\", \"put\", \"put\", \"put\", \"quand\", \"queen\", \"queen\", \"queen\", \"queen\", \"queen\", \"queen\", \"queen\", \"queen\", \"queen\", \"queen\", \"radiant\", \"radiant\", \"radio\", \"radio\", \"radio\", \"radio\", \"radio\", \"radio\", \"radio\", \"radio\", \"radio\", \"radio\", \"rah\", \"rah\", \"rah\", \"rah\", \"rah\", \"railroad\", \"railroad\", \"railroad\", \"railroad\", \"railroad\", \"railroad\", \"railroad\", \"railroad\", \"railroad\", \"rain\", \"rain\", \"rain\", \"rain\", \"rain\", \"rain\", \"rain\", \"rain\", \"rain\", \"rain\", \"rainbow\", \"rainbow\", \"rainbow\", \"rainbow\", \"rainbow\", \"rainbow\", \"rainbow\", \"rainbow\", \"rainbow\", \"rainbow\", \"raindrop\", \"raindrop\", \"raindrop\", \"raindrop\", \"raindrop\", \"raindrop\", \"raindrop\", \"raindrop\", \"rap\", \"rap\", \"rap\", \"rap\", \"rap\", \"rap\", \"rap\", \"rap\", \"rap\", \"rap\", \"ravage\", \"raven\", \"raven\", \"raven\", \"raven\", \"raven\", \"raven\", \"reach\", \"reach\", \"reach\", \"reach\", \"reach\", \"reach\", \"reach\", \"reach\", \"reach\", \"reach\", \"ready\", \"ready\", \"ready\", \"ready\", \"ready\", \"ready\", \"ready\", \"ready\", \"ready\", \"ready\", \"real\", \"real\", \"real\", \"real\", \"real\", \"real\", \"real\", \"real\", \"real\", \"real\", \"really\", \"really\", \"really\", \"really\", \"really\", \"really\", \"really\", \"really\", \"really\", \"really\", \"realm\", \"realm\", \"realm\", \"rebel\", \"rebel\", \"rebel\", \"rebel\", \"rebel\", \"rebel\", \"rebel\", \"rebel\", \"rebel\", \"rebel\", \"reign\", \"reign\", \"reign\", \"reign\", \"reign\", \"reign\", \"reign\", \"reign\", \"reign\", \"rejoice\", \"rejoice\", \"rejoice\", \"rejoice\", \"rejoice\", \"remember\", \"remember\", \"remember\", \"remember\", \"remember\", \"remember\", \"remember\", \"remember\", \"remember\", \"remember\", \"repaid\", \"repping\", \"reverie\", \"reverie\", \"revolutionary\", \"revolutionary\", \"revolutionary\", \"rhodes\", \"rhodes\", \"rhyme\", \"rhyme\", \"rhyme\", \"rhyme\", \"rhyme\", \"rhyme\", \"rhyme\", \"rhyme\", \"rhyme\", \"rhyme\", \"ribbon\", \"ribbon\", \"ribbon\", \"ribbon\", \"ribbon\", \"ribbon\", \"ribbon\", \"ribbon\", \"ribbon\", \"ribbon\", \"ride\", \"ride\", \"ride\", \"ride\", \"ride\", \"ride\", \"ride\", \"ride\", \"ride\", \"ride\", \"rie\", \"right\", \"right\", \"right\", \"right\", \"right\", \"right\", \"right\", \"right\", \"right\", \"right\", \"rio\", \"rio\", \"rio\", \"rio\", \"rio\", \"riot\", \"riot\", \"riot\", \"riot\", \"riot\", \"riot\", \"riot\", \"riot\", \"riot\", \"rise\", \"rise\", \"rise\", \"rise\", \"rise\", \"rise\", \"rise\", \"rise\", \"rise\", \"rise\", \"river\", \"river\", \"river\", \"river\", \"river\", \"river\", \"river\", \"river\", \"river\", \"river\", \"riverside\", \"riverside\", \"road\", \"road\", \"road\", \"road\", \"road\", \"road\", \"road\", \"road\", \"road\", \"road\", \"rock\", \"rock\", \"rock\", \"rock\", \"rock\", \"rock\", \"rock\", \"rock\", \"rock\", \"rock\", \"rockabye\", \"rocker\", \"rocker\", \"rocker\", \"rocker\", \"rockin\", \"rockin\", \"rockin\", \"rockin\", \"rockin\", \"rockin\", \"rockin\", \"rockin\", \"rodeo\", \"rodeo\", \"rodeo\", \"rodeo\", \"rodeo\", \"rodeo\", \"rodeo\", \"rodeo\", \"roll\", \"roll\", \"roll\", \"roll\", \"roll\", \"roll\", \"roll\", \"roll\", \"roll\", \"roll\", \"ronnie\", \"ronnie\", \"rosalie\", \"rosie\", \"rosie\", \"rosie\", \"rosie\", \"round\", \"round\", \"round\", \"round\", \"round\", \"round\", \"round\", \"round\", \"round\", \"round\", \"rounder\", \"ruby\", \"ruby\", \"ruby\", \"ruby\", \"ruby\", \"ruby\", \"ruby\", \"ruby\", \"ruby\", \"rudolph\", \"rudolph\", \"run\", \"run\", \"run\", \"run\", \"run\", \"run\", \"run\", \"run\", \"run\", \"run\", \"runaway\", \"runaway\", \"runaway\", \"runaway\", \"runaway\", \"runaway\", \"runaway\", \"runaway\", \"ryone\", \"sail\", \"sail\", \"sail\", \"sail\", \"sail\", \"sail\", \"sail\", \"sail\", \"sail\", \"sail\", \"salisbury\", \"sammy\", \"san\", \"san\", \"san\", \"san\", \"san\", \"san\", \"san\", \"san\", \"san\", \"san\", \"santa\", \"santa\", \"santa\", \"santa\", \"santa\", \"satan\", \"satan\", \"satan\", \"satan\", \"satan\", \"satan\", \"satan\", \"satan\", \"satanic\", \"satanic\", \"saturday\", \"saturday\", \"saturday\", \"saturday\", \"saturday\", \"saturday\", \"saturday\", \"saturday\", \"saturday\", \"savior\", \"savior\", \"savior\", \"savior\", \"savior\", \"savior\", \"savior\", \"savior\", \"savior\", \"savior\", \"say\", \"say\", \"say\", \"say\", \"say\", \"say\", \"say\", \"say\", \"say\", \"say\", \"schooldays\", \"search\", \"search\", \"search\", \"search\", \"search\", \"search\", \"search\", \"search\", \"search\", \"search\", \"see\", \"see\", \"see\", \"see\", \"see\", \"see\", \"see\", \"see\", \"see\", \"see\", \"seh\", \"seh\", \"senora\", \"serenely\", \"serpent\", \"serpent\", \"serpent\", \"shake\", \"shake\", \"shake\", \"shake\", \"shake\", \"shake\", \"shake\", \"shake\", \"shake\", \"shake\", \"shall\", \"shall\", \"shall\", \"shall\", \"shall\", \"shall\", \"shall\", \"shall\", \"shall\", \"shall\", \"shalom\", \"shangri\", \"shannon\", \"shawty\", \"shawty\", \"shawty\", \"shawty\", \"shawty\", \"shepherd\", \"shepherd\", \"shepherd\", \"shepherd\", \"shepherd\", \"sherry\", \"sherry\", \"shh\", \"shine\", \"shine\", \"shine\", \"shine\", \"shine\", \"shine\", \"shine\", \"shine\", \"shine\", \"shine\", \"shit\", \"shit\", \"shit\", \"shit\", \"shit\", \"shit\", \"shit\", \"shit\", \"shit\", \"shit\", \"shoestring\", \"shoop\", \"shoot\", \"shoot\", \"shoot\", \"shoot\", \"shoot\", \"shoot\", \"shoot\", \"shoot\", \"shoot\", \"shoot\", \"shorty\", \"shorty\", \"shorty\", \"shorty\", \"shorty\", \"shot\", \"shot\", \"shot\", \"shot\", \"shot\", \"shot\", \"shot\", \"shot\", \"shot\", \"shot\", \"shoutout\", \"showboat\", \"sierra\", \"simpatico\", \"sin\", \"sin\", \"sin\", \"sin\", \"sin\", \"sin\", \"sin\", \"sin\", \"sin\", \"sin\", \"sing\", \"sing\", \"sing\", \"sing\", \"sing\", \"sing\", \"sing\", \"sing\", \"sing\", \"sing\", \"sister\", \"sister\", \"sister\", \"sister\", \"sister\", \"sister\", \"sister\", \"sister\", \"sister\", \"sister\", \"sky\", \"sky\", \"sky\", \"sky\", \"sky\", \"sky\", \"sky\", \"sky\", \"sky\", \"sky\", \"snitch\", \"snitch\", \"snitch\", \"snitch\", \"snow\", \"snow\", \"snow\", \"snow\", \"snow\", \"snow\", \"snow\", \"snow\", \"snow\", \"snow\", \"so\", \"so\", \"softness\", \"somebody\", \"somebody\", \"somebody\", \"somebody\", \"somebody\", \"somebody\", \"somebody\", \"somebody\", \"somebody\", \"somebody\", \"somedays\", \"someone\", \"someone\", \"someone\", \"someone\", \"someone\", \"someone\", \"someone\", \"someone\", \"someone\", \"someone\", \"something\", \"something\", \"something\", \"something\", \"something\", \"something\", \"something\", \"something\", \"something\", \"something\", \"sou\", \"soul\", \"soul\", \"soul\", \"soul\", \"soul\", \"soul\", \"soul\", \"soul\", \"soul\", \"soul\", \"soundless\", \"southwest\", \"spinach\", \"spirit\", \"spirit\", \"spirit\", \"spirit\", \"spirit\", \"spirit\", \"spirit\", \"spirit\", \"spirit\", \"spirit\", \"stairwell\", \"stand\", \"stand\", \"stand\", \"stand\", \"stand\", \"stand\", \"stand\", \"stand\", \"stand\", \"stand\", \"star\", \"star\", \"star\", \"star\", \"star\", \"star\", \"star\", \"star\", \"star\", \"star\", \"stardust\", \"stardust\", \"stardust\", \"stat\", \"state\", \"state\", \"state\", \"state\", \"state\", \"state\", \"state\", \"state\", \"state\", \"state\", \"steward\", \"still\", \"still\", \"still\", \"still\", \"still\", \"still\", \"still\", \"still\", \"still\", \"still\", \"stop\", \"stop\", \"stop\", \"stop\", \"stop\", \"stop\", \"stop\", \"stop\", \"stop\", \"stop\", \"street\", \"street\", \"street\", \"street\", \"street\", \"street\", \"street\", \"street\", \"street\", \"street\", \"stuntin\", \"suffragette\", \"summer\", \"summer\", \"summer\", \"summer\", \"summer\", \"summer\", \"summer\", \"summer\", \"summer\", \"summer\", \"summertime\", \"summertime\", \"summertime\", \"summertime\", \"summertime\", \"summertime\", \"summertime\", \"summertime\", \"summertime\", \"sun\", \"sun\", \"sun\", \"sun\", \"sun\", \"sun\", \"sun\", \"sun\", \"sun\", \"sun\", \"sunshine\", \"sunshine\", \"sunshine\", \"sunshine\", \"sunshine\", \"sunshine\", \"sunshine\", \"sunshine\", \"sunshine\", \"sunshine\", \"surrender\", \"surrender\", \"surrender\", \"surrender\", \"surrender\", \"surrender\", \"surrender\", \"surrender\", \"surrender\", \"surrender\", \"susie\", \"susie\", \"swanee\", \"sweden\", \"swing\", \"swing\", \"swing\", \"swing\", \"swing\", \"swing\", \"swing\", \"swing\", \"swing\", \"swing\", \"swisher\", \"sword\", \"sword\", \"sword\", \"sword\", \"sword\", \"sword\", \"sword\", \"sword\", \"sword\", \"sword\", \"system\", \"system\", \"system\", \"system\", \"system\", \"system\", \"system\", \"system\", \"system\", \"system\", \"ta\", \"ta\", \"ta\", \"ta\", \"ta\", \"ta\", \"ta\", \"ta\", \"ta\", \"ta\", \"take\", \"take\", \"take\", \"take\", \"take\", \"take\", \"take\", \"take\", \"take\", \"take\", \"talk\", \"talk\", \"talk\", \"talk\", \"talk\", \"talk\", \"talk\", \"talk\", \"talk\", \"talk\", \"tear\", \"tear\", \"tear\", \"tear\", \"tear\", \"tear\", \"tear\", \"tear\", \"tear\", \"tear\", \"tell\", \"tell\", \"tell\", \"tell\", \"tell\", \"tell\", \"tell\", \"tell\", \"tell\", \"tell\", \"terminator\", \"thee\", \"thee\", \"thee\", \"thee\", \"thee\", \"thee\", \"thee\", \"thee\", \"thee\", \"thee\", \"thine\", \"thine\", \"thing\", \"thing\", \"thing\", \"thing\", \"thing\", \"thing\", \"thing\", \"thing\", \"thing\", \"thing\", \"think\", \"think\", \"think\", \"think\", \"think\", \"think\", \"think\", \"think\", \"think\", \"think\", \"thistle\", \"thought\", \"thought\", \"thought\", \"thought\", \"thought\", \"thought\", \"thought\", \"thought\", \"thought\", \"thought\", \"thoughtful\", \"three\", \"three\", \"three\", \"three\", \"three\", \"three\", \"three\", \"three\", \"three\", \"three\", \"thug\", \"thug\", \"thug\", \"thug\", \"thug\", \"thug\", \"thug\", \"thug\", \"thy\", \"thy\", \"thy\", \"tidings\", \"tidings\", \"tiga\", \"time\", \"time\", \"time\", \"time\", \"time\", \"time\", \"time\", \"time\", \"time\", \"time\", \"tomb\", \"tomb\", \"tomb\", \"tomb\", \"tomb\", \"tomb\", \"tomb\", \"tomb\", \"tonight\", \"tonight\", \"tonight\", \"tonight\", \"tonight\", \"tonight\", \"tonight\", \"tonight\", \"tonight\", \"tonight\", \"tonk\", \"tonk\", \"tonk\", \"toot\", \"toot\", \"tootsie\", \"train\", \"train\", \"train\", \"train\", \"train\", \"train\", \"train\", \"train\", \"train\", \"train\", \"travelin\", \"travelin\", \"travelin\", \"travelin\", \"travelin\", \"travelin\", \"travelin\", \"travelin\", \"tree\", \"tree\", \"tree\", \"tree\", \"tree\", \"tree\", \"tree\", \"tree\", \"tree\", \"tree\", \"trenchtown\", \"trill\", \"trill\", \"trill\", \"trill\", \"tripp\", \"tripp\", \"true\", \"true\", \"true\", \"true\", \"true\", \"true\", \"true\", \"true\", \"true\", \"true\", \"truth\", \"truth\", \"truth\", \"truth\", \"truth\", \"truth\", \"truth\", \"truth\", \"truth\", \"truth\", \"try\", \"try\", \"try\", \"try\", \"try\", \"try\", \"try\", \"try\", \"try\", \"try\", \"tryna\", \"tryna\", \"tryna\", \"tryna\", \"tryna\", \"tryna\", \"tryna\", \"tryna\", \"tryna\", \"tum\", \"tupelo\", \"tupelo\", \"turn\", \"turn\", \"turn\", \"turn\", \"turn\", \"turn\", \"turn\", \"turn\", \"turn\", \"turn\", \"two\", \"two\", \"two\", \"two\", \"two\", \"two\", \"two\", \"two\", \"two\", \"two\", \"unbreakable\", \"unbreakable\", \"unbreakable\", \"unbreakable\", \"undead\", \"unspeakable\", \"unto\", \"unto\", \"unto\", \"unto\", \"unto\", \"unto\", \"unto\", \"upon\", \"upon\", \"upon\", \"upon\", \"upon\", \"upon\", \"upon\", \"upon\", \"upon\", \"upon\", \"uranium\", \"use\", \"use\", \"use\", \"use\", \"use\", \"use\", \"use\", \"use\", \"use\", \"use\", \"vai\", \"vai\", \"valentino\", \"veil\", \"veil\", \"veil\", \"veil\", \"veil\", \"veil\", \"veil\", \"verse\", \"verse\", \"verse\", \"verse\", \"verse\", \"verse\", \"verse\", \"verse\", \"verse\", \"verse\", \"vex\", \"visualise\", \"viva\", \"viva\", \"viva\", \"vocal\", \"vocal\", \"vocal\", \"vocal\", \"vocal\", \"vocal\", \"vocal\", \"vocal\", \"vocal\", \"vocal\", \"volare\", \"voo\", \"waan\", \"waan\", \"wah\", \"wah\", \"wah\", \"wah\", \"wah\", \"wah\", \"walk\", \"walk\", \"walk\", \"walk\", \"walk\", \"walk\", \"walk\", \"walk\", \"walk\", \"walk\", \"walkin\", \"walkin\", \"walkin\", \"walkin\", \"walkin\", \"walkin\", \"walkin\", \"walkin\", \"walkin\", \"walkin\", \"walley\", \"walley\", \"wallflower\", \"wan\", \"wan\", \"wan\", \"wan\", \"wan\", \"wan\", \"wan\", \"wan\", \"wan\", \"wan\", \"want\", \"want\", \"want\", \"want\", \"want\", \"want\", \"want\", \"want\", \"want\", \"want\", \"water\", \"water\", \"water\", \"water\", \"water\", \"water\", \"water\", \"water\", \"water\", \"water\", \"waterfront\", \"waterloo\", \"way\", \"way\", \"way\", \"way\", \"way\", \"way\", \"way\", \"way\", \"way\", \"way\", \"weapon\", \"weapon\", \"weapon\", \"weapon\", \"weapon\", \"weapon\", \"weapon\", \"weapon\", \"weapon\", \"weapon\", \"weenie\", \"weenie\", \"weh\", \"weh\", \"weh\", \"well\", \"well\", \"well\", \"well\", \"well\", \"well\", \"well\", \"well\", \"well\", \"well\", \"wella\", \"westside\", \"westside\", \"westside\", \"westward\", \"whachu\", \"white\", \"white\", \"white\", \"white\", \"white\", \"white\", \"white\", \"white\", \"white\", \"white\", \"whoa\", \"whoa\", \"whoa\", \"whoa\", \"whoa\", \"whoa\", \"whoa\", \"whoa\", \"whoa\", \"wild\", \"wild\", \"wild\", \"wild\", \"wild\", \"wild\", \"wild\", \"wild\", \"wild\", \"wild\", \"wildflower\", \"willow\", \"willow\", \"willow\", \"willow\", \"willow\", \"willow\", \"willow\", \"willow\", \"willow\", \"wind\", \"wind\", \"wind\", \"wind\", \"wind\", \"wind\", \"wind\", \"wind\", \"wind\", \"wind\", \"wine\", \"wine\", \"wine\", \"wine\", \"wine\", \"wine\", \"wine\", \"wine\", \"wine\", \"wine\", \"winter\", \"winter\", \"winter\", \"winter\", \"winter\", \"winter\", \"winter\", \"winter\", \"winter\", \"winter\", \"wish\", \"wish\", \"wish\", \"wish\", \"wish\", \"wish\", \"wish\", \"wish\", \"wish\", \"wish\", \"wishful\", \"wit\", \"wit\", \"wit\", \"wit\", \"wit\", \"wit\", \"wit\", \"wit\", \"woah\", \"woah\", \"woah\", \"woah\", \"woah\", \"woah\", \"woah\", \"woah\", \"woman\", \"woman\", \"woman\", \"woman\", \"woman\", \"woman\", \"woman\", \"woman\", \"woman\", \"woman\", \"womanizer\", \"woo\", \"woo\", \"woo\", \"woo\", \"woo\", \"woo\", \"woo\", \"woo\", \"woo\", \"woof\", \"woof\", \"woogie\", \"woogie\", \"world\", \"world\", \"world\", \"world\", \"world\", \"world\", \"world\", \"world\", \"world\", \"world\", \"worship\", \"worship\", \"worship\", \"worship\", \"worship\", \"worship\", \"worship\", \"worship\", \"worship\", \"worship\", \"would\", \"would\", \"would\", \"would\", \"would\", \"would\", \"would\", \"would\", \"would\", \"would\", \"wow\", \"wow\", \"wow\", \"wow\", \"wow\", \"wow\", \"wow\", \"wow\", \"wow\", \"wow\", \"woy\", \"wretched\", \"wretched\", \"wretched\", \"writhe\", \"writhe\", \"wrong\", \"wrong\", \"wrong\", \"wrong\", \"wrong\", \"wrong\", \"wrong\", \"wrong\", \"wrong\", \"wrong\", \"yakuza\", \"yall\", \"yall\", \"yall\", \"yall\", \"yall\", \"yayo\", \"yayo\", \"yayo\", \"yeah\", \"yeah\", \"yeah\", \"yeah\", \"yeah\", \"yeah\", \"yeah\", \"yeah\", \"yeah\", \"yeah\", \"yeh\", \"yeh\", \"yeh\", \"yeh\", \"yes\", \"yes\", \"yes\", \"yes\", \"yes\", \"yes\", \"yes\", \"yes\", \"yes\", \"yes\", \"yippie\", \"yippie\", \"york\", \"york\", \"york\", \"york\", \"york\", \"york\", \"york\", \"york\", \"york\", \"york\", \"yout\", \"yuh\", \"yuh\", \"yuh\", \"yuh\", \"yuh\", \"yule\", \"yum\", \"zappa\", \"zappa\", \"zing\", \"zing\"]}, \"R\": 30, \"lambda.step\": 0.01, \"plot.opts\": {\"xlab\": \"PC1\", \"ylab\": \"PC2\"}, \"topic.order\": [5, 3, 9, 10, 7, 1, 6, 8, 2, 4]};\n",
       "\n",
       "function LDAvis_load_lib(url, callback){\n",
       "  var s = document.createElement('script');\n",
       "  s.src = url;\n",
       "  s.async = true;\n",
       "  s.onreadystatechange = s.onload = callback;\n",
       "  s.onerror = function(){console.warn(\"failed to load library \" + url);};\n",
       "  document.getElementsByTagName(\"head\")[0].appendChild(s);\n",
       "}\n",
       "\n",
       "if(typeof(LDAvis) !== \"undefined\"){\n",
       "   // already loaded: just create the visualization\n",
       "   !function(LDAvis){\n",
       "       new LDAvis(\"#\" + \"ldavis_el902381508599312246783818503\", ldavis_el902381508599312246783818503_data);\n",
       "   }(LDAvis);\n",
       "}else if(typeof define === \"function\" && define.amd){\n",
       "   // require.js is available: use it to load d3/LDAvis\n",
       "   require.config({paths: {d3: \"https://cdnjs.cloudflare.com/ajax/libs/d3/3.5.5/d3.min\"}});\n",
       "   require([\"d3\"], function(d3){\n",
       "      window.d3 = d3;\n",
       "      LDAvis_load_lib(\"https://cdn.rawgit.com/bmabey/pyLDAvis/files/ldavis.v1.0.0.js\", function(){\n",
       "        new LDAvis(\"#\" + \"ldavis_el902381508599312246783818503\", ldavis_el902381508599312246783818503_data);\n",
       "      });\n",
       "    });\n",
       "}else{\n",
       "    // require.js not available: dynamically load d3 & LDAvis\n",
       "    LDAvis_load_lib(\"https://cdnjs.cloudflare.com/ajax/libs/d3/3.5.5/d3.min.js\", function(){\n",
       "         LDAvis_load_lib(\"https://cdn.rawgit.com/bmabey/pyLDAvis/files/ldavis.v1.0.0.js\", function(){\n",
       "                 new LDAvis(\"#\" + \"ldavis_el902381508599312246783818503\", ldavis_el902381508599312246783818503_data);\n",
       "            })\n",
       "         });\n",
       "}\n",
       "</script>"
      ],
      "text/plain": [
       "<IPython.core.display.HTML object>"
      ]
     },
     "execution_count": 143,
     "metadata": {},
     "output_type": "execute_result"
    }
   ],
   "source": [
    "pyLDAvis.display(lda_display)"
   ]
  },
  {
   "cell_type": "markdown",
   "metadata": {},
   "source": []
  },
  {
   "cell_type": "markdown",
   "metadata": {},
   "source": [
    "### Topic modelling with LSA\n",
    "\n",
    "LSA uses a singular value decomposition of the term-by-document matrix to identify a linear subspace in the space of tf-idf features that captures most of the variance in the collection."
   ]
  },
  {
   "cell_type": "code",
   "execution_count": 105,
   "metadata": {},
   "outputs": [
    {
     "data": {
      "text/plain": [
       "TruncatedSVD(algorithm='randomized', n_components=10, n_iter=100,\n",
       "             random_state=42, tol=0.0)"
      ]
     },
     "execution_count": 105,
     "metadata": {},
     "output_type": "execute_result"
    }
   ],
   "source": [
    "from sklearn.decomposition import TruncatedSVD \n",
    "svd_model = TruncatedSVD(n_components=10, algorithm='randomized', n_iter=100, random_state=42) \n",
    "svd_model.fit(train_lyrics_features) "
   ]
  },
  {
   "cell_type": "code",
   "execution_count": 147,
   "metadata": {},
   "outputs": [
    {
     "data": {
      "text/plain": [
       "(10, 50000)"
      ]
     },
     "execution_count": 147,
     "metadata": {},
     "output_type": "execute_result"
    }
   ],
   "source": [
    "svd_model.components_.shape"
   ]
  },
  {
   "cell_type": "code",
   "execution_count": 106,
   "metadata": {},
   "outputs": [],
   "source": [
    "terms = tfidf_vectorizer.get_feature_names() \n",
    "topics_lsa_dict = {}\n",
    "for i, comp in enumerate(svd_model.components_): \n",
    "    terms_comp = zip(terms, comp) \n",
    "    sorted_terms = [tup[0] for tup in sorted(terms_comp, key= lambda x:x[1], reverse=True)[:10]]\n",
    "    topics_lsa_dict[i] = sorted_terms"
   ]
  },
  {
   "cell_type": "code",
   "execution_count": 107,
   "metadata": {},
   "outputs": [
    {
     "data": {
      "text/html": [
       "<div>\n",
       "<style scoped>\n",
       "    .dataframe tbody tr th:only-of-type {\n",
       "        vertical-align: middle;\n",
       "    }\n",
       "\n",
       "    .dataframe tbody tr th {\n",
       "        vertical-align: top;\n",
       "    }\n",
       "\n",
       "    .dataframe thead th {\n",
       "        text-align: right;\n",
       "    }\n",
       "</style>\n",
       "<table border=\"1\" class=\"dataframe\">\n",
       "  <thead>\n",
       "    <tr style=\"text-align: right;\">\n",
       "      <th></th>\n",
       "      <th>0</th>\n",
       "      <th>1</th>\n",
       "      <th>2</th>\n",
       "      <th>3</th>\n",
       "      <th>4</th>\n",
       "      <th>5</th>\n",
       "      <th>6</th>\n",
       "      <th>7</th>\n",
       "      <th>8</th>\n",
       "      <th>9</th>\n",
       "    </tr>\n",
       "  </thead>\n",
       "  <tbody>\n",
       "    <tr>\n",
       "      <th>0</th>\n",
       "      <td>get</td>\n",
       "      <td>nigga</td>\n",
       "      <td>blood</td>\n",
       "      <td>love</td>\n",
       "      <td>love</td>\n",
       "      <td>love</td>\n",
       "      <td>god</td>\n",
       "      <td>away</td>\n",
       "      <td>baby</td>\n",
       "      <td>yeah</td>\n",
       "    </tr>\n",
       "    <tr>\n",
       "      <th>1</th>\n",
       "      <td>know</td>\n",
       "      <td>get</td>\n",
       "      <td>death</td>\n",
       "      <td>baby</td>\n",
       "      <td>nigga</td>\n",
       "      <td>nigga</td>\n",
       "      <td>lord</td>\n",
       "      <td>day</td>\n",
       "      <td>say</td>\n",
       "      <td>yeah yeah</td>\n",
       "    </tr>\n",
       "    <tr>\n",
       "      <th>2</th>\n",
       "      <td>love</td>\n",
       "      <td>shit</td>\n",
       "      <td>nigga</td>\n",
       "      <td>night</td>\n",
       "      <td>heart</td>\n",
       "      <td>day</td>\n",
       "      <td>well</td>\n",
       "      <td>back</td>\n",
       "      <td>cry</td>\n",
       "      <td>baby</td>\n",
       "    </tr>\n",
       "    <tr>\n",
       "      <th>3</th>\n",
       "      <td>like</td>\n",
       "      <td>fuck</td>\n",
       "      <td>fuck</td>\n",
       "      <td>yeah</td>\n",
       "      <td>love love</td>\n",
       "      <td>love love</td>\n",
       "      <td>life</td>\n",
       "      <td>gonna</td>\n",
       "      <td>back</td>\n",
       "      <td>hey</td>\n",
       "    </tr>\n",
       "    <tr>\n",
       "      <th>4</th>\n",
       "      <td>say</td>\n",
       "      <td>bitch</td>\n",
       "      <td>god</td>\n",
       "      <td>light</td>\n",
       "      <td>fuck</td>\n",
       "      <td>would</td>\n",
       "      <td>one</td>\n",
       "      <td>come</td>\n",
       "      <td>lie</td>\n",
       "      <td>cry</td>\n",
       "    </tr>\n",
       "    <tr>\n",
       "      <th>5</th>\n",
       "      <td>see</td>\n",
       "      <td>yeah</td>\n",
       "      <td>light</td>\n",
       "      <td>love love</td>\n",
       "      <td>give</td>\n",
       "      <td>say</td>\n",
       "      <td>world</td>\n",
       "      <td>time</td>\n",
       "      <td>leave</td>\n",
       "      <td>eye</td>\n",
       "    </tr>\n",
       "    <tr>\n",
       "      <th>6</th>\n",
       "      <td>time</td>\n",
       "      <td>money</td>\n",
       "      <td>black</td>\n",
       "      <td>sky</td>\n",
       "      <td>life</td>\n",
       "      <td>could</td>\n",
       "      <td>people</td>\n",
       "      <td>life</td>\n",
       "      <td>home</td>\n",
       "      <td>ooh</td>\n",
       "    </tr>\n",
       "    <tr>\n",
       "      <th>7</th>\n",
       "      <td>come</td>\n",
       "      <td>as</td>\n",
       "      <td>soul</td>\n",
       "      <td>girl</td>\n",
       "      <td>shit</td>\n",
       "      <td>never</td>\n",
       "      <td>little</td>\n",
       "      <td>long</td>\n",
       "      <td>tear</td>\n",
       "      <td>pain</td>\n",
       "    </tr>\n",
       "    <tr>\n",
       "      <th>8</th>\n",
       "      <td>make</td>\n",
       "      <td>like</td>\n",
       "      <td>dead</td>\n",
       "      <td>come</td>\n",
       "      <td>need</td>\n",
       "      <td>old</td>\n",
       "      <td>jesus</td>\n",
       "      <td>home</td>\n",
       "      <td>tell</td>\n",
       "      <td>lie</td>\n",
       "    </tr>\n",
       "    <tr>\n",
       "      <th>9</th>\n",
       "      <td>one</td>\n",
       "      <td>hit</td>\n",
       "      <td>shit</td>\n",
       "      <td>dance</td>\n",
       "      <td>bitch</td>\n",
       "      <td>bitch</td>\n",
       "      <td>gonna</td>\n",
       "      <td>take</td>\n",
       "      <td>heart</td>\n",
       "      <td>day</td>\n",
       "    </tr>\n",
       "  </tbody>\n",
       "</table>\n",
       "</div>"
      ],
      "text/plain": [
       "      0      1      2          3          4          5       6      7      8  \\\n",
       "0   get  nigga  blood       love       love       love     god   away   baby   \n",
       "1  know    get  death       baby      nigga      nigga    lord    day    say   \n",
       "2  love   shit  nigga      night      heart        day    well   back    cry   \n",
       "3  like   fuck   fuck       yeah  love love  love love    life  gonna   back   \n",
       "4   say  bitch    god      light       fuck      would     one   come    lie   \n",
       "5   see   yeah  light  love love       give        say   world   time  leave   \n",
       "6  time  money  black        sky       life      could  people   life   home   \n",
       "7  come     as   soul       girl       shit      never  little   long   tear   \n",
       "8  make   like   dead       come       need        old   jesus   home   tell   \n",
       "9   one    hit   shit      dance      bitch      bitch   gonna   take  heart   \n",
       "\n",
       "           9  \n",
       "0       yeah  \n",
       "1  yeah yeah  \n",
       "2       baby  \n",
       "3        hey  \n",
       "4        cry  \n",
       "5        eye  \n",
       "6        ooh  \n",
       "7       pain  \n",
       "8        lie  \n",
       "9        day  "
      ]
     },
     "execution_count": 107,
     "metadata": {},
     "output_type": "execute_result"
    }
   ],
   "source": [
    "pd.DataFrame(topics_lsa_dict)"
   ]
  },
  {
   "cell_type": "markdown",
   "metadata": {},
   "source": [
    "## Can we predict the genre given the lyrics?\n",
    "Let's find out! I have removed the *Other, R&B, Indie and Folk* genres from the dataset as part of the data cleaning process.\n",
    "\n"
   ]
  },
  {
   "cell_type": "code",
   "execution_count": 66,
   "metadata": {},
   "outputs": [],
   "source": [
    "cond = (data.genre == 'Other') | (data.genre == 'Indie') | (data.genre == 'R&B') | (data.genre == 'Folk')\n",
    "X = data.loc[~cond, ['year', 'artist', 'lyrics']]\n",
    "y = data.loc[~cond, 'genre']\n",
    "X_train, X_test, y_train, y_test = train_test_split(X, y, test_size=0.3, random_state=42)"
   ]
  },
  {
   "cell_type": "code",
   "execution_count": 67,
   "metadata": {},
   "outputs": [],
   "source": [
    "ntrain = X_train.shape[0] # number of training examples"
   ]
  },
  {
   "cell_type": "code",
   "execution_count": 68,
   "metadata": {},
   "outputs": [],
   "source": [
    "le = LabelBinarizer()\n",
    "artist_ohe = le.fit_transform(X.artist)\n",
    "artist_ohe_sparse = sparse.csr_matrix(artist_ohe)\n",
    "\n",
    "from sklearn.preprocessing import MinMaxScaler\n",
    "\n",
    "#scaler = MinMaxScaler()\n",
    "#scaled_year = scaler.fit_transform(X.year.values.reshape(-1,1))\n",
    "#scaled_year_sparse = sparse.csr_matrix(scaled_year)"
   ]
  },
  {
   "cell_type": "code",
   "execution_count": 69,
   "metadata": {},
   "outputs": [],
   "source": [
    "tfidf_vectorizer = TfidfVectorizer(\n",
    "    strip_accents= 'unicode', analyzer='word', max_df = 0.7, ngram_range=(1, 2), sublinear_tf=True,                                  \n",
    "     max_features=50000)"
   ]
  },
  {
   "cell_type": "code",
   "execution_count": 70,
   "metadata": {},
   "outputs": [],
   "source": [
    "train_lyrics_features = tfidf_vectorizer.fit_transform(X_train['lyrics'])\n",
    "test_lyrics_features = tfidf_vectorizer.transform(X_test['lyrics'])"
   ]
  },
  {
   "cell_type": "code",
   "execution_count": 71,
   "metadata": {},
   "outputs": [],
   "source": [
    "feature_names = tfidf_vectorizer.get_feature_names()"
   ]
  },
  {
   "cell_type": "code",
   "execution_count": 114,
   "metadata": {},
   "outputs": [],
   "source": [
    "train_features_full = sparse.hstack([train_lyrics_features])\n",
    "test_features_full = sparse.hstack([test_lyrics_features])\n",
    "\n",
    "#train_features_full = sparse.hstack([train_lyrics_features, artist_ohe_sparse[:ntrain]])\n",
    "#test_features_full = sparse.hstack([test_lyrics_features, artist_ohe_sparse[ntrain:]])"
   ]
  },
  {
   "cell_type": "code",
   "execution_count": 116,
   "metadata": {},
   "outputs": [],
   "source": [
    "alpha_list = [0.0001, 0.0005, 0.001,0.005]\n",
    "\n",
    "cv_alpha_dict = {}\n",
    "for alpha in alpha_list:\n",
    "    clf_mulNB = MultinomialNB(alpha=alpha)\n",
    "    cv_score = np.mean(cross_val_score(clf_mulNB,train_features_full,y_train,cv=5,scoring='accuracy'))\n",
    "    cv_alpha_dict[alpha] = cv_score   "
   ]
  },
  {
   "cell_type": "code",
   "execution_count": 117,
   "metadata": {},
   "outputs": [
    {
     "data": {
      "text/html": [
       "<div>\n",
       "<style scoped>\n",
       "    .dataframe tbody tr th:only-of-type {\n",
       "        vertical-align: middle;\n",
       "    }\n",
       "\n",
       "    .dataframe tbody tr th {\n",
       "        vertical-align: top;\n",
       "    }\n",
       "\n",
       "    .dataframe thead th {\n",
       "        text-align: right;\n",
       "    }\n",
       "</style>\n",
       "<table border=\"1\" class=\"dataframe\">\n",
       "  <thead>\n",
       "    <tr style=\"text-align: right;\">\n",
       "      <th></th>\n",
       "      <th>$\\alpha$</th>\n",
       "      <th>CV score</th>\n",
       "    </tr>\n",
       "  </thead>\n",
       "  <tbody>\n",
       "    <tr>\n",
       "      <th>3</th>\n",
       "      <td>0.0050</td>\n",
       "      <td>0.635072</td>\n",
       "    </tr>\n",
       "    <tr>\n",
       "      <th>2</th>\n",
       "      <td>0.0010</td>\n",
       "      <td>0.634925</td>\n",
       "    </tr>\n",
       "    <tr>\n",
       "      <th>1</th>\n",
       "      <td>0.0005</td>\n",
       "      <td>0.634610</td>\n",
       "    </tr>\n",
       "    <tr>\n",
       "      <th>0</th>\n",
       "      <td>0.0001</td>\n",
       "      <td>0.634162</td>\n",
       "    </tr>\n",
       "  </tbody>\n",
       "</table>\n",
       "</div>"
      ],
      "text/plain": [
       "   $\\alpha$  CV score\n",
       "3    0.0050  0.635072\n",
       "2    0.0010  0.634925\n",
       "1    0.0005  0.634610\n",
       "0    0.0001  0.634162"
      ]
     },
     "execution_count": 117,
     "metadata": {},
     "output_type": "execute_result"
    }
   ],
   "source": [
    "pd.DataFrame(zip(cv_alpha_dict.keys(),cv_alpha_dict.values()), columns=[r'$\\alpha$', 'CV score']).sort_values(by='CV score',ascending=False)"
   ]
  },
  {
   "cell_type": "code",
   "execution_count": 118,
   "metadata": {},
   "outputs": [],
   "source": [
    "clf_mulNB_pred = MultinomialNB(alpha=0.005).fit(train_features_full,y_train).predict(test_features_full)"
   ]
  },
  {
   "cell_type": "code",
   "execution_count": 119,
   "metadata": {},
   "outputs": [
    {
     "name": "stdout",
     "output_type": "stream",
     "text": [
      "              precision    recall  f1-score   support\n",
      "\n",
      "     Country       0.62      0.20      0.30      4225\n",
      "  Electronic       0.82      0.03      0.06      1961\n",
      "     Hip-Hop       0.77      0.77      0.77      6731\n",
      "        Jazz       0.50      0.26      0.34      2163\n",
      "       Metal       0.67      0.59      0.63      6135\n",
      "         Pop       0.51      0.31      0.38     10222\n",
      "        Rock       0.64      0.86      0.73     29768\n",
      "\n",
      "    accuracy                           0.64     61205\n",
      "   macro avg       0.64      0.43      0.46     61205\n",
      "weighted avg       0.63      0.64      0.60     61205\n",
      "\n"
     ]
    }
   ],
   "source": [
    "print(classification_report(y_test,clf_mulNB_pred))"
   ]
  },
  {
   "cell_type": "code",
   "execution_count": 107,
   "metadata": {},
   "outputs": [],
   "source": [
    "clf_logreg = LogisticRegression(solver='sag', multi_class='ovr')\n",
    "logreg_cv_scores = cross_val_score(clf_logreg, train_features_full, y_train, cv=5)"
   ]
  },
  {
   "cell_type": "code",
   "execution_count": 108,
   "metadata": {},
   "outputs": [
    {
     "data": {
      "text/plain": [
       "0.6494757921231991"
      ]
     },
     "execution_count": 108,
     "metadata": {},
     "output_type": "execute_result"
    }
   ],
   "source": [
    "np.mean(logreg_cv_scores)"
   ]
  },
  {
   "cell_type": "code",
   "execution_count": 112,
   "metadata": {},
   "outputs": [],
   "source": [
    "clf_logreg_pred = LogisticRegression(C=10, solver='sag', multi_class='ovr').fit(train_features_full,y_train).predict(test_features_full)"
   ]
  },
  {
   "cell_type": "code",
   "execution_count": 113,
   "metadata": {},
   "outputs": [
    {
     "name": "stdout",
     "output_type": "stream",
     "text": [
      "              precision    recall  f1-score   support\n",
      "\n",
      "     Country       0.59      0.34      0.43      4225\n",
      "  Electronic       0.59      0.09      0.16      1961\n",
      "     Hip-Hop       0.87      0.81      0.84      6731\n",
      "        Jazz       0.60      0.29      0.39      2163\n",
      "       Metal       0.70      0.55      0.62      6135\n",
      "         Pop       0.47      0.39      0.43     10222\n",
      "        Rock       0.66      0.84      0.74     29768\n",
      "\n",
      "    accuracy                           0.65     61205\n",
      "   macro avg       0.64      0.47      0.51     61205\n",
      "weighted avg       0.64      0.65      0.63     61205\n",
      "\n"
     ]
    }
   ],
   "source": [
    "print(classification_report(y_test,clf_logreg_pred))"
   ]
  },
  {
   "cell_type": "code",
   "execution_count": 148,
   "metadata": {},
   "outputs": [
    {
     "data": {
      "text/html": [
       "<div>\n",
       "<style scoped>\n",
       "    .dataframe tbody tr th:only-of-type {\n",
       "        vertical-align: middle;\n",
       "    }\n",
       "\n",
       "    .dataframe tbody tr th {\n",
       "        vertical-align: top;\n",
       "    }\n",
       "\n",
       "    .dataframe thead th {\n",
       "        text-align: right;\n",
       "    }\n",
       "</style>\n",
       "<table border=\"1\" class=\"dataframe\">\n",
       "  <thead>\n",
       "    <tr style=\"text-align: right;\">\n",
       "      <th></th>\n",
       "      <th>Pop</th>\n",
       "      <th>Rock</th>\n",
       "      <th>Metal</th>\n",
       "      <th>Electronic</th>\n",
       "      <th>Country</th>\n",
       "      <th>Hip-Hop</th>\n",
       "      <th>Jazz</th>\n",
       "    </tr>\n",
       "  </thead>\n",
       "  <tbody>\n",
       "    <tr>\n",
       "      <th>Pop</th>\n",
       "      <td>3944</td>\n",
       "      <td>5417</td>\n",
       "      <td>140</td>\n",
       "      <td>35</td>\n",
       "      <td>202</td>\n",
       "      <td>340</td>\n",
       "      <td>144</td>\n",
       "    </tr>\n",
       "    <tr>\n",
       "      <th>Rock</th>\n",
       "      <td>2626</td>\n",
       "      <td>24905</td>\n",
       "      <td>1120</td>\n",
       "      <td>57</td>\n",
       "      <td>639</td>\n",
       "      <td>227</td>\n",
       "      <td>194</td>\n",
       "    </tr>\n",
       "    <tr>\n",
       "      <th>Metal</th>\n",
       "      <td>209</td>\n",
       "      <td>2418</td>\n",
       "      <td>3391</td>\n",
       "      <td>10</td>\n",
       "      <td>6</td>\n",
       "      <td>95</td>\n",
       "      <td>6</td>\n",
       "    </tr>\n",
       "    <tr>\n",
       "      <th>Electronic</th>\n",
       "      <td>358</td>\n",
       "      <td>1215</td>\n",
       "      <td>91</td>\n",
       "      <td>180</td>\n",
       "      <td>10</td>\n",
       "      <td>100</td>\n",
       "      <td>7</td>\n",
       "    </tr>\n",
       "    <tr>\n",
       "      <th>Country</th>\n",
       "      <td>440</td>\n",
       "      <td>2231</td>\n",
       "      <td>25</td>\n",
       "      <td>1</td>\n",
       "      <td>1449</td>\n",
       "      <td>12</td>\n",
       "      <td>67</td>\n",
       "    </tr>\n",
       "    <tr>\n",
       "      <th>Hip-Hop</th>\n",
       "      <td>432</td>\n",
       "      <td>763</td>\n",
       "      <td>68</td>\n",
       "      <td>15</td>\n",
       "      <td>22</td>\n",
       "      <td>5420</td>\n",
       "      <td>11</td>\n",
       "    </tr>\n",
       "    <tr>\n",
       "      <th>Jazz</th>\n",
       "      <td>321</td>\n",
       "      <td>1040</td>\n",
       "      <td>19</td>\n",
       "      <td>5</td>\n",
       "      <td>117</td>\n",
       "      <td>28</td>\n",
       "      <td>633</td>\n",
       "    </tr>\n",
       "  </tbody>\n",
       "</table>\n",
       "</div>"
      ],
      "text/plain": [
       "             Pop   Rock  Metal  Electronic  Country  Hip-Hop  Jazz\n",
       "Pop         3944   5417    140          35      202      340   144\n",
       "Rock        2626  24905   1120          57      639      227   194\n",
       "Metal        209   2418   3391          10        6       95     6\n",
       "Electronic   358   1215     91         180       10      100     7\n",
       "Country      440   2231     25           1     1449       12    67\n",
       "Hip-Hop      432    763     68          15       22     5420    11\n",
       "Jazz         321   1040     19           5      117       28   633"
      ]
     },
     "execution_count": 148,
     "metadata": {},
     "output_type": "execute_result"
    }
   ],
   "source": [
    "genres_list = ['Pop', 'Rock', 'Metal', 'Electronic', 'Country', 'Hip-Hop', 'Jazz']\n",
    "cm_logreg = confusion_matrix(y_test,clf_logreg_pred, labels = genres_list)\n",
    "pd.DataFrame(cm_logreg, columns = genres_list, index = genres_list)"
   ]
  },
  {
   "cell_type": "markdown",
   "metadata": {},
   "source": [
    "### XGBoost"
   ]
  },
  {
   "cell_type": "code",
   "execution_count": 213,
   "metadata": {},
   "outputs": [],
   "source": [
    "from xgboost import XGBClassifier\n",
    "clf_xgb = XGBClassifier(n_estimators=100, max_depth=5, colsample_bytree=0.5)"
   ]
  },
  {
   "cell_type": "code",
   "execution_count": 220,
   "metadata": {},
   "outputs": [],
   "source": [
    "y_train_labels = y_train.map({'Pop':1, 'Rock':2, 'Metal':3, 'Electronic':4, 'Country':5, 'Hip-Hop':6, 'Jazz':7})\n",
    "y_test_labels = y_test.map({'Pop':1, 'Rock':2, 'Metal':3, 'Electronic':4, 'Country':5, 'Hip-Hop':6, 'Jazz':7})"
   ]
  },
  {
   "cell_type": "code",
   "execution_count": 222,
   "metadata": {},
   "outputs": [
    {
     "data": {
      "text/plain": [
       "XGBClassifier(base_score=0.5, booster='gbtree', colsample_bylevel=1,\n",
       "              colsample_bynode=1, colsample_bytree=0.5, gamma=0,\n",
       "              learning_rate=0.1, max_delta_step=0, max_depth=5,\n",
       "              min_child_weight=1, missing=None, n_estimators=100, n_jobs=1,\n",
       "              nthread=None, objective='multi:softprob', random_state=0,\n",
       "              reg_alpha=0, reg_lambda=1, scale_pos_weight=1, seed=None,\n",
       "              silent=None, subsample=1, verbosity=1)"
      ]
     },
     "execution_count": 222,
     "metadata": {},
     "output_type": "execute_result"
    }
   ],
   "source": [
    "clf_xgb.fit(train_features_full,y_train_labels)"
   ]
  },
  {
   "cell_type": "code",
   "execution_count": 223,
   "metadata": {},
   "outputs": [],
   "source": [
    "clf_xgb_pred = clf_xgb.predict(test_features_full)"
   ]
  },
  {
   "cell_type": "code",
   "execution_count": 228,
   "metadata": {},
   "outputs": [
    {
     "name": "stdout",
     "output_type": "stream",
     "text": [
      "              precision    recall  f1-score   support\n",
      "\n",
      "         Pop       0.56      0.17      0.26     10222\n",
      "        Rock       0.58      0.95      0.72     29768\n",
      "       Metal       0.77      0.35      0.48      6135\n",
      "  Electronic       0.95      0.01      0.02      1961\n",
      "     Country       0.79      0.08      0.15      4225\n",
      "     Hip-Hop       0.85      0.75      0.80      6731\n",
      "        Jazz       0.60      0.05      0.09      2163\n",
      "\n",
      "    accuracy                           0.62     61205\n",
      "   macro avg       0.73      0.34      0.36     61205\n",
      "weighted avg       0.65      0.62      0.54     61205\n",
      "\n"
     ]
    }
   ],
   "source": [
    "print(classification_report(y_test_labels,clf_xgb_pred,target_names = genres_list))"
   ]
  },
  {
   "cell_type": "code",
   "execution_count": 233,
   "metadata": {},
   "outputs": [
    {
     "data": {
      "text/html": [
       "<div>\n",
       "<style scoped>\n",
       "    .dataframe tbody tr th:only-of-type {\n",
       "        vertical-align: middle;\n",
       "    }\n",
       "\n",
       "    .dataframe tbody tr th {\n",
       "        vertical-align: top;\n",
       "    }\n",
       "\n",
       "    .dataframe thead th {\n",
       "        text-align: right;\n",
       "    }\n",
       "</style>\n",
       "<table border=\"1\" class=\"dataframe\">\n",
       "  <thead>\n",
       "    <tr style=\"text-align: right;\">\n",
       "      <th></th>\n",
       "      <th>Pop</th>\n",
       "      <th>Rock</th>\n",
       "      <th>Metal</th>\n",
       "      <th>Electronic</th>\n",
       "      <th>Country</th>\n",
       "      <th>Hip-Hop</th>\n",
       "      <th>Jazz</th>\n",
       "    </tr>\n",
       "  </thead>\n",
       "  <tbody>\n",
       "    <tr>\n",
       "      <th>Pop</th>\n",
       "      <td>1719</td>\n",
       "      <td>8007</td>\n",
       "      <td>61</td>\n",
       "      <td>0</td>\n",
       "      <td>11</td>\n",
       "      <td>395</td>\n",
       "      <td>29</td>\n",
       "    </tr>\n",
       "    <tr>\n",
       "      <th>Rock</th>\n",
       "      <td>574</td>\n",
       "      <td>28323</td>\n",
       "      <td>509</td>\n",
       "      <td>0</td>\n",
       "      <td>72</td>\n",
       "      <td>262</td>\n",
       "      <td>28</td>\n",
       "    </tr>\n",
       "    <tr>\n",
       "      <th>Metal</th>\n",
       "      <td>43</td>\n",
       "      <td>3853</td>\n",
       "      <td>2133</td>\n",
       "      <td>0</td>\n",
       "      <td>1</td>\n",
       "      <td>104</td>\n",
       "      <td>1</td>\n",
       "    </tr>\n",
       "    <tr>\n",
       "      <th>Electronic</th>\n",
       "      <td>131</td>\n",
       "      <td>1694</td>\n",
       "      <td>22</td>\n",
       "      <td>21</td>\n",
       "      <td>2</td>\n",
       "      <td>91</td>\n",
       "      <td>0</td>\n",
       "    </tr>\n",
       "    <tr>\n",
       "      <th>Country</th>\n",
       "      <td>89</td>\n",
       "      <td>3743</td>\n",
       "      <td>15</td>\n",
       "      <td>0</td>\n",
       "      <td>356</td>\n",
       "      <td>9</td>\n",
       "      <td>13</td>\n",
       "    </tr>\n",
       "    <tr>\n",
       "      <th>Hip-Hop</th>\n",
       "      <td>403</td>\n",
       "      <td>1258</td>\n",
       "      <td>20</td>\n",
       "      <td>1</td>\n",
       "      <td>1</td>\n",
       "      <td>5048</td>\n",
       "      <td>0</td>\n",
       "    </tr>\n",
       "    <tr>\n",
       "      <th>Jazz</th>\n",
       "      <td>101</td>\n",
       "      <td>1908</td>\n",
       "      <td>10</td>\n",
       "      <td>0</td>\n",
       "      <td>9</td>\n",
       "      <td>27</td>\n",
       "      <td>108</td>\n",
       "    </tr>\n",
       "  </tbody>\n",
       "</table>\n",
       "</div>"
      ],
      "text/plain": [
       "             Pop   Rock  Metal  Electronic  Country  Hip-Hop  Jazz\n",
       "Pop         1719   8007     61           0       11      395    29\n",
       "Rock         574  28323    509           0       72      262    28\n",
       "Metal         43   3853   2133           0        1      104     1\n",
       "Electronic   131   1694     22          21        2       91     0\n",
       "Country       89   3743     15           0      356        9    13\n",
       "Hip-Hop      403   1258     20           1        1     5048     0\n",
       "Jazz         101   1908     10           0        9       27   108"
      ]
     },
     "execution_count": 233,
     "metadata": {},
     "output_type": "execute_result"
    }
   ],
   "source": [
    "cm_xgb = confusion_matrix(y_test_labels,clf_xgb_pred)\n",
    "pd.DataFrame(cm_xgb, columns = genres_list, index = genres_list)"
   ]
  },
  {
   "cell_type": "code",
   "execution_count": 211,
   "metadata": {},
   "outputs": [
    {
     "data": {
      "text/plain": [
       "array([0.02, 0.02, 0.02, 0.02, 0.67, 0.04, 0.02, 0.04, 0.02, 0.11])"
      ]
     },
     "execution_count": 211,
     "metadata": {},
     "output_type": "execute_result"
    }
   ],
   "source": [
    "np.array([tuple_weights[1] for tuple_weights in lda_tfidf[corpus_tfidf[50]]], dtype='float64')"
   ]
  }
 ],
 "metadata": {
  "kernelspec": {
   "display_name": "Python 3",
   "language": "python",
   "name": "python3"
  },
  "language_info": {
   "codemirror_mode": {
    "name": "ipython",
    "version": 3
   },
   "file_extension": ".py",
   "mimetype": "text/x-python",
   "name": "python",
   "nbconvert_exporter": "python",
   "pygments_lexer": "ipython3",
   "version": "3.6.9"
  }
 },
 "nbformat": 4,
 "nbformat_minor": 2
}
